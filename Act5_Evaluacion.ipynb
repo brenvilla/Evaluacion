{
  "nbformat": 4,
  "nbformat_minor": 0,
  "metadata": {
    "colab": {
      "provenance": [],
      "collapsed_sections": [
        "ZbjpfDvwNdBY",
        "kML3VDApl8Co",
        "YuX1udnkmzud",
        "AnhL63Y1pdvB",
        "5lkJB7LepdvB",
        "eULsvBF2pdvB",
        "0oe8yknerVzQ",
        "nnzdj4lFrVzY",
        "cYp6x-tMMMVH"
      ],
      "authorship_tag": "ABX9TyN5fpqtOAyBuhaFbiXccnK3",
      "include_colab_link": true
    },
    "kernelspec": {
      "name": "python3",
      "display_name": "Python 3"
    },
    "language_info": {
      "name": "python"
    }
  },
  "cells": [
    {
      "cell_type": "markdown",
      "metadata": {
        "id": "view-in-github",
        "colab_type": "text"
      },
      "source": [
        "<a href=\"https://colab.research.google.com/github/brenvilla/Evaluacion/blob/main/Act5_Evaluacion.ipynb\" target=\"_parent\"><img src=\"https://colab.research.google.com/assets/colab-badge.svg\" alt=\"Open In Colab\"/></a>"
      ]
    },
    {
      "cell_type": "markdown",
      "source": [
        "# **Actividad 5: Evaluación**\n",
        "\n",
        "Brenda Villa Campos | A01732238"
      ],
      "metadata": {
        "id": "nk3FHBoKCQf0"
      }
    },
    {
      "cell_type": "markdown",
      "source": [
        "## **ETAPA 1: Preprocesamiento de DATOS**"
      ],
      "metadata": {
        "id": "QmDmWXs5F3EY"
      }
    },
    {
      "cell_type": "code",
      "execution_count": 94,
      "metadata": {
        "id": "k98qeisd6MJS"
      },
      "outputs": [],
      "source": [
        "import pandas as pd\n",
        "import numpy as np\n",
        "import matplotlib.pyplot as plt\n",
        "import seaborn as sns\n",
        "from google.colab import files"
      ]
    },
    {
      "cell_type": "code",
      "source": [
        "mex=pd.read_csv(\"DF_Mexico.csv\")\n",
        "usa=pd.read_csv(\"California_EUA.csv\")\n",
        "españa=pd.read_csv(\"Girona_España.csv\",encoding = 'unicode_escape')"
      ],
      "metadata": {
        "id": "ayY6VWTR-6SN"
      },
      "execution_count": 72,
      "outputs": []
    },
    {
      "cell_type": "markdown",
      "source": [
        "## **REEMPLAZAMIENTO DE VALORES NULOS**"
      ],
      "metadata": {
        "id": "JzxbBcLA39CB"
      }
    },
    {
      "cell_type": "markdown",
      "source": [
        "### **Dataframe DF_Mexico**"
      ],
      "metadata": {
        "id": "ZbjpfDvwNdBY"
      }
    },
    {
      "cell_type": "code",
      "source": [
        "mexicoNum = mex.select_dtypes(include='number')\n",
        "mexicoNum.head()"
      ],
      "metadata": {
        "colab": {
          "base_uri": "https://localhost:8080/",
          "height": 0
        },
        "id": "ztNssQtU_Alw",
        "outputId": "4ba6cbc4-6383-4049-ca0a-b576f93cbc9e"
      },
      "execution_count": 52,
      "outputs": [
        {
          "output_type": "execute_result",
          "data": {
            "text/plain": [
              "        id       scrape_id   host_id  host_listings_count  \\\n",
              "0  2056638  20230329041210  10531228                    3   \n",
              "1  2072354  20230329041210  16840050                    3   \n",
              "2   696037  20230329041210   3531879                    4   \n",
              "3    35797  20230329041210    153786                    1   \n",
              "4    44616  20230329041210    196253                   16   \n",
              "\n",
              "   host_total_listings_count  neighbourhood_group_cleansed  latitude  \\\n",
              "0                          7                           NaN  19.35353   \n",
              "1                          3                           NaN  19.35358   \n",
              "2                          4                           NaN  19.44180   \n",
              "3                          1                           NaN  19.38283   \n",
              "4                         16                           NaN  19.41162   \n",
              "\n",
              "   longitude  accommodates  bathrooms  ...  review_scores_checkin  \\\n",
              "0  -99.16299             3        NaN  ...                   5.00   \n",
              "1  -99.16948             2        NaN  ...                   4.93   \n",
              "2  -99.18402             6        NaN  ...                   4.92   \n",
              "3  -99.27178             2        NaN  ...                    NaN   \n",
              "4  -99.17794            14        NaN  ...                   4.87   \n",
              "\n",
              "   review_scores_communication  review_scores_location  review_scores_value  \\\n",
              "0                         4.95                    5.00                 4.86   \n",
              "1                         5.00                    4.95                 4.84   \n",
              "2                         4.92                    4.58                 4.71   \n",
              "3                          NaN                     NaN                  NaN   \n",
              "4                         4.78                    4.98                 4.48   \n",
              "\n",
              "   license  calculated_host_listings_count  \\\n",
              "0      NaN                               3   \n",
              "1      NaN                               2   \n",
              "2      NaN                               3   \n",
              "3      NaN                               1   \n",
              "4      NaN                              12   \n",
              "\n",
              "   calculated_host_listings_count_entire_homes  \\\n",
              "0                                            3   \n",
              "1                                            2   \n",
              "2                                            3   \n",
              "3                                            1   \n",
              "4                                            3   \n",
              "\n",
              "   calculated_host_listings_count_private_rooms  \\\n",
              "0                                             0   \n",
              "1                                             0   \n",
              "2                                             0   \n",
              "3                                             0   \n",
              "4                                             2   \n",
              "\n",
              "   calculated_host_listings_count_shared_rooms  reviews_per_month  \n",
              "0                                            0               0.19  \n",
              "1                                            0               0.54  \n",
              "2                                            0               0.31  \n",
              "3                                            0                NaN  \n",
              "4                                            0               0.46  \n",
              "\n",
              "[5 rows x 41 columns]"
            ],
            "text/html": [
              "\n",
              "  <div id=\"df-312c95dd-7996-4d17-9628-6976b0cd7faf\">\n",
              "    <div class=\"colab-df-container\">\n",
              "      <div>\n",
              "<style scoped>\n",
              "    .dataframe tbody tr th:only-of-type {\n",
              "        vertical-align: middle;\n",
              "    }\n",
              "\n",
              "    .dataframe tbody tr th {\n",
              "        vertical-align: top;\n",
              "    }\n",
              "\n",
              "    .dataframe thead th {\n",
              "        text-align: right;\n",
              "    }\n",
              "</style>\n",
              "<table border=\"1\" class=\"dataframe\">\n",
              "  <thead>\n",
              "    <tr style=\"text-align: right;\">\n",
              "      <th></th>\n",
              "      <th>id</th>\n",
              "      <th>scrape_id</th>\n",
              "      <th>host_id</th>\n",
              "      <th>host_listings_count</th>\n",
              "      <th>host_total_listings_count</th>\n",
              "      <th>neighbourhood_group_cleansed</th>\n",
              "      <th>latitude</th>\n",
              "      <th>longitude</th>\n",
              "      <th>accommodates</th>\n",
              "      <th>bathrooms</th>\n",
              "      <th>...</th>\n",
              "      <th>review_scores_checkin</th>\n",
              "      <th>review_scores_communication</th>\n",
              "      <th>review_scores_location</th>\n",
              "      <th>review_scores_value</th>\n",
              "      <th>license</th>\n",
              "      <th>calculated_host_listings_count</th>\n",
              "      <th>calculated_host_listings_count_entire_homes</th>\n",
              "      <th>calculated_host_listings_count_private_rooms</th>\n",
              "      <th>calculated_host_listings_count_shared_rooms</th>\n",
              "      <th>reviews_per_month</th>\n",
              "    </tr>\n",
              "  </thead>\n",
              "  <tbody>\n",
              "    <tr>\n",
              "      <th>0</th>\n",
              "      <td>2056638</td>\n",
              "      <td>20230329041210</td>\n",
              "      <td>10531228</td>\n",
              "      <td>3</td>\n",
              "      <td>7</td>\n",
              "      <td>NaN</td>\n",
              "      <td>19.35353</td>\n",
              "      <td>-99.16299</td>\n",
              "      <td>3</td>\n",
              "      <td>NaN</td>\n",
              "      <td>...</td>\n",
              "      <td>5.00</td>\n",
              "      <td>4.95</td>\n",
              "      <td>5.00</td>\n",
              "      <td>4.86</td>\n",
              "      <td>NaN</td>\n",
              "      <td>3</td>\n",
              "      <td>3</td>\n",
              "      <td>0</td>\n",
              "      <td>0</td>\n",
              "      <td>0.19</td>\n",
              "    </tr>\n",
              "    <tr>\n",
              "      <th>1</th>\n",
              "      <td>2072354</td>\n",
              "      <td>20230329041210</td>\n",
              "      <td>16840050</td>\n",
              "      <td>3</td>\n",
              "      <td>3</td>\n",
              "      <td>NaN</td>\n",
              "      <td>19.35358</td>\n",
              "      <td>-99.16948</td>\n",
              "      <td>2</td>\n",
              "      <td>NaN</td>\n",
              "      <td>...</td>\n",
              "      <td>4.93</td>\n",
              "      <td>5.00</td>\n",
              "      <td>4.95</td>\n",
              "      <td>4.84</td>\n",
              "      <td>NaN</td>\n",
              "      <td>2</td>\n",
              "      <td>2</td>\n",
              "      <td>0</td>\n",
              "      <td>0</td>\n",
              "      <td>0.54</td>\n",
              "    </tr>\n",
              "    <tr>\n",
              "      <th>2</th>\n",
              "      <td>696037</td>\n",
              "      <td>20230329041210</td>\n",
              "      <td>3531879</td>\n",
              "      <td>4</td>\n",
              "      <td>4</td>\n",
              "      <td>NaN</td>\n",
              "      <td>19.44180</td>\n",
              "      <td>-99.18402</td>\n",
              "      <td>6</td>\n",
              "      <td>NaN</td>\n",
              "      <td>...</td>\n",
              "      <td>4.92</td>\n",
              "      <td>4.92</td>\n",
              "      <td>4.58</td>\n",
              "      <td>4.71</td>\n",
              "      <td>NaN</td>\n",
              "      <td>3</td>\n",
              "      <td>3</td>\n",
              "      <td>0</td>\n",
              "      <td>0</td>\n",
              "      <td>0.31</td>\n",
              "    </tr>\n",
              "    <tr>\n",
              "      <th>3</th>\n",
              "      <td>35797</td>\n",
              "      <td>20230329041210</td>\n",
              "      <td>153786</td>\n",
              "      <td>1</td>\n",
              "      <td>1</td>\n",
              "      <td>NaN</td>\n",
              "      <td>19.38283</td>\n",
              "      <td>-99.27178</td>\n",
              "      <td>2</td>\n",
              "      <td>NaN</td>\n",
              "      <td>...</td>\n",
              "      <td>NaN</td>\n",
              "      <td>NaN</td>\n",
              "      <td>NaN</td>\n",
              "      <td>NaN</td>\n",
              "      <td>NaN</td>\n",
              "      <td>1</td>\n",
              "      <td>1</td>\n",
              "      <td>0</td>\n",
              "      <td>0</td>\n",
              "      <td>NaN</td>\n",
              "    </tr>\n",
              "    <tr>\n",
              "      <th>4</th>\n",
              "      <td>44616</td>\n",
              "      <td>20230329041210</td>\n",
              "      <td>196253</td>\n",
              "      <td>16</td>\n",
              "      <td>16</td>\n",
              "      <td>NaN</td>\n",
              "      <td>19.41162</td>\n",
              "      <td>-99.17794</td>\n",
              "      <td>14</td>\n",
              "      <td>NaN</td>\n",
              "      <td>...</td>\n",
              "      <td>4.87</td>\n",
              "      <td>4.78</td>\n",
              "      <td>4.98</td>\n",
              "      <td>4.48</td>\n",
              "      <td>NaN</td>\n",
              "      <td>12</td>\n",
              "      <td>3</td>\n",
              "      <td>2</td>\n",
              "      <td>0</td>\n",
              "      <td>0.46</td>\n",
              "    </tr>\n",
              "  </tbody>\n",
              "</table>\n",
              "<p>5 rows × 41 columns</p>\n",
              "</div>\n",
              "      <button class=\"colab-df-convert\" onclick=\"convertToInteractive('df-312c95dd-7996-4d17-9628-6976b0cd7faf')\"\n",
              "              title=\"Convert this dataframe to an interactive table.\"\n",
              "              style=\"display:none;\">\n",
              "        \n",
              "  <svg xmlns=\"http://www.w3.org/2000/svg\" height=\"24px\"viewBox=\"0 0 24 24\"\n",
              "       width=\"24px\">\n",
              "    <path d=\"M0 0h24v24H0V0z\" fill=\"none\"/>\n",
              "    <path d=\"M18.56 5.44l.94 2.06.94-2.06 2.06-.94-2.06-.94-.94-2.06-.94 2.06-2.06.94zm-11 1L8.5 8.5l.94-2.06 2.06-.94-2.06-.94L8.5 2.5l-.94 2.06-2.06.94zm10 10l.94 2.06.94-2.06 2.06-.94-2.06-.94-.94-2.06-.94 2.06-2.06.94z\"/><path d=\"M17.41 7.96l-1.37-1.37c-.4-.4-.92-.59-1.43-.59-.52 0-1.04.2-1.43.59L10.3 9.45l-7.72 7.72c-.78.78-.78 2.05 0 2.83L4 21.41c.39.39.9.59 1.41.59.51 0 1.02-.2 1.41-.59l7.78-7.78 2.81-2.81c.8-.78.8-2.07 0-2.86zM5.41 20L4 18.59l7.72-7.72 1.47 1.35L5.41 20z\"/>\n",
              "  </svg>\n",
              "      </button>\n",
              "      \n",
              "  <style>\n",
              "    .colab-df-container {\n",
              "      display:flex;\n",
              "      flex-wrap:wrap;\n",
              "      gap: 12px;\n",
              "    }\n",
              "\n",
              "    .colab-df-convert {\n",
              "      background-color: #E8F0FE;\n",
              "      border: none;\n",
              "      border-radius: 50%;\n",
              "      cursor: pointer;\n",
              "      display: none;\n",
              "      fill: #1967D2;\n",
              "      height: 32px;\n",
              "      padding: 0 0 0 0;\n",
              "      width: 32px;\n",
              "    }\n",
              "\n",
              "    .colab-df-convert:hover {\n",
              "      background-color: #E2EBFA;\n",
              "      box-shadow: 0px 1px 2px rgba(60, 64, 67, 0.3), 0px 1px 3px 1px rgba(60, 64, 67, 0.15);\n",
              "      fill: #174EA6;\n",
              "    }\n",
              "\n",
              "    [theme=dark] .colab-df-convert {\n",
              "      background-color: #3B4455;\n",
              "      fill: #D2E3FC;\n",
              "    }\n",
              "\n",
              "    [theme=dark] .colab-df-convert:hover {\n",
              "      background-color: #434B5C;\n",
              "      box-shadow: 0px 1px 3px 1px rgba(0, 0, 0, 0.15);\n",
              "      filter: drop-shadow(0px 1px 2px rgba(0, 0, 0, 0.3));\n",
              "      fill: #FFFFFF;\n",
              "    }\n",
              "  </style>\n",
              "\n",
              "      <script>\n",
              "        const buttonEl =\n",
              "          document.querySelector('#df-312c95dd-7996-4d17-9628-6976b0cd7faf button.colab-df-convert');\n",
              "        buttonEl.style.display =\n",
              "          google.colab.kernel.accessAllowed ? 'block' : 'none';\n",
              "\n",
              "        async function convertToInteractive(key) {\n",
              "          const element = document.querySelector('#df-312c95dd-7996-4d17-9628-6976b0cd7faf');\n",
              "          const dataTable =\n",
              "            await google.colab.kernel.invokeFunction('convertToInteractive',\n",
              "                                                     [key], {});\n",
              "          if (!dataTable) return;\n",
              "\n",
              "          const docLinkHtml = 'Like what you see? Visit the ' +\n",
              "            '<a target=\"_blank\" href=https://colab.research.google.com/notebooks/data_table.ipynb>data table notebook</a>'\n",
              "            + ' to learn more about interactive tables.';\n",
              "          element.innerHTML = '';\n",
              "          dataTable['output_type'] = 'display_data';\n",
              "          await google.colab.output.renderOutput(dataTable, element);\n",
              "          const docLink = document.createElement('div');\n",
              "          docLink.innerHTML = docLinkHtml;\n",
              "          element.appendChild(docLink);\n",
              "        }\n",
              "      </script>\n",
              "    </div>\n",
              "  </div>\n",
              "  "
            ]
          },
          "metadata": {},
          "execution_count": 52
        }
      ]
    },
    {
      "cell_type": "code",
      "source": [
        "mexicoObj = mex.select_dtypes(include='object')\n",
        "mexicoObj.head()"
      ],
      "metadata": {
        "colab": {
          "base_uri": "https://localhost:8080/",
          "height": 0
        },
        "id": "AHbcwEe1_yLk",
        "outputId": "24b183e3-9dbf-4c62-b7ba-cf6b3077f514"
      },
      "execution_count": 53,
      "outputs": [
        {
          "output_type": "execute_result",
          "data": {
            "text/plain": [
              "                            listing_url last_scraped       source  \\\n",
              "0  https://www.airbnb.com/rooms/2056638   2023-03-30  city scrape   \n",
              "1  https://www.airbnb.com/rooms/2072354   2023-03-30  city scrape   \n",
              "2   https://www.airbnb.com/rooms/696037   2023-03-29  city scrape   \n",
              "3    https://www.airbnb.com/rooms/35797   2023-03-29  city scrape   \n",
              "4    https://www.airbnb.com/rooms/44616   2023-03-30  city scrape   \n",
              "\n",
              "                                                name  \\\n",
              "0                 Amplio y luminoso loft en Coyoacán   \n",
              "1                 Coyoacan Historic Studio Apartment   \n",
              "2  3 Bedrooms, 2 blocks from Polanco - ALL RENOVA...   \n",
              "3                                        Villa Dante   \n",
              "4                                  CONDESA HAUS  B&B   \n",
              "\n",
              "                                         description  \\\n",
              "0  Cómodo loft de dos pisos magníficamente ubicad...   \n",
              "1  This studio flat is adjacent to the owner's ho...   \n",
              "2  Beautifully decorated 3 bedroom apartment, it ...   \n",
              "3  Dentro de Villa un estudio de arte con futon, ...   \n",
              "4  A new concept of hosting in mexico through a b...   \n",
              "\n",
              "                               neighborhood_overview  \\\n",
              "0                                                NaN   \n",
              "1  Located in Coyoacan, in a quiet neighborhood w...   \n",
              "2  This area is called Nuevo Polanco, it has bein...   \n",
              "3  Centro comercial Santa Fe, parque interlomas y...   \n",
              "4                                                NaN   \n",
              "\n",
              "                                         picture_url  \\\n",
              "0  https://a0.muscache.com/pictures/28353712/4379...   \n",
              "1  https://a0.muscache.com/pictures/369f3371-593a...   \n",
              "2  https://a0.muscache.com/pictures/10960397/67b2...   \n",
              "3  https://a0.muscache.com/pictures/f395ab78-1185...   \n",
              "4  https://a0.muscache.com/pictures/251410/ec75fe...   \n",
              "\n",
              "                                     host_url  \\\n",
              "0  https://www.airbnb.com/users/show/10531228   \n",
              "1  https://www.airbnb.com/users/show/16840050   \n",
              "2   https://www.airbnb.com/users/show/3531879   \n",
              "3    https://www.airbnb.com/users/show/153786   \n",
              "4    https://www.airbnb.com/users/show/196253   \n",
              "\n",
              "                            host_name  host_since  ...       property_type  \\\n",
              "0                               Maria  2013-12-09  ...         Entire loft   \n",
              "1                              Mónica  2014-06-16  ...  Entire guest suite   \n",
              "2                    Gonzalo & Sandra  2012-09-10  ...  Entire rental unit   \n",
              "3                                Dici  2010-06-28  ...        Entire villa   \n",
              "4  Condesa Haus Bed & Breakfast  CDMX  2010-08-09  ...         Entire home   \n",
              "\n",
              "         room_type bathrooms_text  \\\n",
              "0  Entire home/apt      1.5 baths   \n",
              "1  Entire home/apt         1 bath   \n",
              "2  Entire home/apt        2 baths   \n",
              "3  Entire home/apt         1 bath   \n",
              "4  Entire home/apt      5.5 baths   \n",
              "\n",
              "                                           amenities       price  \\\n",
              "0  [\"Wifi\", \"Hangers\", \"Fire extinguisher\", \"Sham...   $1,434.00   \n",
              "1  [\"Free street parking\", \"Cleaning products\", \"...     $830.00   \n",
              "2  [\"Wifi \\u2013 38 Mbps\", \"Central air condition...   $1,469.00   \n",
              "3  [\"Wifi\", \"Washer\", \"BBQ grill\", \"Indoor firepl...   $3,658.00   \n",
              "4  [\"Free street parking\", \"Security cameras on p...  $18,000.00   \n",
              "\n",
              "  has_availability calendar_last_scraped first_review last_review  \\\n",
              "0                t            2023-03-30   2014-01-03  2018-06-24   \n",
              "1                t            2023-03-30   2014-01-01  2022-11-04   \n",
              "2                t            2023-03-29   2012-10-31  2022-12-21   \n",
              "3                t            2023-03-29          NaN         NaN   \n",
              "4                t            2023-03-30   2011-11-09  2023-03-26   \n",
              "\n",
              "  instant_bookable  \n",
              "0                f  \n",
              "1                f  \n",
              "2                f  \n",
              "3                f  \n",
              "4                f  \n",
              "\n",
              "[5 rows x 34 columns]"
            ],
            "text/html": [
              "\n",
              "  <div id=\"df-0547c2a4-cbb0-455e-a421-2a6b0e29af57\">\n",
              "    <div class=\"colab-df-container\">\n",
              "      <div>\n",
              "<style scoped>\n",
              "    .dataframe tbody tr th:only-of-type {\n",
              "        vertical-align: middle;\n",
              "    }\n",
              "\n",
              "    .dataframe tbody tr th {\n",
              "        vertical-align: top;\n",
              "    }\n",
              "\n",
              "    .dataframe thead th {\n",
              "        text-align: right;\n",
              "    }\n",
              "</style>\n",
              "<table border=\"1\" class=\"dataframe\">\n",
              "  <thead>\n",
              "    <tr style=\"text-align: right;\">\n",
              "      <th></th>\n",
              "      <th>listing_url</th>\n",
              "      <th>last_scraped</th>\n",
              "      <th>source</th>\n",
              "      <th>name</th>\n",
              "      <th>description</th>\n",
              "      <th>neighborhood_overview</th>\n",
              "      <th>picture_url</th>\n",
              "      <th>host_url</th>\n",
              "      <th>host_name</th>\n",
              "      <th>host_since</th>\n",
              "      <th>...</th>\n",
              "      <th>property_type</th>\n",
              "      <th>room_type</th>\n",
              "      <th>bathrooms_text</th>\n",
              "      <th>amenities</th>\n",
              "      <th>price</th>\n",
              "      <th>has_availability</th>\n",
              "      <th>calendar_last_scraped</th>\n",
              "      <th>first_review</th>\n",
              "      <th>last_review</th>\n",
              "      <th>instant_bookable</th>\n",
              "    </tr>\n",
              "  </thead>\n",
              "  <tbody>\n",
              "    <tr>\n",
              "      <th>0</th>\n",
              "      <td>https://www.airbnb.com/rooms/2056638</td>\n",
              "      <td>2023-03-30</td>\n",
              "      <td>city scrape</td>\n",
              "      <td>Amplio y luminoso loft en Coyoacán</td>\n",
              "      <td>Cómodo loft de dos pisos magníficamente ubicad...</td>\n",
              "      <td>NaN</td>\n",
              "      <td>https://a0.muscache.com/pictures/28353712/4379...</td>\n",
              "      <td>https://www.airbnb.com/users/show/10531228</td>\n",
              "      <td>Maria</td>\n",
              "      <td>2013-12-09</td>\n",
              "      <td>...</td>\n",
              "      <td>Entire loft</td>\n",
              "      <td>Entire home/apt</td>\n",
              "      <td>1.5 baths</td>\n",
              "      <td>[\"Wifi\", \"Hangers\", \"Fire extinguisher\", \"Sham...</td>\n",
              "      <td>$1,434.00</td>\n",
              "      <td>t</td>\n",
              "      <td>2023-03-30</td>\n",
              "      <td>2014-01-03</td>\n",
              "      <td>2018-06-24</td>\n",
              "      <td>f</td>\n",
              "    </tr>\n",
              "    <tr>\n",
              "      <th>1</th>\n",
              "      <td>https://www.airbnb.com/rooms/2072354</td>\n",
              "      <td>2023-03-30</td>\n",
              "      <td>city scrape</td>\n",
              "      <td>Coyoacan Historic Studio Apartment</td>\n",
              "      <td>This studio flat is adjacent to the owner's ho...</td>\n",
              "      <td>Located in Coyoacan, in a quiet neighborhood w...</td>\n",
              "      <td>https://a0.muscache.com/pictures/369f3371-593a...</td>\n",
              "      <td>https://www.airbnb.com/users/show/16840050</td>\n",
              "      <td>Mónica</td>\n",
              "      <td>2014-06-16</td>\n",
              "      <td>...</td>\n",
              "      <td>Entire guest suite</td>\n",
              "      <td>Entire home/apt</td>\n",
              "      <td>1 bath</td>\n",
              "      <td>[\"Free street parking\", \"Cleaning products\", \"...</td>\n",
              "      <td>$830.00</td>\n",
              "      <td>t</td>\n",
              "      <td>2023-03-30</td>\n",
              "      <td>2014-01-01</td>\n",
              "      <td>2022-11-04</td>\n",
              "      <td>f</td>\n",
              "    </tr>\n",
              "    <tr>\n",
              "      <th>2</th>\n",
              "      <td>https://www.airbnb.com/rooms/696037</td>\n",
              "      <td>2023-03-29</td>\n",
              "      <td>city scrape</td>\n",
              "      <td>3 Bedrooms, 2 blocks from Polanco - ALL RENOVA...</td>\n",
              "      <td>Beautifully decorated 3 bedroom apartment, it ...</td>\n",
              "      <td>This area is called Nuevo Polanco, it has bein...</td>\n",
              "      <td>https://a0.muscache.com/pictures/10960397/67b2...</td>\n",
              "      <td>https://www.airbnb.com/users/show/3531879</td>\n",
              "      <td>Gonzalo &amp; Sandra</td>\n",
              "      <td>2012-09-10</td>\n",
              "      <td>...</td>\n",
              "      <td>Entire rental unit</td>\n",
              "      <td>Entire home/apt</td>\n",
              "      <td>2 baths</td>\n",
              "      <td>[\"Wifi \\u2013 38 Mbps\", \"Central air condition...</td>\n",
              "      <td>$1,469.00</td>\n",
              "      <td>t</td>\n",
              "      <td>2023-03-29</td>\n",
              "      <td>2012-10-31</td>\n",
              "      <td>2022-12-21</td>\n",
              "      <td>f</td>\n",
              "    </tr>\n",
              "    <tr>\n",
              "      <th>3</th>\n",
              "      <td>https://www.airbnb.com/rooms/35797</td>\n",
              "      <td>2023-03-29</td>\n",
              "      <td>city scrape</td>\n",
              "      <td>Villa Dante</td>\n",
              "      <td>Dentro de Villa un estudio de arte con futon, ...</td>\n",
              "      <td>Centro comercial Santa Fe, parque interlomas y...</td>\n",
              "      <td>https://a0.muscache.com/pictures/f395ab78-1185...</td>\n",
              "      <td>https://www.airbnb.com/users/show/153786</td>\n",
              "      <td>Dici</td>\n",
              "      <td>2010-06-28</td>\n",
              "      <td>...</td>\n",
              "      <td>Entire villa</td>\n",
              "      <td>Entire home/apt</td>\n",
              "      <td>1 bath</td>\n",
              "      <td>[\"Wifi\", \"Washer\", \"BBQ grill\", \"Indoor firepl...</td>\n",
              "      <td>$3,658.00</td>\n",
              "      <td>t</td>\n",
              "      <td>2023-03-29</td>\n",
              "      <td>NaN</td>\n",
              "      <td>NaN</td>\n",
              "      <td>f</td>\n",
              "    </tr>\n",
              "    <tr>\n",
              "      <th>4</th>\n",
              "      <td>https://www.airbnb.com/rooms/44616</td>\n",
              "      <td>2023-03-30</td>\n",
              "      <td>city scrape</td>\n",
              "      <td>CONDESA HAUS  B&amp;B</td>\n",
              "      <td>A new concept of hosting in mexico through a b...</td>\n",
              "      <td>NaN</td>\n",
              "      <td>https://a0.muscache.com/pictures/251410/ec75fe...</td>\n",
              "      <td>https://www.airbnb.com/users/show/196253</td>\n",
              "      <td>Condesa Haus Bed &amp; Breakfast  CDMX</td>\n",
              "      <td>2010-08-09</td>\n",
              "      <td>...</td>\n",
              "      <td>Entire home</td>\n",
              "      <td>Entire home/apt</td>\n",
              "      <td>5.5 baths</td>\n",
              "      <td>[\"Free street parking\", \"Security cameras on p...</td>\n",
              "      <td>$18,000.00</td>\n",
              "      <td>t</td>\n",
              "      <td>2023-03-30</td>\n",
              "      <td>2011-11-09</td>\n",
              "      <td>2023-03-26</td>\n",
              "      <td>f</td>\n",
              "    </tr>\n",
              "  </tbody>\n",
              "</table>\n",
              "<p>5 rows × 34 columns</p>\n",
              "</div>\n",
              "      <button class=\"colab-df-convert\" onclick=\"convertToInteractive('df-0547c2a4-cbb0-455e-a421-2a6b0e29af57')\"\n",
              "              title=\"Convert this dataframe to an interactive table.\"\n",
              "              style=\"display:none;\">\n",
              "        \n",
              "  <svg xmlns=\"http://www.w3.org/2000/svg\" height=\"24px\"viewBox=\"0 0 24 24\"\n",
              "       width=\"24px\">\n",
              "    <path d=\"M0 0h24v24H0V0z\" fill=\"none\"/>\n",
              "    <path d=\"M18.56 5.44l.94 2.06.94-2.06 2.06-.94-2.06-.94-.94-2.06-.94 2.06-2.06.94zm-11 1L8.5 8.5l.94-2.06 2.06-.94-2.06-.94L8.5 2.5l-.94 2.06-2.06.94zm10 10l.94 2.06.94-2.06 2.06-.94-2.06-.94-.94-2.06-.94 2.06-2.06.94z\"/><path d=\"M17.41 7.96l-1.37-1.37c-.4-.4-.92-.59-1.43-.59-.52 0-1.04.2-1.43.59L10.3 9.45l-7.72 7.72c-.78.78-.78 2.05 0 2.83L4 21.41c.39.39.9.59 1.41.59.51 0 1.02-.2 1.41-.59l7.78-7.78 2.81-2.81c.8-.78.8-2.07 0-2.86zM5.41 20L4 18.59l7.72-7.72 1.47 1.35L5.41 20z\"/>\n",
              "  </svg>\n",
              "      </button>\n",
              "      \n",
              "  <style>\n",
              "    .colab-df-container {\n",
              "      display:flex;\n",
              "      flex-wrap:wrap;\n",
              "      gap: 12px;\n",
              "    }\n",
              "\n",
              "    .colab-df-convert {\n",
              "      background-color: #E8F0FE;\n",
              "      border: none;\n",
              "      border-radius: 50%;\n",
              "      cursor: pointer;\n",
              "      display: none;\n",
              "      fill: #1967D2;\n",
              "      height: 32px;\n",
              "      padding: 0 0 0 0;\n",
              "      width: 32px;\n",
              "    }\n",
              "\n",
              "    .colab-df-convert:hover {\n",
              "      background-color: #E2EBFA;\n",
              "      box-shadow: 0px 1px 2px rgba(60, 64, 67, 0.3), 0px 1px 3px 1px rgba(60, 64, 67, 0.15);\n",
              "      fill: #174EA6;\n",
              "    }\n",
              "\n",
              "    [theme=dark] .colab-df-convert {\n",
              "      background-color: #3B4455;\n",
              "      fill: #D2E3FC;\n",
              "    }\n",
              "\n",
              "    [theme=dark] .colab-df-convert:hover {\n",
              "      background-color: #434B5C;\n",
              "      box-shadow: 0px 1px 3px 1px rgba(0, 0, 0, 0.15);\n",
              "      filter: drop-shadow(0px 1px 2px rgba(0, 0, 0, 0.3));\n",
              "      fill: #FFFFFF;\n",
              "    }\n",
              "  </style>\n",
              "\n",
              "      <script>\n",
              "        const buttonEl =\n",
              "          document.querySelector('#df-0547c2a4-cbb0-455e-a421-2a6b0e29af57 button.colab-df-convert');\n",
              "        buttonEl.style.display =\n",
              "          google.colab.kernel.accessAllowed ? 'block' : 'none';\n",
              "\n",
              "        async function convertToInteractive(key) {\n",
              "          const element = document.querySelector('#df-0547c2a4-cbb0-455e-a421-2a6b0e29af57');\n",
              "          const dataTable =\n",
              "            await google.colab.kernel.invokeFunction('convertToInteractive',\n",
              "                                                     [key], {});\n",
              "          if (!dataTable) return;\n",
              "\n",
              "          const docLinkHtml = 'Like what you see? Visit the ' +\n",
              "            '<a target=\"_blank\" href=https://colab.research.google.com/notebooks/data_table.ipynb>data table notebook</a>'\n",
              "            + ' to learn more about interactive tables.';\n",
              "          element.innerHTML = '';\n",
              "          dataTable['output_type'] = 'display_data';\n",
              "          await google.colab.output.renderOutput(dataTable, element);\n",
              "          const docLink = document.createElement('div');\n",
              "          docLink.innerHTML = docLinkHtml;\n",
              "          element.appendChild(docLink);\n",
              "        }\n",
              "      </script>\n",
              "    </div>\n",
              "  </div>\n",
              "  "
            ]
          },
          "metadata": {},
          "execution_count": 53
        }
      ]
    },
    {
      "cell_type": "code",
      "source": [
        "#Verificar la cantidad de valores nulos por columna en variables numéricas\n",
        "valores_nulos=mexicoNum.isnull().sum()\n",
        "valores_nulos"
      ],
      "metadata": {
        "id": "p7gRP0IbJhv4",
        "colab": {
          "base_uri": "https://localhost:8080/"
        },
        "outputId": "4de05e7e-5a31-4eb9-9f7e-a5e66b26364a"
      },
      "execution_count": 54,
      "outputs": [
        {
          "output_type": "execute_result",
          "data": {
            "text/plain": [
              "id                                                  0\n",
              "scrape_id                                           0\n",
              "host_id                                             0\n",
              "host_listings_count                                 0\n",
              "host_total_listings_count                           0\n",
              "neighbourhood_group_cleansed                    24224\n",
              "latitude                                            0\n",
              "longitude                                           0\n",
              "accommodates                                        0\n",
              "bathrooms                                       24224\n",
              "bedrooms                                          555\n",
              "beds                                              271\n",
              "minimum_nights                                      0\n",
              "maximum_nights                                      0\n",
              "minimum_minimum_nights                              1\n",
              "maximum_minimum_nights                              1\n",
              "minimum_maximum_nights                              1\n",
              "maximum_maximum_nights                              1\n",
              "minimum_nights_avg_ntm                              1\n",
              "maximum_nights_avg_ntm                              1\n",
              "calendar_updated                                24224\n",
              "availability_30                                     0\n",
              "availability_60                                     0\n",
              "availability_90                                     0\n",
              "availability_365                                    0\n",
              "number_of_reviews                                   0\n",
              "number_of_reviews_ltm                               0\n",
              "number_of_reviews_l30d                              0\n",
              "review_scores_rating                             3596\n",
              "review_scores_accuracy                           3652\n",
              "review_scores_cleanliness                        3651\n",
              "review_scores_checkin                            3652\n",
              "review_scores_communication                      3652\n",
              "review_scores_location                           3653\n",
              "review_scores_value                              3653\n",
              "license                                         24224\n",
              "calculated_host_listings_count                      0\n",
              "calculated_host_listings_count_entire_homes         0\n",
              "calculated_host_listings_count_private_rooms        0\n",
              "calculated_host_listings_count_shared_rooms         0\n",
              "reviews_per_month                                3596\n",
              "dtype: int64"
            ]
          },
          "metadata": {},
          "execution_count": 54
        }
      ]
    },
    {
      "cell_type": "code",
      "source": [
        "#Total de valores nulos en variables numéricas\n",
        "valores_nulos=mexicoNum.isnull().sum().sum()\n",
        "valores_nulos"
      ],
      "metadata": {
        "id": "uZn8v1UFJil_",
        "colab": {
          "base_uri": "https://localhost:8080/"
        },
        "outputId": "dfab099c-3bda-442e-f6ae-fe50ddcad419"
      },
      "execution_count": 55,
      "outputs": [
        {
          "output_type": "execute_result",
          "data": {
            "text/plain": [
              "126833"
            ]
          },
          "metadata": {},
          "execution_count": 55
        }
      ]
    },
    {
      "cell_type": "markdown",
      "source": [
        "Para la sustitución de valores nulos, como primer método se decidió utilizar el promedio de cada columna para llenar aquellos espacios vacíos, esto debido a que se trata de no perder la mayor cantidad de información posible. Realmente no se tiene conocimiento de qué valores deben ir en dichos espacios, pero tampoco se les debe asignar un cero, es por eso que para tener un mayor acercamiento al valor real, se le asigna el promedio de la columna."
      ],
      "metadata": {
        "id": "qY8L0aMmuhQV"
      }
    },
    {
      "cell_type": "code",
      "source": [
        "#Sustitución de valores nulos en variables numéricas por el promedio\n",
        "mexicoNum=mexicoNum.fillna(round(mexicoNum.mean(),1))"
      ],
      "metadata": {
        "id": "kkxrSEHRAa0o"
      },
      "execution_count": 56,
      "outputs": []
    },
    {
      "cell_type": "code",
      "source": [
        "#Corroboración de valores nulos en variables numéricas\n",
        "valores_nulos=mexicoNum.isnull().sum().sum()\n",
        "valores_nulos"
      ],
      "metadata": {
        "colab": {
          "base_uri": "https://localhost:8080/"
        },
        "id": "J9D_1S3oCvfL",
        "outputId": "412e0de2-dab1-4025-cd05-f1da15996b9d"
      },
      "execution_count": 57,
      "outputs": [
        {
          "output_type": "execute_result",
          "data": {
            "text/plain": [
              "96896"
            ]
          },
          "metadata": {},
          "execution_count": 57
        }
      ]
    },
    {
      "cell_type": "markdown",
      "source": [
        "Luego de corroborar los valores nulos  en las variables numéricas después de aplicar el primer método, se obtiene que aún hay presencia de estos, por lo que el siguiente método que se seleccionó es 'ffill' el cual se trata de sustituir los valores nulos por los valores posteriores a estos. Se escogió dicho método con la finalidad de evitar rellenar con ceros, y poder seguir asignando valores lo más parecidos a la información con la que se cuenta."
      ],
      "metadata": {
        "id": "y0Z6g8gnw3cH"
      }
    },
    {
      "cell_type": "code",
      "source": [
        "#Sustitución de valores nulos en variables numéricas por el valor posterior\n",
        "mexicoNum=mexicoNum.fillna('ffill')"
      ],
      "metadata": {
        "id": "y_wzO4NgxCdV"
      },
      "execution_count": 58,
      "outputs": []
    },
    {
      "cell_type": "code",
      "source": [
        "#Corroboración de valores nulos en variables numéricas\n",
        "valores_nulos=mexicoNum.isnull().sum().sum()\n",
        "valores_nulos"
      ],
      "metadata": {
        "colab": {
          "base_uri": "https://localhost:8080/"
        },
        "id": "5pHKSiBbxI8d",
        "outputId": "a33e8d97-c7f0-41e1-fa84-cac240c9483f"
      },
      "execution_count": 59,
      "outputs": [
        {
          "output_type": "execute_result",
          "data": {
            "text/plain": [
              "0"
            ]
          },
          "metadata": {},
          "execution_count": 59
        }
      ]
    },
    {
      "cell_type": "code",
      "source": [
        "#Verificar la cantidad de valores nulos por columna en variables categóricas\n",
        "valores_nulos=mexicoObj.isnull().sum()\n",
        "valores_nulos"
      ],
      "metadata": {
        "colab": {
          "base_uri": "https://localhost:8080/"
        },
        "outputId": "0752b79f-1775-4292-f0cf-abf42317191b",
        "id": "7O9z87ETAKUy"
      },
      "execution_count": 60,
      "outputs": [
        {
          "output_type": "execute_result",
          "data": {
            "text/plain": [
              "listing_url                   0\n",
              "last_scraped                  0\n",
              "source                        0\n",
              "name                          1\n",
              "description                 928\n",
              "neighborhood_overview      9079\n",
              "picture_url                   0\n",
              "host_url                      0\n",
              "host_name                     0\n",
              "host_since                    0\n",
              "host_location              5172\n",
              "host_about                10664\n",
              "host_response_time         3091\n",
              "host_response_rate         3091\n",
              "host_acceptance_rate       2043\n",
              "host_is_superhost             5\n",
              "host_thumbnail_url            0\n",
              "host_picture_url              0\n",
              "host_neighbourhood        12401\n",
              "host_verifications            0\n",
              "host_has_profile_pic          0\n",
              "host_identity_verified        0\n",
              "neighbourhood              9079\n",
              "neighbourhood_cleansed        0\n",
              "property_type                 0\n",
              "room_type                     0\n",
              "bathrooms_text               30\n",
              "amenities                     0\n",
              "price                         0\n",
              "has_availability              0\n",
              "calendar_last_scraped         0\n",
              "first_review               3596\n",
              "last_review                3596\n",
              "instant_bookable              0\n",
              "dtype: int64"
            ]
          },
          "metadata": {},
          "execution_count": 60
        }
      ]
    },
    {
      "cell_type": "code",
      "source": [
        "#Total de valores nulos en variables categóricas\n",
        "valores_nulos=mexicoObj.isnull().sum().sum()\n",
        "valores_nulos"
      ],
      "metadata": {
        "colab": {
          "base_uri": "https://localhost:8080/"
        },
        "outputId": "f2fcf170-9b4c-42a4-a0dc-f32ee601a50e",
        "id": "wn0mtyvAAKUz"
      },
      "execution_count": 61,
      "outputs": [
        {
          "output_type": "execute_result",
          "data": {
            "text/plain": [
              "62776"
            ]
          },
          "metadata": {},
          "execution_count": 61
        }
      ]
    },
    {
      "cell_type": "markdown",
      "source": [
        "Para las variables categóricas, se decidió sustituir los valores nulos por la leyenda 'Sin datos' ya que en dichas columnas los datos son de tipo objeto, de este modo se evita tener distintos tipos de datos en una sola columna."
      ],
      "metadata": {
        "id": "MhF3FGU1yJOt"
      }
    },
    {
      "cell_type": "code",
      "source": [
        "#Sustitución de valores nulos en variables categóricas por la leyenda 'sin datos'\n",
        "mexicoObj=mexicoObj.fillna('Sin datos')"
      ],
      "metadata": {
        "id": "vtDkW8q6N-dA"
      },
      "execution_count": 62,
      "outputs": []
    },
    {
      "cell_type": "code",
      "source": [
        "#Corroboración de valores nulos en variables categóricas\n",
        "valores_nulos=mexicoObj.isnull().sum().sum()\n",
        "valores_nulos"
      ],
      "metadata": {
        "colab": {
          "base_uri": "https://localhost:8080/"
        },
        "id": "HfEwGth4OZ9q",
        "outputId": "58cc369b-2765-48bf-fa80-20b4dcdcef14"
      },
      "execution_count": 63,
      "outputs": [
        {
          "output_type": "execute_result",
          "data": {
            "text/plain": [
              "0"
            ]
          },
          "metadata": {},
          "execution_count": 63
        }
      ]
    },
    {
      "cell_type": "markdown",
      "source": [
        "### **Dataframe California_EUA**"
      ],
      "metadata": {
        "id": "kML3VDApl8Co"
      }
    },
    {
      "cell_type": "code",
      "source": [
        "usaNum = usa.select_dtypes(include='number')\n",
        "usaNum.head()"
      ],
      "metadata": {
        "colab": {
          "base_uri": "https://localhost:8080/",
          "height": 0
        },
        "outputId": "d714cd57-3b0e-44c3-dad7-6b162e8376ea",
        "id": "SsT0Z_VOEHtk"
      },
      "execution_count": 73,
      "outputs": [
        {
          "output_type": "execute_result",
          "data": {
            "text/plain": [
              "       id     scrape_id  host_id  host_listings_count  \\\n",
              "0   958.0  2.020000e+13     1169                    1   \n",
              "1  5858.0  2.020000e+13     8904                    2   \n",
              "2  8142.0  2.020000e+13    21994                   13   \n",
              "3  8339.0  2.020000e+13    24215                    2   \n",
              "4  8739.0  2.020000e+13     7149                    2   \n",
              "\n",
              "   host_total_listings_count  neighbourhood_group_cleansed  latitude  \\\n",
              "0                          1                           NaN  37.77028   \n",
              "1                          2                           NaN  37.74474   \n",
              "2                         14                           NaN  37.76555   \n",
              "3                          6                           NaN  37.77564   \n",
              "4                          2                           NaN  37.76030   \n",
              "\n",
              "   longitude  accommodates  bathrooms  ...  review_scores_cleanliness  \\\n",
              "0 -122.43317             3        NaN  ...                       4.92   \n",
              "1 -122.42089             4        NaN  ...                       4.87   \n",
              "2 -122.45213             1        NaN  ...                       4.44   \n",
              "3 -122.43642             4        NaN  ...                       5.00   \n",
              "4 -122.42197             3        NaN  ...                       4.94   \n",
              "\n",
              "   review_scores_checkin  review_scores_communication  review_scores_location  \\\n",
              "0                   4.95                         4.88                    4.98   \n",
              "1                   4.89                         4.85                    4.77   \n",
              "2                   4.78                         4.78                    4.67   \n",
              "3                   4.94                         5.00                    4.94   \n",
              "4                   4.95                         4.96                    4.93   \n",
              "\n",
              "   review_scores_value  calculated_host_listings_count  \\\n",
              "0                 4.76                               1   \n",
              "1                 4.68                               1   \n",
              "2                 4.67                              13   \n",
              "3                 4.75                               2   \n",
              "4                 4.74                               2   \n",
              "\n",
              "   calculated_host_listings_count_entire_homes  \\\n",
              "0                                            1   \n",
              "1                                            1   \n",
              "2                                            0   \n",
              "3                                            2   \n",
              "4                                            0   \n",
              "\n",
              "   calculated_host_listings_count_private_rooms  \\\n",
              "0                                             0   \n",
              "1                                             0   \n",
              "2                                            13   \n",
              "3                                             0   \n",
              "4                                             2   \n",
              "\n",
              "   calculated_host_listings_count_shared_rooms  reviews_per_month  \n",
              "0                                            0               2.31  \n",
              "1                                            0               0.66  \n",
              "2                                            0               0.09  \n",
              "3                                            0               0.17  \n",
              "4                                            0               4.65  \n",
              "\n",
              "[5 rows x 40 columns]"
            ],
            "text/html": [
              "\n",
              "  <div id=\"df-50993c2c-4b21-40cf-9d40-b5c3c7f69c0b\">\n",
              "    <div class=\"colab-df-container\">\n",
              "      <div>\n",
              "<style scoped>\n",
              "    .dataframe tbody tr th:only-of-type {\n",
              "        vertical-align: middle;\n",
              "    }\n",
              "\n",
              "    .dataframe tbody tr th {\n",
              "        vertical-align: top;\n",
              "    }\n",
              "\n",
              "    .dataframe thead th {\n",
              "        text-align: right;\n",
              "    }\n",
              "</style>\n",
              "<table border=\"1\" class=\"dataframe\">\n",
              "  <thead>\n",
              "    <tr style=\"text-align: right;\">\n",
              "      <th></th>\n",
              "      <th>id</th>\n",
              "      <th>scrape_id</th>\n",
              "      <th>host_id</th>\n",
              "      <th>host_listings_count</th>\n",
              "      <th>host_total_listings_count</th>\n",
              "      <th>neighbourhood_group_cleansed</th>\n",
              "      <th>latitude</th>\n",
              "      <th>longitude</th>\n",
              "      <th>accommodates</th>\n",
              "      <th>bathrooms</th>\n",
              "      <th>...</th>\n",
              "      <th>review_scores_cleanliness</th>\n",
              "      <th>review_scores_checkin</th>\n",
              "      <th>review_scores_communication</th>\n",
              "      <th>review_scores_location</th>\n",
              "      <th>review_scores_value</th>\n",
              "      <th>calculated_host_listings_count</th>\n",
              "      <th>calculated_host_listings_count_entire_homes</th>\n",
              "      <th>calculated_host_listings_count_private_rooms</th>\n",
              "      <th>calculated_host_listings_count_shared_rooms</th>\n",
              "      <th>reviews_per_month</th>\n",
              "    </tr>\n",
              "  </thead>\n",
              "  <tbody>\n",
              "    <tr>\n",
              "      <th>0</th>\n",
              "      <td>958.0</td>\n",
              "      <td>2.020000e+13</td>\n",
              "      <td>1169</td>\n",
              "      <td>1</td>\n",
              "      <td>1</td>\n",
              "      <td>NaN</td>\n",
              "      <td>37.77028</td>\n",
              "      <td>-122.43317</td>\n",
              "      <td>3</td>\n",
              "      <td>NaN</td>\n",
              "      <td>...</td>\n",
              "      <td>4.92</td>\n",
              "      <td>4.95</td>\n",
              "      <td>4.88</td>\n",
              "      <td>4.98</td>\n",
              "      <td>4.76</td>\n",
              "      <td>1</td>\n",
              "      <td>1</td>\n",
              "      <td>0</td>\n",
              "      <td>0</td>\n",
              "      <td>2.31</td>\n",
              "    </tr>\n",
              "    <tr>\n",
              "      <th>1</th>\n",
              "      <td>5858.0</td>\n",
              "      <td>2.020000e+13</td>\n",
              "      <td>8904</td>\n",
              "      <td>2</td>\n",
              "      <td>2</td>\n",
              "      <td>NaN</td>\n",
              "      <td>37.74474</td>\n",
              "      <td>-122.42089</td>\n",
              "      <td>4</td>\n",
              "      <td>NaN</td>\n",
              "      <td>...</td>\n",
              "      <td>4.87</td>\n",
              "      <td>4.89</td>\n",
              "      <td>4.85</td>\n",
              "      <td>4.77</td>\n",
              "      <td>4.68</td>\n",
              "      <td>1</td>\n",
              "      <td>1</td>\n",
              "      <td>0</td>\n",
              "      <td>0</td>\n",
              "      <td>0.66</td>\n",
              "    </tr>\n",
              "    <tr>\n",
              "      <th>2</th>\n",
              "      <td>8142.0</td>\n",
              "      <td>2.020000e+13</td>\n",
              "      <td>21994</td>\n",
              "      <td>13</td>\n",
              "      <td>14</td>\n",
              "      <td>NaN</td>\n",
              "      <td>37.76555</td>\n",
              "      <td>-122.45213</td>\n",
              "      <td>1</td>\n",
              "      <td>NaN</td>\n",
              "      <td>...</td>\n",
              "      <td>4.44</td>\n",
              "      <td>4.78</td>\n",
              "      <td>4.78</td>\n",
              "      <td>4.67</td>\n",
              "      <td>4.67</td>\n",
              "      <td>13</td>\n",
              "      <td>0</td>\n",
              "      <td>13</td>\n",
              "      <td>0</td>\n",
              "      <td>0.09</td>\n",
              "    </tr>\n",
              "    <tr>\n",
              "      <th>3</th>\n",
              "      <td>8339.0</td>\n",
              "      <td>2.020000e+13</td>\n",
              "      <td>24215</td>\n",
              "      <td>2</td>\n",
              "      <td>6</td>\n",
              "      <td>NaN</td>\n",
              "      <td>37.77564</td>\n",
              "      <td>-122.43642</td>\n",
              "      <td>4</td>\n",
              "      <td>NaN</td>\n",
              "      <td>...</td>\n",
              "      <td>5.00</td>\n",
              "      <td>4.94</td>\n",
              "      <td>5.00</td>\n",
              "      <td>4.94</td>\n",
              "      <td>4.75</td>\n",
              "      <td>2</td>\n",
              "      <td>2</td>\n",
              "      <td>0</td>\n",
              "      <td>0</td>\n",
              "      <td>0.17</td>\n",
              "    </tr>\n",
              "    <tr>\n",
              "      <th>4</th>\n",
              "      <td>8739.0</td>\n",
              "      <td>2.020000e+13</td>\n",
              "      <td>7149</td>\n",
              "      <td>2</td>\n",
              "      <td>2</td>\n",
              "      <td>NaN</td>\n",
              "      <td>37.76030</td>\n",
              "      <td>-122.42197</td>\n",
              "      <td>3</td>\n",
              "      <td>NaN</td>\n",
              "      <td>...</td>\n",
              "      <td>4.94</td>\n",
              "      <td>4.95</td>\n",
              "      <td>4.96</td>\n",
              "      <td>4.93</td>\n",
              "      <td>4.74</td>\n",
              "      <td>2</td>\n",
              "      <td>0</td>\n",
              "      <td>2</td>\n",
              "      <td>0</td>\n",
              "      <td>4.65</td>\n",
              "    </tr>\n",
              "  </tbody>\n",
              "</table>\n",
              "<p>5 rows × 40 columns</p>\n",
              "</div>\n",
              "      <button class=\"colab-df-convert\" onclick=\"convertToInteractive('df-50993c2c-4b21-40cf-9d40-b5c3c7f69c0b')\"\n",
              "              title=\"Convert this dataframe to an interactive table.\"\n",
              "              style=\"display:none;\">\n",
              "        \n",
              "  <svg xmlns=\"http://www.w3.org/2000/svg\" height=\"24px\"viewBox=\"0 0 24 24\"\n",
              "       width=\"24px\">\n",
              "    <path d=\"M0 0h24v24H0V0z\" fill=\"none\"/>\n",
              "    <path d=\"M18.56 5.44l.94 2.06.94-2.06 2.06-.94-2.06-.94-.94-2.06-.94 2.06-2.06.94zm-11 1L8.5 8.5l.94-2.06 2.06-.94-2.06-.94L8.5 2.5l-.94 2.06-2.06.94zm10 10l.94 2.06.94-2.06 2.06-.94-2.06-.94-.94-2.06-.94 2.06-2.06.94z\"/><path d=\"M17.41 7.96l-1.37-1.37c-.4-.4-.92-.59-1.43-.59-.52 0-1.04.2-1.43.59L10.3 9.45l-7.72 7.72c-.78.78-.78 2.05 0 2.83L4 21.41c.39.39.9.59 1.41.59.51 0 1.02-.2 1.41-.59l7.78-7.78 2.81-2.81c.8-.78.8-2.07 0-2.86zM5.41 20L4 18.59l7.72-7.72 1.47 1.35L5.41 20z\"/>\n",
              "  </svg>\n",
              "      </button>\n",
              "      \n",
              "  <style>\n",
              "    .colab-df-container {\n",
              "      display:flex;\n",
              "      flex-wrap:wrap;\n",
              "      gap: 12px;\n",
              "    }\n",
              "\n",
              "    .colab-df-convert {\n",
              "      background-color: #E8F0FE;\n",
              "      border: none;\n",
              "      border-radius: 50%;\n",
              "      cursor: pointer;\n",
              "      display: none;\n",
              "      fill: #1967D2;\n",
              "      height: 32px;\n",
              "      padding: 0 0 0 0;\n",
              "      width: 32px;\n",
              "    }\n",
              "\n",
              "    .colab-df-convert:hover {\n",
              "      background-color: #E2EBFA;\n",
              "      box-shadow: 0px 1px 2px rgba(60, 64, 67, 0.3), 0px 1px 3px 1px rgba(60, 64, 67, 0.15);\n",
              "      fill: #174EA6;\n",
              "    }\n",
              "\n",
              "    [theme=dark] .colab-df-convert {\n",
              "      background-color: #3B4455;\n",
              "      fill: #D2E3FC;\n",
              "    }\n",
              "\n",
              "    [theme=dark] .colab-df-convert:hover {\n",
              "      background-color: #434B5C;\n",
              "      box-shadow: 0px 1px 3px 1px rgba(0, 0, 0, 0.15);\n",
              "      filter: drop-shadow(0px 1px 2px rgba(0, 0, 0, 0.3));\n",
              "      fill: #FFFFFF;\n",
              "    }\n",
              "  </style>\n",
              "\n",
              "      <script>\n",
              "        const buttonEl =\n",
              "          document.querySelector('#df-50993c2c-4b21-40cf-9d40-b5c3c7f69c0b button.colab-df-convert');\n",
              "        buttonEl.style.display =\n",
              "          google.colab.kernel.accessAllowed ? 'block' : 'none';\n",
              "\n",
              "        async function convertToInteractive(key) {\n",
              "          const element = document.querySelector('#df-50993c2c-4b21-40cf-9d40-b5c3c7f69c0b');\n",
              "          const dataTable =\n",
              "            await google.colab.kernel.invokeFunction('convertToInteractive',\n",
              "                                                     [key], {});\n",
              "          if (!dataTable) return;\n",
              "\n",
              "          const docLinkHtml = 'Like what you see? Visit the ' +\n",
              "            '<a target=\"_blank\" href=https://colab.research.google.com/notebooks/data_table.ipynb>data table notebook</a>'\n",
              "            + ' to learn more about interactive tables.';\n",
              "          element.innerHTML = '';\n",
              "          dataTable['output_type'] = 'display_data';\n",
              "          await google.colab.output.renderOutput(dataTable, element);\n",
              "          const docLink = document.createElement('div');\n",
              "          docLink.innerHTML = docLinkHtml;\n",
              "          element.appendChild(docLink);\n",
              "        }\n",
              "      </script>\n",
              "    </div>\n",
              "  </div>\n",
              "  "
            ]
          },
          "metadata": {},
          "execution_count": 73
        }
      ]
    },
    {
      "cell_type": "code",
      "source": [
        "usaObj = usa.select_dtypes(include='object')\n",
        "usaObj.head()"
      ],
      "metadata": {
        "colab": {
          "base_uri": "https://localhost:8080/",
          "height": 0
        },
        "outputId": "3def642c-577c-4d75-b9da-fa80609e198c",
        "id": "XcEbVOg-EHtk"
      },
      "execution_count": 74,
      "outputs": [
        {
          "output_type": "execute_result",
          "data": {
            "text/plain": [
              "                         listing_url last_scraped       source  \\\n",
              "0   https://www.airbnb.com/rooms/958   06/03/2023  city scrape   \n",
              "1  https://www.airbnb.com/rooms/5858   06/03/2023  city scrape   \n",
              "2  https://www.airbnb.com/rooms/8142   06/03/2023  city scrape   \n",
              "3  https://www.airbnb.com/rooms/8339   06/03/2023  city scrape   \n",
              "4  https://www.airbnb.com/rooms/8739   06/03/2023  city scrape   \n",
              "\n",
              "                                                name  \\\n",
              "0              Bright, Modern Garden Unit - 1BR/1BTH   \n",
              "1                                 Creative Sanctuary   \n",
              "2  Friendly Room Apt. Style -UCSF/USF - San Franc...   \n",
              "3                    Historic Alamo Square Victorian   \n",
              "4                Mission Sunshine, with Private Bath   \n",
              "\n",
              "                                         description  \\\n",
              "0  Our bright garden unit overlooks a lovely back...   \n",
              "1  We live in a large Victorian house on a quiet ...   \n",
              "2  Nice and good public transportation.  7 minute...   \n",
              "3  Pls email before booking. <br />Interior featu...   \n",
              "4  Welcome to \"The Mission,\" the sunniest neighbo...   \n",
              "\n",
              "                               neighborhood_overview  \\\n",
              "0  Quiet cul de sac in friendly neighborhood<br /...   \n",
              "1  I love how our neighborhood feels quiet but is...   \n",
              "2  N Juda Muni, Bus and UCSF Shuttle.<br /><br />...   \n",
              "3                                                NaN   \n",
              "4  Located between Valencia Street and Dolores Pa...   \n",
              "\n",
              "                                         picture_url  \\\n",
              "0  https://a0.muscache.com/pictures/b7c2a199-4c17...   \n",
              "1  https://a0.muscache.com/pictures/17714/3a7aea1...   \n",
              "2  https://a0.muscache.com/pictures/12d8bff0-1698...   \n",
              "3  https://a0.muscache.com/pictures/miso/Hosting-...   \n",
              "4  https://a0.muscache.com/pictures/80811/7a57d0e...   \n",
              "\n",
              "                                  host_url         host_name  host_since  ...  \\\n",
              "0   https://www.airbnb.com/users/show/1169             Holly  31/07/2008  ...   \n",
              "1   https://www.airbnb.com/users/show/8904  Philip And Tania  02/03/2009  ...   \n",
              "2  https://www.airbnb.com/users/show/21994             Aaron  17/06/2009  ...   \n",
              "3  https://www.airbnb.com/users/show/24215              Rosy  02/07/2009  ...   \n",
              "4   https://www.airbnb.com/users/show/7149      Ivan & Wendy  27/01/2009  ...   \n",
              "\n",
              "         room_type  bathrooms_text  \\\n",
              "0  Entire home/apt          1 bath   \n",
              "1  Entire home/apt          1 bath   \n",
              "2     Private room  4 shared baths   \n",
              "3  Entire home/apt       1.5 baths   \n",
              "4     Private room  1 private bath   \n",
              "\n",
              "                                           amenities    price  \\\n",
              "0  [\"Oven\", \"Self check-in\", \"Cooking basics\", \"L...  $202.00   \n",
              "1  [\"Essentials\", \"Carbon monoxide alarm\", \"Hange...  $235.00   \n",
              "2  [\"Security cameras on property\", \"Host greets ...   $56.00   \n",
              "3  [\"Oven\", \"Cooking basics\", \"TV\", \"Smoke alarm\"...  $575.00   \n",
              "4  [\"Paid parking garage off premises\", \"Luggage ...  $110.00   \n",
              "\n",
              "  has_availability calendar_last_scraped first_review last_review  \\\n",
              "0                t            06/03/2023   23/07/2009  19/02/2023   \n",
              "1                t            06/03/2023   03/05/2009  06/08/2017   \n",
              "2                t            06/03/2023   08/09/2014  27/10/2022   \n",
              "3                t            06/03/2023   25/09/2009  28/06/2019   \n",
              "4                t            06/03/2023   01/08/2009  25/02/2023   \n",
              "\n",
              "                     license instant_bookable  \n",
              "0  City Registration Pending                f  \n",
              "1                        NaN                f  \n",
              "2                        NaN                f  \n",
              "3                STR-0000264                f  \n",
              "4                STR-0000028                f  \n",
              "\n",
              "[5 rows x 35 columns]"
            ],
            "text/html": [
              "\n",
              "  <div id=\"df-84a17244-c570-45cb-97d0-414aab92e9b8\">\n",
              "    <div class=\"colab-df-container\">\n",
              "      <div>\n",
              "<style scoped>\n",
              "    .dataframe tbody tr th:only-of-type {\n",
              "        vertical-align: middle;\n",
              "    }\n",
              "\n",
              "    .dataframe tbody tr th {\n",
              "        vertical-align: top;\n",
              "    }\n",
              "\n",
              "    .dataframe thead th {\n",
              "        text-align: right;\n",
              "    }\n",
              "</style>\n",
              "<table border=\"1\" class=\"dataframe\">\n",
              "  <thead>\n",
              "    <tr style=\"text-align: right;\">\n",
              "      <th></th>\n",
              "      <th>listing_url</th>\n",
              "      <th>last_scraped</th>\n",
              "      <th>source</th>\n",
              "      <th>name</th>\n",
              "      <th>description</th>\n",
              "      <th>neighborhood_overview</th>\n",
              "      <th>picture_url</th>\n",
              "      <th>host_url</th>\n",
              "      <th>host_name</th>\n",
              "      <th>host_since</th>\n",
              "      <th>...</th>\n",
              "      <th>room_type</th>\n",
              "      <th>bathrooms_text</th>\n",
              "      <th>amenities</th>\n",
              "      <th>price</th>\n",
              "      <th>has_availability</th>\n",
              "      <th>calendar_last_scraped</th>\n",
              "      <th>first_review</th>\n",
              "      <th>last_review</th>\n",
              "      <th>license</th>\n",
              "      <th>instant_bookable</th>\n",
              "    </tr>\n",
              "  </thead>\n",
              "  <tbody>\n",
              "    <tr>\n",
              "      <th>0</th>\n",
              "      <td>https://www.airbnb.com/rooms/958</td>\n",
              "      <td>06/03/2023</td>\n",
              "      <td>city scrape</td>\n",
              "      <td>Bright, Modern Garden Unit - 1BR/1BTH</td>\n",
              "      <td>Our bright garden unit overlooks a lovely back...</td>\n",
              "      <td>Quiet cul de sac in friendly neighborhood&lt;br /...</td>\n",
              "      <td>https://a0.muscache.com/pictures/b7c2a199-4c17...</td>\n",
              "      <td>https://www.airbnb.com/users/show/1169</td>\n",
              "      <td>Holly</td>\n",
              "      <td>31/07/2008</td>\n",
              "      <td>...</td>\n",
              "      <td>Entire home/apt</td>\n",
              "      <td>1 bath</td>\n",
              "      <td>[\"Oven\", \"Self check-in\", \"Cooking basics\", \"L...</td>\n",
              "      <td>$202.00</td>\n",
              "      <td>t</td>\n",
              "      <td>06/03/2023</td>\n",
              "      <td>23/07/2009</td>\n",
              "      <td>19/02/2023</td>\n",
              "      <td>City Registration Pending</td>\n",
              "      <td>f</td>\n",
              "    </tr>\n",
              "    <tr>\n",
              "      <th>1</th>\n",
              "      <td>https://www.airbnb.com/rooms/5858</td>\n",
              "      <td>06/03/2023</td>\n",
              "      <td>city scrape</td>\n",
              "      <td>Creative Sanctuary</td>\n",
              "      <td>We live in a large Victorian house on a quiet ...</td>\n",
              "      <td>I love how our neighborhood feels quiet but is...</td>\n",
              "      <td>https://a0.muscache.com/pictures/17714/3a7aea1...</td>\n",
              "      <td>https://www.airbnb.com/users/show/8904</td>\n",
              "      <td>Philip And Tania</td>\n",
              "      <td>02/03/2009</td>\n",
              "      <td>...</td>\n",
              "      <td>Entire home/apt</td>\n",
              "      <td>1 bath</td>\n",
              "      <td>[\"Essentials\", \"Carbon monoxide alarm\", \"Hange...</td>\n",
              "      <td>$235.00</td>\n",
              "      <td>t</td>\n",
              "      <td>06/03/2023</td>\n",
              "      <td>03/05/2009</td>\n",
              "      <td>06/08/2017</td>\n",
              "      <td>NaN</td>\n",
              "      <td>f</td>\n",
              "    </tr>\n",
              "    <tr>\n",
              "      <th>2</th>\n",
              "      <td>https://www.airbnb.com/rooms/8142</td>\n",
              "      <td>06/03/2023</td>\n",
              "      <td>city scrape</td>\n",
              "      <td>Friendly Room Apt. Style -UCSF/USF - San Franc...</td>\n",
              "      <td>Nice and good public transportation.  7 minute...</td>\n",
              "      <td>N Juda Muni, Bus and UCSF Shuttle.&lt;br /&gt;&lt;br /&gt;...</td>\n",
              "      <td>https://a0.muscache.com/pictures/12d8bff0-1698...</td>\n",
              "      <td>https://www.airbnb.com/users/show/21994</td>\n",
              "      <td>Aaron</td>\n",
              "      <td>17/06/2009</td>\n",
              "      <td>...</td>\n",
              "      <td>Private room</td>\n",
              "      <td>4 shared baths</td>\n",
              "      <td>[\"Security cameras on property\", \"Host greets ...</td>\n",
              "      <td>$56.00</td>\n",
              "      <td>t</td>\n",
              "      <td>06/03/2023</td>\n",
              "      <td>08/09/2014</td>\n",
              "      <td>27/10/2022</td>\n",
              "      <td>NaN</td>\n",
              "      <td>f</td>\n",
              "    </tr>\n",
              "    <tr>\n",
              "      <th>3</th>\n",
              "      <td>https://www.airbnb.com/rooms/8339</td>\n",
              "      <td>06/03/2023</td>\n",
              "      <td>city scrape</td>\n",
              "      <td>Historic Alamo Square Victorian</td>\n",
              "      <td>Pls email before booking. &lt;br /&gt;Interior featu...</td>\n",
              "      <td>NaN</td>\n",
              "      <td>https://a0.muscache.com/pictures/miso/Hosting-...</td>\n",
              "      <td>https://www.airbnb.com/users/show/24215</td>\n",
              "      <td>Rosy</td>\n",
              "      <td>02/07/2009</td>\n",
              "      <td>...</td>\n",
              "      <td>Entire home/apt</td>\n",
              "      <td>1.5 baths</td>\n",
              "      <td>[\"Oven\", \"Cooking basics\", \"TV\", \"Smoke alarm\"...</td>\n",
              "      <td>$575.00</td>\n",
              "      <td>t</td>\n",
              "      <td>06/03/2023</td>\n",
              "      <td>25/09/2009</td>\n",
              "      <td>28/06/2019</td>\n",
              "      <td>STR-0000264</td>\n",
              "      <td>f</td>\n",
              "    </tr>\n",
              "    <tr>\n",
              "      <th>4</th>\n",
              "      <td>https://www.airbnb.com/rooms/8739</td>\n",
              "      <td>06/03/2023</td>\n",
              "      <td>city scrape</td>\n",
              "      <td>Mission Sunshine, with Private Bath</td>\n",
              "      <td>Welcome to \"The Mission,\" the sunniest neighbo...</td>\n",
              "      <td>Located between Valencia Street and Dolores Pa...</td>\n",
              "      <td>https://a0.muscache.com/pictures/80811/7a57d0e...</td>\n",
              "      <td>https://www.airbnb.com/users/show/7149</td>\n",
              "      <td>Ivan &amp; Wendy</td>\n",
              "      <td>27/01/2009</td>\n",
              "      <td>...</td>\n",
              "      <td>Private room</td>\n",
              "      <td>1 private bath</td>\n",
              "      <td>[\"Paid parking garage off premises\", \"Luggage ...</td>\n",
              "      <td>$110.00</td>\n",
              "      <td>t</td>\n",
              "      <td>06/03/2023</td>\n",
              "      <td>01/08/2009</td>\n",
              "      <td>25/02/2023</td>\n",
              "      <td>STR-0000028</td>\n",
              "      <td>f</td>\n",
              "    </tr>\n",
              "  </tbody>\n",
              "</table>\n",
              "<p>5 rows × 35 columns</p>\n",
              "</div>\n",
              "      <button class=\"colab-df-convert\" onclick=\"convertToInteractive('df-84a17244-c570-45cb-97d0-414aab92e9b8')\"\n",
              "              title=\"Convert this dataframe to an interactive table.\"\n",
              "              style=\"display:none;\">\n",
              "        \n",
              "  <svg xmlns=\"http://www.w3.org/2000/svg\" height=\"24px\"viewBox=\"0 0 24 24\"\n",
              "       width=\"24px\">\n",
              "    <path d=\"M0 0h24v24H0V0z\" fill=\"none\"/>\n",
              "    <path d=\"M18.56 5.44l.94 2.06.94-2.06 2.06-.94-2.06-.94-.94-2.06-.94 2.06-2.06.94zm-11 1L8.5 8.5l.94-2.06 2.06-.94-2.06-.94L8.5 2.5l-.94 2.06-2.06.94zm10 10l.94 2.06.94-2.06 2.06-.94-2.06-.94-.94-2.06-.94 2.06-2.06.94z\"/><path d=\"M17.41 7.96l-1.37-1.37c-.4-.4-.92-.59-1.43-.59-.52 0-1.04.2-1.43.59L10.3 9.45l-7.72 7.72c-.78.78-.78 2.05 0 2.83L4 21.41c.39.39.9.59 1.41.59.51 0 1.02-.2 1.41-.59l7.78-7.78 2.81-2.81c.8-.78.8-2.07 0-2.86zM5.41 20L4 18.59l7.72-7.72 1.47 1.35L5.41 20z\"/>\n",
              "  </svg>\n",
              "      </button>\n",
              "      \n",
              "  <style>\n",
              "    .colab-df-container {\n",
              "      display:flex;\n",
              "      flex-wrap:wrap;\n",
              "      gap: 12px;\n",
              "    }\n",
              "\n",
              "    .colab-df-convert {\n",
              "      background-color: #E8F0FE;\n",
              "      border: none;\n",
              "      border-radius: 50%;\n",
              "      cursor: pointer;\n",
              "      display: none;\n",
              "      fill: #1967D2;\n",
              "      height: 32px;\n",
              "      padding: 0 0 0 0;\n",
              "      width: 32px;\n",
              "    }\n",
              "\n",
              "    .colab-df-convert:hover {\n",
              "      background-color: #E2EBFA;\n",
              "      box-shadow: 0px 1px 2px rgba(60, 64, 67, 0.3), 0px 1px 3px 1px rgba(60, 64, 67, 0.15);\n",
              "      fill: #174EA6;\n",
              "    }\n",
              "\n",
              "    [theme=dark] .colab-df-convert {\n",
              "      background-color: #3B4455;\n",
              "      fill: #D2E3FC;\n",
              "    }\n",
              "\n",
              "    [theme=dark] .colab-df-convert:hover {\n",
              "      background-color: #434B5C;\n",
              "      box-shadow: 0px 1px 3px 1px rgba(0, 0, 0, 0.15);\n",
              "      filter: drop-shadow(0px 1px 2px rgba(0, 0, 0, 0.3));\n",
              "      fill: #FFFFFF;\n",
              "    }\n",
              "  </style>\n",
              "\n",
              "      <script>\n",
              "        const buttonEl =\n",
              "          document.querySelector('#df-84a17244-c570-45cb-97d0-414aab92e9b8 button.colab-df-convert');\n",
              "        buttonEl.style.display =\n",
              "          google.colab.kernel.accessAllowed ? 'block' : 'none';\n",
              "\n",
              "        async function convertToInteractive(key) {\n",
              "          const element = document.querySelector('#df-84a17244-c570-45cb-97d0-414aab92e9b8');\n",
              "          const dataTable =\n",
              "            await google.colab.kernel.invokeFunction('convertToInteractive',\n",
              "                                                     [key], {});\n",
              "          if (!dataTable) return;\n",
              "\n",
              "          const docLinkHtml = 'Like what you see? Visit the ' +\n",
              "            '<a target=\"_blank\" href=https://colab.research.google.com/notebooks/data_table.ipynb>data table notebook</a>'\n",
              "            + ' to learn more about interactive tables.';\n",
              "          element.innerHTML = '';\n",
              "          dataTable['output_type'] = 'display_data';\n",
              "          await google.colab.output.renderOutput(dataTable, element);\n",
              "          const docLink = document.createElement('div');\n",
              "          docLink.innerHTML = docLinkHtml;\n",
              "          element.appendChild(docLink);\n",
              "        }\n",
              "      </script>\n",
              "    </div>\n",
              "  </div>\n",
              "  "
            ]
          },
          "metadata": {},
          "execution_count": 74
        }
      ]
    },
    {
      "cell_type": "code",
      "source": [
        "#Verificar la cantidad de valores nulos por columna en variables numéricas\n",
        "valores_nulos=usaNum.isnull().sum()\n",
        "valores_nulos"
      ],
      "metadata": {
        "colab": {
          "base_uri": "https://localhost:8080/"
        },
        "outputId": "55d7ef71-f019-4300-850b-7b2a411f5cb0",
        "id": "AARzfm6_EHtk"
      },
      "execution_count": 75,
      "outputs": [
        {
          "output_type": "execute_result",
          "data": {
            "text/plain": [
              "id                                                 0\n",
              "scrape_id                                          0\n",
              "host_id                                            0\n",
              "host_listings_count                                0\n",
              "host_total_listings_count                          0\n",
              "neighbourhood_group_cleansed                    6936\n",
              "latitude                                           0\n",
              "longitude                                          0\n",
              "accommodates                                       0\n",
              "bathrooms                                       6936\n",
              "bedrooms                                         945\n",
              "beds                                             120\n",
              "minimum_nights                                     0\n",
              "maximum_nights                                     0\n",
              "minimum_minimum_nights                             2\n",
              "maximum_minimum_nights                             2\n",
              "minimum_maximum_nights                             2\n",
              "maximum_maximum_nights                             2\n",
              "minimum_nights_avg_ntm                             2\n",
              "maximum_nights_avg_ntm                             2\n",
              "calendar_updated                                6936\n",
              "availability_30                                    0\n",
              "availability_60                                    0\n",
              "availability_90                                    0\n",
              "availability_365                                   0\n",
              "number_of_reviews                                  0\n",
              "number_of_reviews_ltm                              0\n",
              "number_of_reviews_l30d                             0\n",
              "review_scores_rating                            1325\n",
              "review_scores_accuracy                          1346\n",
              "review_scores_cleanliness                       1346\n",
              "review_scores_checkin                           1347\n",
              "review_scores_communication                     1346\n",
              "review_scores_location                          1347\n",
              "review_scores_value                             1347\n",
              "calculated_host_listings_count                     0\n",
              "calculated_host_listings_count_entire_homes        0\n",
              "calculated_host_listings_count_private_rooms       0\n",
              "calculated_host_listings_count_shared_rooms        0\n",
              "reviews_per_month                               1325\n",
              "dtype: int64"
            ]
          },
          "metadata": {},
          "execution_count": 75
        }
      ]
    },
    {
      "cell_type": "code",
      "source": [
        "#Total de valores nulos en variables numéricas\n",
        "valores_nulos=usaNum.isnull().sum().sum()\n",
        "valores_nulos"
      ],
      "metadata": {
        "colab": {
          "base_uri": "https://localhost:8080/"
        },
        "outputId": "d5347f8b-8b34-4037-926a-6e8b323c37be",
        "id": "YGvnvHSiEHtk"
      },
      "execution_count": 76,
      "outputs": [
        {
          "output_type": "execute_result",
          "data": {
            "text/plain": [
              "32614"
            ]
          },
          "metadata": {},
          "execution_count": 76
        }
      ]
    },
    {
      "cell_type": "markdown",
      "source": [
        "Para la sustitución de valores nulos, como primer método se decidió utilizar el promedio de cada columna para llenar aquellos espacios vacíos, esto debido a que se trata de no perder la mayor cantidad de información posible. Realmente no se tiene conocimiento de qué valores deben ir en dichos espacios, pero tampoco se les debe asignar un cero, es por eso que para tener un mayor acercamiento al valor real, se le asigna el promedio de la columna."
      ],
      "metadata": {
        "id": "a8ye4BY5y4VI"
      }
    },
    {
      "cell_type": "code",
      "source": [
        "#Sustitución de valores nulos en variables numéricas por el promedio\n",
        "usaNum=usaNum.fillna(round(usaNum.mean(),1))"
      ],
      "metadata": {
        "id": "h9awKtc2EHtk"
      },
      "execution_count": 77,
      "outputs": []
    },
    {
      "cell_type": "code",
      "source": [
        "#Corroboración de valores nulos en variables numéricas\n",
        "valores_nulos=usaNum.isnull().sum().sum()\n",
        "valores_nulos"
      ],
      "metadata": {
        "colab": {
          "base_uri": "https://localhost:8080/"
        },
        "outputId": "670e7988-38d4-4554-8a21-2729bcac3426",
        "id": "OcrPVSlEEHtl"
      },
      "execution_count": 78,
      "outputs": [
        {
          "output_type": "execute_result",
          "data": {
            "text/plain": [
              "20808"
            ]
          },
          "metadata": {},
          "execution_count": 78
        }
      ]
    },
    {
      "cell_type": "markdown",
      "source": [
        "Luego de corroborar los valores nulos  en las variables numéricas después de aplicar el primer método, se obtiene que aún hay presencia de estos, por lo que el siguiente método que se seleccionó es 'ffill' el cual se trata de sustituir los valores nulos por los valores posteriores a estos. Se escogió dicho método con la finalidad de evitar rellenar con ceros, y poder seguir asignando valores lo más parecidos a la información con la que se cuenta."
      ],
      "metadata": {
        "id": "NnJH-2Bky4VI"
      }
    },
    {
      "cell_type": "code",
      "source": [
        "#Sustitución de valores nulos en variables numéricas por el valor posterior\n",
        "usaNum=usaNum.fillna('ffill')"
      ],
      "metadata": {
        "id": "vz5tQgPqy4VI"
      },
      "execution_count": 79,
      "outputs": []
    },
    {
      "cell_type": "code",
      "source": [
        "#Corroboración de valores nulos en variables numéricas\n",
        "valores_nulos=usaNum.isnull().sum().sum()\n",
        "valores_nulos"
      ],
      "metadata": {
        "colab": {
          "base_uri": "https://localhost:8080/"
        },
        "outputId": "acc5a08e-b408-4cf8-cf4c-c4ce5b39c4fa",
        "id": "Utq_zSF1y4VI"
      },
      "execution_count": 80,
      "outputs": [
        {
          "output_type": "execute_result",
          "data": {
            "text/plain": [
              "0"
            ]
          },
          "metadata": {},
          "execution_count": 80
        }
      ]
    },
    {
      "cell_type": "code",
      "source": [
        "#Verificar la cantidad de valores nulos por columna en variables categóricas\n",
        "valores_nulos=usaObj.isnull().sum()\n",
        "valores_nulos"
      ],
      "metadata": {
        "colab": {
          "base_uri": "https://localhost:8080/"
        },
        "outputId": "f767b50a-5c48-4941-aff8-33564992aaaf",
        "id": "H_5AxTmlEHtl"
      },
      "execution_count": 81,
      "outputs": [
        {
          "output_type": "execute_result",
          "data": {
            "text/plain": [
              "listing_url                  0\n",
              "last_scraped                 0\n",
              "source                       0\n",
              "name                         0\n",
              "description                 47\n",
              "neighborhood_overview     2086\n",
              "picture_url                  0\n",
              "host_url                     0\n",
              "host_name                    0\n",
              "host_since                   0\n",
              "host_location             1221\n",
              "host_about                2252\n",
              "host_response_time        1019\n",
              "host_response_rate        1019\n",
              "host_acceptance_rate       801\n",
              "host_is_superhost            9\n",
              "host_thumbnail_url           0\n",
              "host_picture_url             0\n",
              "host_neighbourhood         301\n",
              "host_verifications           0\n",
              "host_has_profile_pic         0\n",
              "host_identity_verified       0\n",
              "neighbourhood             2086\n",
              "neighbourhood_cleansed       0\n",
              "property_type                0\n",
              "room_type                    0\n",
              "bathrooms_text              14\n",
              "amenities                    0\n",
              "price                        0\n",
              "has_availability             0\n",
              "calendar_last_scraped        0\n",
              "first_review              1325\n",
              "last_review               1325\n",
              "license                   2758\n",
              "instant_bookable             0\n",
              "dtype: int64"
            ]
          },
          "metadata": {},
          "execution_count": 81
        }
      ]
    },
    {
      "cell_type": "code",
      "source": [
        "#Total de valores nulos en variables categóricas\n",
        "valores_nulos=usaObj.isnull().sum().sum()\n",
        "valores_nulos"
      ],
      "metadata": {
        "colab": {
          "base_uri": "https://localhost:8080/"
        },
        "outputId": "f341a0dd-14fc-43e9-ca8e-6ed7b9fc4b3b",
        "id": "EQ-CnXYKEHtl"
      },
      "execution_count": 82,
      "outputs": [
        {
          "output_type": "execute_result",
          "data": {
            "text/plain": [
              "16263"
            ]
          },
          "metadata": {},
          "execution_count": 82
        }
      ]
    },
    {
      "cell_type": "markdown",
      "source": [
        "Para las variables categóricas, se decidió sustituir los valores nulos por la leyenda 'Sin datos' ya que en dichas columnas los datos son de tipo objeto, de este modo se evita tener distintos tipos de datos en una sola columna."
      ],
      "metadata": {
        "id": "Q-IS9nfgzWCy"
      }
    },
    {
      "cell_type": "code",
      "source": [
        "#Sustitución de valores nulos en variables categóricas por la leyenda 'Sin datos'\n",
        "usaObj=usaObj.fillna('Sin datos')"
      ],
      "metadata": {
        "id": "K6HzooFsEHtl"
      },
      "execution_count": 83,
      "outputs": []
    },
    {
      "cell_type": "code",
      "source": [
        "#Corroboración de valores nulos en variables categóricas\n",
        "valores_nulos=usaObj.isnull().sum().sum()\n",
        "valores_nulos"
      ],
      "metadata": {
        "colab": {
          "base_uri": "https://localhost:8080/"
        },
        "outputId": "320d0e66-30d6-4da3-94a9-44cec744012b",
        "id": "fjCXOs_TEHtl"
      },
      "execution_count": 84,
      "outputs": [
        {
          "output_type": "execute_result",
          "data": {
            "text/plain": [
              "0"
            ]
          },
          "metadata": {},
          "execution_count": 84
        }
      ]
    },
    {
      "cell_type": "markdown",
      "source": [
        "### **Dataframe Girona_España**"
      ],
      "metadata": {
        "id": "YuX1udnkmzud"
      }
    },
    {
      "cell_type": "code",
      "source": [
        "espNum = españa.select_dtypes(include='number')\n",
        "espNum.head()"
      ],
      "metadata": {
        "colab": {
          "base_uri": "https://localhost:8080/",
          "height": 299
        },
        "outputId": "734b7b16-06a4-4135-ea81-5d8978277bfd",
        "id": "gZMMGaRJFRXj"
      },
      "execution_count": 35,
      "outputs": [
        {
          "output_type": "execute_result",
          "data": {
            "text/plain": [
              "          id     scrape_id  host_id  host_listings_count  \\\n",
              "0    14551.0  2.023030e+13    57237                  1.0   \n",
              "1  1205757.0  2.023030e+13  6586355                  1.0   \n",
              "2  1212820.0  2.023030e+13  6620645                  2.0   \n",
              "3   751638.0  2.023030e+13  3680160                  6.0   \n",
              "4    41342.0  2.023030e+13   180072                  2.0   \n",
              "\n",
              "   host_total_listings_count  neighbourhood_group_cleansed  latitude  \\\n",
              "0                        5.0                           NaN  41.99650   \n",
              "1                        1.0                           NaN  41.79304   \n",
              "2                        3.0                           NaN  42.11284   \n",
              "3                        6.0                           NaN  42.36958   \n",
              "4                        3.0                           NaN  42.34655   \n",
              "\n",
              "   longitude  accommodates  bathrooms  ...  review_scores_cleanliness  \\\n",
              "0    2.83646             2        NaN  ...                       4.94   \n",
              "1    2.77412             2        NaN  ...                       4.85   \n",
              "2    3.16670             4        NaN  ...                       4.31   \n",
              "3    2.98030             2        NaN  ...                       4.50   \n",
              "4    3.20463             4        NaN  ...                       4.82   \n",
              "\n",
              "   review_scores_checkin  review_scores_communication  review_scores_location  \\\n",
              "0                   4.89                         4.91                    4.63   \n",
              "1                   4.85                         4.91                    4.69   \n",
              "2                   4.81                         4.76                    4.74   \n",
              "3                   4.86                         5.00                    4.63   \n",
              "4                   4.73                         4.73                    4.91   \n",
              "\n",
              "   review_scores_value  calculated_host_listings_count  \\\n",
              "0                 4.74                               1   \n",
              "1                 4.80                               1   \n",
              "2                 4.32                               2   \n",
              "3                 4.50                               6   \n",
              "4                 4.36                               1   \n",
              "\n",
              "   calculated_host_listings_count_entire_homes  \\\n",
              "0                                            0   \n",
              "1                                            0   \n",
              "2                                            2   \n",
              "3                                            1   \n",
              "4                                            1   \n",
              "\n",
              "   calculated_host_listings_count_private_rooms  \\\n",
              "0                                             1   \n",
              "1                                             1   \n",
              "2                                             0   \n",
              "3                                             5   \n",
              "4                                             0   \n",
              "\n",
              "   calculated_host_listings_count_shared_rooms  reviews_per_month  \n",
              "0                                            0               0.37  \n",
              "1                                            0               0.51  \n",
              "2                                            0               0.62  \n",
              "3                                            0               0.08  \n",
              "4                                            0               0.09  \n",
              "\n",
              "[5 rows x 40 columns]"
            ],
            "text/html": [
              "\n",
              "  <div id=\"df-fc9102a8-c866-49bf-864e-1fe072b5420c\">\n",
              "    <div class=\"colab-df-container\">\n",
              "      <div>\n",
              "<style scoped>\n",
              "    .dataframe tbody tr th:only-of-type {\n",
              "        vertical-align: middle;\n",
              "    }\n",
              "\n",
              "    .dataframe tbody tr th {\n",
              "        vertical-align: top;\n",
              "    }\n",
              "\n",
              "    .dataframe thead th {\n",
              "        text-align: right;\n",
              "    }\n",
              "</style>\n",
              "<table border=\"1\" class=\"dataframe\">\n",
              "  <thead>\n",
              "    <tr style=\"text-align: right;\">\n",
              "      <th></th>\n",
              "      <th>id</th>\n",
              "      <th>scrape_id</th>\n",
              "      <th>host_id</th>\n",
              "      <th>host_listings_count</th>\n",
              "      <th>host_total_listings_count</th>\n",
              "      <th>neighbourhood_group_cleansed</th>\n",
              "      <th>latitude</th>\n",
              "      <th>longitude</th>\n",
              "      <th>accommodates</th>\n",
              "      <th>bathrooms</th>\n",
              "      <th>...</th>\n",
              "      <th>review_scores_cleanliness</th>\n",
              "      <th>review_scores_checkin</th>\n",
              "      <th>review_scores_communication</th>\n",
              "      <th>review_scores_location</th>\n",
              "      <th>review_scores_value</th>\n",
              "      <th>calculated_host_listings_count</th>\n",
              "      <th>calculated_host_listings_count_entire_homes</th>\n",
              "      <th>calculated_host_listings_count_private_rooms</th>\n",
              "      <th>calculated_host_listings_count_shared_rooms</th>\n",
              "      <th>reviews_per_month</th>\n",
              "    </tr>\n",
              "  </thead>\n",
              "  <tbody>\n",
              "    <tr>\n",
              "      <th>0</th>\n",
              "      <td>14551.0</td>\n",
              "      <td>2.023030e+13</td>\n",
              "      <td>57237</td>\n",
              "      <td>1.0</td>\n",
              "      <td>5.0</td>\n",
              "      <td>NaN</td>\n",
              "      <td>41.99650</td>\n",
              "      <td>2.83646</td>\n",
              "      <td>2</td>\n",
              "      <td>NaN</td>\n",
              "      <td>...</td>\n",
              "      <td>4.94</td>\n",
              "      <td>4.89</td>\n",
              "      <td>4.91</td>\n",
              "      <td>4.63</td>\n",
              "      <td>4.74</td>\n",
              "      <td>1</td>\n",
              "      <td>0</td>\n",
              "      <td>1</td>\n",
              "      <td>0</td>\n",
              "      <td>0.37</td>\n",
              "    </tr>\n",
              "    <tr>\n",
              "      <th>1</th>\n",
              "      <td>1205757.0</td>\n",
              "      <td>2.023030e+13</td>\n",
              "      <td>6586355</td>\n",
              "      <td>1.0</td>\n",
              "      <td>1.0</td>\n",
              "      <td>NaN</td>\n",
              "      <td>41.79304</td>\n",
              "      <td>2.77412</td>\n",
              "      <td>2</td>\n",
              "      <td>NaN</td>\n",
              "      <td>...</td>\n",
              "      <td>4.85</td>\n",
              "      <td>4.85</td>\n",
              "      <td>4.91</td>\n",
              "      <td>4.69</td>\n",
              "      <td>4.80</td>\n",
              "      <td>1</td>\n",
              "      <td>0</td>\n",
              "      <td>1</td>\n",
              "      <td>0</td>\n",
              "      <td>0.51</td>\n",
              "    </tr>\n",
              "    <tr>\n",
              "      <th>2</th>\n",
              "      <td>1212820.0</td>\n",
              "      <td>2.023030e+13</td>\n",
              "      <td>6620645</td>\n",
              "      <td>2.0</td>\n",
              "      <td>3.0</td>\n",
              "      <td>NaN</td>\n",
              "      <td>42.11284</td>\n",
              "      <td>3.16670</td>\n",
              "      <td>4</td>\n",
              "      <td>NaN</td>\n",
              "      <td>...</td>\n",
              "      <td>4.31</td>\n",
              "      <td>4.81</td>\n",
              "      <td>4.76</td>\n",
              "      <td>4.74</td>\n",
              "      <td>4.32</td>\n",
              "      <td>2</td>\n",
              "      <td>2</td>\n",
              "      <td>0</td>\n",
              "      <td>0</td>\n",
              "      <td>0.62</td>\n",
              "    </tr>\n",
              "    <tr>\n",
              "      <th>3</th>\n",
              "      <td>751638.0</td>\n",
              "      <td>2.023030e+13</td>\n",
              "      <td>3680160</td>\n",
              "      <td>6.0</td>\n",
              "      <td>6.0</td>\n",
              "      <td>NaN</td>\n",
              "      <td>42.36958</td>\n",
              "      <td>2.98030</td>\n",
              "      <td>2</td>\n",
              "      <td>NaN</td>\n",
              "      <td>...</td>\n",
              "      <td>4.50</td>\n",
              "      <td>4.86</td>\n",
              "      <td>5.00</td>\n",
              "      <td>4.63</td>\n",
              "      <td>4.50</td>\n",
              "      <td>6</td>\n",
              "      <td>1</td>\n",
              "      <td>5</td>\n",
              "      <td>0</td>\n",
              "      <td>0.08</td>\n",
              "    </tr>\n",
              "    <tr>\n",
              "      <th>4</th>\n",
              "      <td>41342.0</td>\n",
              "      <td>2.023030e+13</td>\n",
              "      <td>180072</td>\n",
              "      <td>2.0</td>\n",
              "      <td>3.0</td>\n",
              "      <td>NaN</td>\n",
              "      <td>42.34655</td>\n",
              "      <td>3.20463</td>\n",
              "      <td>4</td>\n",
              "      <td>NaN</td>\n",
              "      <td>...</td>\n",
              "      <td>4.82</td>\n",
              "      <td>4.73</td>\n",
              "      <td>4.73</td>\n",
              "      <td>4.91</td>\n",
              "      <td>4.36</td>\n",
              "      <td>1</td>\n",
              "      <td>1</td>\n",
              "      <td>0</td>\n",
              "      <td>0</td>\n",
              "      <td>0.09</td>\n",
              "    </tr>\n",
              "  </tbody>\n",
              "</table>\n",
              "<p>5 rows × 40 columns</p>\n",
              "</div>\n",
              "      <button class=\"colab-df-convert\" onclick=\"convertToInteractive('df-fc9102a8-c866-49bf-864e-1fe072b5420c')\"\n",
              "              title=\"Convert this dataframe to an interactive table.\"\n",
              "              style=\"display:none;\">\n",
              "        \n",
              "  <svg xmlns=\"http://www.w3.org/2000/svg\" height=\"24px\"viewBox=\"0 0 24 24\"\n",
              "       width=\"24px\">\n",
              "    <path d=\"M0 0h24v24H0V0z\" fill=\"none\"/>\n",
              "    <path d=\"M18.56 5.44l.94 2.06.94-2.06 2.06-.94-2.06-.94-.94-2.06-.94 2.06-2.06.94zm-11 1L8.5 8.5l.94-2.06 2.06-.94-2.06-.94L8.5 2.5l-.94 2.06-2.06.94zm10 10l.94 2.06.94-2.06 2.06-.94-2.06-.94-.94-2.06-.94 2.06-2.06.94z\"/><path d=\"M17.41 7.96l-1.37-1.37c-.4-.4-.92-.59-1.43-.59-.52 0-1.04.2-1.43.59L10.3 9.45l-7.72 7.72c-.78.78-.78 2.05 0 2.83L4 21.41c.39.39.9.59 1.41.59.51 0 1.02-.2 1.41-.59l7.78-7.78 2.81-2.81c.8-.78.8-2.07 0-2.86zM5.41 20L4 18.59l7.72-7.72 1.47 1.35L5.41 20z\"/>\n",
              "  </svg>\n",
              "      </button>\n",
              "      \n",
              "  <style>\n",
              "    .colab-df-container {\n",
              "      display:flex;\n",
              "      flex-wrap:wrap;\n",
              "      gap: 12px;\n",
              "    }\n",
              "\n",
              "    .colab-df-convert {\n",
              "      background-color: #E8F0FE;\n",
              "      border: none;\n",
              "      border-radius: 50%;\n",
              "      cursor: pointer;\n",
              "      display: none;\n",
              "      fill: #1967D2;\n",
              "      height: 32px;\n",
              "      padding: 0 0 0 0;\n",
              "      width: 32px;\n",
              "    }\n",
              "\n",
              "    .colab-df-convert:hover {\n",
              "      background-color: #E2EBFA;\n",
              "      box-shadow: 0px 1px 2px rgba(60, 64, 67, 0.3), 0px 1px 3px 1px rgba(60, 64, 67, 0.15);\n",
              "      fill: #174EA6;\n",
              "    }\n",
              "\n",
              "    [theme=dark] .colab-df-convert {\n",
              "      background-color: #3B4455;\n",
              "      fill: #D2E3FC;\n",
              "    }\n",
              "\n",
              "    [theme=dark] .colab-df-convert:hover {\n",
              "      background-color: #434B5C;\n",
              "      box-shadow: 0px 1px 3px 1px rgba(0, 0, 0, 0.15);\n",
              "      filter: drop-shadow(0px 1px 2px rgba(0, 0, 0, 0.3));\n",
              "      fill: #FFFFFF;\n",
              "    }\n",
              "  </style>\n",
              "\n",
              "      <script>\n",
              "        const buttonEl =\n",
              "          document.querySelector('#df-fc9102a8-c866-49bf-864e-1fe072b5420c button.colab-df-convert');\n",
              "        buttonEl.style.display =\n",
              "          google.colab.kernel.accessAllowed ? 'block' : 'none';\n",
              "\n",
              "        async function convertToInteractive(key) {\n",
              "          const element = document.querySelector('#df-fc9102a8-c866-49bf-864e-1fe072b5420c');\n",
              "          const dataTable =\n",
              "            await google.colab.kernel.invokeFunction('convertToInteractive',\n",
              "                                                     [key], {});\n",
              "          if (!dataTable) return;\n",
              "\n",
              "          const docLinkHtml = 'Like what you see? Visit the ' +\n",
              "            '<a target=\"_blank\" href=https://colab.research.google.com/notebooks/data_table.ipynb>data table notebook</a>'\n",
              "            + ' to learn more about interactive tables.';\n",
              "          element.innerHTML = '';\n",
              "          dataTable['output_type'] = 'display_data';\n",
              "          await google.colab.output.renderOutput(dataTable, element);\n",
              "          const docLink = document.createElement('div');\n",
              "          docLink.innerHTML = docLinkHtml;\n",
              "          element.appendChild(docLink);\n",
              "        }\n",
              "      </script>\n",
              "    </div>\n",
              "  </div>\n",
              "  "
            ]
          },
          "metadata": {},
          "execution_count": 35
        }
      ]
    },
    {
      "cell_type": "code",
      "source": [
        "espObj = españa.select_dtypes(include='object')\n",
        "espObj.head()"
      ],
      "metadata": {
        "colab": {
          "base_uri": "https://localhost:8080/",
          "height": 629
        },
        "outputId": "a9a1a207-c4ae-4cdd-986d-2401e671db09",
        "id": "9rNZ8V0WFRXj"
      },
      "execution_count": 36,
      "outputs": [
        {
          "output_type": "execute_result",
          "data": {
            "text/plain": [
              "                            listing_url last_scraped           source  \\\n",
              "0    https://www.airbnb.com/rooms/14551   31/03/2023      city scrape   \n",
              "1  https://www.airbnb.com/rooms/1205757   31/03/2023      city scrape   \n",
              "2  https://www.airbnb.com/rooms/1212820   01/04/2023      city scrape   \n",
              "3   https://www.airbnb.com/rooms/751638   31/03/2023      city scrape   \n",
              "4    https://www.airbnb.com/rooms/41342   01/04/2023  previous scrape   \n",
              "\n",
              "                                       name  \\\n",
              "0  Cozy & Colorful by Nature (Private Room)   \n",
              "1       HabitaciÃ³n doble + baÃ±o y terraza   \n",
              "2       Apartment port de rei stunning wiew   \n",
              "3       Room Limon - Casa Pati de lÂ´Albera   \n",
              "4         Beachfront Tamariua (Costa Brava)   \n",
              "\n",
              "                                         description  \\\n",
              "0  Up in the hill of MontjuÃ¯c (a mountain overlo...   \n",
              "1  <b>The space</b><br />HabitaciÃ³n confortable ...   \n",
              "2  <b>The space</b><br />Apartments first line un...   \n",
              "3  <b>The space</b><br />Nice room with 2 individ...   \n",
              "4  A little paradise by the sea. Apartment 2/4 ad...   \n",
              "\n",
              "                               neighborhood_overview  \\\n",
              "0  MontjuÃ¯c is most likely the best neighborhood...   \n",
              "1  Bonitas playas a 15 minutos en coche. Piscina ...   \n",
              "2                                                NaN   \n",
              "3  Sant Climent is a tiny village, with a populat...   \n",
              "4  Apartment located outside the town on a small ...   \n",
              "\n",
              "                                         picture_url  \\\n",
              "0  https://a0.muscache.com/pictures/16209908/f1fe...   \n",
              "1  https://a0.muscache.com/pictures/02e0a61e-078e...   \n",
              "2  https://a0.muscache.com/pictures/18245529/0886...   \n",
              "3  https://a0.muscache.com/pictures/64276178/98d1...   \n",
              "4  https://a0.muscache.com/pictures/70414801/59d4...   \n",
              "\n",
              "                                    host_url host_name  host_since  ...  \\\n",
              "0    https://www.airbnb.com/users/show/57237       Mun  24/11/2009  ...   \n",
              "1  https://www.airbnb.com/users/show/6586355    Montse  26/05/2013  ...   \n",
              "2  https://www.airbnb.com/users/show/6620645    Myriam  28/05/2013  ...   \n",
              "3  https://www.airbnb.com/users/show/3680160   Roberto  26/09/2012  ...   \n",
              "4   https://www.airbnb.com/users/show/180072    Marisa  25/07/2010  ...   \n",
              "\n",
              "         room_type    bathrooms_text  \\\n",
              "0     Private room    1 private bath   \n",
              "1     Private room  1.5 shared baths   \n",
              "2  Entire home/apt            1 bath   \n",
              "3     Private room    1 private bath   \n",
              "4  Entire home/apt            1 bath   \n",
              "\n",
              "                                           amenities    price  \\\n",
              "0  [\"Shared pool\", \"Refrigerator\", \"Long term sta...   $42.00   \n",
              "1  [\"Free parking on premises\", \"Refrigerator\", \"...   $47.00   \n",
              "2  [\"Air conditioning\", \"Free parking on premises...   $74.00   \n",
              "3  [\"Hair dryer\", \"Luggage dropoff allowed\", \"Fre...   $45.00   \n",
              "4  [\"Free parking on premises\", \"Refrigerator\", \"...  $120.00   \n",
              "\n",
              "  has_availability calendar_last_scraped first_review last_review  \\\n",
              "0                t            31/03/2023   08/10/2010  27/02/2023   \n",
              "1                t            31/03/2023   01/08/2013  26/06/2022   \n",
              "2                t            01/04/2023   10/06/2013  30/12/2022   \n",
              "3                t            31/03/2023   23/08/2013  29/08/2022   \n",
              "4                t            01/04/2023   14/07/2013  28/08/2021   \n",
              "\n",
              "       license instant_bookable  \n",
              "0  HUTG-049542                f  \n",
              "1          NaN                f  \n",
              "2          NaN                f  \n",
              "3     PG000794                t  \n",
              "4  HUTG-003688                f  \n",
              "\n",
              "[5 rows x 35 columns]"
            ],
            "text/html": [
              "\n",
              "  <div id=\"df-4396acbf-b177-45b5-97cb-3756b234303d\">\n",
              "    <div class=\"colab-df-container\">\n",
              "      <div>\n",
              "<style scoped>\n",
              "    .dataframe tbody tr th:only-of-type {\n",
              "        vertical-align: middle;\n",
              "    }\n",
              "\n",
              "    .dataframe tbody tr th {\n",
              "        vertical-align: top;\n",
              "    }\n",
              "\n",
              "    .dataframe thead th {\n",
              "        text-align: right;\n",
              "    }\n",
              "</style>\n",
              "<table border=\"1\" class=\"dataframe\">\n",
              "  <thead>\n",
              "    <tr style=\"text-align: right;\">\n",
              "      <th></th>\n",
              "      <th>listing_url</th>\n",
              "      <th>last_scraped</th>\n",
              "      <th>source</th>\n",
              "      <th>name</th>\n",
              "      <th>description</th>\n",
              "      <th>neighborhood_overview</th>\n",
              "      <th>picture_url</th>\n",
              "      <th>host_url</th>\n",
              "      <th>host_name</th>\n",
              "      <th>host_since</th>\n",
              "      <th>...</th>\n",
              "      <th>room_type</th>\n",
              "      <th>bathrooms_text</th>\n",
              "      <th>amenities</th>\n",
              "      <th>price</th>\n",
              "      <th>has_availability</th>\n",
              "      <th>calendar_last_scraped</th>\n",
              "      <th>first_review</th>\n",
              "      <th>last_review</th>\n",
              "      <th>license</th>\n",
              "      <th>instant_bookable</th>\n",
              "    </tr>\n",
              "  </thead>\n",
              "  <tbody>\n",
              "    <tr>\n",
              "      <th>0</th>\n",
              "      <td>https://www.airbnb.com/rooms/14551</td>\n",
              "      <td>31/03/2023</td>\n",
              "      <td>city scrape</td>\n",
              "      <td>Cozy &amp; Colorful by Nature (Private Room)</td>\n",
              "      <td>Up in the hill of MontjuÃ¯c (a mountain overlo...</td>\n",
              "      <td>MontjuÃ¯c is most likely the best neighborhood...</td>\n",
              "      <td>https://a0.muscache.com/pictures/16209908/f1fe...</td>\n",
              "      <td>https://www.airbnb.com/users/show/57237</td>\n",
              "      <td>Mun</td>\n",
              "      <td>24/11/2009</td>\n",
              "      <td>...</td>\n",
              "      <td>Private room</td>\n",
              "      <td>1 private bath</td>\n",
              "      <td>[\"Shared pool\", \"Refrigerator\", \"Long term sta...</td>\n",
              "      <td>$42.00</td>\n",
              "      <td>t</td>\n",
              "      <td>31/03/2023</td>\n",
              "      <td>08/10/2010</td>\n",
              "      <td>27/02/2023</td>\n",
              "      <td>HUTG-049542</td>\n",
              "      <td>f</td>\n",
              "    </tr>\n",
              "    <tr>\n",
              "      <th>1</th>\n",
              "      <td>https://www.airbnb.com/rooms/1205757</td>\n",
              "      <td>31/03/2023</td>\n",
              "      <td>city scrape</td>\n",
              "      <td>HabitaciÃ³n doble + baÃ±o y terraza</td>\n",
              "      <td>&lt;b&gt;The space&lt;/b&gt;&lt;br /&gt;HabitaciÃ³n confortable ...</td>\n",
              "      <td>Bonitas playas a 15 minutos en coche. Piscina ...</td>\n",
              "      <td>https://a0.muscache.com/pictures/02e0a61e-078e...</td>\n",
              "      <td>https://www.airbnb.com/users/show/6586355</td>\n",
              "      <td>Montse</td>\n",
              "      <td>26/05/2013</td>\n",
              "      <td>...</td>\n",
              "      <td>Private room</td>\n",
              "      <td>1.5 shared baths</td>\n",
              "      <td>[\"Free parking on premises\", \"Refrigerator\", \"...</td>\n",
              "      <td>$47.00</td>\n",
              "      <td>t</td>\n",
              "      <td>31/03/2023</td>\n",
              "      <td>01/08/2013</td>\n",
              "      <td>26/06/2022</td>\n",
              "      <td>NaN</td>\n",
              "      <td>f</td>\n",
              "    </tr>\n",
              "    <tr>\n",
              "      <th>2</th>\n",
              "      <td>https://www.airbnb.com/rooms/1212820</td>\n",
              "      <td>01/04/2023</td>\n",
              "      <td>city scrape</td>\n",
              "      <td>Apartment port de rei stunning wiew</td>\n",
              "      <td>&lt;b&gt;The space&lt;/b&gt;&lt;br /&gt;Apartments first line un...</td>\n",
              "      <td>NaN</td>\n",
              "      <td>https://a0.muscache.com/pictures/18245529/0886...</td>\n",
              "      <td>https://www.airbnb.com/users/show/6620645</td>\n",
              "      <td>Myriam</td>\n",
              "      <td>28/05/2013</td>\n",
              "      <td>...</td>\n",
              "      <td>Entire home/apt</td>\n",
              "      <td>1 bath</td>\n",
              "      <td>[\"Air conditioning\", \"Free parking on premises...</td>\n",
              "      <td>$74.00</td>\n",
              "      <td>t</td>\n",
              "      <td>01/04/2023</td>\n",
              "      <td>10/06/2013</td>\n",
              "      <td>30/12/2022</td>\n",
              "      <td>NaN</td>\n",
              "      <td>f</td>\n",
              "    </tr>\n",
              "    <tr>\n",
              "      <th>3</th>\n",
              "      <td>https://www.airbnb.com/rooms/751638</td>\n",
              "      <td>31/03/2023</td>\n",
              "      <td>city scrape</td>\n",
              "      <td>Room Limon - Casa Pati de lÂ´Albera</td>\n",
              "      <td>&lt;b&gt;The space&lt;/b&gt;&lt;br /&gt;Nice room with 2 individ...</td>\n",
              "      <td>Sant Climent is a tiny village, with a populat...</td>\n",
              "      <td>https://a0.muscache.com/pictures/64276178/98d1...</td>\n",
              "      <td>https://www.airbnb.com/users/show/3680160</td>\n",
              "      <td>Roberto</td>\n",
              "      <td>26/09/2012</td>\n",
              "      <td>...</td>\n",
              "      <td>Private room</td>\n",
              "      <td>1 private bath</td>\n",
              "      <td>[\"Hair dryer\", \"Luggage dropoff allowed\", \"Fre...</td>\n",
              "      <td>$45.00</td>\n",
              "      <td>t</td>\n",
              "      <td>31/03/2023</td>\n",
              "      <td>23/08/2013</td>\n",
              "      <td>29/08/2022</td>\n",
              "      <td>PG000794</td>\n",
              "      <td>t</td>\n",
              "    </tr>\n",
              "    <tr>\n",
              "      <th>4</th>\n",
              "      <td>https://www.airbnb.com/rooms/41342</td>\n",
              "      <td>01/04/2023</td>\n",
              "      <td>previous scrape</td>\n",
              "      <td>Beachfront Tamariua (Costa Brava)</td>\n",
              "      <td>A little paradise by the sea. Apartment 2/4 ad...</td>\n",
              "      <td>Apartment located outside the town on a small ...</td>\n",
              "      <td>https://a0.muscache.com/pictures/70414801/59d4...</td>\n",
              "      <td>https://www.airbnb.com/users/show/180072</td>\n",
              "      <td>Marisa</td>\n",
              "      <td>25/07/2010</td>\n",
              "      <td>...</td>\n",
              "      <td>Entire home/apt</td>\n",
              "      <td>1 bath</td>\n",
              "      <td>[\"Free parking on premises\", \"Refrigerator\", \"...</td>\n",
              "      <td>$120.00</td>\n",
              "      <td>t</td>\n",
              "      <td>01/04/2023</td>\n",
              "      <td>14/07/2013</td>\n",
              "      <td>28/08/2021</td>\n",
              "      <td>HUTG-003688</td>\n",
              "      <td>f</td>\n",
              "    </tr>\n",
              "  </tbody>\n",
              "</table>\n",
              "<p>5 rows × 35 columns</p>\n",
              "</div>\n",
              "      <button class=\"colab-df-convert\" onclick=\"convertToInteractive('df-4396acbf-b177-45b5-97cb-3756b234303d')\"\n",
              "              title=\"Convert this dataframe to an interactive table.\"\n",
              "              style=\"display:none;\">\n",
              "        \n",
              "  <svg xmlns=\"http://www.w3.org/2000/svg\" height=\"24px\"viewBox=\"0 0 24 24\"\n",
              "       width=\"24px\">\n",
              "    <path d=\"M0 0h24v24H0V0z\" fill=\"none\"/>\n",
              "    <path d=\"M18.56 5.44l.94 2.06.94-2.06 2.06-.94-2.06-.94-.94-2.06-.94 2.06-2.06.94zm-11 1L8.5 8.5l.94-2.06 2.06-.94-2.06-.94L8.5 2.5l-.94 2.06-2.06.94zm10 10l.94 2.06.94-2.06 2.06-.94-2.06-.94-.94-2.06-.94 2.06-2.06.94z\"/><path d=\"M17.41 7.96l-1.37-1.37c-.4-.4-.92-.59-1.43-.59-.52 0-1.04.2-1.43.59L10.3 9.45l-7.72 7.72c-.78.78-.78 2.05 0 2.83L4 21.41c.39.39.9.59 1.41.59.51 0 1.02-.2 1.41-.59l7.78-7.78 2.81-2.81c.8-.78.8-2.07 0-2.86zM5.41 20L4 18.59l7.72-7.72 1.47 1.35L5.41 20z\"/>\n",
              "  </svg>\n",
              "      </button>\n",
              "      \n",
              "  <style>\n",
              "    .colab-df-container {\n",
              "      display:flex;\n",
              "      flex-wrap:wrap;\n",
              "      gap: 12px;\n",
              "    }\n",
              "\n",
              "    .colab-df-convert {\n",
              "      background-color: #E8F0FE;\n",
              "      border: none;\n",
              "      border-radius: 50%;\n",
              "      cursor: pointer;\n",
              "      display: none;\n",
              "      fill: #1967D2;\n",
              "      height: 32px;\n",
              "      padding: 0 0 0 0;\n",
              "      width: 32px;\n",
              "    }\n",
              "\n",
              "    .colab-df-convert:hover {\n",
              "      background-color: #E2EBFA;\n",
              "      box-shadow: 0px 1px 2px rgba(60, 64, 67, 0.3), 0px 1px 3px 1px rgba(60, 64, 67, 0.15);\n",
              "      fill: #174EA6;\n",
              "    }\n",
              "\n",
              "    [theme=dark] .colab-df-convert {\n",
              "      background-color: #3B4455;\n",
              "      fill: #D2E3FC;\n",
              "    }\n",
              "\n",
              "    [theme=dark] .colab-df-convert:hover {\n",
              "      background-color: #434B5C;\n",
              "      box-shadow: 0px 1px 3px 1px rgba(0, 0, 0, 0.15);\n",
              "      filter: drop-shadow(0px 1px 2px rgba(0, 0, 0, 0.3));\n",
              "      fill: #FFFFFF;\n",
              "    }\n",
              "  </style>\n",
              "\n",
              "      <script>\n",
              "        const buttonEl =\n",
              "          document.querySelector('#df-4396acbf-b177-45b5-97cb-3756b234303d button.colab-df-convert');\n",
              "        buttonEl.style.display =\n",
              "          google.colab.kernel.accessAllowed ? 'block' : 'none';\n",
              "\n",
              "        async function convertToInteractive(key) {\n",
              "          const element = document.querySelector('#df-4396acbf-b177-45b5-97cb-3756b234303d');\n",
              "          const dataTable =\n",
              "            await google.colab.kernel.invokeFunction('convertToInteractive',\n",
              "                                                     [key], {});\n",
              "          if (!dataTable) return;\n",
              "\n",
              "          const docLinkHtml = 'Like what you see? Visit the ' +\n",
              "            '<a target=\"_blank\" href=https://colab.research.google.com/notebooks/data_table.ipynb>data table notebook</a>'\n",
              "            + ' to learn more about interactive tables.';\n",
              "          element.innerHTML = '';\n",
              "          dataTable['output_type'] = 'display_data';\n",
              "          await google.colab.output.renderOutput(dataTable, element);\n",
              "          const docLink = document.createElement('div');\n",
              "          docLink.innerHTML = docLinkHtml;\n",
              "          element.appendChild(docLink);\n",
              "        }\n",
              "      </script>\n",
              "    </div>\n",
              "  </div>\n",
              "  "
            ]
          },
          "metadata": {},
          "execution_count": 36
        }
      ]
    },
    {
      "cell_type": "code",
      "source": [
        "#Verificar la cantidad de valores nulos por columna en variables numéricas\n",
        "valores_nulos=espNum.isnull().sum()\n",
        "valores_nulos"
      ],
      "metadata": {
        "colab": {
          "base_uri": "https://localhost:8080/"
        },
        "outputId": "46fde5f3-93c5-4a7b-bd0c-d14a9d30d0ce",
        "id": "LK495rdDFRXj"
      },
      "execution_count": 37,
      "outputs": [
        {
          "output_type": "execute_result",
          "data": {
            "text/plain": [
              "id                                                  0\n",
              "scrape_id                                           0\n",
              "host_id                                             0\n",
              "host_listings_count                               117\n",
              "host_total_listings_count                         117\n",
              "neighbourhood_group_cleansed                    19655\n",
              "latitude                                            0\n",
              "longitude                                           0\n",
              "accommodates                                        0\n",
              "bathrooms                                       19655\n",
              "bedrooms                                          503\n",
              "beds                                               93\n",
              "minimum_nights                                      0\n",
              "maximum_nights                                      0\n",
              "minimum_minimum_nights                              1\n",
              "maximum_minimum_nights                              1\n",
              "minimum_maximum_nights                              1\n",
              "maximum_maximum_nights                              1\n",
              "minimum_nights_avg_ntm                              1\n",
              "maximum_nights_avg_ntm                              1\n",
              "calendar_updated                                19655\n",
              "availability_30                                     0\n",
              "availability_60                                     0\n",
              "availability_90                                     0\n",
              "availability_365                                    0\n",
              "number_of_reviews                                   0\n",
              "number_of_reviews_ltm                               0\n",
              "number_of_reviews_l30d                              0\n",
              "review_scores_rating                             5227\n",
              "review_scores_accuracy                           5285\n",
              "review_scores_cleanliness                        5283\n",
              "review_scores_checkin                            5284\n",
              "review_scores_communication                      5285\n",
              "review_scores_location                           5284\n",
              "review_scores_value                              5285\n",
              "calculated_host_listings_count                      0\n",
              "calculated_host_listings_count_entire_homes         0\n",
              "calculated_host_listings_count_private_rooms        0\n",
              "calculated_host_listings_count_shared_rooms         0\n",
              "reviews_per_month                                5227\n",
              "dtype: int64"
            ]
          },
          "metadata": {},
          "execution_count": 37
        }
      ]
    },
    {
      "cell_type": "code",
      "source": [
        "#Total de valores nulos en variables numéricas\n",
        "valores_nulos=espNum.isnull().sum().sum()\n",
        "valores_nulos"
      ],
      "metadata": {
        "colab": {
          "base_uri": "https://localhost:8080/"
        },
        "outputId": "1ed53d3f-bf91-42cd-86c9-0df857143ef1",
        "id": "OzZmfJ8CFRXj"
      },
      "execution_count": 38,
      "outputs": [
        {
          "output_type": "execute_result",
          "data": {
            "text/plain": [
              "101961"
            ]
          },
          "metadata": {},
          "execution_count": 38
        }
      ]
    },
    {
      "cell_type": "markdown",
      "source": [
        "Para la sustitución de valores nulos, como primer método se decidió utilizar el promedio de cada columna para llenar aquellos espacios vacíos, esto debido a que se trata de no perder la mayor cantidad de información posible. Realmente no se tiene conocimiento de qué valores deben ir en dichos espacios, pero tampoco se les debe asignar un cero, es por eso que para tener un mayor acercamiento al valor real, se le asigna el promedio de la columna."
      ],
      "metadata": {
        "id": "qbEOvYj6zfw6"
      }
    },
    {
      "cell_type": "code",
      "source": [
        "#Sustitución de valores nulos en variables numéricas por el promedio\n",
        "espNum=espNum.fillna(round(espNum.mean(),1))"
      ],
      "metadata": {
        "id": "9n1OVtyeFRXk"
      },
      "execution_count": 39,
      "outputs": []
    },
    {
      "cell_type": "code",
      "source": [
        "#Corroboración de valores nulos en variables numéricas\n",
        "valores_nulos=espNum.isnull().sum().sum()\n",
        "valores_nulos"
      ],
      "metadata": {
        "colab": {
          "base_uri": "https://localhost:8080/"
        },
        "outputId": "80f8dd1e-e972-4d82-c851-9a6c2acf074d",
        "id": "pEuVFDPhFRXk"
      },
      "execution_count": 40,
      "outputs": [
        {
          "output_type": "execute_result",
          "data": {
            "text/plain": [
              "58965"
            ]
          },
          "metadata": {},
          "execution_count": 40
        }
      ]
    },
    {
      "cell_type": "markdown",
      "source": [
        "Luego de corroborar los valores nulos  en las variables numéricas después de aplicar el primer método, se obtiene que aún hay presencia de estos, por lo que el siguiente método que se seleccionó es 'ffill' el cual se trata de sustituir los valores nulos por los valores posteriores a estos. Se escogió dicho método con la finalidad de evitar rellenar con ceros, y poder seguir asignando valores lo más parecidos a la información con la que se cuenta."
      ],
      "metadata": {
        "id": "MjawrMxuzfw6"
      }
    },
    {
      "cell_type": "code",
      "source": [
        "#Sustitución de valores nulos en variables numéricas por el valor posterior\n",
        "espNum=espNum.fillna('ffill')"
      ],
      "metadata": {
        "id": "j4wz-K8yzfw6"
      },
      "execution_count": 41,
      "outputs": []
    },
    {
      "cell_type": "code",
      "source": [
        "#Corroboración de valores nulos en variables numéricas\n",
        "valores_nulos=espNum.isnull().sum().sum()\n",
        "valores_nulos"
      ],
      "metadata": {
        "colab": {
          "base_uri": "https://localhost:8080/"
        },
        "outputId": "78cba144-9bc3-4dfe-ae3f-844c5e765e54",
        "id": "TRrfKtqIzfw6"
      },
      "execution_count": 42,
      "outputs": [
        {
          "output_type": "execute_result",
          "data": {
            "text/plain": [
              "0"
            ]
          },
          "metadata": {},
          "execution_count": 42
        }
      ]
    },
    {
      "cell_type": "code",
      "source": [
        "#Verificar la cantidad de valores nulos por columna en variables categóricas\n",
        "valores_nulos=espObj.isnull().sum()\n",
        "valores_nulos"
      ],
      "metadata": {
        "colab": {
          "base_uri": "https://localhost:8080/"
        },
        "outputId": "e8b9f139-8bae-4fc1-e648-7a91ee8bd394",
        "id": "vx_jm7vaFRXk"
      },
      "execution_count": 43,
      "outputs": [
        {
          "output_type": "execute_result",
          "data": {
            "text/plain": [
              "listing_url                   0\n",
              "last_scraped                  0\n",
              "source                        0\n",
              "name                          0\n",
              "description                  23\n",
              "neighborhood_overview     11313\n",
              "picture_url                   0\n",
              "host_url                      0\n",
              "host_name                   117\n",
              "host_since                  117\n",
              "host_location              5559\n",
              "host_about                 8424\n",
              "host_response_time         2088\n",
              "host_response_rate         2088\n",
              "host_acceptance_rate       1153\n",
              "host_is_superhost            15\n",
              "host_thumbnail_url          117\n",
              "host_picture_url            117\n",
              "host_neighbourhood        18386\n",
              "host_verifications            0\n",
              "host_has_profile_pic        117\n",
              "host_identity_verified      117\n",
              "neighbourhood             11313\n",
              "neighbourhood_cleansed        0\n",
              "property_type                 0\n",
              "room_type                     0\n",
              "bathrooms_text               16\n",
              "amenities                     0\n",
              "price                         0\n",
              "has_availability              0\n",
              "calendar_last_scraped         0\n",
              "first_review               5227\n",
              "last_review                5227\n",
              "license                    1135\n",
              "instant_bookable              0\n",
              "dtype: int64"
            ]
          },
          "metadata": {},
          "execution_count": 43
        }
      ]
    },
    {
      "cell_type": "code",
      "source": [
        "#Total de valores nulos en variables categóricas\n",
        "valores_nulos=espObj.isnull().sum().sum()\n",
        "valores_nulos"
      ],
      "metadata": {
        "colab": {
          "base_uri": "https://localhost:8080/"
        },
        "outputId": "17d07856-fe29-43ca-d542-b5c9f59fd06b",
        "id": "8RjYdw5YFRXk"
      },
      "execution_count": 44,
      "outputs": [
        {
          "output_type": "execute_result",
          "data": {
            "text/plain": [
              "72669"
            ]
          },
          "metadata": {},
          "execution_count": 44
        }
      ]
    },
    {
      "cell_type": "markdown",
      "source": [
        "Para las variables categóricas, se decidió sustituir los valores nulos por la leyenda 'Sin datos' ya que en dichas columnas los datos son de tipo objeto, de este modo se evita tener distintos tipos de datos en una sola columna."
      ],
      "metadata": {
        "id": "5Gzj-0zDzfw6"
      }
    },
    {
      "cell_type": "code",
      "source": [
        "#Sustitución de valores nulos en variables categóricas por la leyenda 'Sin datos'\n",
        "espObj=espObj.fillna('Sin datos')"
      ],
      "metadata": {
        "id": "rvqV2cMYFRXk"
      },
      "execution_count": 45,
      "outputs": []
    },
    {
      "cell_type": "code",
      "source": [
        "#Corroboración de valores nulos en variables categóricas\n",
        "valores_nulos=espObj.isnull().sum().sum()\n",
        "valores_nulos"
      ],
      "metadata": {
        "colab": {
          "base_uri": "https://localhost:8080/"
        },
        "outputId": "97d83721-5dba-48fb-fdbd-0f40fc132029",
        "id": "j2VsmlspFRXk"
      },
      "execution_count": 46,
      "outputs": [
        {
          "output_type": "execute_result",
          "data": {
            "text/plain": [
              "0"
            ]
          },
          "metadata": {},
          "execution_count": 46
        }
      ]
    },
    {
      "cell_type": "markdown",
      "source": [
        "## **ELIMINACIÓN DE OUTLIERS**"
      ],
      "metadata": {
        "id": "nf1LAGUd4IQ_"
      }
    },
    {
      "cell_type": "markdown",
      "source": [
        "### **Dataframe DF_Mexico**"
      ],
      "metadata": {
        "id": "AnhL63Y1pdvB"
      }
    },
    {
      "cell_type": "markdown",
      "source": [
        "Para la eliminación de outliers, se decidió aplicar el método de rango interquartílico (IQR) ya que comprende un rango más pequeño en comparación con el método de desviación estándar, lo cual permite eliminar un mayor número de valores atípicos. Cabe mencionar que es el procedimiento más empleado porque se usa para la generación de gráficas."
      ],
      "metadata": {
        "id": "_GcPULHx0vIq"
      }
    },
    {
      "cell_type": "code",
      "source": [
        "percentile25=mexicoNum.quantile(0.25) #Q1\n",
        "percentile75=mexicoNum.quantile(0.75) #Q3\n",
        "iqr= percentile75 - percentile25\n",
        "\n",
        "Limite_Superior_iqr= percentile75 + 1.5*iqr\n",
        "Limite_Inferior_iqr= percentile25 - 1.5*iqr\n",
        "\n",
        "#Obtenemos datos limpios del Dataframe\n",
        "mexicoNum_iqr= mexicoNum[(mexicoNum<=Limite_Superior_iqr)&(mexicoNum>=Limite_Inferior_iqr)]\n",
        "mexicoNum_iqr"
      ],
      "metadata": {
        "colab": {
          "base_uri": "https://localhost:8080/",
          "height": 594
        },
        "outputId": "b5b28ea7-42de-4773-9e82-2b5b7d0f2124",
        "id": "b0XeNeJJ5z65"
      },
      "execution_count": 64,
      "outputs": [
        {
          "output_type": "stream",
          "name": "stderr",
          "text": [
            "<ipython-input-64-f74f93f60ee7>:1: FutureWarning: The default value of numeric_only in DataFrame.quantile is deprecated. In a future version, it will default to False. Select only valid columns or specify the value of numeric_only to silence this warning.\n",
            "  percentile25=mexicoNum.quantile(0.25) #Q1\n",
            "<ipython-input-64-f74f93f60ee7>:2: FutureWarning: The default value of numeric_only in DataFrame.quantile is deprecated. In a future version, it will default to False. Select only valid columns or specify the value of numeric_only to silence this warning.\n",
            "  percentile75=mexicoNum.quantile(0.75) #Q3\n",
            "<ipython-input-64-f74f93f60ee7>:9: FutureWarning: Automatic reindexing on DataFrame vs Series comparisons is deprecated and will raise ValueError in a future version. Do `left, right = left.align(right, axis=1, copy=False)` before e.g. `left == right`\n",
            "  mexicoNum_iqr= mexicoNum[(mexicoNum<=Limite_Superior_iqr)&(mexicoNum>=Limite_Inferior_iqr)]\n"
          ]
        },
        {
          "output_type": "execute_result",
          "data": {
            "text/plain": [
              "                       id       scrape_id    host_id  host_listings_count  \\\n",
              "0                 2056638  20230329041210   10531228                  3.0   \n",
              "1                 2072354  20230329041210   16840050                  3.0   \n",
              "2                  696037  20230329041210    3531879                  4.0   \n",
              "3                   35797  20230329041210     153786                  1.0   \n",
              "4                   44616  20230329041210     196253                 16.0   \n",
              "...                   ...             ...        ...                  ...   \n",
              "24219  853923589855678923  20230329041210  488030249                  3.0   \n",
              "24220  853966732274073000  20230329041210  506816029                  1.0   \n",
              "24221  854225071295768399  20230329041210  154670560                  1.0   \n",
              "24222  854247693069190865  20230329041210    7799414                 13.0   \n",
              "24223  854260329845513725  20230329041210  506864314                  2.0   \n",
              "\n",
              "       host_total_listings_count neighbourhood_group_cleansed   latitude  \\\n",
              "0                            7.0                          NaN  19.353530   \n",
              "1                            3.0                          NaN  19.353580   \n",
              "2                            4.0                          NaN  19.441800   \n",
              "3                            1.0                          NaN  19.382830   \n",
              "4                           16.0                          NaN  19.411620   \n",
              "...                          ...                          ...        ...   \n",
              "24219                        4.0                          NaN  19.396663   \n",
              "24220                        1.0                          NaN  19.392023   \n",
              "24221                        6.0                          NaN  19.371088   \n",
              "24222                       13.0                          NaN  19.403792   \n",
              "24223                        2.0                          NaN  19.426283   \n",
              "\n",
              "       longitude  accommodates bathrooms  ...  review_scores_checkin  \\\n",
              "0     -99.162990           3.0       NaN  ...                   5.00   \n",
              "1     -99.169480           2.0       NaN  ...                   4.93   \n",
              "2     -99.184020           6.0       NaN  ...                   4.92   \n",
              "3            NaN           2.0       NaN  ...                   4.80   \n",
              "4     -99.177940           NaN       NaN  ...                   4.87   \n",
              "...          ...           ...       ...  ...                    ...   \n",
              "24219 -99.148145           2.0       NaN  ...                   4.80   \n",
              "24220 -99.118722           7.0       NaN  ...                   4.80   \n",
              "24221 -99.190186           2.0       NaN  ...                   4.80   \n",
              "24222 -99.164978           2.0       NaN  ...                   4.80   \n",
              "24223 -99.175603           6.0       NaN  ...                   4.80   \n",
              "\n",
              "       review_scores_communication  review_scores_location  \\\n",
              "0                             4.95                    5.00   \n",
              "1                             5.00                    4.95   \n",
              "2                             4.92                    4.58   \n",
              "3                             4.80                    4.80   \n",
              "4                             4.78                    4.98   \n",
              "...                            ...                     ...   \n",
              "24219                         4.80                    4.80   \n",
              "24220                         4.80                    4.80   \n",
              "24221                         4.80                    4.80   \n",
              "24222                         4.80                    4.80   \n",
              "24223                         4.80                    4.80   \n",
              "\n",
              "       review_scores_value  license  calculated_host_listings_count  \\\n",
              "0                     4.86      NaN                             3.0   \n",
              "1                     4.84      NaN                             2.0   \n",
              "2                     4.71      NaN                             3.0   \n",
              "3                     4.70      NaN                             1.0   \n",
              "4                     4.48      NaN                            12.0   \n",
              "...                    ...      ...                             ...   \n",
              "24219                 4.70      NaN                             2.0   \n",
              "24220                 4.70      NaN                             1.0   \n",
              "24221                 4.70      NaN                             1.0   \n",
              "24222                 4.70      NaN                            13.0   \n",
              "24223                 4.70      NaN                             2.0   \n",
              "\n",
              "       calculated_host_listings_count_entire_homes  \\\n",
              "0                                              3.0   \n",
              "1                                              2.0   \n",
              "2                                              3.0   \n",
              "3                                              1.0   \n",
              "4                                              3.0   \n",
              "...                                            ...   \n",
              "24219                                          2.0   \n",
              "24220                                          1.0   \n",
              "24221                                          0.0   \n",
              "24222                                         13.0   \n",
              "24223                                          2.0   \n",
              "\n",
              "       calculated_host_listings_count_private_rooms  \\\n",
              "0                                               0.0   \n",
              "1                                               0.0   \n",
              "2                                               0.0   \n",
              "3                                               0.0   \n",
              "4                                               2.0   \n",
              "...                                             ...   \n",
              "24219                                           0.0   \n",
              "24220                                           0.0   \n",
              "24221                                           1.0   \n",
              "24222                                           0.0   \n",
              "24223                                           0.0   \n",
              "\n",
              "       calculated_host_listings_count_shared_rooms  reviews_per_month  \n",
              "0                                              0.0               0.19  \n",
              "1                                              0.0               0.54  \n",
              "2                                              0.0               0.31  \n",
              "3                                              0.0               1.70  \n",
              "4                                              0.0               0.46  \n",
              "...                                            ...                ...  \n",
              "24219                                          0.0               1.70  \n",
              "24220                                          0.0               1.70  \n",
              "24221                                          0.0               1.70  \n",
              "24222                                          0.0               1.70  \n",
              "24223                                          0.0               1.70  \n",
              "\n",
              "[24224 rows x 41 columns]"
            ],
            "text/html": [
              "\n",
              "  <div id=\"df-fe5f6b44-710a-46f9-bf93-7a80ff4875a8\">\n",
              "    <div class=\"colab-df-container\">\n",
              "      <div>\n",
              "<style scoped>\n",
              "    .dataframe tbody tr th:only-of-type {\n",
              "        vertical-align: middle;\n",
              "    }\n",
              "\n",
              "    .dataframe tbody tr th {\n",
              "        vertical-align: top;\n",
              "    }\n",
              "\n",
              "    .dataframe thead th {\n",
              "        text-align: right;\n",
              "    }\n",
              "</style>\n",
              "<table border=\"1\" class=\"dataframe\">\n",
              "  <thead>\n",
              "    <tr style=\"text-align: right;\">\n",
              "      <th></th>\n",
              "      <th>id</th>\n",
              "      <th>scrape_id</th>\n",
              "      <th>host_id</th>\n",
              "      <th>host_listings_count</th>\n",
              "      <th>host_total_listings_count</th>\n",
              "      <th>neighbourhood_group_cleansed</th>\n",
              "      <th>latitude</th>\n",
              "      <th>longitude</th>\n",
              "      <th>accommodates</th>\n",
              "      <th>bathrooms</th>\n",
              "      <th>...</th>\n",
              "      <th>review_scores_checkin</th>\n",
              "      <th>review_scores_communication</th>\n",
              "      <th>review_scores_location</th>\n",
              "      <th>review_scores_value</th>\n",
              "      <th>license</th>\n",
              "      <th>calculated_host_listings_count</th>\n",
              "      <th>calculated_host_listings_count_entire_homes</th>\n",
              "      <th>calculated_host_listings_count_private_rooms</th>\n",
              "      <th>calculated_host_listings_count_shared_rooms</th>\n",
              "      <th>reviews_per_month</th>\n",
              "    </tr>\n",
              "  </thead>\n",
              "  <tbody>\n",
              "    <tr>\n",
              "      <th>0</th>\n",
              "      <td>2056638</td>\n",
              "      <td>20230329041210</td>\n",
              "      <td>10531228</td>\n",
              "      <td>3.0</td>\n",
              "      <td>7.0</td>\n",
              "      <td>NaN</td>\n",
              "      <td>19.353530</td>\n",
              "      <td>-99.162990</td>\n",
              "      <td>3.0</td>\n",
              "      <td>NaN</td>\n",
              "      <td>...</td>\n",
              "      <td>5.00</td>\n",
              "      <td>4.95</td>\n",
              "      <td>5.00</td>\n",
              "      <td>4.86</td>\n",
              "      <td>NaN</td>\n",
              "      <td>3.0</td>\n",
              "      <td>3.0</td>\n",
              "      <td>0.0</td>\n",
              "      <td>0.0</td>\n",
              "      <td>0.19</td>\n",
              "    </tr>\n",
              "    <tr>\n",
              "      <th>1</th>\n",
              "      <td>2072354</td>\n",
              "      <td>20230329041210</td>\n",
              "      <td>16840050</td>\n",
              "      <td>3.0</td>\n",
              "      <td>3.0</td>\n",
              "      <td>NaN</td>\n",
              "      <td>19.353580</td>\n",
              "      <td>-99.169480</td>\n",
              "      <td>2.0</td>\n",
              "      <td>NaN</td>\n",
              "      <td>...</td>\n",
              "      <td>4.93</td>\n",
              "      <td>5.00</td>\n",
              "      <td>4.95</td>\n",
              "      <td>4.84</td>\n",
              "      <td>NaN</td>\n",
              "      <td>2.0</td>\n",
              "      <td>2.0</td>\n",
              "      <td>0.0</td>\n",
              "      <td>0.0</td>\n",
              "      <td>0.54</td>\n",
              "    </tr>\n",
              "    <tr>\n",
              "      <th>2</th>\n",
              "      <td>696037</td>\n",
              "      <td>20230329041210</td>\n",
              "      <td>3531879</td>\n",
              "      <td>4.0</td>\n",
              "      <td>4.0</td>\n",
              "      <td>NaN</td>\n",
              "      <td>19.441800</td>\n",
              "      <td>-99.184020</td>\n",
              "      <td>6.0</td>\n",
              "      <td>NaN</td>\n",
              "      <td>...</td>\n",
              "      <td>4.92</td>\n",
              "      <td>4.92</td>\n",
              "      <td>4.58</td>\n",
              "      <td>4.71</td>\n",
              "      <td>NaN</td>\n",
              "      <td>3.0</td>\n",
              "      <td>3.0</td>\n",
              "      <td>0.0</td>\n",
              "      <td>0.0</td>\n",
              "      <td>0.31</td>\n",
              "    </tr>\n",
              "    <tr>\n",
              "      <th>3</th>\n",
              "      <td>35797</td>\n",
              "      <td>20230329041210</td>\n",
              "      <td>153786</td>\n",
              "      <td>1.0</td>\n",
              "      <td>1.0</td>\n",
              "      <td>NaN</td>\n",
              "      <td>19.382830</td>\n",
              "      <td>NaN</td>\n",
              "      <td>2.0</td>\n",
              "      <td>NaN</td>\n",
              "      <td>...</td>\n",
              "      <td>4.80</td>\n",
              "      <td>4.80</td>\n",
              "      <td>4.80</td>\n",
              "      <td>4.70</td>\n",
              "      <td>NaN</td>\n",
              "      <td>1.0</td>\n",
              "      <td>1.0</td>\n",
              "      <td>0.0</td>\n",
              "      <td>0.0</td>\n",
              "      <td>1.70</td>\n",
              "    </tr>\n",
              "    <tr>\n",
              "      <th>4</th>\n",
              "      <td>44616</td>\n",
              "      <td>20230329041210</td>\n",
              "      <td>196253</td>\n",
              "      <td>16.0</td>\n",
              "      <td>16.0</td>\n",
              "      <td>NaN</td>\n",
              "      <td>19.411620</td>\n",
              "      <td>-99.177940</td>\n",
              "      <td>NaN</td>\n",
              "      <td>NaN</td>\n",
              "      <td>...</td>\n",
              "      <td>4.87</td>\n",
              "      <td>4.78</td>\n",
              "      <td>4.98</td>\n",
              "      <td>4.48</td>\n",
              "      <td>NaN</td>\n",
              "      <td>12.0</td>\n",
              "      <td>3.0</td>\n",
              "      <td>2.0</td>\n",
              "      <td>0.0</td>\n",
              "      <td>0.46</td>\n",
              "    </tr>\n",
              "    <tr>\n",
              "      <th>...</th>\n",
              "      <td>...</td>\n",
              "      <td>...</td>\n",
              "      <td>...</td>\n",
              "      <td>...</td>\n",
              "      <td>...</td>\n",
              "      <td>...</td>\n",
              "      <td>...</td>\n",
              "      <td>...</td>\n",
              "      <td>...</td>\n",
              "      <td>...</td>\n",
              "      <td>...</td>\n",
              "      <td>...</td>\n",
              "      <td>...</td>\n",
              "      <td>...</td>\n",
              "      <td>...</td>\n",
              "      <td>...</td>\n",
              "      <td>...</td>\n",
              "      <td>...</td>\n",
              "      <td>...</td>\n",
              "      <td>...</td>\n",
              "      <td>...</td>\n",
              "    </tr>\n",
              "    <tr>\n",
              "      <th>24219</th>\n",
              "      <td>853923589855678923</td>\n",
              "      <td>20230329041210</td>\n",
              "      <td>488030249</td>\n",
              "      <td>3.0</td>\n",
              "      <td>4.0</td>\n",
              "      <td>NaN</td>\n",
              "      <td>19.396663</td>\n",
              "      <td>-99.148145</td>\n",
              "      <td>2.0</td>\n",
              "      <td>NaN</td>\n",
              "      <td>...</td>\n",
              "      <td>4.80</td>\n",
              "      <td>4.80</td>\n",
              "      <td>4.80</td>\n",
              "      <td>4.70</td>\n",
              "      <td>NaN</td>\n",
              "      <td>2.0</td>\n",
              "      <td>2.0</td>\n",
              "      <td>0.0</td>\n",
              "      <td>0.0</td>\n",
              "      <td>1.70</td>\n",
              "    </tr>\n",
              "    <tr>\n",
              "      <th>24220</th>\n",
              "      <td>853966732274073000</td>\n",
              "      <td>20230329041210</td>\n",
              "      <td>506816029</td>\n",
              "      <td>1.0</td>\n",
              "      <td>1.0</td>\n",
              "      <td>NaN</td>\n",
              "      <td>19.392023</td>\n",
              "      <td>-99.118722</td>\n",
              "      <td>7.0</td>\n",
              "      <td>NaN</td>\n",
              "      <td>...</td>\n",
              "      <td>4.80</td>\n",
              "      <td>4.80</td>\n",
              "      <td>4.80</td>\n",
              "      <td>4.70</td>\n",
              "      <td>NaN</td>\n",
              "      <td>1.0</td>\n",
              "      <td>1.0</td>\n",
              "      <td>0.0</td>\n",
              "      <td>0.0</td>\n",
              "      <td>1.70</td>\n",
              "    </tr>\n",
              "    <tr>\n",
              "      <th>24221</th>\n",
              "      <td>854225071295768399</td>\n",
              "      <td>20230329041210</td>\n",
              "      <td>154670560</td>\n",
              "      <td>1.0</td>\n",
              "      <td>6.0</td>\n",
              "      <td>NaN</td>\n",
              "      <td>19.371088</td>\n",
              "      <td>-99.190186</td>\n",
              "      <td>2.0</td>\n",
              "      <td>NaN</td>\n",
              "      <td>...</td>\n",
              "      <td>4.80</td>\n",
              "      <td>4.80</td>\n",
              "      <td>4.80</td>\n",
              "      <td>4.70</td>\n",
              "      <td>NaN</td>\n",
              "      <td>1.0</td>\n",
              "      <td>0.0</td>\n",
              "      <td>1.0</td>\n",
              "      <td>0.0</td>\n",
              "      <td>1.70</td>\n",
              "    </tr>\n",
              "    <tr>\n",
              "      <th>24222</th>\n",
              "      <td>854247693069190865</td>\n",
              "      <td>20230329041210</td>\n",
              "      <td>7799414</td>\n",
              "      <td>13.0</td>\n",
              "      <td>13.0</td>\n",
              "      <td>NaN</td>\n",
              "      <td>19.403792</td>\n",
              "      <td>-99.164978</td>\n",
              "      <td>2.0</td>\n",
              "      <td>NaN</td>\n",
              "      <td>...</td>\n",
              "      <td>4.80</td>\n",
              "      <td>4.80</td>\n",
              "      <td>4.80</td>\n",
              "      <td>4.70</td>\n",
              "      <td>NaN</td>\n",
              "      <td>13.0</td>\n",
              "      <td>13.0</td>\n",
              "      <td>0.0</td>\n",
              "      <td>0.0</td>\n",
              "      <td>1.70</td>\n",
              "    </tr>\n",
              "    <tr>\n",
              "      <th>24223</th>\n",
              "      <td>854260329845513725</td>\n",
              "      <td>20230329041210</td>\n",
              "      <td>506864314</td>\n",
              "      <td>2.0</td>\n",
              "      <td>2.0</td>\n",
              "      <td>NaN</td>\n",
              "      <td>19.426283</td>\n",
              "      <td>-99.175603</td>\n",
              "      <td>6.0</td>\n",
              "      <td>NaN</td>\n",
              "      <td>...</td>\n",
              "      <td>4.80</td>\n",
              "      <td>4.80</td>\n",
              "      <td>4.80</td>\n",
              "      <td>4.70</td>\n",
              "      <td>NaN</td>\n",
              "      <td>2.0</td>\n",
              "      <td>2.0</td>\n",
              "      <td>0.0</td>\n",
              "      <td>0.0</td>\n",
              "      <td>1.70</td>\n",
              "    </tr>\n",
              "  </tbody>\n",
              "</table>\n",
              "<p>24224 rows × 41 columns</p>\n",
              "</div>\n",
              "      <button class=\"colab-df-convert\" onclick=\"convertToInteractive('df-fe5f6b44-710a-46f9-bf93-7a80ff4875a8')\"\n",
              "              title=\"Convert this dataframe to an interactive table.\"\n",
              "              style=\"display:none;\">\n",
              "        \n",
              "  <svg xmlns=\"http://www.w3.org/2000/svg\" height=\"24px\"viewBox=\"0 0 24 24\"\n",
              "       width=\"24px\">\n",
              "    <path d=\"M0 0h24v24H0V0z\" fill=\"none\"/>\n",
              "    <path d=\"M18.56 5.44l.94 2.06.94-2.06 2.06-.94-2.06-.94-.94-2.06-.94 2.06-2.06.94zm-11 1L8.5 8.5l.94-2.06 2.06-.94-2.06-.94L8.5 2.5l-.94 2.06-2.06.94zm10 10l.94 2.06.94-2.06 2.06-.94-2.06-.94-.94-2.06-.94 2.06-2.06.94z\"/><path d=\"M17.41 7.96l-1.37-1.37c-.4-.4-.92-.59-1.43-.59-.52 0-1.04.2-1.43.59L10.3 9.45l-7.72 7.72c-.78.78-.78 2.05 0 2.83L4 21.41c.39.39.9.59 1.41.59.51 0 1.02-.2 1.41-.59l7.78-7.78 2.81-2.81c.8-.78.8-2.07 0-2.86zM5.41 20L4 18.59l7.72-7.72 1.47 1.35L5.41 20z\"/>\n",
              "  </svg>\n",
              "      </button>\n",
              "      \n",
              "  <style>\n",
              "    .colab-df-container {\n",
              "      display:flex;\n",
              "      flex-wrap:wrap;\n",
              "      gap: 12px;\n",
              "    }\n",
              "\n",
              "    .colab-df-convert {\n",
              "      background-color: #E8F0FE;\n",
              "      border: none;\n",
              "      border-radius: 50%;\n",
              "      cursor: pointer;\n",
              "      display: none;\n",
              "      fill: #1967D2;\n",
              "      height: 32px;\n",
              "      padding: 0 0 0 0;\n",
              "      width: 32px;\n",
              "    }\n",
              "\n",
              "    .colab-df-convert:hover {\n",
              "      background-color: #E2EBFA;\n",
              "      box-shadow: 0px 1px 2px rgba(60, 64, 67, 0.3), 0px 1px 3px 1px rgba(60, 64, 67, 0.15);\n",
              "      fill: #174EA6;\n",
              "    }\n",
              "\n",
              "    [theme=dark] .colab-df-convert {\n",
              "      background-color: #3B4455;\n",
              "      fill: #D2E3FC;\n",
              "    }\n",
              "\n",
              "    [theme=dark] .colab-df-convert:hover {\n",
              "      background-color: #434B5C;\n",
              "      box-shadow: 0px 1px 3px 1px rgba(0, 0, 0, 0.15);\n",
              "      filter: drop-shadow(0px 1px 2px rgba(0, 0, 0, 0.3));\n",
              "      fill: #FFFFFF;\n",
              "    }\n",
              "  </style>\n",
              "\n",
              "      <script>\n",
              "        const buttonEl =\n",
              "          document.querySelector('#df-fe5f6b44-710a-46f9-bf93-7a80ff4875a8 button.colab-df-convert');\n",
              "        buttonEl.style.display =\n",
              "          google.colab.kernel.accessAllowed ? 'block' : 'none';\n",
              "\n",
              "        async function convertToInteractive(key) {\n",
              "          const element = document.querySelector('#df-fe5f6b44-710a-46f9-bf93-7a80ff4875a8');\n",
              "          const dataTable =\n",
              "            await google.colab.kernel.invokeFunction('convertToInteractive',\n",
              "                                                     [key], {});\n",
              "          if (!dataTable) return;\n",
              "\n",
              "          const docLinkHtml = 'Like what you see? Visit the ' +\n",
              "            '<a target=\"_blank\" href=https://colab.research.google.com/notebooks/data_table.ipynb>data table notebook</a>'\n",
              "            + ' to learn more about interactive tables.';\n",
              "          element.innerHTML = '';\n",
              "          dataTable['output_type'] = 'display_data';\n",
              "          await google.colab.output.renderOutput(dataTable, element);\n",
              "          const docLink = document.createElement('div');\n",
              "          docLink.innerHTML = docLinkHtml;\n",
              "          element.appendChild(docLink);\n",
              "        }\n",
              "      </script>\n",
              "    </div>\n",
              "  </div>\n",
              "  "
            ]
          },
          "metadata": {},
          "execution_count": 64
        }
      ]
    },
    {
      "cell_type": "code",
      "source": [
        "mexicoNum_iqr.isnull().sum()"
      ],
      "metadata": {
        "colab": {
          "base_uri": "https://localhost:8080/"
        },
        "outputId": "5f54d672-393d-4961-e9e1-2f9781c333b6",
        "id": "tso11F0V5z66"
      },
      "execution_count": 65,
      "outputs": [
        {
          "output_type": "execute_result",
          "data": {
            "text/plain": [
              "id                                                  0\n",
              "scrape_id                                           0\n",
              "host_id                                             0\n",
              "host_listings_count                              3324\n",
              "host_total_listings_count                        3453\n",
              "neighbourhood_group_cleansed                    24224\n",
              "latitude                                         1490\n",
              "longitude                                        2594\n",
              "accommodates                                     1090\n",
              "bathrooms                                       24224\n",
              "bedrooms                                          640\n",
              "beds                                             2347\n",
              "minimum_nights                                   3195\n",
              "maximum_nights                                      1\n",
              "minimum_minimum_nights                           3082\n",
              "maximum_minimum_nights                           1895\n",
              "minimum_maximum_nights                              5\n",
              "maximum_maximum_nights                              6\n",
              "minimum_nights_avg_ntm                           1929\n",
              "maximum_nights_avg_ntm                              6\n",
              "calendar_updated                                24224\n",
              "availability_30                                     0\n",
              "availability_60                                     0\n",
              "availability_90                                     0\n",
              "availability_365                                    0\n",
              "number_of_reviews                                2308\n",
              "number_of_reviews_ltm                            1519\n",
              "number_of_reviews_l30d                            784\n",
              "review_scores_rating                             1588\n",
              "review_scores_accuracy                           2150\n",
              "review_scores_cleanliness                        1510\n",
              "review_scores_checkin                            1226\n",
              "review_scores_communication                      1498\n",
              "review_scores_location                           1209\n",
              "review_scores_value                              1859\n",
              "license                                         24224\n",
              "calculated_host_listings_count                   3224\n",
              "calculated_host_listings_count_entire_homes      3444\n",
              "calculated_host_listings_count_private_rooms     3076\n",
              "calculated_host_listings_count_shared_rooms       576\n",
              "reviews_per_month                                1373\n",
              "dtype: int64"
            ]
          },
          "metadata": {},
          "execution_count": 65
        }
      ]
    },
    {
      "cell_type": "code",
      "source": [
        "mexicoNum_iqr = mexicoNum_iqr.fillna(round(mexicoNum_iqr.mean(),1))\n",
        "# Eliminación de columnas que no contienen ningún dato\n",
        "mexicoNum_iqr = mexicoNum_iqr.drop(['neighbourhood_group_cleansed','bathrooms','calendar_updated','license'], axis = 1)\n",
        "mexicoNum_iqr.isnull().sum()"
      ],
      "metadata": {
        "colab": {
          "base_uri": "https://localhost:8080/"
        },
        "outputId": "145f73c6-f2e2-465f-e967-f547a76112a8",
        "id": "3MTS5djH5z66"
      },
      "execution_count": 66,
      "outputs": [
        {
          "output_type": "execute_result",
          "data": {
            "text/plain": [
              "id                                              0\n",
              "scrape_id                                       0\n",
              "host_id                                         0\n",
              "host_listings_count                             0\n",
              "host_total_listings_count                       0\n",
              "latitude                                        0\n",
              "longitude                                       0\n",
              "accommodates                                    0\n",
              "bedrooms                                        0\n",
              "beds                                            0\n",
              "minimum_nights                                  0\n",
              "maximum_nights                                  0\n",
              "minimum_minimum_nights                          0\n",
              "maximum_minimum_nights                          0\n",
              "minimum_maximum_nights                          0\n",
              "maximum_maximum_nights                          0\n",
              "minimum_nights_avg_ntm                          0\n",
              "maximum_nights_avg_ntm                          0\n",
              "availability_30                                 0\n",
              "availability_60                                 0\n",
              "availability_90                                 0\n",
              "availability_365                                0\n",
              "number_of_reviews                               0\n",
              "number_of_reviews_ltm                           0\n",
              "number_of_reviews_l30d                          0\n",
              "review_scores_rating                            0\n",
              "review_scores_accuracy                          0\n",
              "review_scores_cleanliness                       0\n",
              "review_scores_checkin                           0\n",
              "review_scores_communication                     0\n",
              "review_scores_location                          0\n",
              "review_scores_value                             0\n",
              "calculated_host_listings_count                  0\n",
              "calculated_host_listings_count_entire_homes     0\n",
              "calculated_host_listings_count_private_rooms    0\n",
              "calculated_host_listings_count_shared_rooms     0\n",
              "reviews_per_month                               0\n",
              "dtype: int64"
            ]
          },
          "metadata": {},
          "execution_count": 66
        }
      ]
    },
    {
      "cell_type": "code",
      "source": [
        "mexico = pd.concat([mexicoObj,mexicoNum_iqr], axis=1)\n",
        "mexico.head()"
      ],
      "metadata": {
        "colab": {
          "base_uri": "https://localhost:8080/",
          "height": 612
        },
        "outputId": "07330910-0610-4a93-ef8c-785951a4c775",
        "id": "mnqVVZtK5z66"
      },
      "execution_count": 67,
      "outputs": [
        {
          "output_type": "execute_result",
          "data": {
            "text/plain": [
              "                            listing_url last_scraped       source  \\\n",
              "0  https://www.airbnb.com/rooms/2056638   2023-03-30  city scrape   \n",
              "1  https://www.airbnb.com/rooms/2072354   2023-03-30  city scrape   \n",
              "2   https://www.airbnb.com/rooms/696037   2023-03-29  city scrape   \n",
              "3    https://www.airbnb.com/rooms/35797   2023-03-29  city scrape   \n",
              "4    https://www.airbnb.com/rooms/44616   2023-03-30  city scrape   \n",
              "\n",
              "                                                name  \\\n",
              "0                 Amplio y luminoso loft en Coyoacán   \n",
              "1                 Coyoacan Historic Studio Apartment   \n",
              "2  3 Bedrooms, 2 blocks from Polanco - ALL RENOVA...   \n",
              "3                                        Villa Dante   \n",
              "4                                  CONDESA HAUS  B&B   \n",
              "\n",
              "                                         description  \\\n",
              "0  Cómodo loft de dos pisos magníficamente ubicad...   \n",
              "1  This studio flat is adjacent to the owner's ho...   \n",
              "2  Beautifully decorated 3 bedroom apartment, it ...   \n",
              "3  Dentro de Villa un estudio de arte con futon, ...   \n",
              "4  A new concept of hosting in mexico through a b...   \n",
              "\n",
              "                               neighborhood_overview  \\\n",
              "0                                          Sin datos   \n",
              "1  Located in Coyoacan, in a quiet neighborhood w...   \n",
              "2  This area is called Nuevo Polanco, it has bein...   \n",
              "3  Centro comercial Santa Fe, parque interlomas y...   \n",
              "4                                          Sin datos   \n",
              "\n",
              "                                         picture_url  \\\n",
              "0  https://a0.muscache.com/pictures/28353712/4379...   \n",
              "1  https://a0.muscache.com/pictures/369f3371-593a...   \n",
              "2  https://a0.muscache.com/pictures/10960397/67b2...   \n",
              "3  https://a0.muscache.com/pictures/f395ab78-1185...   \n",
              "4  https://a0.muscache.com/pictures/251410/ec75fe...   \n",
              "\n",
              "                                     host_url  \\\n",
              "0  https://www.airbnb.com/users/show/10531228   \n",
              "1  https://www.airbnb.com/users/show/16840050   \n",
              "2   https://www.airbnb.com/users/show/3531879   \n",
              "3    https://www.airbnb.com/users/show/153786   \n",
              "4    https://www.airbnb.com/users/show/196253   \n",
              "\n",
              "                            host_name  host_since  ...  \\\n",
              "0                               Maria  2013-12-09  ...   \n",
              "1                              Mónica  2014-06-16  ...   \n",
              "2                    Gonzalo & Sandra  2012-09-10  ...   \n",
              "3                                Dici  2010-06-28  ...   \n",
              "4  Condesa Haus Bed & Breakfast  CDMX  2010-08-09  ...   \n",
              "\n",
              "  review_scores_cleanliness review_scores_checkin review_scores_communication  \\\n",
              "0                      4.95                  5.00                        4.95   \n",
              "1                      4.88                  4.93                        5.00   \n",
              "2                      4.71                  4.92                        4.92   \n",
              "3                      4.70                  4.80                        4.80   \n",
              "4                      4.70                  4.87                        4.78   \n",
              "\n",
              "  review_scores_location review_scores_value calculated_host_listings_count  \\\n",
              "0                   5.00                4.86                            3.0   \n",
              "1                   4.95                4.84                            2.0   \n",
              "2                   4.58                4.71                            3.0   \n",
              "3                   4.80                4.70                            1.0   \n",
              "4                   4.98                4.48                           12.0   \n",
              "\n",
              "  calculated_host_listings_count_entire_homes  \\\n",
              "0                                         3.0   \n",
              "1                                         2.0   \n",
              "2                                         3.0   \n",
              "3                                         1.0   \n",
              "4                                         3.0   \n",
              "\n",
              "  calculated_host_listings_count_private_rooms  \\\n",
              "0                                          0.0   \n",
              "1                                          0.0   \n",
              "2                                          0.0   \n",
              "3                                          0.0   \n",
              "4                                          2.0   \n",
              "\n",
              "  calculated_host_listings_count_shared_rooms reviews_per_month  \n",
              "0                                         0.0              0.19  \n",
              "1                                         0.0              0.54  \n",
              "2                                         0.0              0.31  \n",
              "3                                         0.0              1.70  \n",
              "4                                         0.0              0.46  \n",
              "\n",
              "[5 rows x 71 columns]"
            ],
            "text/html": [
              "\n",
              "  <div id=\"df-fbdc2fb5-dcbd-401c-bb2c-a8d3512112e5\">\n",
              "    <div class=\"colab-df-container\">\n",
              "      <div>\n",
              "<style scoped>\n",
              "    .dataframe tbody tr th:only-of-type {\n",
              "        vertical-align: middle;\n",
              "    }\n",
              "\n",
              "    .dataframe tbody tr th {\n",
              "        vertical-align: top;\n",
              "    }\n",
              "\n",
              "    .dataframe thead th {\n",
              "        text-align: right;\n",
              "    }\n",
              "</style>\n",
              "<table border=\"1\" class=\"dataframe\">\n",
              "  <thead>\n",
              "    <tr style=\"text-align: right;\">\n",
              "      <th></th>\n",
              "      <th>listing_url</th>\n",
              "      <th>last_scraped</th>\n",
              "      <th>source</th>\n",
              "      <th>name</th>\n",
              "      <th>description</th>\n",
              "      <th>neighborhood_overview</th>\n",
              "      <th>picture_url</th>\n",
              "      <th>host_url</th>\n",
              "      <th>host_name</th>\n",
              "      <th>host_since</th>\n",
              "      <th>...</th>\n",
              "      <th>review_scores_cleanliness</th>\n",
              "      <th>review_scores_checkin</th>\n",
              "      <th>review_scores_communication</th>\n",
              "      <th>review_scores_location</th>\n",
              "      <th>review_scores_value</th>\n",
              "      <th>calculated_host_listings_count</th>\n",
              "      <th>calculated_host_listings_count_entire_homes</th>\n",
              "      <th>calculated_host_listings_count_private_rooms</th>\n",
              "      <th>calculated_host_listings_count_shared_rooms</th>\n",
              "      <th>reviews_per_month</th>\n",
              "    </tr>\n",
              "  </thead>\n",
              "  <tbody>\n",
              "    <tr>\n",
              "      <th>0</th>\n",
              "      <td>https://www.airbnb.com/rooms/2056638</td>\n",
              "      <td>2023-03-30</td>\n",
              "      <td>city scrape</td>\n",
              "      <td>Amplio y luminoso loft en Coyoacán</td>\n",
              "      <td>Cómodo loft de dos pisos magníficamente ubicad...</td>\n",
              "      <td>Sin datos</td>\n",
              "      <td>https://a0.muscache.com/pictures/28353712/4379...</td>\n",
              "      <td>https://www.airbnb.com/users/show/10531228</td>\n",
              "      <td>Maria</td>\n",
              "      <td>2013-12-09</td>\n",
              "      <td>...</td>\n",
              "      <td>4.95</td>\n",
              "      <td>5.00</td>\n",
              "      <td>4.95</td>\n",
              "      <td>5.00</td>\n",
              "      <td>4.86</td>\n",
              "      <td>3.0</td>\n",
              "      <td>3.0</td>\n",
              "      <td>0.0</td>\n",
              "      <td>0.0</td>\n",
              "      <td>0.19</td>\n",
              "    </tr>\n",
              "    <tr>\n",
              "      <th>1</th>\n",
              "      <td>https://www.airbnb.com/rooms/2072354</td>\n",
              "      <td>2023-03-30</td>\n",
              "      <td>city scrape</td>\n",
              "      <td>Coyoacan Historic Studio Apartment</td>\n",
              "      <td>This studio flat is adjacent to the owner's ho...</td>\n",
              "      <td>Located in Coyoacan, in a quiet neighborhood w...</td>\n",
              "      <td>https://a0.muscache.com/pictures/369f3371-593a...</td>\n",
              "      <td>https://www.airbnb.com/users/show/16840050</td>\n",
              "      <td>Mónica</td>\n",
              "      <td>2014-06-16</td>\n",
              "      <td>...</td>\n",
              "      <td>4.88</td>\n",
              "      <td>4.93</td>\n",
              "      <td>5.00</td>\n",
              "      <td>4.95</td>\n",
              "      <td>4.84</td>\n",
              "      <td>2.0</td>\n",
              "      <td>2.0</td>\n",
              "      <td>0.0</td>\n",
              "      <td>0.0</td>\n",
              "      <td>0.54</td>\n",
              "    </tr>\n",
              "    <tr>\n",
              "      <th>2</th>\n",
              "      <td>https://www.airbnb.com/rooms/696037</td>\n",
              "      <td>2023-03-29</td>\n",
              "      <td>city scrape</td>\n",
              "      <td>3 Bedrooms, 2 blocks from Polanco - ALL RENOVA...</td>\n",
              "      <td>Beautifully decorated 3 bedroom apartment, it ...</td>\n",
              "      <td>This area is called Nuevo Polanco, it has bein...</td>\n",
              "      <td>https://a0.muscache.com/pictures/10960397/67b2...</td>\n",
              "      <td>https://www.airbnb.com/users/show/3531879</td>\n",
              "      <td>Gonzalo &amp; Sandra</td>\n",
              "      <td>2012-09-10</td>\n",
              "      <td>...</td>\n",
              "      <td>4.71</td>\n",
              "      <td>4.92</td>\n",
              "      <td>4.92</td>\n",
              "      <td>4.58</td>\n",
              "      <td>4.71</td>\n",
              "      <td>3.0</td>\n",
              "      <td>3.0</td>\n",
              "      <td>0.0</td>\n",
              "      <td>0.0</td>\n",
              "      <td>0.31</td>\n",
              "    </tr>\n",
              "    <tr>\n",
              "      <th>3</th>\n",
              "      <td>https://www.airbnb.com/rooms/35797</td>\n",
              "      <td>2023-03-29</td>\n",
              "      <td>city scrape</td>\n",
              "      <td>Villa Dante</td>\n",
              "      <td>Dentro de Villa un estudio de arte con futon, ...</td>\n",
              "      <td>Centro comercial Santa Fe, parque interlomas y...</td>\n",
              "      <td>https://a0.muscache.com/pictures/f395ab78-1185...</td>\n",
              "      <td>https://www.airbnb.com/users/show/153786</td>\n",
              "      <td>Dici</td>\n",
              "      <td>2010-06-28</td>\n",
              "      <td>...</td>\n",
              "      <td>4.70</td>\n",
              "      <td>4.80</td>\n",
              "      <td>4.80</td>\n",
              "      <td>4.80</td>\n",
              "      <td>4.70</td>\n",
              "      <td>1.0</td>\n",
              "      <td>1.0</td>\n",
              "      <td>0.0</td>\n",
              "      <td>0.0</td>\n",
              "      <td>1.70</td>\n",
              "    </tr>\n",
              "    <tr>\n",
              "      <th>4</th>\n",
              "      <td>https://www.airbnb.com/rooms/44616</td>\n",
              "      <td>2023-03-30</td>\n",
              "      <td>city scrape</td>\n",
              "      <td>CONDESA HAUS  B&amp;B</td>\n",
              "      <td>A new concept of hosting in mexico through a b...</td>\n",
              "      <td>Sin datos</td>\n",
              "      <td>https://a0.muscache.com/pictures/251410/ec75fe...</td>\n",
              "      <td>https://www.airbnb.com/users/show/196253</td>\n",
              "      <td>Condesa Haus Bed &amp; Breakfast  CDMX</td>\n",
              "      <td>2010-08-09</td>\n",
              "      <td>...</td>\n",
              "      <td>4.70</td>\n",
              "      <td>4.87</td>\n",
              "      <td>4.78</td>\n",
              "      <td>4.98</td>\n",
              "      <td>4.48</td>\n",
              "      <td>12.0</td>\n",
              "      <td>3.0</td>\n",
              "      <td>2.0</td>\n",
              "      <td>0.0</td>\n",
              "      <td>0.46</td>\n",
              "    </tr>\n",
              "  </tbody>\n",
              "</table>\n",
              "<p>5 rows × 71 columns</p>\n",
              "</div>\n",
              "      <button class=\"colab-df-convert\" onclick=\"convertToInteractive('df-fbdc2fb5-dcbd-401c-bb2c-a8d3512112e5')\"\n",
              "              title=\"Convert this dataframe to an interactive table.\"\n",
              "              style=\"display:none;\">\n",
              "        \n",
              "  <svg xmlns=\"http://www.w3.org/2000/svg\" height=\"24px\"viewBox=\"0 0 24 24\"\n",
              "       width=\"24px\">\n",
              "    <path d=\"M0 0h24v24H0V0z\" fill=\"none\"/>\n",
              "    <path d=\"M18.56 5.44l.94 2.06.94-2.06 2.06-.94-2.06-.94-.94-2.06-.94 2.06-2.06.94zm-11 1L8.5 8.5l.94-2.06 2.06-.94-2.06-.94L8.5 2.5l-.94 2.06-2.06.94zm10 10l.94 2.06.94-2.06 2.06-.94-2.06-.94-.94-2.06-.94 2.06-2.06.94z\"/><path d=\"M17.41 7.96l-1.37-1.37c-.4-.4-.92-.59-1.43-.59-.52 0-1.04.2-1.43.59L10.3 9.45l-7.72 7.72c-.78.78-.78 2.05 0 2.83L4 21.41c.39.39.9.59 1.41.59.51 0 1.02-.2 1.41-.59l7.78-7.78 2.81-2.81c.8-.78.8-2.07 0-2.86zM5.41 20L4 18.59l7.72-7.72 1.47 1.35L5.41 20z\"/>\n",
              "  </svg>\n",
              "      </button>\n",
              "      \n",
              "  <style>\n",
              "    .colab-df-container {\n",
              "      display:flex;\n",
              "      flex-wrap:wrap;\n",
              "      gap: 12px;\n",
              "    }\n",
              "\n",
              "    .colab-df-convert {\n",
              "      background-color: #E8F0FE;\n",
              "      border: none;\n",
              "      border-radius: 50%;\n",
              "      cursor: pointer;\n",
              "      display: none;\n",
              "      fill: #1967D2;\n",
              "      height: 32px;\n",
              "      padding: 0 0 0 0;\n",
              "      width: 32px;\n",
              "    }\n",
              "\n",
              "    .colab-df-convert:hover {\n",
              "      background-color: #E2EBFA;\n",
              "      box-shadow: 0px 1px 2px rgba(60, 64, 67, 0.3), 0px 1px 3px 1px rgba(60, 64, 67, 0.15);\n",
              "      fill: #174EA6;\n",
              "    }\n",
              "\n",
              "    [theme=dark] .colab-df-convert {\n",
              "      background-color: #3B4455;\n",
              "      fill: #D2E3FC;\n",
              "    }\n",
              "\n",
              "    [theme=dark] .colab-df-convert:hover {\n",
              "      background-color: #434B5C;\n",
              "      box-shadow: 0px 1px 3px 1px rgba(0, 0, 0, 0.15);\n",
              "      filter: drop-shadow(0px 1px 2px rgba(0, 0, 0, 0.3));\n",
              "      fill: #FFFFFF;\n",
              "    }\n",
              "  </style>\n",
              "\n",
              "      <script>\n",
              "        const buttonEl =\n",
              "          document.querySelector('#df-fbdc2fb5-dcbd-401c-bb2c-a8d3512112e5 button.colab-df-convert');\n",
              "        buttonEl.style.display =\n",
              "          google.colab.kernel.accessAllowed ? 'block' : 'none';\n",
              "\n",
              "        async function convertToInteractive(key) {\n",
              "          const element = document.querySelector('#df-fbdc2fb5-dcbd-401c-bb2c-a8d3512112e5');\n",
              "          const dataTable =\n",
              "            await google.colab.kernel.invokeFunction('convertToInteractive',\n",
              "                                                     [key], {});\n",
              "          if (!dataTable) return;\n",
              "\n",
              "          const docLinkHtml = 'Like what you see? Visit the ' +\n",
              "            '<a target=\"_blank\" href=https://colab.research.google.com/notebooks/data_table.ipynb>data table notebook</a>'\n",
              "            + ' to learn more about interactive tables.';\n",
              "          element.innerHTML = '';\n",
              "          dataTable['output_type'] = 'display_data';\n",
              "          await google.colab.output.renderOutput(dataTable, element);\n",
              "          const docLink = document.createElement('div');\n",
              "          docLink.innerHTML = docLinkHtml;\n",
              "          element.appendChild(docLink);\n",
              "        }\n",
              "      </script>\n",
              "    </div>\n",
              "  </div>\n",
              "  "
            ]
          },
          "metadata": {},
          "execution_count": 67
        }
      ]
    },
    {
      "cell_type": "markdown",
      "source": [
        "### **Dataframe California_EUA**"
      ],
      "metadata": {
        "id": "5lkJB7LepdvB"
      }
    },
    {
      "cell_type": "markdown",
      "source": [
        "Para la eliminación de outliers, se decidió aplicar el método de rango interquartílico (IQR) ya que comprende un rango más pequeño en comparación con el método de desviación estándar, lo cual permite eliminar un mayor número de valores atípicos. Cabe mencionar que es el procedimiento más empleado porque se usa para la generación de gráficas."
      ],
      "metadata": {
        "id": "S87se9Qb3F_l"
      }
    },
    {
      "cell_type": "code",
      "source": [
        "percentile25=usaNum.quantile(0.25) #Q1\n",
        "percentile75=usaNum.quantile(0.75) #Q3\n",
        "iqr= percentile75 - percentile25\n",
        "\n",
        "Limite_Superior_iqr= percentile75 + 1.5*iqr\n",
        "Limite_Inferior_iqr= percentile25 - 1.5*iqr\n",
        "\n",
        "#Obtenemos datos limpios del Dataframe\n",
        "usaNum_iqr= usaNum[(usaNum<=Limite_Superior_iqr)&(usaNum>=Limite_Inferior_iqr)]\n",
        "usaNum_iqr"
      ],
      "metadata": {
        "colab": {
          "base_uri": "https://localhost:8080/",
          "height": 594
        },
        "id": "VsGareT2m27B",
        "outputId": "4698db8a-cbdb-4ed3-98ab-b3c2a0eb0b35"
      },
      "execution_count": 85,
      "outputs": [
        {
          "output_type": "stream",
          "name": "stderr",
          "text": [
            "<ipython-input-85-771767dcff46>:1: FutureWarning: The default value of numeric_only in DataFrame.quantile is deprecated. In a future version, it will default to False. Select only valid columns or specify the value of numeric_only to silence this warning.\n",
            "  percentile25=usaNum.quantile(0.25) #Q1\n",
            "<ipython-input-85-771767dcff46>:2: FutureWarning: The default value of numeric_only in DataFrame.quantile is deprecated. In a future version, it will default to False. Select only valid columns or specify the value of numeric_only to silence this warning.\n",
            "  percentile75=usaNum.quantile(0.75) #Q3\n",
            "<ipython-input-85-771767dcff46>:9: FutureWarning: Automatic reindexing on DataFrame vs Series comparisons is deprecated and will raise ValueError in a future version. Do `left, right = left.align(right, axis=1, copy=False)` before e.g. `left == right`\n",
            "  usaNum_iqr= usaNum[(usaNum<=Limite_Superior_iqr)&(usaNum>=Limite_Inferior_iqr)]\n"
          ]
        },
        {
          "output_type": "execute_result",
          "data": {
            "text/plain": [
              "          id     scrape_id    host_id  host_listings_count  \\\n",
              "0      958.0  2.020000e+13     1169.0                  1.0   \n",
              "1     5858.0  2.020000e+13     8904.0                  2.0   \n",
              "2     8142.0  2.020000e+13    21994.0                 13.0   \n",
              "3     8339.0  2.020000e+13    24215.0                  2.0   \n",
              "4     8739.0  2.020000e+13     7149.0                  2.0   \n",
              "...      ...           ...        ...                  ...   \n",
              "6931     NaN  2.020000e+13        NaN                  9.0   \n",
              "6932     NaN  2.020000e+13        NaN                  1.0   \n",
              "6933     NaN  2.020000e+13        NaN                  1.0   \n",
              "6934     NaN  2.020000e+13        NaN                  3.0   \n",
              "6935     NaN  2.020000e+13  4836128.0                  2.0   \n",
              "\n",
              "      host_total_listings_count neighbourhood_group_cleansed   latitude  \\\n",
              "0                           1.0                          NaN  37.770280   \n",
              "1                           2.0                          NaN  37.744740   \n",
              "2                          14.0                          NaN  37.765550   \n",
              "3                           6.0                          NaN  37.775640   \n",
              "4                           2.0                          NaN  37.760300   \n",
              "...                         ...                          ...        ...   \n",
              "6931                        9.0                          NaN  37.791994   \n",
              "6932                        1.0                          NaN  37.763060   \n",
              "6933                        1.0                          NaN  37.777633   \n",
              "6934                        4.0                          NaN  37.738325   \n",
              "6935                        4.0                          NaN  37.786442   \n",
              "\n",
              "       longitude  accommodates bathrooms  ...  review_scores_cleanliness  \\\n",
              "0    -122.433170           3.0       NaN  ...                       4.92   \n",
              "1    -122.420890           4.0       NaN  ...                       4.87   \n",
              "2    -122.452130           1.0       NaN  ...                        NaN   \n",
              "3    -122.436420           4.0       NaN  ...                       5.00   \n",
              "4    -122.421970           3.0       NaN  ...                       4.94   \n",
              "...          ...           ...       ...  ...                        ...   \n",
              "6931 -122.410000           2.0       NaN  ...                       4.80   \n",
              "6932 -122.432023           2.0       NaN  ...                       5.00   \n",
              "6933 -122.416478           1.0       NaN  ...                       4.80   \n",
              "6934 -122.396603           2.0       NaN  ...                       4.80   \n",
              "6935 -122.457006           2.0       NaN  ...                       4.80   \n",
              "\n",
              "      review_scores_checkin  review_scores_communication  \\\n",
              "0                      4.95                         4.88   \n",
              "1                      4.89                         4.85   \n",
              "2                      4.78                         4.78   \n",
              "3                      4.94                         5.00   \n",
              "4                      4.95                         4.96   \n",
              "...                     ...                          ...   \n",
              "6931                   4.90                         4.90   \n",
              "6932                   5.00                         5.00   \n",
              "6933                   4.90                         4.90   \n",
              "6934                   4.90                         4.90   \n",
              "6935                   4.90                         4.90   \n",
              "\n",
              "      review_scores_location  review_scores_value  \\\n",
              "0                       4.98                 4.76   \n",
              "1                       4.77                 4.68   \n",
              "2                       4.67                 4.67   \n",
              "3                       4.94                 4.75   \n",
              "4                       4.93                 4.74   \n",
              "...                      ...                  ...   \n",
              "6931                    4.80                 4.70   \n",
              "6932                    5.00                 5.00   \n",
              "6933                    4.80                 4.70   \n",
              "6934                    4.80                 4.70   \n",
              "6935                    4.80                 4.70   \n",
              "\n",
              "      calculated_host_listings_count  \\\n",
              "0                                1.0   \n",
              "1                                1.0   \n",
              "2                               13.0   \n",
              "3                                2.0   \n",
              "4                                2.0   \n",
              "...                              ...   \n",
              "6931                             5.0   \n",
              "6932                             1.0   \n",
              "6933                             1.0   \n",
              "6934                             3.0   \n",
              "6935                             2.0   \n",
              "\n",
              "      calculated_host_listings_count_entire_homes  \\\n",
              "0                                             1.0   \n",
              "1                                             1.0   \n",
              "2                                             0.0   \n",
              "3                                             2.0   \n",
              "4                                             0.0   \n",
              "...                                           ...   \n",
              "6931                                          5.0   \n",
              "6932                                          1.0   \n",
              "6933                                          0.0   \n",
              "6934                                          0.0   \n",
              "6935                                          1.0   \n",
              "\n",
              "      calculated_host_listings_count_private_rooms  \\\n",
              "0                                              0.0   \n",
              "1                                              0.0   \n",
              "2                                              NaN   \n",
              "3                                              0.0   \n",
              "4                                              2.0   \n",
              "...                                            ...   \n",
              "6931                                           0.0   \n",
              "6932                                           0.0   \n",
              "6933                                           1.0   \n",
              "6934                                           3.0   \n",
              "6935                                           1.0   \n",
              "\n",
              "      calculated_host_listings_count_shared_rooms  reviews_per_month  \n",
              "0                                             0.0               2.31  \n",
              "1                                             0.0               0.66  \n",
              "2                                             0.0               0.09  \n",
              "3                                             0.0               0.17  \n",
              "4                                             0.0                NaN  \n",
              "...                                           ...                ...  \n",
              "6931                                          0.0               1.30  \n",
              "6932                                          0.0               1.00  \n",
              "6933                                          0.0               1.30  \n",
              "6934                                          0.0               1.30  \n",
              "6935                                          0.0               1.30  \n",
              "\n",
              "[6936 rows x 40 columns]"
            ],
            "text/html": [
              "\n",
              "  <div id=\"df-941360c6-c7db-4711-9626-8b62c1990f16\">\n",
              "    <div class=\"colab-df-container\">\n",
              "      <div>\n",
              "<style scoped>\n",
              "    .dataframe tbody tr th:only-of-type {\n",
              "        vertical-align: middle;\n",
              "    }\n",
              "\n",
              "    .dataframe tbody tr th {\n",
              "        vertical-align: top;\n",
              "    }\n",
              "\n",
              "    .dataframe thead th {\n",
              "        text-align: right;\n",
              "    }\n",
              "</style>\n",
              "<table border=\"1\" class=\"dataframe\">\n",
              "  <thead>\n",
              "    <tr style=\"text-align: right;\">\n",
              "      <th></th>\n",
              "      <th>id</th>\n",
              "      <th>scrape_id</th>\n",
              "      <th>host_id</th>\n",
              "      <th>host_listings_count</th>\n",
              "      <th>host_total_listings_count</th>\n",
              "      <th>neighbourhood_group_cleansed</th>\n",
              "      <th>latitude</th>\n",
              "      <th>longitude</th>\n",
              "      <th>accommodates</th>\n",
              "      <th>bathrooms</th>\n",
              "      <th>...</th>\n",
              "      <th>review_scores_cleanliness</th>\n",
              "      <th>review_scores_checkin</th>\n",
              "      <th>review_scores_communication</th>\n",
              "      <th>review_scores_location</th>\n",
              "      <th>review_scores_value</th>\n",
              "      <th>calculated_host_listings_count</th>\n",
              "      <th>calculated_host_listings_count_entire_homes</th>\n",
              "      <th>calculated_host_listings_count_private_rooms</th>\n",
              "      <th>calculated_host_listings_count_shared_rooms</th>\n",
              "      <th>reviews_per_month</th>\n",
              "    </tr>\n",
              "  </thead>\n",
              "  <tbody>\n",
              "    <tr>\n",
              "      <th>0</th>\n",
              "      <td>958.0</td>\n",
              "      <td>2.020000e+13</td>\n",
              "      <td>1169.0</td>\n",
              "      <td>1.0</td>\n",
              "      <td>1.0</td>\n",
              "      <td>NaN</td>\n",
              "      <td>37.770280</td>\n",
              "      <td>-122.433170</td>\n",
              "      <td>3.0</td>\n",
              "      <td>NaN</td>\n",
              "      <td>...</td>\n",
              "      <td>4.92</td>\n",
              "      <td>4.95</td>\n",
              "      <td>4.88</td>\n",
              "      <td>4.98</td>\n",
              "      <td>4.76</td>\n",
              "      <td>1.0</td>\n",
              "      <td>1.0</td>\n",
              "      <td>0.0</td>\n",
              "      <td>0.0</td>\n",
              "      <td>2.31</td>\n",
              "    </tr>\n",
              "    <tr>\n",
              "      <th>1</th>\n",
              "      <td>5858.0</td>\n",
              "      <td>2.020000e+13</td>\n",
              "      <td>8904.0</td>\n",
              "      <td>2.0</td>\n",
              "      <td>2.0</td>\n",
              "      <td>NaN</td>\n",
              "      <td>37.744740</td>\n",
              "      <td>-122.420890</td>\n",
              "      <td>4.0</td>\n",
              "      <td>NaN</td>\n",
              "      <td>...</td>\n",
              "      <td>4.87</td>\n",
              "      <td>4.89</td>\n",
              "      <td>4.85</td>\n",
              "      <td>4.77</td>\n",
              "      <td>4.68</td>\n",
              "      <td>1.0</td>\n",
              "      <td>1.0</td>\n",
              "      <td>0.0</td>\n",
              "      <td>0.0</td>\n",
              "      <td>0.66</td>\n",
              "    </tr>\n",
              "    <tr>\n",
              "      <th>2</th>\n",
              "      <td>8142.0</td>\n",
              "      <td>2.020000e+13</td>\n",
              "      <td>21994.0</td>\n",
              "      <td>13.0</td>\n",
              "      <td>14.0</td>\n",
              "      <td>NaN</td>\n",
              "      <td>37.765550</td>\n",
              "      <td>-122.452130</td>\n",
              "      <td>1.0</td>\n",
              "      <td>NaN</td>\n",
              "      <td>...</td>\n",
              "      <td>NaN</td>\n",
              "      <td>4.78</td>\n",
              "      <td>4.78</td>\n",
              "      <td>4.67</td>\n",
              "      <td>4.67</td>\n",
              "      <td>13.0</td>\n",
              "      <td>0.0</td>\n",
              "      <td>NaN</td>\n",
              "      <td>0.0</td>\n",
              "      <td>0.09</td>\n",
              "    </tr>\n",
              "    <tr>\n",
              "      <th>3</th>\n",
              "      <td>8339.0</td>\n",
              "      <td>2.020000e+13</td>\n",
              "      <td>24215.0</td>\n",
              "      <td>2.0</td>\n",
              "      <td>6.0</td>\n",
              "      <td>NaN</td>\n",
              "      <td>37.775640</td>\n",
              "      <td>-122.436420</td>\n",
              "      <td>4.0</td>\n",
              "      <td>NaN</td>\n",
              "      <td>...</td>\n",
              "      <td>5.00</td>\n",
              "      <td>4.94</td>\n",
              "      <td>5.00</td>\n",
              "      <td>4.94</td>\n",
              "      <td>4.75</td>\n",
              "      <td>2.0</td>\n",
              "      <td>2.0</td>\n",
              "      <td>0.0</td>\n",
              "      <td>0.0</td>\n",
              "      <td>0.17</td>\n",
              "    </tr>\n",
              "    <tr>\n",
              "      <th>4</th>\n",
              "      <td>8739.0</td>\n",
              "      <td>2.020000e+13</td>\n",
              "      <td>7149.0</td>\n",
              "      <td>2.0</td>\n",
              "      <td>2.0</td>\n",
              "      <td>NaN</td>\n",
              "      <td>37.760300</td>\n",
              "      <td>-122.421970</td>\n",
              "      <td>3.0</td>\n",
              "      <td>NaN</td>\n",
              "      <td>...</td>\n",
              "      <td>4.94</td>\n",
              "      <td>4.95</td>\n",
              "      <td>4.96</td>\n",
              "      <td>4.93</td>\n",
              "      <td>4.74</td>\n",
              "      <td>2.0</td>\n",
              "      <td>0.0</td>\n",
              "      <td>2.0</td>\n",
              "      <td>0.0</td>\n",
              "      <td>NaN</td>\n",
              "    </tr>\n",
              "    <tr>\n",
              "      <th>...</th>\n",
              "      <td>...</td>\n",
              "      <td>...</td>\n",
              "      <td>...</td>\n",
              "      <td>...</td>\n",
              "      <td>...</td>\n",
              "      <td>...</td>\n",
              "      <td>...</td>\n",
              "      <td>...</td>\n",
              "      <td>...</td>\n",
              "      <td>...</td>\n",
              "      <td>...</td>\n",
              "      <td>...</td>\n",
              "      <td>...</td>\n",
              "      <td>...</td>\n",
              "      <td>...</td>\n",
              "      <td>...</td>\n",
              "      <td>...</td>\n",
              "      <td>...</td>\n",
              "      <td>...</td>\n",
              "      <td>...</td>\n",
              "      <td>...</td>\n",
              "    </tr>\n",
              "    <tr>\n",
              "      <th>6931</th>\n",
              "      <td>NaN</td>\n",
              "      <td>2.020000e+13</td>\n",
              "      <td>NaN</td>\n",
              "      <td>9.0</td>\n",
              "      <td>9.0</td>\n",
              "      <td>NaN</td>\n",
              "      <td>37.791994</td>\n",
              "      <td>-122.410000</td>\n",
              "      <td>2.0</td>\n",
              "      <td>NaN</td>\n",
              "      <td>...</td>\n",
              "      <td>4.80</td>\n",
              "      <td>4.90</td>\n",
              "      <td>4.90</td>\n",
              "      <td>4.80</td>\n",
              "      <td>4.70</td>\n",
              "      <td>5.0</td>\n",
              "      <td>5.0</td>\n",
              "      <td>0.0</td>\n",
              "      <td>0.0</td>\n",
              "      <td>1.30</td>\n",
              "    </tr>\n",
              "    <tr>\n",
              "      <th>6932</th>\n",
              "      <td>NaN</td>\n",
              "      <td>2.020000e+13</td>\n",
              "      <td>NaN</td>\n",
              "      <td>1.0</td>\n",
              "      <td>1.0</td>\n",
              "      <td>NaN</td>\n",
              "      <td>37.763060</td>\n",
              "      <td>-122.432023</td>\n",
              "      <td>2.0</td>\n",
              "      <td>NaN</td>\n",
              "      <td>...</td>\n",
              "      <td>5.00</td>\n",
              "      <td>5.00</td>\n",
              "      <td>5.00</td>\n",
              "      <td>5.00</td>\n",
              "      <td>5.00</td>\n",
              "      <td>1.0</td>\n",
              "      <td>1.0</td>\n",
              "      <td>0.0</td>\n",
              "      <td>0.0</td>\n",
              "      <td>1.00</td>\n",
              "    </tr>\n",
              "    <tr>\n",
              "      <th>6933</th>\n",
              "      <td>NaN</td>\n",
              "      <td>2.020000e+13</td>\n",
              "      <td>NaN</td>\n",
              "      <td>1.0</td>\n",
              "      <td>1.0</td>\n",
              "      <td>NaN</td>\n",
              "      <td>37.777633</td>\n",
              "      <td>-122.416478</td>\n",
              "      <td>1.0</td>\n",
              "      <td>NaN</td>\n",
              "      <td>...</td>\n",
              "      <td>4.80</td>\n",
              "      <td>4.90</td>\n",
              "      <td>4.90</td>\n",
              "      <td>4.80</td>\n",
              "      <td>4.70</td>\n",
              "      <td>1.0</td>\n",
              "      <td>0.0</td>\n",
              "      <td>1.0</td>\n",
              "      <td>0.0</td>\n",
              "      <td>1.30</td>\n",
              "    </tr>\n",
              "    <tr>\n",
              "      <th>6934</th>\n",
              "      <td>NaN</td>\n",
              "      <td>2.020000e+13</td>\n",
              "      <td>NaN</td>\n",
              "      <td>3.0</td>\n",
              "      <td>4.0</td>\n",
              "      <td>NaN</td>\n",
              "      <td>37.738325</td>\n",
              "      <td>-122.396603</td>\n",
              "      <td>2.0</td>\n",
              "      <td>NaN</td>\n",
              "      <td>...</td>\n",
              "      <td>4.80</td>\n",
              "      <td>4.90</td>\n",
              "      <td>4.90</td>\n",
              "      <td>4.80</td>\n",
              "      <td>4.70</td>\n",
              "      <td>3.0</td>\n",
              "      <td>0.0</td>\n",
              "      <td>3.0</td>\n",
              "      <td>0.0</td>\n",
              "      <td>1.30</td>\n",
              "    </tr>\n",
              "    <tr>\n",
              "      <th>6935</th>\n",
              "      <td>NaN</td>\n",
              "      <td>2.020000e+13</td>\n",
              "      <td>4836128.0</td>\n",
              "      <td>2.0</td>\n",
              "      <td>4.0</td>\n",
              "      <td>NaN</td>\n",
              "      <td>37.786442</td>\n",
              "      <td>-122.457006</td>\n",
              "      <td>2.0</td>\n",
              "      <td>NaN</td>\n",
              "      <td>...</td>\n",
              "      <td>4.80</td>\n",
              "      <td>4.90</td>\n",
              "      <td>4.90</td>\n",
              "      <td>4.80</td>\n",
              "      <td>4.70</td>\n",
              "      <td>2.0</td>\n",
              "      <td>1.0</td>\n",
              "      <td>1.0</td>\n",
              "      <td>0.0</td>\n",
              "      <td>1.30</td>\n",
              "    </tr>\n",
              "  </tbody>\n",
              "</table>\n",
              "<p>6936 rows × 40 columns</p>\n",
              "</div>\n",
              "      <button class=\"colab-df-convert\" onclick=\"convertToInteractive('df-941360c6-c7db-4711-9626-8b62c1990f16')\"\n",
              "              title=\"Convert this dataframe to an interactive table.\"\n",
              "              style=\"display:none;\">\n",
              "        \n",
              "  <svg xmlns=\"http://www.w3.org/2000/svg\" height=\"24px\"viewBox=\"0 0 24 24\"\n",
              "       width=\"24px\">\n",
              "    <path d=\"M0 0h24v24H0V0z\" fill=\"none\"/>\n",
              "    <path d=\"M18.56 5.44l.94 2.06.94-2.06 2.06-.94-2.06-.94-.94-2.06-.94 2.06-2.06.94zm-11 1L8.5 8.5l.94-2.06 2.06-.94-2.06-.94L8.5 2.5l-.94 2.06-2.06.94zm10 10l.94 2.06.94-2.06 2.06-.94-2.06-.94-.94-2.06-.94 2.06-2.06.94z\"/><path d=\"M17.41 7.96l-1.37-1.37c-.4-.4-.92-.59-1.43-.59-.52 0-1.04.2-1.43.59L10.3 9.45l-7.72 7.72c-.78.78-.78 2.05 0 2.83L4 21.41c.39.39.9.59 1.41.59.51 0 1.02-.2 1.41-.59l7.78-7.78 2.81-2.81c.8-.78.8-2.07 0-2.86zM5.41 20L4 18.59l7.72-7.72 1.47 1.35L5.41 20z\"/>\n",
              "  </svg>\n",
              "      </button>\n",
              "      \n",
              "  <style>\n",
              "    .colab-df-container {\n",
              "      display:flex;\n",
              "      flex-wrap:wrap;\n",
              "      gap: 12px;\n",
              "    }\n",
              "\n",
              "    .colab-df-convert {\n",
              "      background-color: #E8F0FE;\n",
              "      border: none;\n",
              "      border-radius: 50%;\n",
              "      cursor: pointer;\n",
              "      display: none;\n",
              "      fill: #1967D2;\n",
              "      height: 32px;\n",
              "      padding: 0 0 0 0;\n",
              "      width: 32px;\n",
              "    }\n",
              "\n",
              "    .colab-df-convert:hover {\n",
              "      background-color: #E2EBFA;\n",
              "      box-shadow: 0px 1px 2px rgba(60, 64, 67, 0.3), 0px 1px 3px 1px rgba(60, 64, 67, 0.15);\n",
              "      fill: #174EA6;\n",
              "    }\n",
              "\n",
              "    [theme=dark] .colab-df-convert {\n",
              "      background-color: #3B4455;\n",
              "      fill: #D2E3FC;\n",
              "    }\n",
              "\n",
              "    [theme=dark] .colab-df-convert:hover {\n",
              "      background-color: #434B5C;\n",
              "      box-shadow: 0px 1px 3px 1px rgba(0, 0, 0, 0.15);\n",
              "      filter: drop-shadow(0px 1px 2px rgba(0, 0, 0, 0.3));\n",
              "      fill: #FFFFFF;\n",
              "    }\n",
              "  </style>\n",
              "\n",
              "      <script>\n",
              "        const buttonEl =\n",
              "          document.querySelector('#df-941360c6-c7db-4711-9626-8b62c1990f16 button.colab-df-convert');\n",
              "        buttonEl.style.display =\n",
              "          google.colab.kernel.accessAllowed ? 'block' : 'none';\n",
              "\n",
              "        async function convertToInteractive(key) {\n",
              "          const element = document.querySelector('#df-941360c6-c7db-4711-9626-8b62c1990f16');\n",
              "          const dataTable =\n",
              "            await google.colab.kernel.invokeFunction('convertToInteractive',\n",
              "                                                     [key], {});\n",
              "          if (!dataTable) return;\n",
              "\n",
              "          const docLinkHtml = 'Like what you see? Visit the ' +\n",
              "            '<a target=\"_blank\" href=https://colab.research.google.com/notebooks/data_table.ipynb>data table notebook</a>'\n",
              "            + ' to learn more about interactive tables.';\n",
              "          element.innerHTML = '';\n",
              "          dataTable['output_type'] = 'display_data';\n",
              "          await google.colab.output.renderOutput(dataTable, element);\n",
              "          const docLink = document.createElement('div');\n",
              "          docLink.innerHTML = docLinkHtml;\n",
              "          element.appendChild(docLink);\n",
              "        }\n",
              "      </script>\n",
              "    </div>\n",
              "  </div>\n",
              "  "
            ]
          },
          "metadata": {},
          "execution_count": 85
        }
      ]
    },
    {
      "cell_type": "code",
      "source": [
        "usaNum_iqr.isnull().sum()"
      ],
      "metadata": {
        "colab": {
          "base_uri": "https://localhost:8080/"
        },
        "id": "0XEzjHpXnwBy",
        "outputId": "5ff042c0-1902-4f7c-9fb7-96e550a6e183"
      },
      "execution_count": 86,
      "outputs": [
        {
          "output_type": "execute_result",
          "data": {
            "text/plain": [
              "id                                              1573\n",
              "scrape_id                                          0\n",
              "host_id                                          413\n",
              "host_listings_count                             1128\n",
              "host_total_listings_count                       1196\n",
              "neighbourhood_group_cleansed                    6936\n",
              "latitude                                           0\n",
              "longitude                                        327\n",
              "accommodates                                     279\n",
              "bathrooms                                       6936\n",
              "bedrooms                                         228\n",
              "beds                                             558\n",
              "minimum_nights                                   200\n",
              "maximum_nights                                     4\n",
              "minimum_minimum_nights                           231\n",
              "maximum_minimum_nights                           346\n",
              "minimum_maximum_nights                            21\n",
              "maximum_maximum_nights                            36\n",
              "minimum_nights_avg_ntm                           341\n",
              "maximum_nights_avg_ntm                            36\n",
              "calendar_updated                                6936\n",
              "availability_30                                    0\n",
              "availability_60                                    0\n",
              "availability_90                                    0\n",
              "availability_365                                   0\n",
              "number_of_reviews                                867\n",
              "number_of_reviews_ltm                            963\n",
              "number_of_reviews_l30d                           575\n",
              "review_scores_rating                             615\n",
              "review_scores_accuracy                           444\n",
              "review_scores_cleanliness                        613\n",
              "review_scores_checkin                            720\n",
              "review_scores_communication                      895\n",
              "review_scores_location                           545\n",
              "review_scores_value                              661\n",
              "calculated_host_listings_count                  1140\n",
              "calculated_host_listings_count_entire_homes     1078\n",
              "calculated_host_listings_count_private_rooms    1040\n",
              "calculated_host_listings_count_shared_rooms      114\n",
              "reviews_per_month                                832\n",
              "dtype: int64"
            ]
          },
          "metadata": {},
          "execution_count": 86
        }
      ]
    },
    {
      "cell_type": "code",
      "source": [
        "usaNum_iqr = usaNum_iqr.fillna(round(usaNum_iqr.mean(),1))\n",
        "# Eliminación de columnas que no contienen ningún dato\n",
        "usaNum_iqr = usaNum_iqr.drop(['neighbourhood_group_cleansed','bathrooms','calendar_updated'], axis = 1)\n",
        "usaNum_iqr.isnull().sum()"
      ],
      "metadata": {
        "colab": {
          "base_uri": "https://localhost:8080/"
        },
        "id": "n2wCUMRln1Bp",
        "outputId": "b547bde5-e581-4c26-c6b6-750800b58655"
      },
      "execution_count": 87,
      "outputs": [
        {
          "output_type": "execute_result",
          "data": {
            "text/plain": [
              "id                                              0\n",
              "scrape_id                                       0\n",
              "host_id                                         0\n",
              "host_listings_count                             0\n",
              "host_total_listings_count                       0\n",
              "latitude                                        0\n",
              "longitude                                       0\n",
              "accommodates                                    0\n",
              "bedrooms                                        0\n",
              "beds                                            0\n",
              "minimum_nights                                  0\n",
              "maximum_nights                                  0\n",
              "minimum_minimum_nights                          0\n",
              "maximum_minimum_nights                          0\n",
              "minimum_maximum_nights                          0\n",
              "maximum_maximum_nights                          0\n",
              "minimum_nights_avg_ntm                          0\n",
              "maximum_nights_avg_ntm                          0\n",
              "availability_30                                 0\n",
              "availability_60                                 0\n",
              "availability_90                                 0\n",
              "availability_365                                0\n",
              "number_of_reviews                               0\n",
              "number_of_reviews_ltm                           0\n",
              "number_of_reviews_l30d                          0\n",
              "review_scores_rating                            0\n",
              "review_scores_accuracy                          0\n",
              "review_scores_cleanliness                       0\n",
              "review_scores_checkin                           0\n",
              "review_scores_communication                     0\n",
              "review_scores_location                          0\n",
              "review_scores_value                             0\n",
              "calculated_host_listings_count                  0\n",
              "calculated_host_listings_count_entire_homes     0\n",
              "calculated_host_listings_count_private_rooms    0\n",
              "calculated_host_listings_count_shared_rooms     0\n",
              "reviews_per_month                               0\n",
              "dtype: int64"
            ]
          },
          "metadata": {},
          "execution_count": 87
        }
      ]
    },
    {
      "cell_type": "code",
      "source": [
        "usa = pd.concat([usaObj,usaNum_iqr], axis=1)\n",
        "usa.head()"
      ],
      "metadata": {
        "colab": {
          "base_uri": "https://localhost:8080/",
          "height": 646
        },
        "id": "KLjZmbcmoU2O",
        "outputId": "f57b7f16-f657-4153-e389-55b0aa7d35e7"
      },
      "execution_count": 88,
      "outputs": [
        {
          "output_type": "execute_result",
          "data": {
            "text/plain": [
              "                         listing_url last_scraped       source  \\\n",
              "0   https://www.airbnb.com/rooms/958   06/03/2023  city scrape   \n",
              "1  https://www.airbnb.com/rooms/5858   06/03/2023  city scrape   \n",
              "2  https://www.airbnb.com/rooms/8142   06/03/2023  city scrape   \n",
              "3  https://www.airbnb.com/rooms/8339   06/03/2023  city scrape   \n",
              "4  https://www.airbnb.com/rooms/8739   06/03/2023  city scrape   \n",
              "\n",
              "                                                name  \\\n",
              "0              Bright, Modern Garden Unit - 1BR/1BTH   \n",
              "1                                 Creative Sanctuary   \n",
              "2  Friendly Room Apt. Style -UCSF/USF - San Franc...   \n",
              "3                    Historic Alamo Square Victorian   \n",
              "4                Mission Sunshine, with Private Bath   \n",
              "\n",
              "                                         description  \\\n",
              "0  Our bright garden unit overlooks a lovely back...   \n",
              "1  We live in a large Victorian house on a quiet ...   \n",
              "2  Nice and good public transportation.  7 minute...   \n",
              "3  Pls email before booking. <br />Interior featu...   \n",
              "4  Welcome to \"The Mission,\" the sunniest neighbo...   \n",
              "\n",
              "                               neighborhood_overview  \\\n",
              "0  Quiet cul de sac in friendly neighborhood<br /...   \n",
              "1  I love how our neighborhood feels quiet but is...   \n",
              "2  N Juda Muni, Bus and UCSF Shuttle.<br /><br />...   \n",
              "3                                          Sin datos   \n",
              "4  Located between Valencia Street and Dolores Pa...   \n",
              "\n",
              "                                         picture_url  \\\n",
              "0  https://a0.muscache.com/pictures/b7c2a199-4c17...   \n",
              "1  https://a0.muscache.com/pictures/17714/3a7aea1...   \n",
              "2  https://a0.muscache.com/pictures/12d8bff0-1698...   \n",
              "3  https://a0.muscache.com/pictures/miso/Hosting-...   \n",
              "4  https://a0.muscache.com/pictures/80811/7a57d0e...   \n",
              "\n",
              "                                  host_url         host_name  host_since  ...  \\\n",
              "0   https://www.airbnb.com/users/show/1169             Holly  31/07/2008  ...   \n",
              "1   https://www.airbnb.com/users/show/8904  Philip And Tania  02/03/2009  ...   \n",
              "2  https://www.airbnb.com/users/show/21994             Aaron  17/06/2009  ...   \n",
              "3  https://www.airbnb.com/users/show/24215              Rosy  02/07/2009  ...   \n",
              "4   https://www.airbnb.com/users/show/7149      Ivan & Wendy  27/01/2009  ...   \n",
              "\n",
              "  review_scores_cleanliness review_scores_checkin review_scores_communication  \\\n",
              "0                      4.92                  4.95                        4.88   \n",
              "1                      4.87                  4.89                        4.85   \n",
              "2                      4.90                  4.78                        4.78   \n",
              "3                      5.00                  4.94                        5.00   \n",
              "4                      4.94                  4.95                        4.96   \n",
              "\n",
              "  review_scores_location review_scores_value calculated_host_listings_count  \\\n",
              "0                   4.98                4.76                            1.0   \n",
              "1                   4.77                4.68                            1.0   \n",
              "2                   4.67                4.67                           13.0   \n",
              "3                   4.94                4.75                            2.0   \n",
              "4                   4.93                4.74                            2.0   \n",
              "\n",
              "  calculated_host_listings_count_entire_homes  \\\n",
              "0                                         1.0   \n",
              "1                                         1.0   \n",
              "2                                         0.0   \n",
              "3                                         2.0   \n",
              "4                                         0.0   \n",
              "\n",
              "  calculated_host_listings_count_private_rooms  \\\n",
              "0                                          0.0   \n",
              "1                                          0.0   \n",
              "2                                          0.7   \n",
              "3                                          0.0   \n",
              "4                                          2.0   \n",
              "\n",
              "  calculated_host_listings_count_shared_rooms reviews_per_month  \n",
              "0                                         0.0              2.31  \n",
              "1                                         0.0              0.66  \n",
              "2                                         0.0              0.09  \n",
              "3                                         0.0              0.17  \n",
              "4                                         0.0              0.80  \n",
              "\n",
              "[5 rows x 72 columns]"
            ],
            "text/html": [
              "\n",
              "  <div id=\"df-26a2c355-7b94-4498-bf2c-a6e4990d49a7\">\n",
              "    <div class=\"colab-df-container\">\n",
              "      <div>\n",
              "<style scoped>\n",
              "    .dataframe tbody tr th:only-of-type {\n",
              "        vertical-align: middle;\n",
              "    }\n",
              "\n",
              "    .dataframe tbody tr th {\n",
              "        vertical-align: top;\n",
              "    }\n",
              "\n",
              "    .dataframe thead th {\n",
              "        text-align: right;\n",
              "    }\n",
              "</style>\n",
              "<table border=\"1\" class=\"dataframe\">\n",
              "  <thead>\n",
              "    <tr style=\"text-align: right;\">\n",
              "      <th></th>\n",
              "      <th>listing_url</th>\n",
              "      <th>last_scraped</th>\n",
              "      <th>source</th>\n",
              "      <th>name</th>\n",
              "      <th>description</th>\n",
              "      <th>neighborhood_overview</th>\n",
              "      <th>picture_url</th>\n",
              "      <th>host_url</th>\n",
              "      <th>host_name</th>\n",
              "      <th>host_since</th>\n",
              "      <th>...</th>\n",
              "      <th>review_scores_cleanliness</th>\n",
              "      <th>review_scores_checkin</th>\n",
              "      <th>review_scores_communication</th>\n",
              "      <th>review_scores_location</th>\n",
              "      <th>review_scores_value</th>\n",
              "      <th>calculated_host_listings_count</th>\n",
              "      <th>calculated_host_listings_count_entire_homes</th>\n",
              "      <th>calculated_host_listings_count_private_rooms</th>\n",
              "      <th>calculated_host_listings_count_shared_rooms</th>\n",
              "      <th>reviews_per_month</th>\n",
              "    </tr>\n",
              "  </thead>\n",
              "  <tbody>\n",
              "    <tr>\n",
              "      <th>0</th>\n",
              "      <td>https://www.airbnb.com/rooms/958</td>\n",
              "      <td>06/03/2023</td>\n",
              "      <td>city scrape</td>\n",
              "      <td>Bright, Modern Garden Unit - 1BR/1BTH</td>\n",
              "      <td>Our bright garden unit overlooks a lovely back...</td>\n",
              "      <td>Quiet cul de sac in friendly neighborhood&lt;br /...</td>\n",
              "      <td>https://a0.muscache.com/pictures/b7c2a199-4c17...</td>\n",
              "      <td>https://www.airbnb.com/users/show/1169</td>\n",
              "      <td>Holly</td>\n",
              "      <td>31/07/2008</td>\n",
              "      <td>...</td>\n",
              "      <td>4.92</td>\n",
              "      <td>4.95</td>\n",
              "      <td>4.88</td>\n",
              "      <td>4.98</td>\n",
              "      <td>4.76</td>\n",
              "      <td>1.0</td>\n",
              "      <td>1.0</td>\n",
              "      <td>0.0</td>\n",
              "      <td>0.0</td>\n",
              "      <td>2.31</td>\n",
              "    </tr>\n",
              "    <tr>\n",
              "      <th>1</th>\n",
              "      <td>https://www.airbnb.com/rooms/5858</td>\n",
              "      <td>06/03/2023</td>\n",
              "      <td>city scrape</td>\n",
              "      <td>Creative Sanctuary</td>\n",
              "      <td>We live in a large Victorian house on a quiet ...</td>\n",
              "      <td>I love how our neighborhood feels quiet but is...</td>\n",
              "      <td>https://a0.muscache.com/pictures/17714/3a7aea1...</td>\n",
              "      <td>https://www.airbnb.com/users/show/8904</td>\n",
              "      <td>Philip And Tania</td>\n",
              "      <td>02/03/2009</td>\n",
              "      <td>...</td>\n",
              "      <td>4.87</td>\n",
              "      <td>4.89</td>\n",
              "      <td>4.85</td>\n",
              "      <td>4.77</td>\n",
              "      <td>4.68</td>\n",
              "      <td>1.0</td>\n",
              "      <td>1.0</td>\n",
              "      <td>0.0</td>\n",
              "      <td>0.0</td>\n",
              "      <td>0.66</td>\n",
              "    </tr>\n",
              "    <tr>\n",
              "      <th>2</th>\n",
              "      <td>https://www.airbnb.com/rooms/8142</td>\n",
              "      <td>06/03/2023</td>\n",
              "      <td>city scrape</td>\n",
              "      <td>Friendly Room Apt. Style -UCSF/USF - San Franc...</td>\n",
              "      <td>Nice and good public transportation.  7 minute...</td>\n",
              "      <td>N Juda Muni, Bus and UCSF Shuttle.&lt;br /&gt;&lt;br /&gt;...</td>\n",
              "      <td>https://a0.muscache.com/pictures/12d8bff0-1698...</td>\n",
              "      <td>https://www.airbnb.com/users/show/21994</td>\n",
              "      <td>Aaron</td>\n",
              "      <td>17/06/2009</td>\n",
              "      <td>...</td>\n",
              "      <td>4.90</td>\n",
              "      <td>4.78</td>\n",
              "      <td>4.78</td>\n",
              "      <td>4.67</td>\n",
              "      <td>4.67</td>\n",
              "      <td>13.0</td>\n",
              "      <td>0.0</td>\n",
              "      <td>0.7</td>\n",
              "      <td>0.0</td>\n",
              "      <td>0.09</td>\n",
              "    </tr>\n",
              "    <tr>\n",
              "      <th>3</th>\n",
              "      <td>https://www.airbnb.com/rooms/8339</td>\n",
              "      <td>06/03/2023</td>\n",
              "      <td>city scrape</td>\n",
              "      <td>Historic Alamo Square Victorian</td>\n",
              "      <td>Pls email before booking. &lt;br /&gt;Interior featu...</td>\n",
              "      <td>Sin datos</td>\n",
              "      <td>https://a0.muscache.com/pictures/miso/Hosting-...</td>\n",
              "      <td>https://www.airbnb.com/users/show/24215</td>\n",
              "      <td>Rosy</td>\n",
              "      <td>02/07/2009</td>\n",
              "      <td>...</td>\n",
              "      <td>5.00</td>\n",
              "      <td>4.94</td>\n",
              "      <td>5.00</td>\n",
              "      <td>4.94</td>\n",
              "      <td>4.75</td>\n",
              "      <td>2.0</td>\n",
              "      <td>2.0</td>\n",
              "      <td>0.0</td>\n",
              "      <td>0.0</td>\n",
              "      <td>0.17</td>\n",
              "    </tr>\n",
              "    <tr>\n",
              "      <th>4</th>\n",
              "      <td>https://www.airbnb.com/rooms/8739</td>\n",
              "      <td>06/03/2023</td>\n",
              "      <td>city scrape</td>\n",
              "      <td>Mission Sunshine, with Private Bath</td>\n",
              "      <td>Welcome to \"The Mission,\" the sunniest neighbo...</td>\n",
              "      <td>Located between Valencia Street and Dolores Pa...</td>\n",
              "      <td>https://a0.muscache.com/pictures/80811/7a57d0e...</td>\n",
              "      <td>https://www.airbnb.com/users/show/7149</td>\n",
              "      <td>Ivan &amp; Wendy</td>\n",
              "      <td>27/01/2009</td>\n",
              "      <td>...</td>\n",
              "      <td>4.94</td>\n",
              "      <td>4.95</td>\n",
              "      <td>4.96</td>\n",
              "      <td>4.93</td>\n",
              "      <td>4.74</td>\n",
              "      <td>2.0</td>\n",
              "      <td>0.0</td>\n",
              "      <td>2.0</td>\n",
              "      <td>0.0</td>\n",
              "      <td>0.80</td>\n",
              "    </tr>\n",
              "  </tbody>\n",
              "</table>\n",
              "<p>5 rows × 72 columns</p>\n",
              "</div>\n",
              "      <button class=\"colab-df-convert\" onclick=\"convertToInteractive('df-26a2c355-7b94-4498-bf2c-a6e4990d49a7')\"\n",
              "              title=\"Convert this dataframe to an interactive table.\"\n",
              "              style=\"display:none;\">\n",
              "        \n",
              "  <svg xmlns=\"http://www.w3.org/2000/svg\" height=\"24px\"viewBox=\"0 0 24 24\"\n",
              "       width=\"24px\">\n",
              "    <path d=\"M0 0h24v24H0V0z\" fill=\"none\"/>\n",
              "    <path d=\"M18.56 5.44l.94 2.06.94-2.06 2.06-.94-2.06-.94-.94-2.06-.94 2.06-2.06.94zm-11 1L8.5 8.5l.94-2.06 2.06-.94-2.06-.94L8.5 2.5l-.94 2.06-2.06.94zm10 10l.94 2.06.94-2.06 2.06-.94-2.06-.94-.94-2.06-.94 2.06-2.06.94z\"/><path d=\"M17.41 7.96l-1.37-1.37c-.4-.4-.92-.59-1.43-.59-.52 0-1.04.2-1.43.59L10.3 9.45l-7.72 7.72c-.78.78-.78 2.05 0 2.83L4 21.41c.39.39.9.59 1.41.59.51 0 1.02-.2 1.41-.59l7.78-7.78 2.81-2.81c.8-.78.8-2.07 0-2.86zM5.41 20L4 18.59l7.72-7.72 1.47 1.35L5.41 20z\"/>\n",
              "  </svg>\n",
              "      </button>\n",
              "      \n",
              "  <style>\n",
              "    .colab-df-container {\n",
              "      display:flex;\n",
              "      flex-wrap:wrap;\n",
              "      gap: 12px;\n",
              "    }\n",
              "\n",
              "    .colab-df-convert {\n",
              "      background-color: #E8F0FE;\n",
              "      border: none;\n",
              "      border-radius: 50%;\n",
              "      cursor: pointer;\n",
              "      display: none;\n",
              "      fill: #1967D2;\n",
              "      height: 32px;\n",
              "      padding: 0 0 0 0;\n",
              "      width: 32px;\n",
              "    }\n",
              "\n",
              "    .colab-df-convert:hover {\n",
              "      background-color: #E2EBFA;\n",
              "      box-shadow: 0px 1px 2px rgba(60, 64, 67, 0.3), 0px 1px 3px 1px rgba(60, 64, 67, 0.15);\n",
              "      fill: #174EA6;\n",
              "    }\n",
              "\n",
              "    [theme=dark] .colab-df-convert {\n",
              "      background-color: #3B4455;\n",
              "      fill: #D2E3FC;\n",
              "    }\n",
              "\n",
              "    [theme=dark] .colab-df-convert:hover {\n",
              "      background-color: #434B5C;\n",
              "      box-shadow: 0px 1px 3px 1px rgba(0, 0, 0, 0.15);\n",
              "      filter: drop-shadow(0px 1px 2px rgba(0, 0, 0, 0.3));\n",
              "      fill: #FFFFFF;\n",
              "    }\n",
              "  </style>\n",
              "\n",
              "      <script>\n",
              "        const buttonEl =\n",
              "          document.querySelector('#df-26a2c355-7b94-4498-bf2c-a6e4990d49a7 button.colab-df-convert');\n",
              "        buttonEl.style.display =\n",
              "          google.colab.kernel.accessAllowed ? 'block' : 'none';\n",
              "\n",
              "        async function convertToInteractive(key) {\n",
              "          const element = document.querySelector('#df-26a2c355-7b94-4498-bf2c-a6e4990d49a7');\n",
              "          const dataTable =\n",
              "            await google.colab.kernel.invokeFunction('convertToInteractive',\n",
              "                                                     [key], {});\n",
              "          if (!dataTable) return;\n",
              "\n",
              "          const docLinkHtml = 'Like what you see? Visit the ' +\n",
              "            '<a target=\"_blank\" href=https://colab.research.google.com/notebooks/data_table.ipynb>data table notebook</a>'\n",
              "            + ' to learn more about interactive tables.';\n",
              "          element.innerHTML = '';\n",
              "          dataTable['output_type'] = 'display_data';\n",
              "          await google.colab.output.renderOutput(dataTable, element);\n",
              "          const docLink = document.createElement('div');\n",
              "          docLink.innerHTML = docLinkHtml;\n",
              "          element.appendChild(docLink);\n",
              "        }\n",
              "      </script>\n",
              "    </div>\n",
              "  </div>\n",
              "  "
            ]
          },
          "metadata": {},
          "execution_count": 88
        }
      ]
    },
    {
      "cell_type": "markdown",
      "source": [
        "### **Dataframe Girona_España**"
      ],
      "metadata": {
        "id": "eULsvBF2pdvB"
      }
    },
    {
      "cell_type": "markdown",
      "source": [
        "Para la eliminación de outliers, se decidió aplicar el método de rango interquartílico (IQR) ya que comprende un rango más pequeño en comparación con el método de desviación estándar, lo cual permite eliminar un mayor número de valores atípicos. Cabe mencionar que es el procedimiento más empleado porque se usa para la generación de gráficas."
      ],
      "metadata": {
        "id": "wzkC-CI63ICL"
      }
    },
    {
      "cell_type": "code",
      "source": [
        "percentile25=espNum.quantile(0.25) #Q1\n",
        "percentile75=espNum.quantile(0.75) #Q3\n",
        "iqr= percentile75 - percentile25\n",
        "\n",
        "Limite_Superior_iqr= percentile75 + 1.5*iqr\n",
        "Limite_Inferior_iqr= percentile25 - 1.5*iqr\n",
        "\n",
        "#Obtenemos datos limpios del Dataframe\n",
        "espNum_iqr= espNum[(espNum<=Limite_Superior_iqr)&(espNum>=Limite_Inferior_iqr)]\n",
        "espNum_iqr"
      ],
      "metadata": {
        "colab": {
          "base_uri": "https://localhost:8080/",
          "height": 594
        },
        "outputId": "98229f80-bc3d-4286-f488-06507451d2a1",
        "id": "yfsdZHNq6eCE"
      },
      "execution_count": 89,
      "outputs": [
        {
          "output_type": "stream",
          "name": "stderr",
          "text": [
            "<ipython-input-89-264e7a89443a>:1: FutureWarning: The default value of numeric_only in DataFrame.quantile is deprecated. In a future version, it will default to False. Select only valid columns or specify the value of numeric_only to silence this warning.\n",
            "  percentile25=espNum.quantile(0.25) #Q1\n",
            "<ipython-input-89-264e7a89443a>:2: FutureWarning: The default value of numeric_only in DataFrame.quantile is deprecated. In a future version, it will default to False. Select only valid columns or specify the value of numeric_only to silence this warning.\n",
            "  percentile75=espNum.quantile(0.75) #Q3\n",
            "<ipython-input-89-264e7a89443a>:9: FutureWarning: Automatic reindexing on DataFrame vs Series comparisons is deprecated and will raise ValueError in a future version. Do `left, right = left.align(right, axis=1, copy=False)` before e.g. `left == right`\n",
            "  espNum_iqr= espNum[(espNum<=Limite_Superior_iqr)&(espNum>=Limite_Inferior_iqr)]\n"
          ]
        },
        {
          "output_type": "execute_result",
          "data": {
            "text/plain": [
              "                 id     scrape_id    host_id  host_listings_count  \\\n",
              "0      1.455100e+04  2.023030e+13      57237                  1.0   \n",
              "1      1.205757e+06  2.023030e+13    6586355                  1.0   \n",
              "2      1.212820e+06  2.023030e+13    6620645                  2.0   \n",
              "3      7.516380e+05  2.023030e+13    3680160                  6.0   \n",
              "4      4.134200e+04  2.023030e+13     180072                  2.0   \n",
              "...             ...           ...        ...                  ...   \n",
              "19650  8.583870e+17  2.023030e+13   26281633                 34.0   \n",
              "19651  8.583960e+17  2.023030e+13  444428600                  3.0   \n",
              "19652  8.584110e+17  2.023030e+13  491503593                  9.0   \n",
              "19653  8.584180e+17  2.023030e+13  389605038                111.0   \n",
              "19654  8.584240e+17  2.023030e+13  491503593                  9.0   \n",
              "\n",
              "       host_total_listings_count neighbourhood_group_cleansed   latitude  \\\n",
              "0                            5.0                          NaN  41.996500   \n",
              "1                            1.0                          NaN  41.793040   \n",
              "2                            3.0                          NaN  42.112840   \n",
              "3                            6.0                          NaN  42.369580   \n",
              "4                            3.0                          NaN  42.346550   \n",
              "...                          ...                          ...        ...   \n",
              "19650                       44.0                          NaN  41.957265   \n",
              "19651                        3.0                          NaN  41.699070   \n",
              "19652                       11.0                          NaN  41.813720   \n",
              "19653                      121.0                          NaN  41.809375   \n",
              "19654                       11.0                          NaN  41.810169   \n",
              "\n",
              "       longitude  accommodates bathrooms  ...  review_scores_cleanliness  \\\n",
              "0       2.836460           2.0       NaN  ...                       4.94   \n",
              "1       2.774120           2.0       NaN  ...                       4.85   \n",
              "2       3.166700           4.0       NaN  ...                       4.31   \n",
              "3       2.980300           2.0       NaN  ...                       4.50   \n",
              "4       3.204630           4.0       NaN  ...                       4.82   \n",
              "...          ...           ...       ...  ...                        ...   \n",
              "19650   3.201288           8.0       NaN  ...                       4.50   \n",
              "19651   2.844080           4.0       NaN  ...                       4.50   \n",
              "19652   3.064465           4.0       NaN  ...                       4.50   \n",
              "19653   3.053910           4.0       NaN  ...                       4.50   \n",
              "19654   3.066358           5.0       NaN  ...                       4.50   \n",
              "\n",
              "       review_scores_checkin  review_scores_communication  \\\n",
              "0                       4.89                         4.91   \n",
              "1                       4.85                         4.91   \n",
              "2                       4.81                         4.76   \n",
              "3                       4.86                         5.00   \n",
              "4                       4.73                         4.73   \n",
              "...                      ...                          ...   \n",
              "19650                   4.70                         4.70   \n",
              "19651                   4.70                         4.70   \n",
              "19652                   4.70                         4.70   \n",
              "19653                   4.70                         4.70   \n",
              "19654                   4.70                         4.70   \n",
              "\n",
              "       review_scores_location  review_scores_value  \\\n",
              "0                        4.63                 4.74   \n",
              "1                        4.69                 4.80   \n",
              "2                        4.74                 4.32   \n",
              "3                        4.63                 4.50   \n",
              "4                        4.91                 4.36   \n",
              "...                       ...                  ...   \n",
              "19650                    4.70                 4.40   \n",
              "19651                    4.70                 4.40   \n",
              "19652                    4.70                 4.40   \n",
              "19653                    4.70                 4.40   \n",
              "19654                    4.70                 4.40   \n",
              "\n",
              "       calculated_host_listings_count  \\\n",
              "0                                 1.0   \n",
              "1                                 1.0   \n",
              "2                                 2.0   \n",
              "3                                 6.0   \n",
              "4                                 1.0   \n",
              "...                               ...   \n",
              "19650                            34.0   \n",
              "19651                             1.0   \n",
              "19652                             9.0   \n",
              "19653                            54.0   \n",
              "19654                             9.0   \n",
              "\n",
              "       calculated_host_listings_count_entire_homes  \\\n",
              "0                                              0.0   \n",
              "1                                              0.0   \n",
              "2                                              2.0   \n",
              "3                                              1.0   \n",
              "4                                              1.0   \n",
              "...                                            ...   \n",
              "19650                                         34.0   \n",
              "19651                                          1.0   \n",
              "19652                                          9.0   \n",
              "19653                                         54.0   \n",
              "19654                                          9.0   \n",
              "\n",
              "       calculated_host_listings_count_private_rooms  \\\n",
              "0                                               NaN   \n",
              "1                                               NaN   \n",
              "2                                               0.0   \n",
              "3                                               NaN   \n",
              "4                                               0.0   \n",
              "...                                             ...   \n",
              "19650                                           0.0   \n",
              "19651                                           0.0   \n",
              "19652                                           0.0   \n",
              "19653                                           0.0   \n",
              "19654                                           0.0   \n",
              "\n",
              "       calculated_host_listings_count_shared_rooms  reviews_per_month  \n",
              "0                                              0.0               0.37  \n",
              "1                                              0.0               0.51  \n",
              "2                                              0.0               0.62  \n",
              "3                                              0.0               0.08  \n",
              "4                                              0.0               0.09  \n",
              "...                                            ...                ...  \n",
              "19650                                          0.0               0.50  \n",
              "19651                                          0.0               0.50  \n",
              "19652                                          0.0               0.50  \n",
              "19653                                          0.0               0.50  \n",
              "19654                                          0.0               0.50  \n",
              "\n",
              "[19655 rows x 40 columns]"
            ],
            "text/html": [
              "\n",
              "  <div id=\"df-bb3ab02c-1963-467e-8a81-bf2668cf3165\">\n",
              "    <div class=\"colab-df-container\">\n",
              "      <div>\n",
              "<style scoped>\n",
              "    .dataframe tbody tr th:only-of-type {\n",
              "        vertical-align: middle;\n",
              "    }\n",
              "\n",
              "    .dataframe tbody tr th {\n",
              "        vertical-align: top;\n",
              "    }\n",
              "\n",
              "    .dataframe thead th {\n",
              "        text-align: right;\n",
              "    }\n",
              "</style>\n",
              "<table border=\"1\" class=\"dataframe\">\n",
              "  <thead>\n",
              "    <tr style=\"text-align: right;\">\n",
              "      <th></th>\n",
              "      <th>id</th>\n",
              "      <th>scrape_id</th>\n",
              "      <th>host_id</th>\n",
              "      <th>host_listings_count</th>\n",
              "      <th>host_total_listings_count</th>\n",
              "      <th>neighbourhood_group_cleansed</th>\n",
              "      <th>latitude</th>\n",
              "      <th>longitude</th>\n",
              "      <th>accommodates</th>\n",
              "      <th>bathrooms</th>\n",
              "      <th>...</th>\n",
              "      <th>review_scores_cleanliness</th>\n",
              "      <th>review_scores_checkin</th>\n",
              "      <th>review_scores_communication</th>\n",
              "      <th>review_scores_location</th>\n",
              "      <th>review_scores_value</th>\n",
              "      <th>calculated_host_listings_count</th>\n",
              "      <th>calculated_host_listings_count_entire_homes</th>\n",
              "      <th>calculated_host_listings_count_private_rooms</th>\n",
              "      <th>calculated_host_listings_count_shared_rooms</th>\n",
              "      <th>reviews_per_month</th>\n",
              "    </tr>\n",
              "  </thead>\n",
              "  <tbody>\n",
              "    <tr>\n",
              "      <th>0</th>\n",
              "      <td>1.455100e+04</td>\n",
              "      <td>2.023030e+13</td>\n",
              "      <td>57237</td>\n",
              "      <td>1.0</td>\n",
              "      <td>5.0</td>\n",
              "      <td>NaN</td>\n",
              "      <td>41.996500</td>\n",
              "      <td>2.836460</td>\n",
              "      <td>2.0</td>\n",
              "      <td>NaN</td>\n",
              "      <td>...</td>\n",
              "      <td>4.94</td>\n",
              "      <td>4.89</td>\n",
              "      <td>4.91</td>\n",
              "      <td>4.63</td>\n",
              "      <td>4.74</td>\n",
              "      <td>1.0</td>\n",
              "      <td>0.0</td>\n",
              "      <td>NaN</td>\n",
              "      <td>0.0</td>\n",
              "      <td>0.37</td>\n",
              "    </tr>\n",
              "    <tr>\n",
              "      <th>1</th>\n",
              "      <td>1.205757e+06</td>\n",
              "      <td>2.023030e+13</td>\n",
              "      <td>6586355</td>\n",
              "      <td>1.0</td>\n",
              "      <td>1.0</td>\n",
              "      <td>NaN</td>\n",
              "      <td>41.793040</td>\n",
              "      <td>2.774120</td>\n",
              "      <td>2.0</td>\n",
              "      <td>NaN</td>\n",
              "      <td>...</td>\n",
              "      <td>4.85</td>\n",
              "      <td>4.85</td>\n",
              "      <td>4.91</td>\n",
              "      <td>4.69</td>\n",
              "      <td>4.80</td>\n",
              "      <td>1.0</td>\n",
              "      <td>0.0</td>\n",
              "      <td>NaN</td>\n",
              "      <td>0.0</td>\n",
              "      <td>0.51</td>\n",
              "    </tr>\n",
              "    <tr>\n",
              "      <th>2</th>\n",
              "      <td>1.212820e+06</td>\n",
              "      <td>2.023030e+13</td>\n",
              "      <td>6620645</td>\n",
              "      <td>2.0</td>\n",
              "      <td>3.0</td>\n",
              "      <td>NaN</td>\n",
              "      <td>42.112840</td>\n",
              "      <td>3.166700</td>\n",
              "      <td>4.0</td>\n",
              "      <td>NaN</td>\n",
              "      <td>...</td>\n",
              "      <td>4.31</td>\n",
              "      <td>4.81</td>\n",
              "      <td>4.76</td>\n",
              "      <td>4.74</td>\n",
              "      <td>4.32</td>\n",
              "      <td>2.0</td>\n",
              "      <td>2.0</td>\n",
              "      <td>0.0</td>\n",
              "      <td>0.0</td>\n",
              "      <td>0.62</td>\n",
              "    </tr>\n",
              "    <tr>\n",
              "      <th>3</th>\n",
              "      <td>7.516380e+05</td>\n",
              "      <td>2.023030e+13</td>\n",
              "      <td>3680160</td>\n",
              "      <td>6.0</td>\n",
              "      <td>6.0</td>\n",
              "      <td>NaN</td>\n",
              "      <td>42.369580</td>\n",
              "      <td>2.980300</td>\n",
              "      <td>2.0</td>\n",
              "      <td>NaN</td>\n",
              "      <td>...</td>\n",
              "      <td>4.50</td>\n",
              "      <td>4.86</td>\n",
              "      <td>5.00</td>\n",
              "      <td>4.63</td>\n",
              "      <td>4.50</td>\n",
              "      <td>6.0</td>\n",
              "      <td>1.0</td>\n",
              "      <td>NaN</td>\n",
              "      <td>0.0</td>\n",
              "      <td>0.08</td>\n",
              "    </tr>\n",
              "    <tr>\n",
              "      <th>4</th>\n",
              "      <td>4.134200e+04</td>\n",
              "      <td>2.023030e+13</td>\n",
              "      <td>180072</td>\n",
              "      <td>2.0</td>\n",
              "      <td>3.0</td>\n",
              "      <td>NaN</td>\n",
              "      <td>42.346550</td>\n",
              "      <td>3.204630</td>\n",
              "      <td>4.0</td>\n",
              "      <td>NaN</td>\n",
              "      <td>...</td>\n",
              "      <td>4.82</td>\n",
              "      <td>4.73</td>\n",
              "      <td>4.73</td>\n",
              "      <td>4.91</td>\n",
              "      <td>4.36</td>\n",
              "      <td>1.0</td>\n",
              "      <td>1.0</td>\n",
              "      <td>0.0</td>\n",
              "      <td>0.0</td>\n",
              "      <td>0.09</td>\n",
              "    </tr>\n",
              "    <tr>\n",
              "      <th>...</th>\n",
              "      <td>...</td>\n",
              "      <td>...</td>\n",
              "      <td>...</td>\n",
              "      <td>...</td>\n",
              "      <td>...</td>\n",
              "      <td>...</td>\n",
              "      <td>...</td>\n",
              "      <td>...</td>\n",
              "      <td>...</td>\n",
              "      <td>...</td>\n",
              "      <td>...</td>\n",
              "      <td>...</td>\n",
              "      <td>...</td>\n",
              "      <td>...</td>\n",
              "      <td>...</td>\n",
              "      <td>...</td>\n",
              "      <td>...</td>\n",
              "      <td>...</td>\n",
              "      <td>...</td>\n",
              "      <td>...</td>\n",
              "      <td>...</td>\n",
              "    </tr>\n",
              "    <tr>\n",
              "      <th>19650</th>\n",
              "      <td>8.583870e+17</td>\n",
              "      <td>2.023030e+13</td>\n",
              "      <td>26281633</td>\n",
              "      <td>34.0</td>\n",
              "      <td>44.0</td>\n",
              "      <td>NaN</td>\n",
              "      <td>41.957265</td>\n",
              "      <td>3.201288</td>\n",
              "      <td>8.0</td>\n",
              "      <td>NaN</td>\n",
              "      <td>...</td>\n",
              "      <td>4.50</td>\n",
              "      <td>4.70</td>\n",
              "      <td>4.70</td>\n",
              "      <td>4.70</td>\n",
              "      <td>4.40</td>\n",
              "      <td>34.0</td>\n",
              "      <td>34.0</td>\n",
              "      <td>0.0</td>\n",
              "      <td>0.0</td>\n",
              "      <td>0.50</td>\n",
              "    </tr>\n",
              "    <tr>\n",
              "      <th>19651</th>\n",
              "      <td>8.583960e+17</td>\n",
              "      <td>2.023030e+13</td>\n",
              "      <td>444428600</td>\n",
              "      <td>3.0</td>\n",
              "      <td>3.0</td>\n",
              "      <td>NaN</td>\n",
              "      <td>41.699070</td>\n",
              "      <td>2.844080</td>\n",
              "      <td>4.0</td>\n",
              "      <td>NaN</td>\n",
              "      <td>...</td>\n",
              "      <td>4.50</td>\n",
              "      <td>4.70</td>\n",
              "      <td>4.70</td>\n",
              "      <td>4.70</td>\n",
              "      <td>4.40</td>\n",
              "      <td>1.0</td>\n",
              "      <td>1.0</td>\n",
              "      <td>0.0</td>\n",
              "      <td>0.0</td>\n",
              "      <td>0.50</td>\n",
              "    </tr>\n",
              "    <tr>\n",
              "      <th>19652</th>\n",
              "      <td>8.584110e+17</td>\n",
              "      <td>2.023030e+13</td>\n",
              "      <td>491503593</td>\n",
              "      <td>9.0</td>\n",
              "      <td>11.0</td>\n",
              "      <td>NaN</td>\n",
              "      <td>41.813720</td>\n",
              "      <td>3.064465</td>\n",
              "      <td>4.0</td>\n",
              "      <td>NaN</td>\n",
              "      <td>...</td>\n",
              "      <td>4.50</td>\n",
              "      <td>4.70</td>\n",
              "      <td>4.70</td>\n",
              "      <td>4.70</td>\n",
              "      <td>4.40</td>\n",
              "      <td>9.0</td>\n",
              "      <td>9.0</td>\n",
              "      <td>0.0</td>\n",
              "      <td>0.0</td>\n",
              "      <td>0.50</td>\n",
              "    </tr>\n",
              "    <tr>\n",
              "      <th>19653</th>\n",
              "      <td>8.584180e+17</td>\n",
              "      <td>2.023030e+13</td>\n",
              "      <td>389605038</td>\n",
              "      <td>111.0</td>\n",
              "      <td>121.0</td>\n",
              "      <td>NaN</td>\n",
              "      <td>41.809375</td>\n",
              "      <td>3.053910</td>\n",
              "      <td>4.0</td>\n",
              "      <td>NaN</td>\n",
              "      <td>...</td>\n",
              "      <td>4.50</td>\n",
              "      <td>4.70</td>\n",
              "      <td>4.70</td>\n",
              "      <td>4.70</td>\n",
              "      <td>4.40</td>\n",
              "      <td>54.0</td>\n",
              "      <td>54.0</td>\n",
              "      <td>0.0</td>\n",
              "      <td>0.0</td>\n",
              "      <td>0.50</td>\n",
              "    </tr>\n",
              "    <tr>\n",
              "      <th>19654</th>\n",
              "      <td>8.584240e+17</td>\n",
              "      <td>2.023030e+13</td>\n",
              "      <td>491503593</td>\n",
              "      <td>9.0</td>\n",
              "      <td>11.0</td>\n",
              "      <td>NaN</td>\n",
              "      <td>41.810169</td>\n",
              "      <td>3.066358</td>\n",
              "      <td>5.0</td>\n",
              "      <td>NaN</td>\n",
              "      <td>...</td>\n",
              "      <td>4.50</td>\n",
              "      <td>4.70</td>\n",
              "      <td>4.70</td>\n",
              "      <td>4.70</td>\n",
              "      <td>4.40</td>\n",
              "      <td>9.0</td>\n",
              "      <td>9.0</td>\n",
              "      <td>0.0</td>\n",
              "      <td>0.0</td>\n",
              "      <td>0.50</td>\n",
              "    </tr>\n",
              "  </tbody>\n",
              "</table>\n",
              "<p>19655 rows × 40 columns</p>\n",
              "</div>\n",
              "      <button class=\"colab-df-convert\" onclick=\"convertToInteractive('df-bb3ab02c-1963-467e-8a81-bf2668cf3165')\"\n",
              "              title=\"Convert this dataframe to an interactive table.\"\n",
              "              style=\"display:none;\">\n",
              "        \n",
              "  <svg xmlns=\"http://www.w3.org/2000/svg\" height=\"24px\"viewBox=\"0 0 24 24\"\n",
              "       width=\"24px\">\n",
              "    <path d=\"M0 0h24v24H0V0z\" fill=\"none\"/>\n",
              "    <path d=\"M18.56 5.44l.94 2.06.94-2.06 2.06-.94-2.06-.94-.94-2.06-.94 2.06-2.06.94zm-11 1L8.5 8.5l.94-2.06 2.06-.94-2.06-.94L8.5 2.5l-.94 2.06-2.06.94zm10 10l.94 2.06.94-2.06 2.06-.94-2.06-.94-.94-2.06-.94 2.06-2.06.94z\"/><path d=\"M17.41 7.96l-1.37-1.37c-.4-.4-.92-.59-1.43-.59-.52 0-1.04.2-1.43.59L10.3 9.45l-7.72 7.72c-.78.78-.78 2.05 0 2.83L4 21.41c.39.39.9.59 1.41.59.51 0 1.02-.2 1.41-.59l7.78-7.78 2.81-2.81c.8-.78.8-2.07 0-2.86zM5.41 20L4 18.59l7.72-7.72 1.47 1.35L5.41 20z\"/>\n",
              "  </svg>\n",
              "      </button>\n",
              "      \n",
              "  <style>\n",
              "    .colab-df-container {\n",
              "      display:flex;\n",
              "      flex-wrap:wrap;\n",
              "      gap: 12px;\n",
              "    }\n",
              "\n",
              "    .colab-df-convert {\n",
              "      background-color: #E8F0FE;\n",
              "      border: none;\n",
              "      border-radius: 50%;\n",
              "      cursor: pointer;\n",
              "      display: none;\n",
              "      fill: #1967D2;\n",
              "      height: 32px;\n",
              "      padding: 0 0 0 0;\n",
              "      width: 32px;\n",
              "    }\n",
              "\n",
              "    .colab-df-convert:hover {\n",
              "      background-color: #E2EBFA;\n",
              "      box-shadow: 0px 1px 2px rgba(60, 64, 67, 0.3), 0px 1px 3px 1px rgba(60, 64, 67, 0.15);\n",
              "      fill: #174EA6;\n",
              "    }\n",
              "\n",
              "    [theme=dark] .colab-df-convert {\n",
              "      background-color: #3B4455;\n",
              "      fill: #D2E3FC;\n",
              "    }\n",
              "\n",
              "    [theme=dark] .colab-df-convert:hover {\n",
              "      background-color: #434B5C;\n",
              "      box-shadow: 0px 1px 3px 1px rgba(0, 0, 0, 0.15);\n",
              "      filter: drop-shadow(0px 1px 2px rgba(0, 0, 0, 0.3));\n",
              "      fill: #FFFFFF;\n",
              "    }\n",
              "  </style>\n",
              "\n",
              "      <script>\n",
              "        const buttonEl =\n",
              "          document.querySelector('#df-bb3ab02c-1963-467e-8a81-bf2668cf3165 button.colab-df-convert');\n",
              "        buttonEl.style.display =\n",
              "          google.colab.kernel.accessAllowed ? 'block' : 'none';\n",
              "\n",
              "        async function convertToInteractive(key) {\n",
              "          const element = document.querySelector('#df-bb3ab02c-1963-467e-8a81-bf2668cf3165');\n",
              "          const dataTable =\n",
              "            await google.colab.kernel.invokeFunction('convertToInteractive',\n",
              "                                                     [key], {});\n",
              "          if (!dataTable) return;\n",
              "\n",
              "          const docLinkHtml = 'Like what you see? Visit the ' +\n",
              "            '<a target=\"_blank\" href=https://colab.research.google.com/notebooks/data_table.ipynb>data table notebook</a>'\n",
              "            + ' to learn more about interactive tables.';\n",
              "          element.innerHTML = '';\n",
              "          dataTable['output_type'] = 'display_data';\n",
              "          await google.colab.output.renderOutput(dataTable, element);\n",
              "          const docLink = document.createElement('div');\n",
              "          docLink.innerHTML = docLinkHtml;\n",
              "          element.appendChild(docLink);\n",
              "        }\n",
              "      </script>\n",
              "    </div>\n",
              "  </div>\n",
              "  "
            ]
          },
          "metadata": {},
          "execution_count": 89
        }
      ]
    },
    {
      "cell_type": "code",
      "source": [
        "espNum_iqr.isnull().sum()"
      ],
      "metadata": {
        "colab": {
          "base_uri": "https://localhost:8080/"
        },
        "outputId": "77a6a020-6671-4991-e8ae-0e314394c347",
        "id": "-1FKJPxT6eCE"
      },
      "execution_count": 90,
      "outputs": [
        {
          "output_type": "execute_result",
          "data": {
            "text/plain": [
              "id                                                  0\n",
              "scrape_id                                           0\n",
              "host_id                                             0\n",
              "host_listings_count                              1682\n",
              "host_total_listings_count                        2447\n",
              "neighbourhood_group_cleansed                    19655\n",
              "latitude                                            0\n",
              "longitude                                         926\n",
              "accommodates                                     1616\n",
              "bathrooms                                       19655\n",
              "bedrooms                                         1355\n",
              "beds                                              565\n",
              "minimum_nights                                    449\n",
              "maximum_nights                                      0\n",
              "minimum_minimum_nights                            434\n",
              "maximum_minimum_nights                           1009\n",
              "minimum_maximum_nights                              0\n",
              "maximum_maximum_nights                              0\n",
              "minimum_nights_avg_ntm                            607\n",
              "maximum_nights_avg_ntm                              0\n",
              "calendar_updated                                19655\n",
              "availability_30                                     0\n",
              "availability_60                                     0\n",
              "availability_90                                     0\n",
              "availability_365                                    0\n",
              "number_of_reviews                                2247\n",
              "number_of_reviews_ltm                            1855\n",
              "number_of_reviews_l30d                           1575\n",
              "review_scores_rating                             2229\n",
              "review_scores_accuracy                           1751\n",
              "review_scores_cleanliness                        1359\n",
              "review_scores_checkin                            1627\n",
              "review_scores_communication                      1590\n",
              "review_scores_location                           1502\n",
              "review_scores_value                              1482\n",
              "calculated_host_listings_count                   1679\n",
              "calculated_host_listings_count_entire_homes      1549\n",
              "calculated_host_listings_count_private_rooms     2881\n",
              "calculated_host_listings_count_shared_rooms       181\n",
              "reviews_per_month                                1887\n",
              "dtype: int64"
            ]
          },
          "metadata": {},
          "execution_count": 90
        }
      ]
    },
    {
      "cell_type": "code",
      "source": [
        "espNum_iqr = espNum_iqr.fillna(round(espNum_iqr.mean(),1))\n",
        "# Eliminación de columnas que no contienen ningún dato\n",
        "espNum_iqr = espNum_iqr.drop(['neighbourhood_group_cleansed','bathrooms','calendar_updated'], axis = 1)\n",
        "espNum_iqr.isnull().sum()"
      ],
      "metadata": {
        "colab": {
          "base_uri": "https://localhost:8080/"
        },
        "outputId": "01d5b7ad-e599-41e1-d9e9-7717bcbff0b5",
        "id": "PNBXzg2k6eCE"
      },
      "execution_count": 91,
      "outputs": [
        {
          "output_type": "execute_result",
          "data": {
            "text/plain": [
              "id                                              0\n",
              "scrape_id                                       0\n",
              "host_id                                         0\n",
              "host_listings_count                             0\n",
              "host_total_listings_count                       0\n",
              "latitude                                        0\n",
              "longitude                                       0\n",
              "accommodates                                    0\n",
              "bedrooms                                        0\n",
              "beds                                            0\n",
              "minimum_nights                                  0\n",
              "maximum_nights                                  0\n",
              "minimum_minimum_nights                          0\n",
              "maximum_minimum_nights                          0\n",
              "minimum_maximum_nights                          0\n",
              "maximum_maximum_nights                          0\n",
              "minimum_nights_avg_ntm                          0\n",
              "maximum_nights_avg_ntm                          0\n",
              "availability_30                                 0\n",
              "availability_60                                 0\n",
              "availability_90                                 0\n",
              "availability_365                                0\n",
              "number_of_reviews                               0\n",
              "number_of_reviews_ltm                           0\n",
              "number_of_reviews_l30d                          0\n",
              "review_scores_rating                            0\n",
              "review_scores_accuracy                          0\n",
              "review_scores_cleanliness                       0\n",
              "review_scores_checkin                           0\n",
              "review_scores_communication                     0\n",
              "review_scores_location                          0\n",
              "review_scores_value                             0\n",
              "calculated_host_listings_count                  0\n",
              "calculated_host_listings_count_entire_homes     0\n",
              "calculated_host_listings_count_private_rooms    0\n",
              "calculated_host_listings_count_shared_rooms     0\n",
              "reviews_per_month                               0\n",
              "dtype: int64"
            ]
          },
          "metadata": {},
          "execution_count": 91
        }
      ]
    },
    {
      "cell_type": "code",
      "source": [
        "españa = pd.concat([espObj,espNum_iqr], axis=1)\n",
        "españa.head()"
      ],
      "metadata": {
        "colab": {
          "base_uri": "https://localhost:8080/",
          "height": 612
        },
        "outputId": "9dafc043-927b-4dbf-b57e-6efe0985bc1b",
        "id": "u7arsldn6eCF"
      },
      "execution_count": 92,
      "outputs": [
        {
          "output_type": "execute_result",
          "data": {
            "text/plain": [
              "                            listing_url last_scraped           source  \\\n",
              "0    https://www.airbnb.com/rooms/14551   31/03/2023      city scrape   \n",
              "1  https://www.airbnb.com/rooms/1205757   31/03/2023      city scrape   \n",
              "2  https://www.airbnb.com/rooms/1212820   01/04/2023      city scrape   \n",
              "3   https://www.airbnb.com/rooms/751638   31/03/2023      city scrape   \n",
              "4    https://www.airbnb.com/rooms/41342   01/04/2023  previous scrape   \n",
              "\n",
              "                                       name  \\\n",
              "0  Cozy & Colorful by Nature (Private Room)   \n",
              "1       HabitaciÃ³n doble + baÃ±o y terraza   \n",
              "2       Apartment port de rei stunning wiew   \n",
              "3       Room Limon - Casa Pati de lÂ´Albera   \n",
              "4         Beachfront Tamariua (Costa Brava)   \n",
              "\n",
              "                                         description  \\\n",
              "0  Up in the hill of MontjuÃ¯c (a mountain overlo...   \n",
              "1  <b>The space</b><br />HabitaciÃ³n confortable ...   \n",
              "2  <b>The space</b><br />Apartments first line un...   \n",
              "3  <b>The space</b><br />Nice room with 2 individ...   \n",
              "4  A little paradise by the sea. Apartment 2/4 ad...   \n",
              "\n",
              "                               neighborhood_overview  \\\n",
              "0  MontjuÃ¯c is most likely the best neighborhood...   \n",
              "1  Bonitas playas a 15 minutos en coche. Piscina ...   \n",
              "2                                          Sin datos   \n",
              "3  Sant Climent is a tiny village, with a populat...   \n",
              "4  Apartment located outside the town on a small ...   \n",
              "\n",
              "                                         picture_url  \\\n",
              "0  https://a0.muscache.com/pictures/16209908/f1fe...   \n",
              "1  https://a0.muscache.com/pictures/02e0a61e-078e...   \n",
              "2  https://a0.muscache.com/pictures/18245529/0886...   \n",
              "3  https://a0.muscache.com/pictures/64276178/98d1...   \n",
              "4  https://a0.muscache.com/pictures/70414801/59d4...   \n",
              "\n",
              "                                    host_url host_name  host_since  ...  \\\n",
              "0    https://www.airbnb.com/users/show/57237       Mun  24/11/2009  ...   \n",
              "1  https://www.airbnb.com/users/show/6586355    Montse  26/05/2013  ...   \n",
              "2  https://www.airbnb.com/users/show/6620645    Myriam  28/05/2013  ...   \n",
              "3  https://www.airbnb.com/users/show/3680160   Roberto  26/09/2012  ...   \n",
              "4   https://www.airbnb.com/users/show/180072    Marisa  25/07/2010  ...   \n",
              "\n",
              "  review_scores_cleanliness review_scores_checkin review_scores_communication  \\\n",
              "0                      4.94                  4.89                        4.91   \n",
              "1                      4.85                  4.85                        4.91   \n",
              "2                      4.31                  4.81                        4.76   \n",
              "3                      4.50                  4.86                        5.00   \n",
              "4                      4.82                  4.73                        4.73   \n",
              "\n",
              "  review_scores_location review_scores_value calculated_host_listings_count  \\\n",
              "0                   4.63                4.74                            1.0   \n",
              "1                   4.69                4.80                            1.0   \n",
              "2                   4.74                4.32                            2.0   \n",
              "3                   4.63                4.50                            6.0   \n",
              "4                   4.91                4.36                            1.0   \n",
              "\n",
              "  calculated_host_listings_count_entire_homes  \\\n",
              "0                                         0.0   \n",
              "1                                         0.0   \n",
              "2                                         2.0   \n",
              "3                                         1.0   \n",
              "4                                         1.0   \n",
              "\n",
              "  calculated_host_listings_count_private_rooms  \\\n",
              "0                                          0.0   \n",
              "1                                          0.0   \n",
              "2                                          0.0   \n",
              "3                                          0.0   \n",
              "4                                          0.0   \n",
              "\n",
              "  calculated_host_listings_count_shared_rooms reviews_per_month  \n",
              "0                                         0.0              0.37  \n",
              "1                                         0.0              0.51  \n",
              "2                                         0.0              0.62  \n",
              "3                                         0.0              0.08  \n",
              "4                                         0.0              0.09  \n",
              "\n",
              "[5 rows x 72 columns]"
            ],
            "text/html": [
              "\n",
              "  <div id=\"df-d81fdbde-a4b4-4de4-9b27-c24929368499\">\n",
              "    <div class=\"colab-df-container\">\n",
              "      <div>\n",
              "<style scoped>\n",
              "    .dataframe tbody tr th:only-of-type {\n",
              "        vertical-align: middle;\n",
              "    }\n",
              "\n",
              "    .dataframe tbody tr th {\n",
              "        vertical-align: top;\n",
              "    }\n",
              "\n",
              "    .dataframe thead th {\n",
              "        text-align: right;\n",
              "    }\n",
              "</style>\n",
              "<table border=\"1\" class=\"dataframe\">\n",
              "  <thead>\n",
              "    <tr style=\"text-align: right;\">\n",
              "      <th></th>\n",
              "      <th>listing_url</th>\n",
              "      <th>last_scraped</th>\n",
              "      <th>source</th>\n",
              "      <th>name</th>\n",
              "      <th>description</th>\n",
              "      <th>neighborhood_overview</th>\n",
              "      <th>picture_url</th>\n",
              "      <th>host_url</th>\n",
              "      <th>host_name</th>\n",
              "      <th>host_since</th>\n",
              "      <th>...</th>\n",
              "      <th>review_scores_cleanliness</th>\n",
              "      <th>review_scores_checkin</th>\n",
              "      <th>review_scores_communication</th>\n",
              "      <th>review_scores_location</th>\n",
              "      <th>review_scores_value</th>\n",
              "      <th>calculated_host_listings_count</th>\n",
              "      <th>calculated_host_listings_count_entire_homes</th>\n",
              "      <th>calculated_host_listings_count_private_rooms</th>\n",
              "      <th>calculated_host_listings_count_shared_rooms</th>\n",
              "      <th>reviews_per_month</th>\n",
              "    </tr>\n",
              "  </thead>\n",
              "  <tbody>\n",
              "    <tr>\n",
              "      <th>0</th>\n",
              "      <td>https://www.airbnb.com/rooms/14551</td>\n",
              "      <td>31/03/2023</td>\n",
              "      <td>city scrape</td>\n",
              "      <td>Cozy &amp; Colorful by Nature (Private Room)</td>\n",
              "      <td>Up in the hill of MontjuÃ¯c (a mountain overlo...</td>\n",
              "      <td>MontjuÃ¯c is most likely the best neighborhood...</td>\n",
              "      <td>https://a0.muscache.com/pictures/16209908/f1fe...</td>\n",
              "      <td>https://www.airbnb.com/users/show/57237</td>\n",
              "      <td>Mun</td>\n",
              "      <td>24/11/2009</td>\n",
              "      <td>...</td>\n",
              "      <td>4.94</td>\n",
              "      <td>4.89</td>\n",
              "      <td>4.91</td>\n",
              "      <td>4.63</td>\n",
              "      <td>4.74</td>\n",
              "      <td>1.0</td>\n",
              "      <td>0.0</td>\n",
              "      <td>0.0</td>\n",
              "      <td>0.0</td>\n",
              "      <td>0.37</td>\n",
              "    </tr>\n",
              "    <tr>\n",
              "      <th>1</th>\n",
              "      <td>https://www.airbnb.com/rooms/1205757</td>\n",
              "      <td>31/03/2023</td>\n",
              "      <td>city scrape</td>\n",
              "      <td>HabitaciÃ³n doble + baÃ±o y terraza</td>\n",
              "      <td>&lt;b&gt;The space&lt;/b&gt;&lt;br /&gt;HabitaciÃ³n confortable ...</td>\n",
              "      <td>Bonitas playas a 15 minutos en coche. Piscina ...</td>\n",
              "      <td>https://a0.muscache.com/pictures/02e0a61e-078e...</td>\n",
              "      <td>https://www.airbnb.com/users/show/6586355</td>\n",
              "      <td>Montse</td>\n",
              "      <td>26/05/2013</td>\n",
              "      <td>...</td>\n",
              "      <td>4.85</td>\n",
              "      <td>4.85</td>\n",
              "      <td>4.91</td>\n",
              "      <td>4.69</td>\n",
              "      <td>4.80</td>\n",
              "      <td>1.0</td>\n",
              "      <td>0.0</td>\n",
              "      <td>0.0</td>\n",
              "      <td>0.0</td>\n",
              "      <td>0.51</td>\n",
              "    </tr>\n",
              "    <tr>\n",
              "      <th>2</th>\n",
              "      <td>https://www.airbnb.com/rooms/1212820</td>\n",
              "      <td>01/04/2023</td>\n",
              "      <td>city scrape</td>\n",
              "      <td>Apartment port de rei stunning wiew</td>\n",
              "      <td>&lt;b&gt;The space&lt;/b&gt;&lt;br /&gt;Apartments first line un...</td>\n",
              "      <td>Sin datos</td>\n",
              "      <td>https://a0.muscache.com/pictures/18245529/0886...</td>\n",
              "      <td>https://www.airbnb.com/users/show/6620645</td>\n",
              "      <td>Myriam</td>\n",
              "      <td>28/05/2013</td>\n",
              "      <td>...</td>\n",
              "      <td>4.31</td>\n",
              "      <td>4.81</td>\n",
              "      <td>4.76</td>\n",
              "      <td>4.74</td>\n",
              "      <td>4.32</td>\n",
              "      <td>2.0</td>\n",
              "      <td>2.0</td>\n",
              "      <td>0.0</td>\n",
              "      <td>0.0</td>\n",
              "      <td>0.62</td>\n",
              "    </tr>\n",
              "    <tr>\n",
              "      <th>3</th>\n",
              "      <td>https://www.airbnb.com/rooms/751638</td>\n",
              "      <td>31/03/2023</td>\n",
              "      <td>city scrape</td>\n",
              "      <td>Room Limon - Casa Pati de lÂ´Albera</td>\n",
              "      <td>&lt;b&gt;The space&lt;/b&gt;&lt;br /&gt;Nice room with 2 individ...</td>\n",
              "      <td>Sant Climent is a tiny village, with a populat...</td>\n",
              "      <td>https://a0.muscache.com/pictures/64276178/98d1...</td>\n",
              "      <td>https://www.airbnb.com/users/show/3680160</td>\n",
              "      <td>Roberto</td>\n",
              "      <td>26/09/2012</td>\n",
              "      <td>...</td>\n",
              "      <td>4.50</td>\n",
              "      <td>4.86</td>\n",
              "      <td>5.00</td>\n",
              "      <td>4.63</td>\n",
              "      <td>4.50</td>\n",
              "      <td>6.0</td>\n",
              "      <td>1.0</td>\n",
              "      <td>0.0</td>\n",
              "      <td>0.0</td>\n",
              "      <td>0.08</td>\n",
              "    </tr>\n",
              "    <tr>\n",
              "      <th>4</th>\n",
              "      <td>https://www.airbnb.com/rooms/41342</td>\n",
              "      <td>01/04/2023</td>\n",
              "      <td>previous scrape</td>\n",
              "      <td>Beachfront Tamariua (Costa Brava)</td>\n",
              "      <td>A little paradise by the sea. Apartment 2/4 ad...</td>\n",
              "      <td>Apartment located outside the town on a small ...</td>\n",
              "      <td>https://a0.muscache.com/pictures/70414801/59d4...</td>\n",
              "      <td>https://www.airbnb.com/users/show/180072</td>\n",
              "      <td>Marisa</td>\n",
              "      <td>25/07/2010</td>\n",
              "      <td>...</td>\n",
              "      <td>4.82</td>\n",
              "      <td>4.73</td>\n",
              "      <td>4.73</td>\n",
              "      <td>4.91</td>\n",
              "      <td>4.36</td>\n",
              "      <td>1.0</td>\n",
              "      <td>1.0</td>\n",
              "      <td>0.0</td>\n",
              "      <td>0.0</td>\n",
              "      <td>0.09</td>\n",
              "    </tr>\n",
              "  </tbody>\n",
              "</table>\n",
              "<p>5 rows × 72 columns</p>\n",
              "</div>\n",
              "      <button class=\"colab-df-convert\" onclick=\"convertToInteractive('df-d81fdbde-a4b4-4de4-9b27-c24929368499')\"\n",
              "              title=\"Convert this dataframe to an interactive table.\"\n",
              "              style=\"display:none;\">\n",
              "        \n",
              "  <svg xmlns=\"http://www.w3.org/2000/svg\" height=\"24px\"viewBox=\"0 0 24 24\"\n",
              "       width=\"24px\">\n",
              "    <path d=\"M0 0h24v24H0V0z\" fill=\"none\"/>\n",
              "    <path d=\"M18.56 5.44l.94 2.06.94-2.06 2.06-.94-2.06-.94-.94-2.06-.94 2.06-2.06.94zm-11 1L8.5 8.5l.94-2.06 2.06-.94-2.06-.94L8.5 2.5l-.94 2.06-2.06.94zm10 10l.94 2.06.94-2.06 2.06-.94-2.06-.94-.94-2.06-.94 2.06-2.06.94z\"/><path d=\"M17.41 7.96l-1.37-1.37c-.4-.4-.92-.59-1.43-.59-.52 0-1.04.2-1.43.59L10.3 9.45l-7.72 7.72c-.78.78-.78 2.05 0 2.83L4 21.41c.39.39.9.59 1.41.59.51 0 1.02-.2 1.41-.59l7.78-7.78 2.81-2.81c.8-.78.8-2.07 0-2.86zM5.41 20L4 18.59l7.72-7.72 1.47 1.35L5.41 20z\"/>\n",
              "  </svg>\n",
              "      </button>\n",
              "      \n",
              "  <style>\n",
              "    .colab-df-container {\n",
              "      display:flex;\n",
              "      flex-wrap:wrap;\n",
              "      gap: 12px;\n",
              "    }\n",
              "\n",
              "    .colab-df-convert {\n",
              "      background-color: #E8F0FE;\n",
              "      border: none;\n",
              "      border-radius: 50%;\n",
              "      cursor: pointer;\n",
              "      display: none;\n",
              "      fill: #1967D2;\n",
              "      height: 32px;\n",
              "      padding: 0 0 0 0;\n",
              "      width: 32px;\n",
              "    }\n",
              "\n",
              "    .colab-df-convert:hover {\n",
              "      background-color: #E2EBFA;\n",
              "      box-shadow: 0px 1px 2px rgba(60, 64, 67, 0.3), 0px 1px 3px 1px rgba(60, 64, 67, 0.15);\n",
              "      fill: #174EA6;\n",
              "    }\n",
              "\n",
              "    [theme=dark] .colab-df-convert {\n",
              "      background-color: #3B4455;\n",
              "      fill: #D2E3FC;\n",
              "    }\n",
              "\n",
              "    [theme=dark] .colab-df-convert:hover {\n",
              "      background-color: #434B5C;\n",
              "      box-shadow: 0px 1px 3px 1px rgba(0, 0, 0, 0.15);\n",
              "      filter: drop-shadow(0px 1px 2px rgba(0, 0, 0, 0.3));\n",
              "      fill: #FFFFFF;\n",
              "    }\n",
              "  </style>\n",
              "\n",
              "      <script>\n",
              "        const buttonEl =\n",
              "          document.querySelector('#df-d81fdbde-a4b4-4de4-9b27-c24929368499 button.colab-df-convert');\n",
              "        buttonEl.style.display =\n",
              "          google.colab.kernel.accessAllowed ? 'block' : 'none';\n",
              "\n",
              "        async function convertToInteractive(key) {\n",
              "          const element = document.querySelector('#df-d81fdbde-a4b4-4de4-9b27-c24929368499');\n",
              "          const dataTable =\n",
              "            await google.colab.kernel.invokeFunction('convertToInteractive',\n",
              "                                                     [key], {});\n",
              "          if (!dataTable) return;\n",
              "\n",
              "          const docLinkHtml = 'Like what you see? Visit the ' +\n",
              "            '<a target=\"_blank\" href=https://colab.research.google.com/notebooks/data_table.ipynb>data table notebook</a>'\n",
              "            + ' to learn more about interactive tables.';\n",
              "          element.innerHTML = '';\n",
              "          dataTable['output_type'] = 'display_data';\n",
              "          await google.colab.output.renderOutput(dataTable, element);\n",
              "          const docLink = document.createElement('div');\n",
              "          docLink.innerHTML = docLinkHtml;\n",
              "          element.appendChild(docLink);\n",
              "        }\n",
              "      </script>\n",
              "    </div>\n",
              "  </div>\n",
              "  "
            ]
          },
          "metadata": {},
          "execution_count": 92
        }
      ]
    },
    {
      "cell_type": "markdown",
      "source": [
        "### **Descarga de bases de datos limpios**"
      ],
      "metadata": {
        "id": "sOE4fHR12axG"
      }
    },
    {
      "cell_type": "code",
      "source": [
        "mexico.to_csv(\"mexico_limpio.csv\")\n",
        "files.download(\"mexico_limpio.csv\")\n",
        "\n",
        "usa.to_csv(\"usa_limpio.csv\")\n",
        "files.download(\"usa_limpio.csv\")\n",
        "\n",
        "españa.to_csv(\"españa_limpio.csv\")\n",
        "files.download(\"españa_limpio.csv\")"
      ],
      "metadata": {
        "id": "aTLrBekY5z66",
        "colab": {
          "base_uri": "https://localhost:8080/",
          "height": 17
        },
        "outputId": "acb9e72f-4168-4225-c96b-a53a17c65e88"
      },
      "execution_count": 95,
      "outputs": [
        {
          "output_type": "display_data",
          "data": {
            "text/plain": [
              "<IPython.core.display.Javascript object>"
            ],
            "application/javascript": [
              "\n",
              "    async function download(id, filename, size) {\n",
              "      if (!google.colab.kernel.accessAllowed) {\n",
              "        return;\n",
              "      }\n",
              "      const div = document.createElement('div');\n",
              "      const label = document.createElement('label');\n",
              "      label.textContent = `Downloading \"${filename}\": `;\n",
              "      div.appendChild(label);\n",
              "      const progress = document.createElement('progress');\n",
              "      progress.max = size;\n",
              "      div.appendChild(progress);\n",
              "      document.body.appendChild(div);\n",
              "\n",
              "      const buffers = [];\n",
              "      let downloaded = 0;\n",
              "\n",
              "      const channel = await google.colab.kernel.comms.open(id);\n",
              "      // Send a message to notify the kernel that we're ready.\n",
              "      channel.send({})\n",
              "\n",
              "      for await (const message of channel.messages) {\n",
              "        // Send a message to notify the kernel that we're ready.\n",
              "        channel.send({})\n",
              "        if (message.buffers) {\n",
              "          for (const buffer of message.buffers) {\n",
              "            buffers.push(buffer);\n",
              "            downloaded += buffer.byteLength;\n",
              "            progress.value = downloaded;\n",
              "          }\n",
              "        }\n",
              "      }\n",
              "      const blob = new Blob(buffers, {type: 'application/binary'});\n",
              "      const a = document.createElement('a');\n",
              "      a.href = window.URL.createObjectURL(blob);\n",
              "      a.download = filename;\n",
              "      div.appendChild(a);\n",
              "      a.click();\n",
              "      div.remove();\n",
              "    }\n",
              "  "
            ]
          },
          "metadata": {}
        },
        {
          "output_type": "display_data",
          "data": {
            "text/plain": [
              "<IPython.core.display.Javascript object>"
            ],
            "application/javascript": [
              "download(\"download_fb0841ea-9e21-402c-963a-c3c0ab19b82f\", \"mexico_limpio.csv\", 62197019)"
            ]
          },
          "metadata": {}
        },
        {
          "output_type": "display_data",
          "data": {
            "text/plain": [
              "<IPython.core.display.Javascript object>"
            ],
            "application/javascript": [
              "\n",
              "    async function download(id, filename, size) {\n",
              "      if (!google.colab.kernel.accessAllowed) {\n",
              "        return;\n",
              "      }\n",
              "      const div = document.createElement('div');\n",
              "      const label = document.createElement('label');\n",
              "      label.textContent = `Downloading \"${filename}\": `;\n",
              "      div.appendChild(label);\n",
              "      const progress = document.createElement('progress');\n",
              "      progress.max = size;\n",
              "      div.appendChild(progress);\n",
              "      document.body.appendChild(div);\n",
              "\n",
              "      const buffers = [];\n",
              "      let downloaded = 0;\n",
              "\n",
              "      const channel = await google.colab.kernel.comms.open(id);\n",
              "      // Send a message to notify the kernel that we're ready.\n",
              "      channel.send({})\n",
              "\n",
              "      for await (const message of channel.messages) {\n",
              "        // Send a message to notify the kernel that we're ready.\n",
              "        channel.send({})\n",
              "        if (message.buffers) {\n",
              "          for (const buffer of message.buffers) {\n",
              "            buffers.push(buffer);\n",
              "            downloaded += buffer.byteLength;\n",
              "            progress.value = downloaded;\n",
              "          }\n",
              "        }\n",
              "      }\n",
              "      const blob = new Blob(buffers, {type: 'application/binary'});\n",
              "      const a = document.createElement('a');\n",
              "      a.href = window.URL.createObjectURL(blob);\n",
              "      a.download = filename;\n",
              "      div.appendChild(a);\n",
              "      a.click();\n",
              "      div.remove();\n",
              "    }\n",
              "  "
            ]
          },
          "metadata": {}
        },
        {
          "output_type": "display_data",
          "data": {
            "text/plain": [
              "<IPython.core.display.Javascript object>"
            ],
            "application/javascript": [
              "download(\"download_20a64380-b5a7-4784-a776-9b7071188047\", \"usa_limpio.csv\", 20377031)"
            ]
          },
          "metadata": {}
        },
        {
          "output_type": "display_data",
          "data": {
            "text/plain": [
              "<IPython.core.display.Javascript object>"
            ],
            "application/javascript": [
              "\n",
              "    async function download(id, filename, size) {\n",
              "      if (!google.colab.kernel.accessAllowed) {\n",
              "        return;\n",
              "      }\n",
              "      const div = document.createElement('div');\n",
              "      const label = document.createElement('label');\n",
              "      label.textContent = `Downloading \"${filename}\": `;\n",
              "      div.appendChild(label);\n",
              "      const progress = document.createElement('progress');\n",
              "      progress.max = size;\n",
              "      div.appendChild(progress);\n",
              "      document.body.appendChild(div);\n",
              "\n",
              "      const buffers = [];\n",
              "      let downloaded = 0;\n",
              "\n",
              "      const channel = await google.colab.kernel.comms.open(id);\n",
              "      // Send a message to notify the kernel that we're ready.\n",
              "      channel.send({})\n",
              "\n",
              "      for await (const message of channel.messages) {\n",
              "        // Send a message to notify the kernel that we're ready.\n",
              "        channel.send({})\n",
              "        if (message.buffers) {\n",
              "          for (const buffer of message.buffers) {\n",
              "            buffers.push(buffer);\n",
              "            downloaded += buffer.byteLength;\n",
              "            progress.value = downloaded;\n",
              "          }\n",
              "        }\n",
              "      }\n",
              "      const blob = new Blob(buffers, {type: 'application/binary'});\n",
              "      const a = document.createElement('a');\n",
              "      a.href = window.URL.createObjectURL(blob);\n",
              "      a.download = filename;\n",
              "      div.appendChild(a);\n",
              "      a.click();\n",
              "      div.remove();\n",
              "    }\n",
              "  "
            ]
          },
          "metadata": {}
        },
        {
          "output_type": "display_data",
          "data": {
            "text/plain": [
              "<IPython.core.display.Javascript object>"
            ],
            "application/javascript": [
              "download(\"download_9bfa08f2-27d4-43db-bdcc-52feb1ffd336\", \"espa\\u00f1a_limpio.csv\", 54231987)"
            ]
          },
          "metadata": {}
        }
      ]
    },
    {
      "cell_type": "markdown",
      "source": [
        "## **ETAPA 2: Extracción  de DATOS**\n"
      ],
      "metadata": {
        "id": "jd1FU5VoLZ-w"
      }
    },
    {
      "cell_type": "markdown",
      "source": [
        "### **Dataframe DF_Mexico**"
      ],
      "metadata": {
        "id": "0oe8yknerVzQ"
      }
    },
    {
      "cell_type": "markdown",
      "source": [
        "a) host_acceptance_rate> 50%"
      ],
      "metadata": {
        "id": "plUMDW5erZww"
      }
    },
    {
      "cell_type": "code",
      "source": [
        "mexico['host_acceptance_rate'] =mexico['host_acceptance_rate'].replace({'Sin datos': 0})\n",
        "mexico['host_acceptance_rate'] = mexico['host_acceptance_rate'].str.rstrip('%').astype('float')"
      ],
      "metadata": {
        "id": "07lFRZo2HgCl"
      },
      "execution_count": 99,
      "outputs": []
    },
    {
      "cell_type": "code",
      "source": [
        "filtro1_mex=mexico[mexico['host_acceptance_rate']>50]\n",
        "filtro1_mex['host_acceptance_rate']"
      ],
      "metadata": {
        "colab": {
          "base_uri": "https://localhost:8080/"
        },
        "id": "XUYzsgDOrVzY",
        "outputId": "5324e3f2-81b1-4e96-fce0-313884e53855"
      },
      "execution_count": 100,
      "outputs": [
        {
          "output_type": "execute_result",
          "data": {
            "text/plain": [
              "2         90.0\n",
              "4         86.0\n",
              "5         70.0\n",
              "6         95.0\n",
              "7        100.0\n",
              "         ...  \n",
              "24218    100.0\n",
              "24219    100.0\n",
              "24221     96.0\n",
              "24222    100.0\n",
              "24223    100.0\n",
              "Name: host_acceptance_rate, Length: 20840, dtype: float64"
            ]
          },
          "metadata": {},
          "execution_count": 100
        }
      ]
    },
    {
      "cell_type": "markdown",
      "source": [
        "b) Sólo los registros con categoría “superhost”"
      ],
      "metadata": {
        "id": "SgYIV9wPrZww"
      }
    },
    {
      "cell_type": "code",
      "source": [
        "filtro2_mex=mexico[mexico['host_is_superhost'] == 't']\n",
        "filtro2_mex['host_is_superhost']"
      ],
      "metadata": {
        "colab": {
          "base_uri": "https://localhost:8080/"
        },
        "id": "Iwakb2uuiiLp",
        "outputId": "503bc310-9563-43d6-f325-05ffb8aad0e6"
      },
      "execution_count": 101,
      "outputs": [
        {
          "output_type": "execute_result",
          "data": {
            "text/plain": [
              "2        t\n",
              "6        t\n",
              "7        t\n",
              "8        t\n",
              "9        t\n",
              "        ..\n",
              "24171    t\n",
              "24179    t\n",
              "24191    t\n",
              "24203    t\n",
              "24222    t\n",
              "Name: host_is_superhost, Length: 8793, dtype: object"
            ]
          },
          "metadata": {},
          "execution_count": 101
        }
      ]
    },
    {
      "cell_type": "markdown",
      "source": [
        "c) Los registros que no hallan verificado identidad “ not identity_verified”\n"
      ],
      "metadata": {
        "id": "DIZ2N_1mrZwx"
      }
    },
    {
      "cell_type": "code",
      "source": [
        "filtro3_mex=mexico[mexico['host_identity_verified'] == 'f']\n",
        "filtro3_mex['host_identity_verified']"
      ],
      "metadata": {
        "colab": {
          "base_uri": "https://localhost:8080/"
        },
        "id": "89FIUuSHjuc-",
        "outputId": "6961d805-17e1-4c72-930a-bce422461944"
      },
      "execution_count": 102,
      "outputs": [
        {
          "output_type": "execute_result",
          "data": {
            "text/plain": [
              "0        f\n",
              "21       f\n",
              "61       f\n",
              "68       f\n",
              "70       f\n",
              "        ..\n",
              "23695    f\n",
              "23873    f\n",
              "23965    f\n",
              "23966    f\n",
              "23972    f\n",
              "Name: host_identity_verified, Length: 1923, dtype: object"
            ]
          },
          "metadata": {},
          "execution_count": 102
        }
      ]
    },
    {
      "cell_type": "markdown",
      "source": [
        "d) Los registro cuyo property_type = “Private room” y “Hotel room”\n"
      ],
      "metadata": {
        "id": "fv4J_ym6rZwx"
      }
    },
    {
      "cell_type": "code",
      "source": [
        "filtro4_mex=mexico[(mexico[\"room_type\"] == 'Private room') | (mex[\"room_type\"] == \"Hotel room\")]\n",
        "filtro4_mex['room_type']"
      ],
      "metadata": {
        "colab": {
          "base_uri": "https://localhost:8080/"
        },
        "outputId": "9db3b553-ab93-461c-edf5-7c7bbc997d1d",
        "id": "KVXmSFV7kWgt"
      },
      "execution_count": 103,
      "outputs": [
        {
          "output_type": "execute_result",
          "data": {
            "text/plain": [
              "7        Private room\n",
              "14         Hotel room\n",
              "16       Private room\n",
              "17       Private room\n",
              "18       Private room\n",
              "             ...     \n",
              "24200    Private room\n",
              "24213    Private room\n",
              "24215    Private room\n",
              "24218    Private room\n",
              "24221    Private room\n",
              "Name: room_type, Length: 8329, dtype: object"
            ]
          },
          "metadata": {},
          "execution_count": 103
        }
      ]
    },
    {
      "cell_type": "markdown",
      "source": [
        "e) Los registros que cuenten con bathroom > 1\n"
      ],
      "metadata": {
        "id": "-iP9A8o_rZwx"
      }
    },
    {
      "cell_type": "code",
      "source": [
        "filtro5_mex=mexico[~(mexico[\"bathrooms_text\"] == '1 bath') & ~(mexico[\"bathrooms_text\"] == \"0 baths\") & ~(mexico[\"bathrooms_text\"] == \"1 shared bath\")& ~(mexico[\"bathrooms_text\"] == \"1 private bath\")]\n",
        "filtro5_mex[\"bathrooms_text\"]"
      ],
      "metadata": {
        "colab": {
          "base_uri": "https://localhost:8080/"
        },
        "outputId": "d73e98c0-beeb-4411-c0ba-d42909d8ce95",
        "id": "Q5BAFABKlt6X"
      },
      "execution_count": 104,
      "outputs": [
        {
          "output_type": "execute_result",
          "data": {
            "text/plain": [
              "0               1.5 baths\n",
              "2                 2 baths\n",
              "4               5.5 baths\n",
              "5                 2 baths\n",
              "9               5.5 baths\n",
              "               ...       \n",
              "24194             2 baths\n",
              "24196             2 baths\n",
              "24206             2 baths\n",
              "24210           2.5 baths\n",
              "24221    2.5 shared baths\n",
              "Name: bathrooms_text, Length: 8991, dtype: object"
            ]
          },
          "metadata": {},
          "execution_count": 104
        }
      ]
    },
    {
      "cell_type": "markdown",
      "source": [
        "f) Los registros cuyo precio sea mayor de $10,000 y que sean de tipo “Entire home”\n"
      ],
      "metadata": {
        "id": "ITlvY5e_lc2o"
      }
    },
    {
      "cell_type": "code",
      "source": [
        "mexico['price'] =mexico['price'].replace({'Sin datos':0})\n",
        "mexico['price'] = mexico['price'].str.replace(',','')\n",
        "mexico['price'] = mexico['price'].str.lstrip('$').astype('float')\n",
        "\n",
        "filtro6_mex = mexico[(mexico['price']>10000)&(mexico['room_type']=='Entire home/apt')]\n",
        "filtro6_mex[['price','room_type']]"
      ],
      "metadata": {
        "outputId": "bddc19a5-269c-44d9-99f0-2bc297ed6656",
        "colab": {
          "base_uri": "https://localhost:8080/",
          "height": 423
        },
        "id": "DvJIbG7ZIvRQ"
      },
      "execution_count": 105,
      "outputs": [
        {
          "output_type": "execute_result",
          "data": {
            "text/plain": [
              "         price        room_type\n",
              "4      18000.0  Entire home/apt\n",
              "37     50000.0  Entire home/apt\n",
              "418    14000.0  Entire home/apt\n",
              "544    31386.0  Entire home/apt\n",
              "958    17247.0  Entire home/apt\n",
              "...        ...              ...\n",
              "23250  13541.0  Entire home/apt\n",
              "23468  10711.0  Entire home/apt\n",
              "23691  10371.0  Entire home/apt\n",
              "24103  11038.0  Entire home/apt\n",
              "24192  17592.0  Entire home/apt\n",
              "\n",
              "[173 rows x 2 columns]"
            ],
            "text/html": [
              "\n",
              "  <div id=\"df-4a392445-3998-4cfb-8b69-d0abef0f21af\">\n",
              "    <div class=\"colab-df-container\">\n",
              "      <div>\n",
              "<style scoped>\n",
              "    .dataframe tbody tr th:only-of-type {\n",
              "        vertical-align: middle;\n",
              "    }\n",
              "\n",
              "    .dataframe tbody tr th {\n",
              "        vertical-align: top;\n",
              "    }\n",
              "\n",
              "    .dataframe thead th {\n",
              "        text-align: right;\n",
              "    }\n",
              "</style>\n",
              "<table border=\"1\" class=\"dataframe\">\n",
              "  <thead>\n",
              "    <tr style=\"text-align: right;\">\n",
              "      <th></th>\n",
              "      <th>price</th>\n",
              "      <th>room_type</th>\n",
              "    </tr>\n",
              "  </thead>\n",
              "  <tbody>\n",
              "    <tr>\n",
              "      <th>4</th>\n",
              "      <td>18000.0</td>\n",
              "      <td>Entire home/apt</td>\n",
              "    </tr>\n",
              "    <tr>\n",
              "      <th>37</th>\n",
              "      <td>50000.0</td>\n",
              "      <td>Entire home/apt</td>\n",
              "    </tr>\n",
              "    <tr>\n",
              "      <th>418</th>\n",
              "      <td>14000.0</td>\n",
              "      <td>Entire home/apt</td>\n",
              "    </tr>\n",
              "    <tr>\n",
              "      <th>544</th>\n",
              "      <td>31386.0</td>\n",
              "      <td>Entire home/apt</td>\n",
              "    </tr>\n",
              "    <tr>\n",
              "      <th>958</th>\n",
              "      <td>17247.0</td>\n",
              "      <td>Entire home/apt</td>\n",
              "    </tr>\n",
              "    <tr>\n",
              "      <th>...</th>\n",
              "      <td>...</td>\n",
              "      <td>...</td>\n",
              "    </tr>\n",
              "    <tr>\n",
              "      <th>23250</th>\n",
              "      <td>13541.0</td>\n",
              "      <td>Entire home/apt</td>\n",
              "    </tr>\n",
              "    <tr>\n",
              "      <th>23468</th>\n",
              "      <td>10711.0</td>\n",
              "      <td>Entire home/apt</td>\n",
              "    </tr>\n",
              "    <tr>\n",
              "      <th>23691</th>\n",
              "      <td>10371.0</td>\n",
              "      <td>Entire home/apt</td>\n",
              "    </tr>\n",
              "    <tr>\n",
              "      <th>24103</th>\n",
              "      <td>11038.0</td>\n",
              "      <td>Entire home/apt</td>\n",
              "    </tr>\n",
              "    <tr>\n",
              "      <th>24192</th>\n",
              "      <td>17592.0</td>\n",
              "      <td>Entire home/apt</td>\n",
              "    </tr>\n",
              "  </tbody>\n",
              "</table>\n",
              "<p>173 rows × 2 columns</p>\n",
              "</div>\n",
              "      <button class=\"colab-df-convert\" onclick=\"convertToInteractive('df-4a392445-3998-4cfb-8b69-d0abef0f21af')\"\n",
              "              title=\"Convert this dataframe to an interactive table.\"\n",
              "              style=\"display:none;\">\n",
              "        \n",
              "  <svg xmlns=\"http://www.w3.org/2000/svg\" height=\"24px\"viewBox=\"0 0 24 24\"\n",
              "       width=\"24px\">\n",
              "    <path d=\"M0 0h24v24H0V0z\" fill=\"none\"/>\n",
              "    <path d=\"M18.56 5.44l.94 2.06.94-2.06 2.06-.94-2.06-.94-.94-2.06-.94 2.06-2.06.94zm-11 1L8.5 8.5l.94-2.06 2.06-.94-2.06-.94L8.5 2.5l-.94 2.06-2.06.94zm10 10l.94 2.06.94-2.06 2.06-.94-2.06-.94-.94-2.06-.94 2.06-2.06.94z\"/><path d=\"M17.41 7.96l-1.37-1.37c-.4-.4-.92-.59-1.43-.59-.52 0-1.04.2-1.43.59L10.3 9.45l-7.72 7.72c-.78.78-.78 2.05 0 2.83L4 21.41c.39.39.9.59 1.41.59.51 0 1.02-.2 1.41-.59l7.78-7.78 2.81-2.81c.8-.78.8-2.07 0-2.86zM5.41 20L4 18.59l7.72-7.72 1.47 1.35L5.41 20z\"/>\n",
              "  </svg>\n",
              "      </button>\n",
              "      \n",
              "  <style>\n",
              "    .colab-df-container {\n",
              "      display:flex;\n",
              "      flex-wrap:wrap;\n",
              "      gap: 12px;\n",
              "    }\n",
              "\n",
              "    .colab-df-convert {\n",
              "      background-color: #E8F0FE;\n",
              "      border: none;\n",
              "      border-radius: 50%;\n",
              "      cursor: pointer;\n",
              "      display: none;\n",
              "      fill: #1967D2;\n",
              "      height: 32px;\n",
              "      padding: 0 0 0 0;\n",
              "      width: 32px;\n",
              "    }\n",
              "\n",
              "    .colab-df-convert:hover {\n",
              "      background-color: #E2EBFA;\n",
              "      box-shadow: 0px 1px 2px rgba(60, 64, 67, 0.3), 0px 1px 3px 1px rgba(60, 64, 67, 0.15);\n",
              "      fill: #174EA6;\n",
              "    }\n",
              "\n",
              "    [theme=dark] .colab-df-convert {\n",
              "      background-color: #3B4455;\n",
              "      fill: #D2E3FC;\n",
              "    }\n",
              "\n",
              "    [theme=dark] .colab-df-convert:hover {\n",
              "      background-color: #434B5C;\n",
              "      box-shadow: 0px 1px 3px 1px rgba(0, 0, 0, 0.15);\n",
              "      filter: drop-shadow(0px 1px 2px rgba(0, 0, 0, 0.3));\n",
              "      fill: #FFFFFF;\n",
              "    }\n",
              "  </style>\n",
              "\n",
              "      <script>\n",
              "        const buttonEl =\n",
              "          document.querySelector('#df-4a392445-3998-4cfb-8b69-d0abef0f21af button.colab-df-convert');\n",
              "        buttonEl.style.display =\n",
              "          google.colab.kernel.accessAllowed ? 'block' : 'none';\n",
              "\n",
              "        async function convertToInteractive(key) {\n",
              "          const element = document.querySelector('#df-4a392445-3998-4cfb-8b69-d0abef0f21af');\n",
              "          const dataTable =\n",
              "            await google.colab.kernel.invokeFunction('convertToInteractive',\n",
              "                                                     [key], {});\n",
              "          if (!dataTable) return;\n",
              "\n",
              "          const docLinkHtml = 'Like what you see? Visit the ' +\n",
              "            '<a target=\"_blank\" href=https://colab.research.google.com/notebooks/data_table.ipynb>data table notebook</a>'\n",
              "            + ' to learn more about interactive tables.';\n",
              "          element.innerHTML = '';\n",
              "          dataTable['output_type'] = 'display_data';\n",
              "          await google.colab.output.renderOutput(dataTable, element);\n",
              "          const docLink = document.createElement('div');\n",
              "          docLink.innerHTML = docLinkHtml;\n",
              "          element.appendChild(docLink);\n",
              "        }\n",
              "      </script>\n",
              "    </div>\n",
              "  </div>\n",
              "  "
            ]
          },
          "metadata": {},
          "execution_count": 105
        }
      ]
    },
    {
      "cell_type": "markdown",
      "source": [
        "g) Los registros cuyo review_scores_cleanliness > 4.5\n"
      ],
      "metadata": {
        "id": "pDxBN1qElc2o"
      }
    },
    {
      "cell_type": "code",
      "source": [
        "filtro7_mex = mexico[mexico['review_scores_cleanliness']>4.5]\n",
        "filtro7_mex['review_scores_cleanliness']"
      ],
      "metadata": {
        "colab": {
          "base_uri": "https://localhost:8080/"
        },
        "outputId": "f2793f2b-117b-42b0-937e-0e082f1abb24",
        "id": "835Uggq6IvRQ"
      },
      "execution_count": 106,
      "outputs": [
        {
          "output_type": "execute_result",
          "data": {
            "text/plain": [
              "0        4.95\n",
              "1        4.88\n",
              "2        4.71\n",
              "3        4.70\n",
              "4        4.70\n",
              "         ... \n",
              "24219    4.70\n",
              "24220    4.70\n",
              "24221    4.70\n",
              "24222    4.70\n",
              "24223    4.70\n",
              "Name: review_scores_cleanliness, Length: 22955, dtype: float64"
            ]
          },
          "metadata": {},
          "execution_count": 106
        }
      ]
    },
    {
      "cell_type": "markdown",
      "source": [
        "h) Los registros cuyo review_scores_value > 4.9\n"
      ],
      "metadata": {
        "id": "4HaXnDVulc2p"
      }
    },
    {
      "cell_type": "code",
      "source": [
        "filtro8_mex = mexico[mexico['review_scores_value']>4.9]\n",
        "filtro8_mex['review_scores_value']"
      ],
      "metadata": {
        "colab": {
          "base_uri": "https://localhost:8080/"
        },
        "outputId": "0263b411-dfae-45f8-8660-8080dae61da9",
        "id": "UvJhM81RIvRR"
      },
      "execution_count": 107,
      "outputs": [
        {
          "output_type": "execute_result",
          "data": {
            "text/plain": [
              "10       4.91\n",
              "11       4.91\n",
              "13       4.92\n",
              "24       5.00\n",
              "26       4.95\n",
              "         ... \n",
              "24057    5.00\n",
              "24058    5.00\n",
              "24109    5.00\n",
              "24127    5.00\n",
              "24188    5.00\n",
              "Name: review_scores_value, Length: 6484, dtype: float64"
            ]
          },
          "metadata": {},
          "execution_count": 107
        }
      ]
    },
    {
      "cell_type": "markdown",
      "source": [
        "i) Los registros cuya availability_365< 100\n"
      ],
      "metadata": {
        "id": "QRlQrKxilc2p"
      }
    },
    {
      "cell_type": "code",
      "source": [
        "filtro9_mex = mexico[mexico['availability_365']<100]\n",
        "filtro9_mex['availability_365']"
      ],
      "metadata": {
        "colab": {
          "base_uri": "https://localhost:8080/"
        },
        "outputId": "ae4b122a-d7b2-4e4c-c6d9-807b9f0b6297",
        "id": "nDn_WHpVIvRR"
      },
      "execution_count": 108,
      "outputs": [
        {
          "output_type": "execute_result",
          "data": {
            "text/plain": [
              "2        87\n",
              "21       88\n",
              "26       88\n",
              "37        0\n",
              "38        0\n",
              "         ..\n",
              "24159    85\n",
              "24165    89\n",
              "24170    89\n",
              "24186    70\n",
              "24193    19\n",
              "Name: availability_365, Length: 5130, dtype: int64"
            ]
          },
          "metadata": {},
          "execution_count": 108
        }
      ]
    },
    {
      "cell_type": "markdown",
      "source": [
        "j) Los registros cuya host_response_time sea “within an hour”"
      ],
      "metadata": {
        "id": "2cGhP_aBlc2p"
      }
    },
    {
      "cell_type": "code",
      "source": [
        "filtro10_mex = mexico[mexico['host_response_time']=='within an hour']\n",
        "filtro10_mex['host_response_time']"
      ],
      "metadata": {
        "colab": {
          "base_uri": "https://localhost:8080/"
        },
        "outputId": "a8b78392-c3aa-4cc3-ff77-918ddbf63029",
        "id": "eSzYWZgrIvRS"
      },
      "execution_count": 109,
      "outputs": [
        {
          "output_type": "execute_result",
          "data": {
            "text/plain": [
              "2        within an hour\n",
              "4        within an hour\n",
              "6        within an hour\n",
              "7        within an hour\n",
              "8        within an hour\n",
              "              ...      \n",
              "24214    within an hour\n",
              "24216    within an hour\n",
              "24217    within an hour\n",
              "24219    within an hour\n",
              "24222    within an hour\n",
              "Name: host_response_time, Length: 16997, dtype: object"
            ]
          },
          "metadata": {},
          "execution_count": 109
        }
      ]
    },
    {
      "cell_type": "markdown",
      "source": [
        "### **Dataframe California_EUA**"
      ],
      "metadata": {
        "id": "nnzdj4lFrVzY"
      }
    },
    {
      "cell_type": "markdown",
      "source": [
        "a) host_acceptance_rate> 50%"
      ],
      "metadata": {
        "id": "Wt-kiNxqJmg5"
      }
    },
    {
      "cell_type": "code",
      "source": [
        "usa['host_acceptance_rate'] =usa['host_acceptance_rate'].replace({'Sin datos': 0})\n",
        "usa['host_acceptance_rate'] = usa['host_acceptance_rate'].str.rstrip('%').astype('float')"
      ],
      "metadata": {
        "id": "D-gqwStMJmg5"
      },
      "execution_count": 110,
      "outputs": []
    },
    {
      "cell_type": "code",
      "source": [
        "filtro1_usa=usa[usa['host_acceptance_rate']>50]\n",
        "filtro1_usa['host_acceptance_rate']"
      ],
      "metadata": {
        "colab": {
          "base_uri": "https://localhost:8080/"
        },
        "outputId": "a33ab357-331b-4602-8e74-3dc7526e9965",
        "id": "oyaxWbv_Jmg5"
      },
      "execution_count": 111,
      "outputs": [
        {
          "output_type": "execute_result",
          "data": {
            "text/plain": [
              "0       100.0\n",
              "1        71.0\n",
              "2        73.0\n",
              "4        90.0\n",
              "5        95.0\n",
              "        ...  \n",
              "6926     96.0\n",
              "6927     98.0\n",
              "6929     97.0\n",
              "6930    100.0\n",
              "6931    100.0\n",
              "Name: host_acceptance_rate, Length: 5679, dtype: float64"
            ]
          },
          "metadata": {},
          "execution_count": 111
        }
      ]
    },
    {
      "cell_type": "markdown",
      "source": [
        "b) Sólo los registros con categoría “superhost”"
      ],
      "metadata": {
        "id": "tx0-gwEUJmg5"
      }
    },
    {
      "cell_type": "code",
      "source": [
        "filtro2_usa=usa[usa['host_is_superhost'] == 't']\n",
        "filtro2_usa['host_is_superhost']"
      ],
      "metadata": {
        "colab": {
          "base_uri": "https://localhost:8080/"
        },
        "outputId": "2eca04eb-346f-4c52-cd43-8e6a8ef1d058",
        "id": "a4ra_BINJmg5"
      },
      "execution_count": 112,
      "outputs": [
        {
          "output_type": "execute_result",
          "data": {
            "text/plain": [
              "0       t\n",
              "4       t\n",
              "7       t\n",
              "8       t\n",
              "9       t\n",
              "       ..\n",
              "6913    t\n",
              "6918    t\n",
              "6919    t\n",
              "6923    t\n",
              "6929    t\n",
              "Name: host_is_superhost, Length: 2869, dtype: object"
            ]
          },
          "metadata": {},
          "execution_count": 112
        }
      ]
    },
    {
      "cell_type": "markdown",
      "source": [
        "c) Los registros que no hallan verificado identidad “ not identity_verified”\n"
      ],
      "metadata": {
        "id": "M42QURDhJmg6"
      }
    },
    {
      "cell_type": "code",
      "source": [
        "filtro3_usa=usa[usa['host_identity_verified'] == 'f']\n",
        "filtro3_usa['host_identity_verified']"
      ],
      "metadata": {
        "colab": {
          "base_uri": "https://localhost:8080/"
        },
        "outputId": "a355c755-4805-42d0-aa2e-a51e52a1527f",
        "id": "xlnpWgtfJmg6"
      },
      "execution_count": 113,
      "outputs": [
        {
          "output_type": "execute_result",
          "data": {
            "text/plain": [
              "6       f\n",
              "28      f\n",
              "38      f\n",
              "39      f\n",
              "71      f\n",
              "       ..\n",
              "6885    f\n",
              "6905    f\n",
              "6931    f\n",
              "6932    f\n",
              "6933    f\n",
              "Name: host_identity_verified, Length: 830, dtype: object"
            ]
          },
          "metadata": {},
          "execution_count": 113
        }
      ]
    },
    {
      "cell_type": "markdown",
      "source": [
        "d) Los registro cuyo property_type = “Private room” y “Hotel room”\n"
      ],
      "metadata": {
        "id": "S8J8dG5fJmg6"
      }
    },
    {
      "cell_type": "code",
      "source": [
        "filtro4_usa=usa[(usa[\"room_type\"] == 'Private room') | (usa[\"room_type\"] == \"Hotel room\")]\n",
        "filtro4_usa['room_type']"
      ],
      "metadata": {
        "colab": {
          "base_uri": "https://localhost:8080/"
        },
        "outputId": "d3fc8001-1db2-42b9-9172-e1f389a8e412",
        "id": "-U4KM8XzJmg6"
      },
      "execution_count": 114,
      "outputs": [
        {
          "output_type": "execute_result",
          "data": {
            "text/plain": [
              "2       Private room\n",
              "4       Private room\n",
              "6       Private room\n",
              "7       Private room\n",
              "11      Private room\n",
              "            ...     \n",
              "6927    Private room\n",
              "6929    Private room\n",
              "6930    Private room\n",
              "6933    Private room\n",
              "6934    Private room\n",
              "Name: room_type, Length: 2411, dtype: object"
            ]
          },
          "metadata": {},
          "execution_count": 114
        }
      ]
    },
    {
      "cell_type": "markdown",
      "source": [
        "e) Los registros que cuenten con bathroom > 1\n"
      ],
      "metadata": {
        "id": "lqkG-lpNJmg6"
      }
    },
    {
      "cell_type": "code",
      "source": [
        "filtro5_usa=usa[~(usa[\"bathrooms_text\"] == '1 bath') & ~(usa[\"bathrooms_text\"] == \"0 baths\") & ~(usa[\"bathrooms_text\"] == \"1 shared bath\")& ~(usa[\"bathrooms_text\"] == \"1 private bath\")]\n",
        "filtro5_usa[\"bathrooms_text\"]"
      ],
      "metadata": {
        "colab": {
          "base_uri": "https://localhost:8080/"
        },
        "outputId": "3ceb9719-8ce7-44c7-a180-98ac8ec98ca4",
        "id": "aGqKK8ldJmg6"
      },
      "execution_count": 115,
      "outputs": [
        {
          "output_type": "execute_result",
          "data": {
            "text/plain": [
              "2         4 shared baths\n",
              "3              1.5 baths\n",
              "7       1.5 shared baths\n",
              "8                2 baths\n",
              "9                2 baths\n",
              "              ...       \n",
              "6910             3 baths\n",
              "6919             2 baths\n",
              "6924    1.5 shared baths\n",
              "6925    1.5 shared baths\n",
              "6926    1.5 shared baths\n",
              "Name: bathrooms_text, Length: 1898, dtype: object"
            ]
          },
          "metadata": {},
          "execution_count": 115
        }
      ]
    },
    {
      "cell_type": "markdown",
      "source": [
        "f) Los registros cuyo precio sea mayor de $10,000 y que sean de tipo “Entire home”\n"
      ],
      "metadata": {
        "id": "jbzhBzAFOlTA"
      }
    },
    {
      "cell_type": "code",
      "source": [
        "usa['price'] =usa['price'].replace({'Sin datos': 0})\n",
        "usa['price'] = usa['price'].str.replace(',','')\n",
        "usa['price'] = usa['price'].str.lstrip('$').astype('float')\n",
        "\n",
        "filtro6_usa = usa[(usa['price']>10000)&(usa['room_type']=='Entire home/apt')]\n",
        "filtro6_usa[['price','room_type']]"
      ],
      "metadata": {
        "id": "HOfpAlkfOloc",
        "colab": {
          "base_uri": "https://localhost:8080/",
          "height": 0
        },
        "outputId": "bf4542dd-a5de-4a17-bdd2-9cf6a2733f6b"
      },
      "execution_count": 116,
      "outputs": [
        {
          "output_type": "execute_result",
          "data": {
            "text/plain": [
              "        price        room_type\n",
              "5759  14000.0  Entire home/apt\n",
              "6490  25000.0  Entire home/apt"
            ],
            "text/html": [
              "\n",
              "  <div id=\"df-e9f33ee4-698e-474d-ad59-c0fdc4be92fb\">\n",
              "    <div class=\"colab-df-container\">\n",
              "      <div>\n",
              "<style scoped>\n",
              "    .dataframe tbody tr th:only-of-type {\n",
              "        vertical-align: middle;\n",
              "    }\n",
              "\n",
              "    .dataframe tbody tr th {\n",
              "        vertical-align: top;\n",
              "    }\n",
              "\n",
              "    .dataframe thead th {\n",
              "        text-align: right;\n",
              "    }\n",
              "</style>\n",
              "<table border=\"1\" class=\"dataframe\">\n",
              "  <thead>\n",
              "    <tr style=\"text-align: right;\">\n",
              "      <th></th>\n",
              "      <th>price</th>\n",
              "      <th>room_type</th>\n",
              "    </tr>\n",
              "  </thead>\n",
              "  <tbody>\n",
              "    <tr>\n",
              "      <th>5759</th>\n",
              "      <td>14000.0</td>\n",
              "      <td>Entire home/apt</td>\n",
              "    </tr>\n",
              "    <tr>\n",
              "      <th>6490</th>\n",
              "      <td>25000.0</td>\n",
              "      <td>Entire home/apt</td>\n",
              "    </tr>\n",
              "  </tbody>\n",
              "</table>\n",
              "</div>\n",
              "      <button class=\"colab-df-convert\" onclick=\"convertToInteractive('df-e9f33ee4-698e-474d-ad59-c0fdc4be92fb')\"\n",
              "              title=\"Convert this dataframe to an interactive table.\"\n",
              "              style=\"display:none;\">\n",
              "        \n",
              "  <svg xmlns=\"http://www.w3.org/2000/svg\" height=\"24px\"viewBox=\"0 0 24 24\"\n",
              "       width=\"24px\">\n",
              "    <path d=\"M0 0h24v24H0V0z\" fill=\"none\"/>\n",
              "    <path d=\"M18.56 5.44l.94 2.06.94-2.06 2.06-.94-2.06-.94-.94-2.06-.94 2.06-2.06.94zm-11 1L8.5 8.5l.94-2.06 2.06-.94-2.06-.94L8.5 2.5l-.94 2.06-2.06.94zm10 10l.94 2.06.94-2.06 2.06-.94-2.06-.94-.94-2.06-.94 2.06-2.06.94z\"/><path d=\"M17.41 7.96l-1.37-1.37c-.4-.4-.92-.59-1.43-.59-.52 0-1.04.2-1.43.59L10.3 9.45l-7.72 7.72c-.78.78-.78 2.05 0 2.83L4 21.41c.39.39.9.59 1.41.59.51 0 1.02-.2 1.41-.59l7.78-7.78 2.81-2.81c.8-.78.8-2.07 0-2.86zM5.41 20L4 18.59l7.72-7.72 1.47 1.35L5.41 20z\"/>\n",
              "  </svg>\n",
              "      </button>\n",
              "      \n",
              "  <style>\n",
              "    .colab-df-container {\n",
              "      display:flex;\n",
              "      flex-wrap:wrap;\n",
              "      gap: 12px;\n",
              "    }\n",
              "\n",
              "    .colab-df-convert {\n",
              "      background-color: #E8F0FE;\n",
              "      border: none;\n",
              "      border-radius: 50%;\n",
              "      cursor: pointer;\n",
              "      display: none;\n",
              "      fill: #1967D2;\n",
              "      height: 32px;\n",
              "      padding: 0 0 0 0;\n",
              "      width: 32px;\n",
              "    }\n",
              "\n",
              "    .colab-df-convert:hover {\n",
              "      background-color: #E2EBFA;\n",
              "      box-shadow: 0px 1px 2px rgba(60, 64, 67, 0.3), 0px 1px 3px 1px rgba(60, 64, 67, 0.15);\n",
              "      fill: #174EA6;\n",
              "    }\n",
              "\n",
              "    [theme=dark] .colab-df-convert {\n",
              "      background-color: #3B4455;\n",
              "      fill: #D2E3FC;\n",
              "    }\n",
              "\n",
              "    [theme=dark] .colab-df-convert:hover {\n",
              "      background-color: #434B5C;\n",
              "      box-shadow: 0px 1px 3px 1px rgba(0, 0, 0, 0.15);\n",
              "      filter: drop-shadow(0px 1px 2px rgba(0, 0, 0, 0.3));\n",
              "      fill: #FFFFFF;\n",
              "    }\n",
              "  </style>\n",
              "\n",
              "      <script>\n",
              "        const buttonEl =\n",
              "          document.querySelector('#df-e9f33ee4-698e-474d-ad59-c0fdc4be92fb button.colab-df-convert');\n",
              "        buttonEl.style.display =\n",
              "          google.colab.kernel.accessAllowed ? 'block' : 'none';\n",
              "\n",
              "        async function convertToInteractive(key) {\n",
              "          const element = document.querySelector('#df-e9f33ee4-698e-474d-ad59-c0fdc4be92fb');\n",
              "          const dataTable =\n",
              "            await google.colab.kernel.invokeFunction('convertToInteractive',\n",
              "                                                     [key], {});\n",
              "          if (!dataTable) return;\n",
              "\n",
              "          const docLinkHtml = 'Like what you see? Visit the ' +\n",
              "            '<a target=\"_blank\" href=https://colab.research.google.com/notebooks/data_table.ipynb>data table notebook</a>'\n",
              "            + ' to learn more about interactive tables.';\n",
              "          element.innerHTML = '';\n",
              "          dataTable['output_type'] = 'display_data';\n",
              "          await google.colab.output.renderOutput(dataTable, element);\n",
              "          const docLink = document.createElement('div');\n",
              "          docLink.innerHTML = docLinkHtml;\n",
              "          element.appendChild(docLink);\n",
              "        }\n",
              "      </script>\n",
              "    </div>\n",
              "  </div>\n",
              "  "
            ]
          },
          "metadata": {},
          "execution_count": 116
        }
      ]
    },
    {
      "cell_type": "markdown",
      "source": [
        "g) Los registros cuyo review_scores_cleanliness > 4.5\n"
      ],
      "metadata": {
        "id": "-wrnN9M9OrLz"
      }
    },
    {
      "cell_type": "code",
      "source": [
        "filtro7_usa = usa[usa['review_scores_cleanliness']>4.5]\n",
        "filtro7_usa['review_scores_cleanliness']"
      ],
      "metadata": {
        "id": "Ka6J9mBUO-rS",
        "colab": {
          "base_uri": "https://localhost:8080/"
        },
        "outputId": "c2ae379f-bfbd-4916-f4a5-8affaccd75da"
      },
      "execution_count": 117,
      "outputs": [
        {
          "output_type": "execute_result",
          "data": {
            "text/plain": [
              "0       4.92\n",
              "1       4.87\n",
              "2       4.90\n",
              "3       5.00\n",
              "4       4.94\n",
              "        ... \n",
              "6931    4.80\n",
              "6932    5.00\n",
              "6933    4.80\n",
              "6934    4.80\n",
              "6935    4.80\n",
              "Name: review_scores_cleanliness, Length: 6740, dtype: float64"
            ]
          },
          "metadata": {},
          "execution_count": 117
        }
      ]
    },
    {
      "cell_type": "markdown",
      "source": [
        "h) Los registros cuyo review_scores_value > 4.9\n"
      ],
      "metadata": {
        "id": "QaIUnfqSO-y2"
      }
    },
    {
      "cell_type": "code",
      "source": [
        "filtro8_usa = usa[usa['review_scores_value']>4.9]\n",
        "filtro8_usa['review_scores_value']"
      ],
      "metadata": {
        "colab": {
          "base_uri": "https://localhost:8080/"
        },
        "id": "vhiyaq7GkKck",
        "outputId": "fb06a03d-798a-4bba-f307-6c4e8c6e7c42"
      },
      "execution_count": 118,
      "outputs": [
        {
          "output_type": "execute_result",
          "data": {
            "text/plain": [
              "9       4.95\n",
              "24      5.00\n",
              "26      4.93\n",
              "46      4.95\n",
              "53      4.91\n",
              "        ... \n",
              "6920    5.00\n",
              "6924    5.00\n",
              "6925    5.00\n",
              "6927    5.00\n",
              "6932    5.00\n",
              "Name: review_scores_value, Length: 1376, dtype: float64"
            ]
          },
          "metadata": {},
          "execution_count": 118
        }
      ]
    },
    {
      "cell_type": "markdown",
      "source": [
        "i) Los registros cuya availability_365< 100\n"
      ],
      "metadata": {
        "id": "sj57z_kEkJ2q"
      }
    },
    {
      "cell_type": "code",
      "source": [
        "filtro9_usa = usa[usa['availability_365']<100]\n",
        "filtro9_usa['availability_365']"
      ],
      "metadata": {
        "colab": {
          "base_uri": "https://localhost:8080/"
        },
        "id": "aHu87PTekicR",
        "outputId": "cf7929c3-b859-40f6-a258-59ef74c6ba8e"
      },
      "execution_count": 119,
      "outputs": [
        {
          "output_type": "execute_result",
          "data": {
            "text/plain": [
              "5       32\n",
              "8        7\n",
              "9       64\n",
              "11      55\n",
              "15      64\n",
              "        ..\n",
              "6913    64\n",
              "6917    71\n",
              "6918    14\n",
              "6923    26\n",
              "6931    57\n",
              "Name: availability_365, Length: 2680, dtype: int64"
            ]
          },
          "metadata": {},
          "execution_count": 119
        }
      ]
    },
    {
      "cell_type": "markdown",
      "source": [
        "j) Los registros cuya host_response_time sea “within an hour”"
      ],
      "metadata": {
        "id": "wjzohbJ6kbx8"
      }
    },
    {
      "cell_type": "code",
      "source": [
        "filtro10_usa = usa[usa['host_response_time']=='within an hour']\n",
        "filtro10_usa['host_response_time']"
      ],
      "metadata": {
        "colab": {
          "base_uri": "https://localhost:8080/"
        },
        "id": "3ojf7MqOkt7o",
        "outputId": "2b776d8f-c512-4c59-eb30-1a18391032ef"
      },
      "execution_count": 120,
      "outputs": [
        {
          "output_type": "execute_result",
          "data": {
            "text/plain": [
              "0       within an hour\n",
              "2       within an hour\n",
              "4       within an hour\n",
              "5       within an hour\n",
              "12      within an hour\n",
              "             ...      \n",
              "6929    within an hour\n",
              "6930    within an hour\n",
              "6931    within an hour\n",
              "6934    within an hour\n",
              "6935    within an hour\n",
              "Name: host_response_time, Length: 4221, dtype: object"
            ]
          },
          "metadata": {},
          "execution_count": 120
        }
      ]
    },
    {
      "cell_type": "markdown",
      "source": [
        "### **Dataframe Girona_España**"
      ],
      "metadata": {
        "id": "cYp6x-tMMMVH"
      }
    },
    {
      "cell_type": "markdown",
      "source": [
        "a) host_acceptance_rate> 50%"
      ],
      "metadata": {
        "id": "nLLtbGvZMMVP"
      }
    },
    {
      "cell_type": "code",
      "source": [
        "españa['host_acceptance_rate'] =españa['host_acceptance_rate'].replace({'Sin datos': 0})\n",
        "españa['host_acceptance_rate'] = españa['host_acceptance_rate'].str.rstrip('%').astype('float')"
      ],
      "metadata": {
        "id": "c30bJ_rjMMVP"
      },
      "execution_count": 121,
      "outputs": []
    },
    {
      "cell_type": "code",
      "source": [
        "filtro1_esp=españa[españa['host_acceptance_rate']>50]\n",
        "filtro1_esp['host_acceptance_rate']"
      ],
      "metadata": {
        "colab": {
          "base_uri": "https://localhost:8080/"
        },
        "outputId": "22bbe793-0541-443c-e9d6-51728bc57480",
        "id": "L_d4jODXMMVP"
      },
      "execution_count": 122,
      "outputs": [
        {
          "output_type": "execute_result",
          "data": {
            "text/plain": [
              "0         90.0\n",
              "2         80.0\n",
              "3         91.0\n",
              "5        100.0\n",
              "6        100.0\n",
              "         ...  \n",
              "19647     98.0\n",
              "19648    100.0\n",
              "19650    100.0\n",
              "19651    100.0\n",
              "19653     99.0\n",
              "Name: host_acceptance_rate, Length: 17285, dtype: float64"
            ]
          },
          "metadata": {},
          "execution_count": 122
        }
      ]
    },
    {
      "cell_type": "markdown",
      "source": [
        "b) Sólo los registros con categoría “superhost”"
      ],
      "metadata": {
        "id": "5tUUYx0KMMVP"
      }
    },
    {
      "cell_type": "code",
      "source": [
        "filtro2_esp=españa[españa['host_is_superhost'] == 't']\n",
        "filtro2_esp['host_is_superhost']"
      ],
      "metadata": {
        "colab": {
          "base_uri": "https://localhost:8080/"
        },
        "outputId": "453cb787-9bea-40cc-b981-c38180e5bb14",
        "id": "baiH0cg_MMVP"
      },
      "execution_count": 123,
      "outputs": [
        {
          "output_type": "execute_result",
          "data": {
            "text/plain": [
              "0        t\n",
              "8        t\n",
              "10       t\n",
              "21       t\n",
              "23       t\n",
              "        ..\n",
              "19597    t\n",
              "19601    t\n",
              "19617    t\n",
              "19628    t\n",
              "19651    t\n",
              "Name: host_is_superhost, Length: 3056, dtype: object"
            ]
          },
          "metadata": {},
          "execution_count": 123
        }
      ]
    },
    {
      "cell_type": "markdown",
      "source": [
        "c) Los registros que no hallan verificado identidad “ not identity_verified”\n"
      ],
      "metadata": {
        "id": "EfDGFU-mMMVQ"
      }
    },
    {
      "cell_type": "code",
      "source": [
        "filtro3_esp=españa[españa['host_identity_verified'] == 'f']\n",
        "filtro3_esp['host_identity_verified']"
      ],
      "metadata": {
        "colab": {
          "base_uri": "https://localhost:8080/"
        },
        "outputId": "3ea7e2ad-8487-4e0a-ebc1-50f0de238f88",
        "id": "yupfESk0MMVQ"
      },
      "execution_count": 124,
      "outputs": [
        {
          "output_type": "execute_result",
          "data": {
            "text/plain": [
              "2        f\n",
              "7        f\n",
              "9        f\n",
              "30       f\n",
              "33       f\n",
              "        ..\n",
              "19553    f\n",
              "19560    f\n",
              "19561    f\n",
              "19611    f\n",
              "19612    f\n",
              "Name: host_identity_verified, Length: 2261, dtype: object"
            ]
          },
          "metadata": {},
          "execution_count": 124
        }
      ]
    },
    {
      "cell_type": "markdown",
      "source": [
        "d) Los registro cuyo property_type = “Private room” y “Hotel room”\n"
      ],
      "metadata": {
        "id": "dYGuHSpIMMVQ"
      }
    },
    {
      "cell_type": "code",
      "source": [
        "filtro4_esp=españa[(españa[\"room_type\"] == 'Private room') | (españa[\"room_type\"] == \"Hotel room\")]\n",
        "filtro4_esp['room_type']"
      ],
      "metadata": {
        "colab": {
          "base_uri": "https://localhost:8080/"
        },
        "outputId": "bab02fb2-13c8-490a-e0e2-5baa97bec567",
        "id": "6fmv4czwMMVQ"
      },
      "execution_count": 125,
      "outputs": [
        {
          "output_type": "execute_result",
          "data": {
            "text/plain": [
              "0        Private room\n",
              "1        Private room\n",
              "3        Private room\n",
              "12       Private room\n",
              "13       Private room\n",
              "             ...     \n",
              "19534    Private room\n",
              "19535    Private room\n",
              "19546    Private room\n",
              "19573    Private room\n",
              "19582    Private room\n",
              "Name: room_type, Length: 1283, dtype: object"
            ]
          },
          "metadata": {},
          "execution_count": 125
        }
      ]
    },
    {
      "cell_type": "markdown",
      "source": [
        "e) Los registros que cuenten con bathroom > 1\n"
      ],
      "metadata": {
        "id": "rlewCyHXMMVQ"
      }
    },
    {
      "cell_type": "code",
      "source": [
        "filtro5_esp=españa[~(españa[\"bathrooms_text\"] == '1 bath') & ~(españa[\"bathrooms_text\"] == \"0 baths\") & ~(españa[\"bathrooms_text\"] == \"1 shared bath\")& ~(españa[\"bathrooms_text\"] == \"1 private bath\")]\n",
        "filtro5_esp[\"bathrooms_text\"]"
      ],
      "metadata": {
        "colab": {
          "base_uri": "https://localhost:8080/"
        },
        "outputId": "5444b124-a41d-423a-db4b-4d79d2956286",
        "id": "aBkJ12U7MMVQ"
      },
      "execution_count": 126,
      "outputs": [
        {
          "output_type": "execute_result",
          "data": {
            "text/plain": [
              "1        1.5 shared baths\n",
              "7                 2 baths\n",
              "9                 2 baths\n",
              "11                2 baths\n",
              "14                2 baths\n",
              "               ...       \n",
              "19641             3 baths\n",
              "19642             4 baths\n",
              "19643           2.5 baths\n",
              "19647             2 baths\n",
              "19650             5 baths\n",
              "Name: bathrooms_text, Length: 9165, dtype: object"
            ]
          },
          "metadata": {},
          "execution_count": 126
        }
      ]
    },
    {
      "cell_type": "markdown",
      "source": [
        "f) Los registros cuyo precio sea mayor de $10,000 y que sean de tipo “Entire home”\n"
      ],
      "metadata": {
        "id": "k43si2nGnhOB"
      }
    },
    {
      "cell_type": "code",
      "source": [
        "españa['price'] =españa['price'].replace({'Sin datos': 0})\n",
        "españa['price'] = españa['price'].str.replace(',','')\n",
        "españa['price'] = españa['price'].str.lstrip('$').astype('float')\n",
        "\n",
        "filtro6_esp = españa[(españa['price']>10000)&(españa['room_type']=='Entire home/apt')]\n",
        "filtro6_esp[['price','room_type']]"
      ],
      "metadata": {
        "outputId": "19a88c1c-4430-4d92-ec1a-7785a9ea23dc",
        "colab": {
          "base_uri": "https://localhost:8080/",
          "height": 0
        },
        "id": "GSMFj4ECJy1x"
      },
      "execution_count": 127,
      "outputs": [
        {
          "output_type": "execute_result",
          "data": {
            "text/plain": [
              "        price        room_type\n",
              "753   12986.0  Entire home/apt\n",
              "1840  14500.0  Entire home/apt\n",
              "3371  12977.0  Entire home/apt\n",
              "3931  20000.0  Entire home/apt\n",
              "3948  20000.0  Entire home/apt\n",
              "6632  16380.0  Entire home/apt\n",
              "6650  16380.0  Entire home/apt\n",
              "7147  16380.0  Entire home/apt\n",
              "7541  20000.0  Entire home/apt\n",
              "9977  15960.0  Entire home/apt"
            ],
            "text/html": [
              "\n",
              "  <div id=\"df-28c7e0a7-4403-49b8-8fb0-613cac005d09\">\n",
              "    <div class=\"colab-df-container\">\n",
              "      <div>\n",
              "<style scoped>\n",
              "    .dataframe tbody tr th:only-of-type {\n",
              "        vertical-align: middle;\n",
              "    }\n",
              "\n",
              "    .dataframe tbody tr th {\n",
              "        vertical-align: top;\n",
              "    }\n",
              "\n",
              "    .dataframe thead th {\n",
              "        text-align: right;\n",
              "    }\n",
              "</style>\n",
              "<table border=\"1\" class=\"dataframe\">\n",
              "  <thead>\n",
              "    <tr style=\"text-align: right;\">\n",
              "      <th></th>\n",
              "      <th>price</th>\n",
              "      <th>room_type</th>\n",
              "    </tr>\n",
              "  </thead>\n",
              "  <tbody>\n",
              "    <tr>\n",
              "      <th>753</th>\n",
              "      <td>12986.0</td>\n",
              "      <td>Entire home/apt</td>\n",
              "    </tr>\n",
              "    <tr>\n",
              "      <th>1840</th>\n",
              "      <td>14500.0</td>\n",
              "      <td>Entire home/apt</td>\n",
              "    </tr>\n",
              "    <tr>\n",
              "      <th>3371</th>\n",
              "      <td>12977.0</td>\n",
              "      <td>Entire home/apt</td>\n",
              "    </tr>\n",
              "    <tr>\n",
              "      <th>3931</th>\n",
              "      <td>20000.0</td>\n",
              "      <td>Entire home/apt</td>\n",
              "    </tr>\n",
              "    <tr>\n",
              "      <th>3948</th>\n",
              "      <td>20000.0</td>\n",
              "      <td>Entire home/apt</td>\n",
              "    </tr>\n",
              "    <tr>\n",
              "      <th>6632</th>\n",
              "      <td>16380.0</td>\n",
              "      <td>Entire home/apt</td>\n",
              "    </tr>\n",
              "    <tr>\n",
              "      <th>6650</th>\n",
              "      <td>16380.0</td>\n",
              "      <td>Entire home/apt</td>\n",
              "    </tr>\n",
              "    <tr>\n",
              "      <th>7147</th>\n",
              "      <td>16380.0</td>\n",
              "      <td>Entire home/apt</td>\n",
              "    </tr>\n",
              "    <tr>\n",
              "      <th>7541</th>\n",
              "      <td>20000.0</td>\n",
              "      <td>Entire home/apt</td>\n",
              "    </tr>\n",
              "    <tr>\n",
              "      <th>9977</th>\n",
              "      <td>15960.0</td>\n",
              "      <td>Entire home/apt</td>\n",
              "    </tr>\n",
              "  </tbody>\n",
              "</table>\n",
              "</div>\n",
              "      <button class=\"colab-df-convert\" onclick=\"convertToInteractive('df-28c7e0a7-4403-49b8-8fb0-613cac005d09')\"\n",
              "              title=\"Convert this dataframe to an interactive table.\"\n",
              "              style=\"display:none;\">\n",
              "        \n",
              "  <svg xmlns=\"http://www.w3.org/2000/svg\" height=\"24px\"viewBox=\"0 0 24 24\"\n",
              "       width=\"24px\">\n",
              "    <path d=\"M0 0h24v24H0V0z\" fill=\"none\"/>\n",
              "    <path d=\"M18.56 5.44l.94 2.06.94-2.06 2.06-.94-2.06-.94-.94-2.06-.94 2.06-2.06.94zm-11 1L8.5 8.5l.94-2.06 2.06-.94-2.06-.94L8.5 2.5l-.94 2.06-2.06.94zm10 10l.94 2.06.94-2.06 2.06-.94-2.06-.94-.94-2.06-.94 2.06-2.06.94z\"/><path d=\"M17.41 7.96l-1.37-1.37c-.4-.4-.92-.59-1.43-.59-.52 0-1.04.2-1.43.59L10.3 9.45l-7.72 7.72c-.78.78-.78 2.05 0 2.83L4 21.41c.39.39.9.59 1.41.59.51 0 1.02-.2 1.41-.59l7.78-7.78 2.81-2.81c.8-.78.8-2.07 0-2.86zM5.41 20L4 18.59l7.72-7.72 1.47 1.35L5.41 20z\"/>\n",
              "  </svg>\n",
              "      </button>\n",
              "      \n",
              "  <style>\n",
              "    .colab-df-container {\n",
              "      display:flex;\n",
              "      flex-wrap:wrap;\n",
              "      gap: 12px;\n",
              "    }\n",
              "\n",
              "    .colab-df-convert {\n",
              "      background-color: #E8F0FE;\n",
              "      border: none;\n",
              "      border-radius: 50%;\n",
              "      cursor: pointer;\n",
              "      display: none;\n",
              "      fill: #1967D2;\n",
              "      height: 32px;\n",
              "      padding: 0 0 0 0;\n",
              "      width: 32px;\n",
              "    }\n",
              "\n",
              "    .colab-df-convert:hover {\n",
              "      background-color: #E2EBFA;\n",
              "      box-shadow: 0px 1px 2px rgba(60, 64, 67, 0.3), 0px 1px 3px 1px rgba(60, 64, 67, 0.15);\n",
              "      fill: #174EA6;\n",
              "    }\n",
              "\n",
              "    [theme=dark] .colab-df-convert {\n",
              "      background-color: #3B4455;\n",
              "      fill: #D2E3FC;\n",
              "    }\n",
              "\n",
              "    [theme=dark] .colab-df-convert:hover {\n",
              "      background-color: #434B5C;\n",
              "      box-shadow: 0px 1px 3px 1px rgba(0, 0, 0, 0.15);\n",
              "      filter: drop-shadow(0px 1px 2px rgba(0, 0, 0, 0.3));\n",
              "      fill: #FFFFFF;\n",
              "    }\n",
              "  </style>\n",
              "\n",
              "      <script>\n",
              "        const buttonEl =\n",
              "          document.querySelector('#df-28c7e0a7-4403-49b8-8fb0-613cac005d09 button.colab-df-convert');\n",
              "        buttonEl.style.display =\n",
              "          google.colab.kernel.accessAllowed ? 'block' : 'none';\n",
              "\n",
              "        async function convertToInteractive(key) {\n",
              "          const element = document.querySelector('#df-28c7e0a7-4403-49b8-8fb0-613cac005d09');\n",
              "          const dataTable =\n",
              "            await google.colab.kernel.invokeFunction('convertToInteractive',\n",
              "                                                     [key], {});\n",
              "          if (!dataTable) return;\n",
              "\n",
              "          const docLinkHtml = 'Like what you see? Visit the ' +\n",
              "            '<a target=\"_blank\" href=https://colab.research.google.com/notebooks/data_table.ipynb>data table notebook</a>'\n",
              "            + ' to learn more about interactive tables.';\n",
              "          element.innerHTML = '';\n",
              "          dataTable['output_type'] = 'display_data';\n",
              "          await google.colab.output.renderOutput(dataTable, element);\n",
              "          const docLink = document.createElement('div');\n",
              "          docLink.innerHTML = docLinkHtml;\n",
              "          element.appendChild(docLink);\n",
              "        }\n",
              "      </script>\n",
              "    </div>\n",
              "  </div>\n",
              "  "
            ]
          },
          "metadata": {},
          "execution_count": 127
        }
      ]
    },
    {
      "cell_type": "markdown",
      "source": [
        "g) Los registros cuyo review_scores_cleanliness > 4.5\n"
      ],
      "metadata": {
        "id": "sb9k5SyfnhOB"
      }
    },
    {
      "cell_type": "code",
      "source": [
        "filtro7_esp = españa[españa['review_scores_cleanliness']>4.5]\n",
        "filtro7_esp['review_scores_cleanliness']"
      ],
      "metadata": {
        "colab": {
          "base_uri": "https://localhost:8080/"
        },
        "outputId": "e309b819-c8fe-400a-9178-3ffe253d2d15",
        "id": "_vze2SbBJy1x"
      },
      "execution_count": 128,
      "outputs": [
        {
          "output_type": "execute_result",
          "data": {
            "text/plain": [
              "0        4.94\n",
              "1        4.85\n",
              "4        4.82\n",
              "5        4.69\n",
              "6        4.79\n",
              "         ... \n",
              "18985    4.60\n",
              "19001    5.00\n",
              "19046    5.00\n",
              "19077    5.00\n",
              "19202    5.00\n",
              "Name: review_scores_cleanliness, Length: 10766, dtype: float64"
            ]
          },
          "metadata": {},
          "execution_count": 128
        }
      ]
    },
    {
      "cell_type": "markdown",
      "source": [
        "h) Los registros cuyo review_scores_value > 4.9\n"
      ],
      "metadata": {
        "id": "Y_kHAQZInhOB"
      }
    },
    {
      "cell_type": "code",
      "source": [
        "filtro8_esp = españa[españa['review_scores_value']>4.9]\n",
        "filtro8_esp['review_scores_value']"
      ],
      "metadata": {
        "colab": {
          "base_uri": "https://localhost:8080/"
        },
        "outputId": "720effc1-d887-4f49-f51e-27bce3f8e08c",
        "id": "2jlMGMaPJy1y"
      },
      "execution_count": 129,
      "outputs": [
        {
          "output_type": "execute_result",
          "data": {
            "text/plain": [
              "22       5.00\n",
              "26       4.92\n",
              "40       5.00\n",
              "43       5.00\n",
              "53       5.00\n",
              "         ... \n",
              "19038    5.00\n",
              "19046    5.00\n",
              "19077    5.00\n",
              "19202    5.00\n",
              "19467    5.00\n",
              "Name: review_scores_value, Length: 2596, dtype: float64"
            ]
          },
          "metadata": {},
          "execution_count": 129
        }
      ]
    },
    {
      "cell_type": "markdown",
      "source": [
        "i) Los registros cuya availability_365< 100\n"
      ],
      "metadata": {
        "id": "6xYgzpSmnhOB"
      }
    },
    {
      "cell_type": "code",
      "source": [
        "filtro9_esp = españa[españa['availability_365']<100]\n",
        "filtro9_esp['availability_365']"
      ],
      "metadata": {
        "colab": {
          "base_uri": "https://localhost:8080/"
        },
        "outputId": "d462f519-193e-4efe-a124-b2f7dfb95810",
        "id": "BEcJaYO1Jy1y"
      },
      "execution_count": 130,
      "outputs": [
        {
          "output_type": "execute_result",
          "data": {
            "text/plain": [
              "4         0\n",
              "7        56\n",
              "11       28\n",
              "15       84\n",
              "20        0\n",
              "         ..\n",
              "19627    22\n",
              "19632    42\n",
              "19634    77\n",
              "19638    77\n",
              "19654    92\n",
              "Name: availability_365, Length: 4981, dtype: int64"
            ]
          },
          "metadata": {},
          "execution_count": 130
        }
      ]
    },
    {
      "cell_type": "markdown",
      "source": [
        "j) Los registros cuya host_response_time sea “within an hour”"
      ],
      "metadata": {
        "id": "LH5IpHhInhOC"
      }
    },
    {
      "cell_type": "code",
      "source": [
        "filtro10_esp = españa[españa['host_response_time']=='within an hour']\n",
        "filtro10_esp['host_response_time']"
      ],
      "metadata": {
        "colab": {
          "base_uri": "https://localhost:8080/"
        },
        "outputId": "1083f01e-8e05-41d0-ef67-8ef6557adf43",
        "id": "RXJCOa2DJy1y"
      },
      "execution_count": 131,
      "outputs": [
        {
          "output_type": "execute_result",
          "data": {
            "text/plain": [
              "0        within an hour\n",
              "5        within an hour\n",
              "6        within an hour\n",
              "8        within an hour\n",
              "10       within an hour\n",
              "              ...      \n",
              "19647    within an hour\n",
              "19648    within an hour\n",
              "19650    within an hour\n",
              "19651    within an hour\n",
              "19653    within an hour\n",
              "Name: host_response_time, Length: 12261, dtype: object"
            ]
          },
          "metadata": {},
          "execution_count": 131
        }
      ]
    },
    {
      "cell_type": "markdown",
      "source": [
        "### **Descarga de archivos con filtros aplicados**"
      ],
      "metadata": {
        "id": "W_FFjlMM4wj_"
      }
    },
    {
      "cell_type": "code",
      "source": [
        "filtro1_mex.to_csv(\"Filtro1_mex.csv\")\n",
        "files.download(\"Filtro1_mex.csv\")\n",
        "\n",
        "filtro2_mex.to_csv(\"Filtro2_mex.csv\")\n",
        "files.download(\"Filtro2_mex.csv\")\n",
        "\n",
        "filtro3_mex.to_csv(\"Filtro3_mex.csv\")\n",
        "files.download(\"Filtro3_mex.csv\")\n",
        "\n",
        "filtro4_mex.to_csv(\"Filtro4_mex.csv\")\n",
        "files.download(\"Filtro4_mex.csv\")\n",
        "\n",
        "filtro5_mex.to_csv(\"Filtro5_mex.csv\")\n",
        "files.download(\"Filtro5_mex.csv\")\n",
        "\n",
        "filtro6_mex.to_csv(\"Filtro6_mex.csv\")\n",
        "files.download(\"Filtro6_mex.csv\")\n",
        "\n",
        "filtro7_mex.to_csv(\"Filtro7_mex.csv\")\n",
        "files.download(\"Filtro7_mex.csv\")\n",
        "\n",
        "filtro8_mex.to_csv(\"Filtro8_mex.csv\")\n",
        "files.download(\"Filtro8_mex.csv\")\n",
        "\n",
        "filtro9_mex.to_csv(\"Filtro9_mex.csv\")\n",
        "files.download(\"Filtro9_mex.csv\")\n",
        "\n",
        "filtro10_mex.to_csv(\"Filtro10_mex.csv\")\n",
        "files.download(\"Filtro10_mex.csv\")"
      ],
      "metadata": {
        "colab": {
          "base_uri": "https://localhost:8080/",
          "height": 17
        },
        "id": "2IH0wjci5Unu",
        "outputId": "717a3ec0-232e-47c7-a715-6efdc616ba5f"
      },
      "execution_count": 132,
      "outputs": [
        {
          "output_type": "display_data",
          "data": {
            "text/plain": [
              "<IPython.core.display.Javascript object>"
            ],
            "application/javascript": [
              "\n",
              "    async function download(id, filename, size) {\n",
              "      if (!google.colab.kernel.accessAllowed) {\n",
              "        return;\n",
              "      }\n",
              "      const div = document.createElement('div');\n",
              "      const label = document.createElement('label');\n",
              "      label.textContent = `Downloading \"${filename}\": `;\n",
              "      div.appendChild(label);\n",
              "      const progress = document.createElement('progress');\n",
              "      progress.max = size;\n",
              "      div.appendChild(progress);\n",
              "      document.body.appendChild(div);\n",
              "\n",
              "      const buffers = [];\n",
              "      let downloaded = 0;\n",
              "\n",
              "      const channel = await google.colab.kernel.comms.open(id);\n",
              "      // Send a message to notify the kernel that we're ready.\n",
              "      channel.send({})\n",
              "\n",
              "      for await (const message of channel.messages) {\n",
              "        // Send a message to notify the kernel that we're ready.\n",
              "        channel.send({})\n",
              "        if (message.buffers) {\n",
              "          for (const buffer of message.buffers) {\n",
              "            buffers.push(buffer);\n",
              "            downloaded += buffer.byteLength;\n",
              "            progress.value = downloaded;\n",
              "          }\n",
              "        }\n",
              "      }\n",
              "      const blob = new Blob(buffers, {type: 'application/binary'});\n",
              "      const a = document.createElement('a');\n",
              "      a.href = window.URL.createObjectURL(blob);\n",
              "      a.download = filename;\n",
              "      div.appendChild(a);\n",
              "      a.click();\n",
              "      div.remove();\n",
              "    }\n",
              "  "
            ]
          },
          "metadata": {}
        },
        {
          "output_type": "display_data",
          "data": {
            "text/plain": [
              "<IPython.core.display.Javascript object>"
            ],
            "application/javascript": [
              "download(\"download_a5f7381e-b66f-4c4d-b8fb-138c63f72855\", \"Filtro1_mex.csv\", 55182651)"
            ]
          },
          "metadata": {}
        },
        {
          "output_type": "display_data",
          "data": {
            "text/plain": [
              "<IPython.core.display.Javascript object>"
            ],
            "application/javascript": [
              "\n",
              "    async function download(id, filename, size) {\n",
              "      if (!google.colab.kernel.accessAllowed) {\n",
              "        return;\n",
              "      }\n",
              "      const div = document.createElement('div');\n",
              "      const label = document.createElement('label');\n",
              "      label.textContent = `Downloading \"${filename}\": `;\n",
              "      div.appendChild(label);\n",
              "      const progress = document.createElement('progress');\n",
              "      progress.max = size;\n",
              "      div.appendChild(progress);\n",
              "      document.body.appendChild(div);\n",
              "\n",
              "      const buffers = [];\n",
              "      let downloaded = 0;\n",
              "\n",
              "      const channel = await google.colab.kernel.comms.open(id);\n",
              "      // Send a message to notify the kernel that we're ready.\n",
              "      channel.send({})\n",
              "\n",
              "      for await (const message of channel.messages) {\n",
              "        // Send a message to notify the kernel that we're ready.\n",
              "        channel.send({})\n",
              "        if (message.buffers) {\n",
              "          for (const buffer of message.buffers) {\n",
              "            buffers.push(buffer);\n",
              "            downloaded += buffer.byteLength;\n",
              "            progress.value = downloaded;\n",
              "          }\n",
              "        }\n",
              "      }\n",
              "      const blob = new Blob(buffers, {type: 'application/binary'});\n",
              "      const a = document.createElement('a');\n",
              "      a.href = window.URL.createObjectURL(blob);\n",
              "      a.download = filename;\n",
              "      div.appendChild(a);\n",
              "      a.click();\n",
              "      div.remove();\n",
              "    }\n",
              "  "
            ]
          },
          "metadata": {}
        },
        {
          "output_type": "display_data",
          "data": {
            "text/plain": [
              "<IPython.core.display.Javascript object>"
            ],
            "application/javascript": [
              "download(\"download_75e8659b-7b52-4479-948f-a9d1d43a26c2\", \"Filtro2_mex.csv\", 25508073)"
            ]
          },
          "metadata": {}
        },
        {
          "output_type": "display_data",
          "data": {
            "text/plain": [
              "<IPython.core.display.Javascript object>"
            ],
            "application/javascript": [
              "\n",
              "    async function download(id, filename, size) {\n",
              "      if (!google.colab.kernel.accessAllowed) {\n",
              "        return;\n",
              "      }\n",
              "      const div = document.createElement('div');\n",
              "      const label = document.createElement('label');\n",
              "      label.textContent = `Downloading \"${filename}\": `;\n",
              "      div.appendChild(label);\n",
              "      const progress = document.createElement('progress');\n",
              "      progress.max = size;\n",
              "      div.appendChild(progress);\n",
              "      document.body.appendChild(div);\n",
              "\n",
              "      const buffers = [];\n",
              "      let downloaded = 0;\n",
              "\n",
              "      const channel = await google.colab.kernel.comms.open(id);\n",
              "      // Send a message to notify the kernel that we're ready.\n",
              "      channel.send({})\n",
              "\n",
              "      for await (const message of channel.messages) {\n",
              "        // Send a message to notify the kernel that we're ready.\n",
              "        channel.send({})\n",
              "        if (message.buffers) {\n",
              "          for (const buffer of message.buffers) {\n",
              "            buffers.push(buffer);\n",
              "            downloaded += buffer.byteLength;\n",
              "            progress.value = downloaded;\n",
              "          }\n",
              "        }\n",
              "      }\n",
              "      const blob = new Blob(buffers, {type: 'application/binary'});\n",
              "      const a = document.createElement('a');\n",
              "      a.href = window.URL.createObjectURL(blob);\n",
              "      a.download = filename;\n",
              "      div.appendChild(a);\n",
              "      a.click();\n",
              "      div.remove();\n",
              "    }\n",
              "  "
            ]
          },
          "metadata": {}
        },
        {
          "output_type": "display_data",
          "data": {
            "text/plain": [
              "<IPython.core.display.Javascript object>"
            ],
            "application/javascript": [
              "download(\"download_8bd7e4a1-3e97-4af5-a011-65c18961655f\", \"Filtro3_mex.csv\", 3851581)"
            ]
          },
          "metadata": {}
        },
        {
          "output_type": "display_data",
          "data": {
            "text/plain": [
              "<IPython.core.display.Javascript object>"
            ],
            "application/javascript": [
              "\n",
              "    async function download(id, filename, size) {\n",
              "      if (!google.colab.kernel.accessAllowed) {\n",
              "        return;\n",
              "      }\n",
              "      const div = document.createElement('div');\n",
              "      const label = document.createElement('label');\n",
              "      label.textContent = `Downloading \"${filename}\": `;\n",
              "      div.appendChild(label);\n",
              "      const progress = document.createElement('progress');\n",
              "      progress.max = size;\n",
              "      div.appendChild(progress);\n",
              "      document.body.appendChild(div);\n",
              "\n",
              "      const buffers = [];\n",
              "      let downloaded = 0;\n",
              "\n",
              "      const channel = await google.colab.kernel.comms.open(id);\n",
              "      // Send a message to notify the kernel that we're ready.\n",
              "      channel.send({})\n",
              "\n",
              "      for await (const message of channel.messages) {\n",
              "        // Send a message to notify the kernel that we're ready.\n",
              "        channel.send({})\n",
              "        if (message.buffers) {\n",
              "          for (const buffer of message.buffers) {\n",
              "            buffers.push(buffer);\n",
              "            downloaded += buffer.byteLength;\n",
              "            progress.value = downloaded;\n",
              "          }\n",
              "        }\n",
              "      }\n",
              "      const blob = new Blob(buffers, {type: 'application/binary'});\n",
              "      const a = document.createElement('a');\n",
              "      a.href = window.URL.createObjectURL(blob);\n",
              "      a.download = filename;\n",
              "      div.appendChild(a);\n",
              "      a.click();\n",
              "      div.remove();\n",
              "    }\n",
              "  "
            ]
          },
          "metadata": {}
        },
        {
          "output_type": "display_data",
          "data": {
            "text/plain": [
              "<IPython.core.display.Javascript object>"
            ],
            "application/javascript": [
              "download(\"download_fcbf1330-37ec-43ae-9411-7a911a00ac1a\", \"Filtro4_mex.csv\", 19729386)"
            ]
          },
          "metadata": {}
        },
        {
          "output_type": "display_data",
          "data": {
            "text/plain": [
              "<IPython.core.display.Javascript object>"
            ],
            "application/javascript": [
              "\n",
              "    async function download(id, filename, size) {\n",
              "      if (!google.colab.kernel.accessAllowed) {\n",
              "        return;\n",
              "      }\n",
              "      const div = document.createElement('div');\n",
              "      const label = document.createElement('label');\n",
              "      label.textContent = `Downloading \"${filename}\": `;\n",
              "      div.appendChild(label);\n",
              "      const progress = document.createElement('progress');\n",
              "      progress.max = size;\n",
              "      div.appendChild(progress);\n",
              "      document.body.appendChild(div);\n",
              "\n",
              "      const buffers = [];\n",
              "      let downloaded = 0;\n",
              "\n",
              "      const channel = await google.colab.kernel.comms.open(id);\n",
              "      // Send a message to notify the kernel that we're ready.\n",
              "      channel.send({})\n",
              "\n",
              "      for await (const message of channel.messages) {\n",
              "        // Send a message to notify the kernel that we're ready.\n",
              "        channel.send({})\n",
              "        if (message.buffers) {\n",
              "          for (const buffer of message.buffers) {\n",
              "            buffers.push(buffer);\n",
              "            downloaded += buffer.byteLength;\n",
              "            progress.value = downloaded;\n",
              "          }\n",
              "        }\n",
              "      }\n",
              "      const blob = new Blob(buffers, {type: 'application/binary'});\n",
              "      const a = document.createElement('a');\n",
              "      a.href = window.URL.createObjectURL(blob);\n",
              "      a.download = filename;\n",
              "      div.appendChild(a);\n",
              "      a.click();\n",
              "      div.remove();\n",
              "    }\n",
              "  "
            ]
          },
          "metadata": {}
        },
        {
          "output_type": "display_data",
          "data": {
            "text/plain": [
              "<IPython.core.display.Javascript object>"
            ],
            "application/javascript": [
              "download(\"download_1fe9c3d8-77ea-4dc4-a2c6-73ae7d739e4f\", \"Filtro5_mex.csv\", 24582189)"
            ]
          },
          "metadata": {}
        },
        {
          "output_type": "display_data",
          "data": {
            "text/plain": [
              "<IPython.core.display.Javascript object>"
            ],
            "application/javascript": [
              "\n",
              "    async function download(id, filename, size) {\n",
              "      if (!google.colab.kernel.accessAllowed) {\n",
              "        return;\n",
              "      }\n",
              "      const div = document.createElement('div');\n",
              "      const label = document.createElement('label');\n",
              "      label.textContent = `Downloading \"${filename}\": `;\n",
              "      div.appendChild(label);\n",
              "      const progress = document.createElement('progress');\n",
              "      progress.max = size;\n",
              "      div.appendChild(progress);\n",
              "      document.body.appendChild(div);\n",
              "\n",
              "      const buffers = [];\n",
              "      let downloaded = 0;\n",
              "\n",
              "      const channel = await google.colab.kernel.comms.open(id);\n",
              "      // Send a message to notify the kernel that we're ready.\n",
              "      channel.send({})\n",
              "\n",
              "      for await (const message of channel.messages) {\n",
              "        // Send a message to notify the kernel that we're ready.\n",
              "        channel.send({})\n",
              "        if (message.buffers) {\n",
              "          for (const buffer of message.buffers) {\n",
              "            buffers.push(buffer);\n",
              "            downloaded += buffer.byteLength;\n",
              "            progress.value = downloaded;\n",
              "          }\n",
              "        }\n",
              "      }\n",
              "      const blob = new Blob(buffers, {type: 'application/binary'});\n",
              "      const a = document.createElement('a');\n",
              "      a.href = window.URL.createObjectURL(blob);\n",
              "      a.download = filename;\n",
              "      div.appendChild(a);\n",
              "      a.click();\n",
              "      div.remove();\n",
              "    }\n",
              "  "
            ]
          },
          "metadata": {}
        },
        {
          "output_type": "display_data",
          "data": {
            "text/plain": [
              "<IPython.core.display.Javascript object>"
            ],
            "application/javascript": [
              "download(\"download_ffd37fde-c613-46a3-8c9f-6b44262e499f\", \"Filtro6_mex.csv\", 472668)"
            ]
          },
          "metadata": {}
        },
        {
          "output_type": "display_data",
          "data": {
            "text/plain": [
              "<IPython.core.display.Javascript object>"
            ],
            "application/javascript": [
              "\n",
              "    async function download(id, filename, size) {\n",
              "      if (!google.colab.kernel.accessAllowed) {\n",
              "        return;\n",
              "      }\n",
              "      const div = document.createElement('div');\n",
              "      const label = document.createElement('label');\n",
              "      label.textContent = `Downloading \"${filename}\": `;\n",
              "      div.appendChild(label);\n",
              "      const progress = document.createElement('progress');\n",
              "      progress.max = size;\n",
              "      div.appendChild(progress);\n",
              "      document.body.appendChild(div);\n",
              "\n",
              "      const buffers = [];\n",
              "      let downloaded = 0;\n",
              "\n",
              "      const channel = await google.colab.kernel.comms.open(id);\n",
              "      // Send a message to notify the kernel that we're ready.\n",
              "      channel.send({})\n",
              "\n",
              "      for await (const message of channel.messages) {\n",
              "        // Send a message to notify the kernel that we're ready.\n",
              "        channel.send({})\n",
              "        if (message.buffers) {\n",
              "          for (const buffer of message.buffers) {\n",
              "            buffers.push(buffer);\n",
              "            downloaded += buffer.byteLength;\n",
              "            progress.value = downloaded;\n",
              "          }\n",
              "        }\n",
              "      }\n",
              "      const blob = new Blob(buffers, {type: 'application/binary'});\n",
              "      const a = document.createElement('a');\n",
              "      a.href = window.URL.createObjectURL(blob);\n",
              "      a.download = filename;\n",
              "      div.appendChild(a);\n",
              "      a.click();\n",
              "      div.remove();\n",
              "    }\n",
              "  "
            ]
          },
          "metadata": {}
        },
        {
          "output_type": "display_data",
          "data": {
            "text/plain": [
              "<IPython.core.display.Javascript object>"
            ],
            "application/javascript": [
              "download(\"download_48f1bb8e-6cc4-4cad-acf5-93ac28e58fad\", \"Filtro7_mex.csv\", 59009135)"
            ]
          },
          "metadata": {}
        },
        {
          "output_type": "display_data",
          "data": {
            "text/plain": [
              "<IPython.core.display.Javascript object>"
            ],
            "application/javascript": [
              "\n",
              "    async function download(id, filename, size) {\n",
              "      if (!google.colab.kernel.accessAllowed) {\n",
              "        return;\n",
              "      }\n",
              "      const div = document.createElement('div');\n",
              "      const label = document.createElement('label');\n",
              "      label.textContent = `Downloading \"${filename}\": `;\n",
              "      div.appendChild(label);\n",
              "      const progress = document.createElement('progress');\n",
              "      progress.max = size;\n",
              "      div.appendChild(progress);\n",
              "      document.body.appendChild(div);\n",
              "\n",
              "      const buffers = [];\n",
              "      let downloaded = 0;\n",
              "\n",
              "      const channel = await google.colab.kernel.comms.open(id);\n",
              "      // Send a message to notify the kernel that we're ready.\n",
              "      channel.send({})\n",
              "\n",
              "      for await (const message of channel.messages) {\n",
              "        // Send a message to notify the kernel that we're ready.\n",
              "        channel.send({})\n",
              "        if (message.buffers) {\n",
              "          for (const buffer of message.buffers) {\n",
              "            buffers.push(buffer);\n",
              "            downloaded += buffer.byteLength;\n",
              "            progress.value = downloaded;\n",
              "          }\n",
              "        }\n",
              "      }\n",
              "      const blob = new Blob(buffers, {type: 'application/binary'});\n",
              "      const a = document.createElement('a');\n",
              "      a.href = window.URL.createObjectURL(blob);\n",
              "      a.download = filename;\n",
              "      div.appendChild(a);\n",
              "      a.click();\n",
              "      div.remove();\n",
              "    }\n",
              "  "
            ]
          },
          "metadata": {}
        },
        {
          "output_type": "display_data",
          "data": {
            "text/plain": [
              "<IPython.core.display.Javascript object>"
            ],
            "application/javascript": [
              "download(\"download_2c0616c4-6a97-4438-863b-354e207f68a6\", \"Filtro8_mex.csv\", 16925274)"
            ]
          },
          "metadata": {}
        },
        {
          "output_type": "display_data",
          "data": {
            "text/plain": [
              "<IPython.core.display.Javascript object>"
            ],
            "application/javascript": [
              "\n",
              "    async function download(id, filename, size) {\n",
              "      if (!google.colab.kernel.accessAllowed) {\n",
              "        return;\n",
              "      }\n",
              "      const div = document.createElement('div');\n",
              "      const label = document.createElement('label');\n",
              "      label.textContent = `Downloading \"${filename}\": `;\n",
              "      div.appendChild(label);\n",
              "      const progress = document.createElement('progress');\n",
              "      progress.max = size;\n",
              "      div.appendChild(progress);\n",
              "      document.body.appendChild(div);\n",
              "\n",
              "      const buffers = [];\n",
              "      let downloaded = 0;\n",
              "\n",
              "      const channel = await google.colab.kernel.comms.open(id);\n",
              "      // Send a message to notify the kernel that we're ready.\n",
              "      channel.send({})\n",
              "\n",
              "      for await (const message of channel.messages) {\n",
              "        // Send a message to notify the kernel that we're ready.\n",
              "        channel.send({})\n",
              "        if (message.buffers) {\n",
              "          for (const buffer of message.buffers) {\n",
              "            buffers.push(buffer);\n",
              "            downloaded += buffer.byteLength;\n",
              "            progress.value = downloaded;\n",
              "          }\n",
              "        }\n",
              "      }\n",
              "      const blob = new Blob(buffers, {type: 'application/binary'});\n",
              "      const a = document.createElement('a');\n",
              "      a.href = window.URL.createObjectURL(blob);\n",
              "      a.download = filename;\n",
              "      div.appendChild(a);\n",
              "      a.click();\n",
              "      div.remove();\n",
              "    }\n",
              "  "
            ]
          },
          "metadata": {}
        },
        {
          "output_type": "display_data",
          "data": {
            "text/plain": [
              "<IPython.core.display.Javascript object>"
            ],
            "application/javascript": [
              "download(\"download_0679424c-121b-427b-9c08-27ef1ac884c8\", \"Filtro9_mex.csv\", 12952458)"
            ]
          },
          "metadata": {}
        },
        {
          "output_type": "display_data",
          "data": {
            "text/plain": [
              "<IPython.core.display.Javascript object>"
            ],
            "application/javascript": [
              "\n",
              "    async function download(id, filename, size) {\n",
              "      if (!google.colab.kernel.accessAllowed) {\n",
              "        return;\n",
              "      }\n",
              "      const div = document.createElement('div');\n",
              "      const label = document.createElement('label');\n",
              "      label.textContent = `Downloading \"${filename}\": `;\n",
              "      div.appendChild(label);\n",
              "      const progress = document.createElement('progress');\n",
              "      progress.max = size;\n",
              "      div.appendChild(progress);\n",
              "      document.body.appendChild(div);\n",
              "\n",
              "      const buffers = [];\n",
              "      let downloaded = 0;\n",
              "\n",
              "      const channel = await google.colab.kernel.comms.open(id);\n",
              "      // Send a message to notify the kernel that we're ready.\n",
              "      channel.send({})\n",
              "\n",
              "      for await (const message of channel.messages) {\n",
              "        // Send a message to notify the kernel that we're ready.\n",
              "        channel.send({})\n",
              "        if (message.buffers) {\n",
              "          for (const buffer of message.buffers) {\n",
              "            buffers.push(buffer);\n",
              "            downloaded += buffer.byteLength;\n",
              "            progress.value = downloaded;\n",
              "          }\n",
              "        }\n",
              "      }\n",
              "      const blob = new Blob(buffers, {type: 'application/binary'});\n",
              "      const a = document.createElement('a');\n",
              "      a.href = window.URL.createObjectURL(blob);\n",
              "      a.download = filename;\n",
              "      div.appendChild(a);\n",
              "      a.click();\n",
              "      div.remove();\n",
              "    }\n",
              "  "
            ]
          },
          "metadata": {}
        },
        {
          "output_type": "display_data",
          "data": {
            "text/plain": [
              "<IPython.core.display.Javascript object>"
            ],
            "application/javascript": [
              "download(\"download_25506190-f683-4253-91f9-f67a95b2da2f\", \"Filtro10_mex.csv\", 45884397)"
            ]
          },
          "metadata": {}
        }
      ]
    },
    {
      "cell_type": "code",
      "source": [
        "filtro1_usa.to_csv(\"Filtro1_usa.csv\")\n",
        "files.download(\"Filtro1_usa.csv\")\n",
        "\n",
        "filtro2_usa.to_csv(\"Filtro2_usa.csv\")\n",
        "files.download(\"Filtro2_usa.csv\")\n",
        "\n",
        "filtro3_usa.to_csv(\"Filtro3_usa.csv\")\n",
        "files.download(\"Filtro3_usa.csv\")\n",
        "\n",
        "filtro4_usa.to_csv(\"Filtro4_usa.csv\")\n",
        "files.download(\"Filtro4_usa.csv\")\n",
        "\n",
        "filtro5_usa.to_csv(\"Filtro5_usa.csv\")\n",
        "files.download(\"Filtro5_usa.csv\")\n",
        "\n",
        "filtro6_usa.to_csv(\"Filtro6_usa.csv\")\n",
        "files.download(\"Filtro6_usa.csv\")\n",
        "\n",
        "filtro7_usa.to_csv(\"Filtro7_usa.csv\")\n",
        "files.download(\"Filtro7_usa.csv\")\n",
        "\n",
        "filtro8_usa.to_csv(\"Filtro8_usa.csv\")\n",
        "files.download(\"Filtro8_usa.csv\")\n",
        "\n",
        "filtro9_usa.to_csv(\"Filtro9_usa.csv\")\n",
        "files.download(\"Filtro9_usa.csv\")\n",
        "\n",
        "filtro10_usa.to_csv(\"Filtro10_usa.csv\")\n",
        "files.download(\"Filtro10_usa.csv\")"
      ],
      "metadata": {
        "id": "jFk-Fu4LJmg5",
        "colab": {
          "base_uri": "https://localhost:8080/",
          "height": 17
        },
        "outputId": "5274eaf9-75d9-4500-813e-a3c2a9c2fc72"
      },
      "execution_count": 142,
      "outputs": [
        {
          "output_type": "display_data",
          "data": {
            "text/plain": [
              "<IPython.core.display.Javascript object>"
            ],
            "application/javascript": [
              "\n",
              "    async function download(id, filename, size) {\n",
              "      if (!google.colab.kernel.accessAllowed) {\n",
              "        return;\n",
              "      }\n",
              "      const div = document.createElement('div');\n",
              "      const label = document.createElement('label');\n",
              "      label.textContent = `Downloading \"${filename}\": `;\n",
              "      div.appendChild(label);\n",
              "      const progress = document.createElement('progress');\n",
              "      progress.max = size;\n",
              "      div.appendChild(progress);\n",
              "      document.body.appendChild(div);\n",
              "\n",
              "      const buffers = [];\n",
              "      let downloaded = 0;\n",
              "\n",
              "      const channel = await google.colab.kernel.comms.open(id);\n",
              "      // Send a message to notify the kernel that we're ready.\n",
              "      channel.send({})\n",
              "\n",
              "      for await (const message of channel.messages) {\n",
              "        // Send a message to notify the kernel that we're ready.\n",
              "        channel.send({})\n",
              "        if (message.buffers) {\n",
              "          for (const buffer of message.buffers) {\n",
              "            buffers.push(buffer);\n",
              "            downloaded += buffer.byteLength;\n",
              "            progress.value = downloaded;\n",
              "          }\n",
              "        }\n",
              "      }\n",
              "      const blob = new Blob(buffers, {type: 'application/binary'});\n",
              "      const a = document.createElement('a');\n",
              "      a.href = window.URL.createObjectURL(blob);\n",
              "      a.download = filename;\n",
              "      div.appendChild(a);\n",
              "      a.click();\n",
              "      div.remove();\n",
              "    }\n",
              "  "
            ]
          },
          "metadata": {}
        },
        {
          "output_type": "display_data",
          "data": {
            "text/plain": [
              "<IPython.core.display.Javascript object>"
            ],
            "application/javascript": [
              "download(\"download_a9c5d5aa-7a39-44b8-b78d-045a89aec859\", \"Filtro1_usa.csv\", 17076336)"
            ]
          },
          "metadata": {}
        },
        {
          "output_type": "display_data",
          "data": {
            "text/plain": [
              "<IPython.core.display.Javascript object>"
            ],
            "application/javascript": [
              "\n",
              "    async function download(id, filename, size) {\n",
              "      if (!google.colab.kernel.accessAllowed) {\n",
              "        return;\n",
              "      }\n",
              "      const div = document.createElement('div');\n",
              "      const label = document.createElement('label');\n",
              "      label.textContent = `Downloading \"${filename}\": `;\n",
              "      div.appendChild(label);\n",
              "      const progress = document.createElement('progress');\n",
              "      progress.max = size;\n",
              "      div.appendChild(progress);\n",
              "      document.body.appendChild(div);\n",
              "\n",
              "      const buffers = [];\n",
              "      let downloaded = 0;\n",
              "\n",
              "      const channel = await google.colab.kernel.comms.open(id);\n",
              "      // Send a message to notify the kernel that we're ready.\n",
              "      channel.send({})\n",
              "\n",
              "      for await (const message of channel.messages) {\n",
              "        // Send a message to notify the kernel that we're ready.\n",
              "        channel.send({})\n",
              "        if (message.buffers) {\n",
              "          for (const buffer of message.buffers) {\n",
              "            buffers.push(buffer);\n",
              "            downloaded += buffer.byteLength;\n",
              "            progress.value = downloaded;\n",
              "          }\n",
              "        }\n",
              "      }\n",
              "      const blob = new Blob(buffers, {type: 'application/binary'});\n",
              "      const a = document.createElement('a');\n",
              "      a.href = window.URL.createObjectURL(blob);\n",
              "      a.download = filename;\n",
              "      div.appendChild(a);\n",
              "      a.click();\n",
              "      div.remove();\n",
              "    }\n",
              "  "
            ]
          },
          "metadata": {}
        },
        {
          "output_type": "display_data",
          "data": {
            "text/plain": [
              "<IPython.core.display.Javascript object>"
            ],
            "application/javascript": [
              "download(\"download_3b33bbca-88cf-47c0-ab65-04ca5ed8eda7\", \"Filtro2_usa.csv\", 9097125)"
            ]
          },
          "metadata": {}
        },
        {
          "output_type": "display_data",
          "data": {
            "text/plain": [
              "<IPython.core.display.Javascript object>"
            ],
            "application/javascript": [
              "\n",
              "    async function download(id, filename, size) {\n",
              "      if (!google.colab.kernel.accessAllowed) {\n",
              "        return;\n",
              "      }\n",
              "      const div = document.createElement('div');\n",
              "      const label = document.createElement('label');\n",
              "      label.textContent = `Downloading \"${filename}\": `;\n",
              "      div.appendChild(label);\n",
              "      const progress = document.createElement('progress');\n",
              "      progress.max = size;\n",
              "      div.appendChild(progress);\n",
              "      document.body.appendChild(div);\n",
              "\n",
              "      const buffers = [];\n",
              "      let downloaded = 0;\n",
              "\n",
              "      const channel = await google.colab.kernel.comms.open(id);\n",
              "      // Send a message to notify the kernel that we're ready.\n",
              "      channel.send({})\n",
              "\n",
              "      for await (const message of channel.messages) {\n",
              "        // Send a message to notify the kernel that we're ready.\n",
              "        channel.send({})\n",
              "        if (message.buffers) {\n",
              "          for (const buffer of message.buffers) {\n",
              "            buffers.push(buffer);\n",
              "            downloaded += buffer.byteLength;\n",
              "            progress.value = downloaded;\n",
              "          }\n",
              "        }\n",
              "      }\n",
              "      const blob = new Blob(buffers, {type: 'application/binary'});\n",
              "      const a = document.createElement('a');\n",
              "      a.href = window.URL.createObjectURL(blob);\n",
              "      a.download = filename;\n",
              "      div.appendChild(a);\n",
              "      a.click();\n",
              "      div.remove();\n",
              "    }\n",
              "  "
            ]
          },
          "metadata": {}
        },
        {
          "output_type": "display_data",
          "data": {
            "text/plain": [
              "<IPython.core.display.Javascript object>"
            ],
            "application/javascript": [
              "download(\"download_36e2a659-bbe1-4bbf-a19f-bfab4b81d9d2\", \"Filtro3_usa.csv\", 2209285)"
            ]
          },
          "metadata": {}
        },
        {
          "output_type": "display_data",
          "data": {
            "text/plain": [
              "<IPython.core.display.Javascript object>"
            ],
            "application/javascript": [
              "\n",
              "    async function download(id, filename, size) {\n",
              "      if (!google.colab.kernel.accessAllowed) {\n",
              "        return;\n",
              "      }\n",
              "      const div = document.createElement('div');\n",
              "      const label = document.createElement('label');\n",
              "      label.textContent = `Downloading \"${filename}\": `;\n",
              "      div.appendChild(label);\n",
              "      const progress = document.createElement('progress');\n",
              "      progress.max = size;\n",
              "      div.appendChild(progress);\n",
              "      document.body.appendChild(div);\n",
              "\n",
              "      const buffers = [];\n",
              "      let downloaded = 0;\n",
              "\n",
              "      const channel = await google.colab.kernel.comms.open(id);\n",
              "      // Send a message to notify the kernel that we're ready.\n",
              "      channel.send({})\n",
              "\n",
              "      for await (const message of channel.messages) {\n",
              "        // Send a message to notify the kernel that we're ready.\n",
              "        channel.send({})\n",
              "        if (message.buffers) {\n",
              "          for (const buffer of message.buffers) {\n",
              "            buffers.push(buffer);\n",
              "            downloaded += buffer.byteLength;\n",
              "            progress.value = downloaded;\n",
              "          }\n",
              "        }\n",
              "      }\n",
              "      const blob = new Blob(buffers, {type: 'application/binary'});\n",
              "      const a = document.createElement('a');\n",
              "      a.href = window.URL.createObjectURL(blob);\n",
              "      a.download = filename;\n",
              "      div.appendChild(a);\n",
              "      a.click();\n",
              "      div.remove();\n",
              "    }\n",
              "  "
            ]
          },
          "metadata": {}
        },
        {
          "output_type": "display_data",
          "data": {
            "text/plain": [
              "<IPython.core.display.Javascript object>"
            ],
            "application/javascript": [
              "download(\"download_9b2521fb-c0ce-4b87-b6e8-05ccd7775c3d\", \"Filtro4_usa.csv\", 6786048)"
            ]
          },
          "metadata": {}
        },
        {
          "output_type": "display_data",
          "data": {
            "text/plain": [
              "<IPython.core.display.Javascript object>"
            ],
            "application/javascript": [
              "\n",
              "    async function download(id, filename, size) {\n",
              "      if (!google.colab.kernel.accessAllowed) {\n",
              "        return;\n",
              "      }\n",
              "      const div = document.createElement('div');\n",
              "      const label = document.createElement('label');\n",
              "      label.textContent = `Downloading \"${filename}\": `;\n",
              "      div.appendChild(label);\n",
              "      const progress = document.createElement('progress');\n",
              "      progress.max = size;\n",
              "      div.appendChild(progress);\n",
              "      document.body.appendChild(div);\n",
              "\n",
              "      const buffers = [];\n",
              "      let downloaded = 0;\n",
              "\n",
              "      const channel = await google.colab.kernel.comms.open(id);\n",
              "      // Send a message to notify the kernel that we're ready.\n",
              "      channel.send({})\n",
              "\n",
              "      for await (const message of channel.messages) {\n",
              "        // Send a message to notify the kernel that we're ready.\n",
              "        channel.send({})\n",
              "        if (message.buffers) {\n",
              "          for (const buffer of message.buffers) {\n",
              "            buffers.push(buffer);\n",
              "            downloaded += buffer.byteLength;\n",
              "            progress.value = downloaded;\n",
              "          }\n",
              "        }\n",
              "      }\n",
              "      const blob = new Blob(buffers, {type: 'application/binary'});\n",
              "      const a = document.createElement('a');\n",
              "      a.href = window.URL.createObjectURL(blob);\n",
              "      a.download = filename;\n",
              "      div.appendChild(a);\n",
              "      a.click();\n",
              "      div.remove();\n",
              "    }\n",
              "  "
            ]
          },
          "metadata": {}
        },
        {
          "output_type": "display_data",
          "data": {
            "text/plain": [
              "<IPython.core.display.Javascript object>"
            ],
            "application/javascript": [
              "download(\"download_51132316-d527-4506-b50e-a2a3c419abad\", \"Filtro5_usa.csv\", 5940898)"
            ]
          },
          "metadata": {}
        },
        {
          "output_type": "display_data",
          "data": {
            "text/plain": [
              "<IPython.core.display.Javascript object>"
            ],
            "application/javascript": [
              "\n",
              "    async function download(id, filename, size) {\n",
              "      if (!google.colab.kernel.accessAllowed) {\n",
              "        return;\n",
              "      }\n",
              "      const div = document.createElement('div');\n",
              "      const label = document.createElement('label');\n",
              "      label.textContent = `Downloading \"${filename}\": `;\n",
              "      div.appendChild(label);\n",
              "      const progress = document.createElement('progress');\n",
              "      progress.max = size;\n",
              "      div.appendChild(progress);\n",
              "      document.body.appendChild(div);\n",
              "\n",
              "      const buffers = [];\n",
              "      let downloaded = 0;\n",
              "\n",
              "      const channel = await google.colab.kernel.comms.open(id);\n",
              "      // Send a message to notify the kernel that we're ready.\n",
              "      channel.send({})\n",
              "\n",
              "      for await (const message of channel.messages) {\n",
              "        // Send a message to notify the kernel that we're ready.\n",
              "        channel.send({})\n",
              "        if (message.buffers) {\n",
              "          for (const buffer of message.buffers) {\n",
              "            buffers.push(buffer);\n",
              "            downloaded += buffer.byteLength;\n",
              "            progress.value = downloaded;\n",
              "          }\n",
              "        }\n",
              "      }\n",
              "      const blob = new Blob(buffers, {type: 'application/binary'});\n",
              "      const a = document.createElement('a');\n",
              "      a.href = window.URL.createObjectURL(blob);\n",
              "      a.download = filename;\n",
              "      div.appendChild(a);\n",
              "      a.click();\n",
              "      div.remove();\n",
              "    }\n",
              "  "
            ]
          },
          "metadata": {}
        },
        {
          "output_type": "display_data",
          "data": {
            "text/plain": [
              "<IPython.core.display.Javascript object>"
            ],
            "application/javascript": [
              "download(\"download_667777b7-aacc-4ab5-935d-506e50cf4fb2\", \"Filtro6_usa.csv\", 6085)"
            ]
          },
          "metadata": {}
        },
        {
          "output_type": "display_data",
          "data": {
            "text/plain": [
              "<IPython.core.display.Javascript object>"
            ],
            "application/javascript": [
              "\n",
              "    async function download(id, filename, size) {\n",
              "      if (!google.colab.kernel.accessAllowed) {\n",
              "        return;\n",
              "      }\n",
              "      const div = document.createElement('div');\n",
              "      const label = document.createElement('label');\n",
              "      label.textContent = `Downloading \"${filename}\": `;\n",
              "      div.appendChild(label);\n",
              "      const progress = document.createElement('progress');\n",
              "      progress.max = size;\n",
              "      div.appendChild(progress);\n",
              "      document.body.appendChild(div);\n",
              "\n",
              "      const buffers = [];\n",
              "      let downloaded = 0;\n",
              "\n",
              "      const channel = await google.colab.kernel.comms.open(id);\n",
              "      // Send a message to notify the kernel that we're ready.\n",
              "      channel.send({})\n",
              "\n",
              "      for await (const message of channel.messages) {\n",
              "        // Send a message to notify the kernel that we're ready.\n",
              "        channel.send({})\n",
              "        if (message.buffers) {\n",
              "          for (const buffer of message.buffers) {\n",
              "            buffers.push(buffer);\n",
              "            downloaded += buffer.byteLength;\n",
              "            progress.value = downloaded;\n",
              "          }\n",
              "        }\n",
              "      }\n",
              "      const blob = new Blob(buffers, {type: 'application/binary'});\n",
              "      const a = document.createElement('a');\n",
              "      a.href = window.URL.createObjectURL(blob);\n",
              "      a.download = filename;\n",
              "      div.appendChild(a);\n",
              "      a.click();\n",
              "      div.remove();\n",
              "    }\n",
              "  "
            ]
          },
          "metadata": {}
        },
        {
          "output_type": "display_data",
          "data": {
            "text/plain": [
              "<IPython.core.display.Javascript object>"
            ],
            "application/javascript": [
              "download(\"download_638ae8d9-c248-45e7-a163-5931bf6a1b06\", \"Filtro7_usa.csv\", 19793410)"
            ]
          },
          "metadata": {}
        },
        {
          "output_type": "display_data",
          "data": {
            "text/plain": [
              "<IPython.core.display.Javascript object>"
            ],
            "application/javascript": [
              "\n",
              "    async function download(id, filename, size) {\n",
              "      if (!google.colab.kernel.accessAllowed) {\n",
              "        return;\n",
              "      }\n",
              "      const div = document.createElement('div');\n",
              "      const label = document.createElement('label');\n",
              "      label.textContent = `Downloading \"${filename}\": `;\n",
              "      div.appendChild(label);\n",
              "      const progress = document.createElement('progress');\n",
              "      progress.max = size;\n",
              "      div.appendChild(progress);\n",
              "      document.body.appendChild(div);\n",
              "\n",
              "      const buffers = [];\n",
              "      let downloaded = 0;\n",
              "\n",
              "      const channel = await google.colab.kernel.comms.open(id);\n",
              "      // Send a message to notify the kernel that we're ready.\n",
              "      channel.send({})\n",
              "\n",
              "      for await (const message of channel.messages) {\n",
              "        // Send a message to notify the kernel that we're ready.\n",
              "        channel.send({})\n",
              "        if (message.buffers) {\n",
              "          for (const buffer of message.buffers) {\n",
              "            buffers.push(buffer);\n",
              "            downloaded += buffer.byteLength;\n",
              "            progress.value = downloaded;\n",
              "          }\n",
              "        }\n",
              "      }\n",
              "      const blob = new Blob(buffers, {type: 'application/binary'});\n",
              "      const a = document.createElement('a');\n",
              "      a.href = window.URL.createObjectURL(blob);\n",
              "      a.download = filename;\n",
              "      div.appendChild(a);\n",
              "      a.click();\n",
              "      div.remove();\n",
              "    }\n",
              "  "
            ]
          },
          "metadata": {}
        },
        {
          "output_type": "display_data",
          "data": {
            "text/plain": [
              "<IPython.core.display.Javascript object>"
            ],
            "application/javascript": [
              "download(\"download_c796d2d8-5f9f-4e40-bc6f-501e1cac2992\", \"Filtro8_usa.csv\", 4095014)"
            ]
          },
          "metadata": {}
        },
        {
          "output_type": "display_data",
          "data": {
            "text/plain": [
              "<IPython.core.display.Javascript object>"
            ],
            "application/javascript": [
              "\n",
              "    async function download(id, filename, size) {\n",
              "      if (!google.colab.kernel.accessAllowed) {\n",
              "        return;\n",
              "      }\n",
              "      const div = document.createElement('div');\n",
              "      const label = document.createElement('label');\n",
              "      label.textContent = `Downloading \"${filename}\": `;\n",
              "      div.appendChild(label);\n",
              "      const progress = document.createElement('progress');\n",
              "      progress.max = size;\n",
              "      div.appendChild(progress);\n",
              "      document.body.appendChild(div);\n",
              "\n",
              "      const buffers = [];\n",
              "      let downloaded = 0;\n",
              "\n",
              "      const channel = await google.colab.kernel.comms.open(id);\n",
              "      // Send a message to notify the kernel that we're ready.\n",
              "      channel.send({})\n",
              "\n",
              "      for await (const message of channel.messages) {\n",
              "        // Send a message to notify the kernel that we're ready.\n",
              "        channel.send({})\n",
              "        if (message.buffers) {\n",
              "          for (const buffer of message.buffers) {\n",
              "            buffers.push(buffer);\n",
              "            downloaded += buffer.byteLength;\n",
              "            progress.value = downloaded;\n",
              "          }\n",
              "        }\n",
              "      }\n",
              "      const blob = new Blob(buffers, {type: 'application/binary'});\n",
              "      const a = document.createElement('a');\n",
              "      a.href = window.URL.createObjectURL(blob);\n",
              "      a.download = filename;\n",
              "      div.appendChild(a);\n",
              "      a.click();\n",
              "      div.remove();\n",
              "    }\n",
              "  "
            ]
          },
          "metadata": {}
        },
        {
          "output_type": "display_data",
          "data": {
            "text/plain": [
              "<IPython.core.display.Javascript object>"
            ],
            "application/javascript": [
              "download(\"download_9c7a5f2d-524a-4b65-91e1-17bf59c80c37\", \"Filtro9_usa.csv\", 7961538)"
            ]
          },
          "metadata": {}
        },
        {
          "output_type": "display_data",
          "data": {
            "text/plain": [
              "<IPython.core.display.Javascript object>"
            ],
            "application/javascript": [
              "\n",
              "    async function download(id, filename, size) {\n",
              "      if (!google.colab.kernel.accessAllowed) {\n",
              "        return;\n",
              "      }\n",
              "      const div = document.createElement('div');\n",
              "      const label = document.createElement('label');\n",
              "      label.textContent = `Downloading \"${filename}\": `;\n",
              "      div.appendChild(label);\n",
              "      const progress = document.createElement('progress');\n",
              "      progress.max = size;\n",
              "      div.appendChild(progress);\n",
              "      document.body.appendChild(div);\n",
              "\n",
              "      const buffers = [];\n",
              "      let downloaded = 0;\n",
              "\n",
              "      const channel = await google.colab.kernel.comms.open(id);\n",
              "      // Send a message to notify the kernel that we're ready.\n",
              "      channel.send({})\n",
              "\n",
              "      for await (const message of channel.messages) {\n",
              "        // Send a message to notify the kernel that we're ready.\n",
              "        channel.send({})\n",
              "        if (message.buffers) {\n",
              "          for (const buffer of message.buffers) {\n",
              "            buffers.push(buffer);\n",
              "            downloaded += buffer.byteLength;\n",
              "            progress.value = downloaded;\n",
              "          }\n",
              "        }\n",
              "      }\n",
              "      const blob = new Blob(buffers, {type: 'application/binary'});\n",
              "      const a = document.createElement('a');\n",
              "      a.href = window.URL.createObjectURL(blob);\n",
              "      a.download = filename;\n",
              "      div.appendChild(a);\n",
              "      a.click();\n",
              "      div.remove();\n",
              "    }\n",
              "  "
            ]
          },
          "metadata": {}
        },
        {
          "output_type": "display_data",
          "data": {
            "text/plain": [
              "<IPython.core.display.Javascript object>"
            ],
            "application/javascript": [
              "download(\"download_f0df1e4a-93e9-48ad-a230-b8803cd3127a\", \"Filtro10_usa.csv\", 12870321)"
            ]
          },
          "metadata": {}
        }
      ]
    },
    {
      "cell_type": "code",
      "source": [
        "filtro1_esp.to_csv(\"Filtro1_esp.csv\")\n",
        "files.download(\"Filtro1_esp.csv\")\n",
        "\n",
        "filtro2_esp.to_csv(\"Filtro2_esp.csv\")\n",
        "files.download(\"Filtro2_esp.csv\")\n",
        "\n",
        "filtro3_esp.to_csv(\"Filtro3_esp.csv\")\n",
        "files.download(\"Filtro3_esp.csv\")\n",
        "\n",
        "filtro4_esp.to_csv(\"Filtro4_esp.csv\")\n",
        "files.download(\"Filtro4_esp.csv\")\n",
        "\n",
        "filtro5_esp.to_csv(\"Filtro5_esp.csv\")\n",
        "files.download(\"Filtro5_esp.csv\")\n",
        "\n",
        "filtro6_esp.to_csv(\"Filtro6_esp.csv\")\n",
        "files.download(\"Filtro6_esp.csv\")\n",
        "\n",
        "filtro7_esp.to_csv(\"Filtro7_esp.csv\")\n",
        "files.download(\"Filtro7_esp.csv\")\n",
        "\n",
        "filtro8_esp.to_csv(\"Filtro8_esp.csv\")\n",
        "files.download(\"Filtro8_esp.csv\")\n",
        "\n",
        "filtro9_esp.to_csv(\"filtro9_esp.csv\")\n",
        "files.download(\"filtro9_esp.csv\")\n",
        "\n",
        "filtro10_esp.to_csv(\"filtro10_esp.csv\")\n",
        "files.download(\"filtro10_esp.csv\")"
      ],
      "metadata": {
        "id": "PsU15l0JMMVP",
        "colab": {
          "base_uri": "https://localhost:8080/",
          "height": 17
        },
        "outputId": "22c8cfff-7143-465e-8c35-b31825835208"
      },
      "execution_count": 144,
      "outputs": [
        {
          "output_type": "display_data",
          "data": {
            "text/plain": [
              "<IPython.core.display.Javascript object>"
            ],
            "application/javascript": [
              "\n",
              "    async function download(id, filename, size) {\n",
              "      if (!google.colab.kernel.accessAllowed) {\n",
              "        return;\n",
              "      }\n",
              "      const div = document.createElement('div');\n",
              "      const label = document.createElement('label');\n",
              "      label.textContent = `Downloading \"${filename}\": `;\n",
              "      div.appendChild(label);\n",
              "      const progress = document.createElement('progress');\n",
              "      progress.max = size;\n",
              "      div.appendChild(progress);\n",
              "      document.body.appendChild(div);\n",
              "\n",
              "      const buffers = [];\n",
              "      let downloaded = 0;\n",
              "\n",
              "      const channel = await google.colab.kernel.comms.open(id);\n",
              "      // Send a message to notify the kernel that we're ready.\n",
              "      channel.send({})\n",
              "\n",
              "      for await (const message of channel.messages) {\n",
              "        // Send a message to notify the kernel that we're ready.\n",
              "        channel.send({})\n",
              "        if (message.buffers) {\n",
              "          for (const buffer of message.buffers) {\n",
              "            buffers.push(buffer);\n",
              "            downloaded += buffer.byteLength;\n",
              "            progress.value = downloaded;\n",
              "          }\n",
              "        }\n",
              "      }\n",
              "      const blob = new Blob(buffers, {type: 'application/binary'});\n",
              "      const a = document.createElement('a');\n",
              "      a.href = window.URL.createObjectURL(blob);\n",
              "      a.download = filename;\n",
              "      div.appendChild(a);\n",
              "      a.click();\n",
              "      div.remove();\n",
              "    }\n",
              "  "
            ]
          },
          "metadata": {}
        },
        {
          "output_type": "display_data",
          "data": {
            "text/plain": [
              "<IPython.core.display.Javascript object>"
            ],
            "application/javascript": [
              "download(\"download_1d5b518e-d8d1-4e26-adec-ef6e629c2bb3\", \"Filtro1_esp.csv\", 48762682)"
            ]
          },
          "metadata": {}
        },
        {
          "output_type": "display_data",
          "data": {
            "text/plain": [
              "<IPython.core.display.Javascript object>"
            ],
            "application/javascript": [
              "\n",
              "    async function download(id, filename, size) {\n",
              "      if (!google.colab.kernel.accessAllowed) {\n",
              "        return;\n",
              "      }\n",
              "      const div = document.createElement('div');\n",
              "      const label = document.createElement('label');\n",
              "      label.textContent = `Downloading \"${filename}\": `;\n",
              "      div.appendChild(label);\n",
              "      const progress = document.createElement('progress');\n",
              "      progress.max = size;\n",
              "      div.appendChild(progress);\n",
              "      document.body.appendChild(div);\n",
              "\n",
              "      const buffers = [];\n",
              "      let downloaded = 0;\n",
              "\n",
              "      const channel = await google.colab.kernel.comms.open(id);\n",
              "      // Send a message to notify the kernel that we're ready.\n",
              "      channel.send({})\n",
              "\n",
              "      for await (const message of channel.messages) {\n",
              "        // Send a message to notify the kernel that we're ready.\n",
              "        channel.send({})\n",
              "        if (message.buffers) {\n",
              "          for (const buffer of message.buffers) {\n",
              "            buffers.push(buffer);\n",
              "            downloaded += buffer.byteLength;\n",
              "            progress.value = downloaded;\n",
              "          }\n",
              "        }\n",
              "      }\n",
              "      const blob = new Blob(buffers, {type: 'application/binary'});\n",
              "      const a = document.createElement('a');\n",
              "      a.href = window.URL.createObjectURL(blob);\n",
              "      a.download = filename;\n",
              "      div.appendChild(a);\n",
              "      a.click();\n",
              "      div.remove();\n",
              "    }\n",
              "  "
            ]
          },
          "metadata": {}
        },
        {
          "output_type": "display_data",
          "data": {
            "text/plain": [
              "<IPython.core.display.Javascript object>"
            ],
            "application/javascript": [
              "download(\"download_748329e1-307a-4546-8a94-d959bcc6aaf1\", \"Filtro2_esp.csv\", 9103846)"
            ]
          },
          "metadata": {}
        },
        {
          "output_type": "display_data",
          "data": {
            "text/plain": [
              "<IPython.core.display.Javascript object>"
            ],
            "application/javascript": [
              "\n",
              "    async function download(id, filename, size) {\n",
              "      if (!google.colab.kernel.accessAllowed) {\n",
              "        return;\n",
              "      }\n",
              "      const div = document.createElement('div');\n",
              "      const label = document.createElement('label');\n",
              "      label.textContent = `Downloading \"${filename}\": `;\n",
              "      div.appendChild(label);\n",
              "      const progress = document.createElement('progress');\n",
              "      progress.max = size;\n",
              "      div.appendChild(progress);\n",
              "      document.body.appendChild(div);\n",
              "\n",
              "      const buffers = [];\n",
              "      let downloaded = 0;\n",
              "\n",
              "      const channel = await google.colab.kernel.comms.open(id);\n",
              "      // Send a message to notify the kernel that we're ready.\n",
              "      channel.send({})\n",
              "\n",
              "      for await (const message of channel.messages) {\n",
              "        // Send a message to notify the kernel that we're ready.\n",
              "        channel.send({})\n",
              "        if (message.buffers) {\n",
              "          for (const buffer of message.buffers) {\n",
              "            buffers.push(buffer);\n",
              "            downloaded += buffer.byteLength;\n",
              "            progress.value = downloaded;\n",
              "          }\n",
              "        }\n",
              "      }\n",
              "      const blob = new Blob(buffers, {type: 'application/binary'});\n",
              "      const a = document.createElement('a');\n",
              "      a.href = window.URL.createObjectURL(blob);\n",
              "      a.download = filename;\n",
              "      div.appendChild(a);\n",
              "      a.click();\n",
              "      div.remove();\n",
              "    }\n",
              "  "
            ]
          },
          "metadata": {}
        },
        {
          "output_type": "display_data",
          "data": {
            "text/plain": [
              "<IPython.core.display.Javascript object>"
            ],
            "application/javascript": [
              "download(\"download_26e2ce5d-122f-46bb-a3f2-83a2753bceec\", \"Filtro3_esp.csv\", 5263359)"
            ]
          },
          "metadata": {}
        },
        {
          "output_type": "display_data",
          "data": {
            "text/plain": [
              "<IPython.core.display.Javascript object>"
            ],
            "application/javascript": [
              "\n",
              "    async function download(id, filename, size) {\n",
              "      if (!google.colab.kernel.accessAllowed) {\n",
              "        return;\n",
              "      }\n",
              "      const div = document.createElement('div');\n",
              "      const label = document.createElement('label');\n",
              "      label.textContent = `Downloading \"${filename}\": `;\n",
              "      div.appendChild(label);\n",
              "      const progress = document.createElement('progress');\n",
              "      progress.max = size;\n",
              "      div.appendChild(progress);\n",
              "      document.body.appendChild(div);\n",
              "\n",
              "      const buffers = [];\n",
              "      let downloaded = 0;\n",
              "\n",
              "      const channel = await google.colab.kernel.comms.open(id);\n",
              "      // Send a message to notify the kernel that we're ready.\n",
              "      channel.send({})\n",
              "\n",
              "      for await (const message of channel.messages) {\n",
              "        // Send a message to notify the kernel that we're ready.\n",
              "        channel.send({})\n",
              "        if (message.buffers) {\n",
              "          for (const buffer of message.buffers) {\n",
              "            buffers.push(buffer);\n",
              "            downloaded += buffer.byteLength;\n",
              "            progress.value = downloaded;\n",
              "          }\n",
              "        }\n",
              "      }\n",
              "      const blob = new Blob(buffers, {type: 'application/binary'});\n",
              "      const a = document.createElement('a');\n",
              "      a.href = window.URL.createObjectURL(blob);\n",
              "      a.download = filename;\n",
              "      div.appendChild(a);\n",
              "      a.click();\n",
              "      div.remove();\n",
              "    }\n",
              "  "
            ]
          },
          "metadata": {}
        },
        {
          "output_type": "display_data",
          "data": {
            "text/plain": [
              "<IPython.core.display.Javascript object>"
            ],
            "application/javascript": [
              "download(\"download_ef61931c-2f3a-4aca-afc5-5ce91736cd70\", \"Filtro4_esp.csv\", 3144337)"
            ]
          },
          "metadata": {}
        },
        {
          "output_type": "display_data",
          "data": {
            "text/plain": [
              "<IPython.core.display.Javascript object>"
            ],
            "application/javascript": [
              "\n",
              "    async function download(id, filename, size) {\n",
              "      if (!google.colab.kernel.accessAllowed) {\n",
              "        return;\n",
              "      }\n",
              "      const div = document.createElement('div');\n",
              "      const label = document.createElement('label');\n",
              "      label.textContent = `Downloading \"${filename}\": `;\n",
              "      div.appendChild(label);\n",
              "      const progress = document.createElement('progress');\n",
              "      progress.max = size;\n",
              "      div.appendChild(progress);\n",
              "      document.body.appendChild(div);\n",
              "\n",
              "      const buffers = [];\n",
              "      let downloaded = 0;\n",
              "\n",
              "      const channel = await google.colab.kernel.comms.open(id);\n",
              "      // Send a message to notify the kernel that we're ready.\n",
              "      channel.send({})\n",
              "\n",
              "      for await (const message of channel.messages) {\n",
              "        // Send a message to notify the kernel that we're ready.\n",
              "        channel.send({})\n",
              "        if (message.buffers) {\n",
              "          for (const buffer of message.buffers) {\n",
              "            buffers.push(buffer);\n",
              "            downloaded += buffer.byteLength;\n",
              "            progress.value = downloaded;\n",
              "          }\n",
              "        }\n",
              "      }\n",
              "      const blob = new Blob(buffers, {type: 'application/binary'});\n",
              "      const a = document.createElement('a');\n",
              "      a.href = window.URL.createObjectURL(blob);\n",
              "      a.download = filename;\n",
              "      div.appendChild(a);\n",
              "      a.click();\n",
              "      div.remove();\n",
              "    }\n",
              "  "
            ]
          },
          "metadata": {}
        },
        {
          "output_type": "display_data",
          "data": {
            "text/plain": [
              "<IPython.core.display.Javascript object>"
            ],
            "application/javascript": [
              "download(\"download_ec7c8329-3451-44a0-96c9-b56680cfd2d4\", \"Filtro5_esp.csv\", 26188315)"
            ]
          },
          "metadata": {}
        },
        {
          "output_type": "display_data",
          "data": {
            "text/plain": [
              "<IPython.core.display.Javascript object>"
            ],
            "application/javascript": [
              "\n",
              "    async function download(id, filename, size) {\n",
              "      if (!google.colab.kernel.accessAllowed) {\n",
              "        return;\n",
              "      }\n",
              "      const div = document.createElement('div');\n",
              "      const label = document.createElement('label');\n",
              "      label.textContent = `Downloading \"${filename}\": `;\n",
              "      div.appendChild(label);\n",
              "      const progress = document.createElement('progress');\n",
              "      progress.max = size;\n",
              "      div.appendChild(progress);\n",
              "      document.body.appendChild(div);\n",
              "\n",
              "      const buffers = [];\n",
              "      let downloaded = 0;\n",
              "\n",
              "      const channel = await google.colab.kernel.comms.open(id);\n",
              "      // Send a message to notify the kernel that we're ready.\n",
              "      channel.send({})\n",
              "\n",
              "      for await (const message of channel.messages) {\n",
              "        // Send a message to notify the kernel that we're ready.\n",
              "        channel.send({})\n",
              "        if (message.buffers) {\n",
              "          for (const buffer of message.buffers) {\n",
              "            buffers.push(buffer);\n",
              "            downloaded += buffer.byteLength;\n",
              "            progress.value = downloaded;\n",
              "          }\n",
              "        }\n",
              "      }\n",
              "      const blob = new Blob(buffers, {type: 'application/binary'});\n",
              "      const a = document.createElement('a');\n",
              "      a.href = window.URL.createObjectURL(blob);\n",
              "      a.download = filename;\n",
              "      div.appendChild(a);\n",
              "      a.click();\n",
              "      div.remove();\n",
              "    }\n",
              "  "
            ]
          },
          "metadata": {}
        },
        {
          "output_type": "display_data",
          "data": {
            "text/plain": [
              "<IPython.core.display.Javascript object>"
            ],
            "application/javascript": [
              "download(\"download_c9441602-ba44-49a4-9ecf-cf5a3888b709\", \"Filtro6_esp.csv\", 28794)"
            ]
          },
          "metadata": {}
        },
        {
          "output_type": "display_data",
          "data": {
            "text/plain": [
              "<IPython.core.display.Javascript object>"
            ],
            "application/javascript": [
              "\n",
              "    async function download(id, filename, size) {\n",
              "      if (!google.colab.kernel.accessAllowed) {\n",
              "        return;\n",
              "      }\n",
              "      const div = document.createElement('div');\n",
              "      const label = document.createElement('label');\n",
              "      label.textContent = `Downloading \"${filename}\": `;\n",
              "      div.appendChild(label);\n",
              "      const progress = document.createElement('progress');\n",
              "      progress.max = size;\n",
              "      div.appendChild(progress);\n",
              "      document.body.appendChild(div);\n",
              "\n",
              "      const buffers = [];\n",
              "      let downloaded = 0;\n",
              "\n",
              "      const channel = await google.colab.kernel.comms.open(id);\n",
              "      // Send a message to notify the kernel that we're ready.\n",
              "      channel.send({})\n",
              "\n",
              "      for await (const message of channel.messages) {\n",
              "        // Send a message to notify the kernel that we're ready.\n",
              "        channel.send({})\n",
              "        if (message.buffers) {\n",
              "          for (const buffer of message.buffers) {\n",
              "            buffers.push(buffer);\n",
              "            downloaded += buffer.byteLength;\n",
              "            progress.value = downloaded;\n",
              "          }\n",
              "        }\n",
              "      }\n",
              "      const blob = new Blob(buffers, {type: 'application/binary'});\n",
              "      const a = document.createElement('a');\n",
              "      a.href = window.URL.createObjectURL(blob);\n",
              "      a.download = filename;\n",
              "      div.appendChild(a);\n",
              "      a.click();\n",
              "      div.remove();\n",
              "    }\n",
              "  "
            ]
          },
          "metadata": {}
        },
        {
          "output_type": "display_data",
          "data": {
            "text/plain": [
              "<IPython.core.display.Javascript object>"
            ],
            "application/javascript": [
              "download(\"download_b71cd54d-8a98-4a55-bb3c-634bc120c055\", \"Filtro7_esp.csv\", 30655233)"
            ]
          },
          "metadata": {}
        },
        {
          "output_type": "display_data",
          "data": {
            "text/plain": [
              "<IPython.core.display.Javascript object>"
            ],
            "application/javascript": [
              "\n",
              "    async function download(id, filename, size) {\n",
              "      if (!google.colab.kernel.accessAllowed) {\n",
              "        return;\n",
              "      }\n",
              "      const div = document.createElement('div');\n",
              "      const label = document.createElement('label');\n",
              "      label.textContent = `Downloading \"${filename}\": `;\n",
              "      div.appendChild(label);\n",
              "      const progress = document.createElement('progress');\n",
              "      progress.max = size;\n",
              "      div.appendChild(progress);\n",
              "      document.body.appendChild(div);\n",
              "\n",
              "      const buffers = [];\n",
              "      let downloaded = 0;\n",
              "\n",
              "      const channel = await google.colab.kernel.comms.open(id);\n",
              "      // Send a message to notify the kernel that we're ready.\n",
              "      channel.send({})\n",
              "\n",
              "      for await (const message of channel.messages) {\n",
              "        // Send a message to notify the kernel that we're ready.\n",
              "        channel.send({})\n",
              "        if (message.buffers) {\n",
              "          for (const buffer of message.buffers) {\n",
              "            buffers.push(buffer);\n",
              "            downloaded += buffer.byteLength;\n",
              "            progress.value = downloaded;\n",
              "          }\n",
              "        }\n",
              "      }\n",
              "      const blob = new Blob(buffers, {type: 'application/binary'});\n",
              "      const a = document.createElement('a');\n",
              "      a.href = window.URL.createObjectURL(blob);\n",
              "      a.download = filename;\n",
              "      div.appendChild(a);\n",
              "      a.click();\n",
              "      div.remove();\n",
              "    }\n",
              "  "
            ]
          },
          "metadata": {}
        },
        {
          "output_type": "display_data",
          "data": {
            "text/plain": [
              "<IPython.core.display.Javascript object>"
            ],
            "application/javascript": [
              "download(\"download_6a578431-7053-4713-8296-e337dd7d5855\", \"Filtro8_esp.csv\", 7362395)"
            ]
          },
          "metadata": {}
        },
        {
          "output_type": "display_data",
          "data": {
            "text/plain": [
              "<IPython.core.display.Javascript object>"
            ],
            "application/javascript": [
              "\n",
              "    async function download(id, filename, size) {\n",
              "      if (!google.colab.kernel.accessAllowed) {\n",
              "        return;\n",
              "      }\n",
              "      const div = document.createElement('div');\n",
              "      const label = document.createElement('label');\n",
              "      label.textContent = `Downloading \"${filename}\": `;\n",
              "      div.appendChild(label);\n",
              "      const progress = document.createElement('progress');\n",
              "      progress.max = size;\n",
              "      div.appendChild(progress);\n",
              "      document.body.appendChild(div);\n",
              "\n",
              "      const buffers = [];\n",
              "      let downloaded = 0;\n",
              "\n",
              "      const channel = await google.colab.kernel.comms.open(id);\n",
              "      // Send a message to notify the kernel that we're ready.\n",
              "      channel.send({})\n",
              "\n",
              "      for await (const message of channel.messages) {\n",
              "        // Send a message to notify the kernel that we're ready.\n",
              "        channel.send({})\n",
              "        if (message.buffers) {\n",
              "          for (const buffer of message.buffers) {\n",
              "            buffers.push(buffer);\n",
              "            downloaded += buffer.byteLength;\n",
              "            progress.value = downloaded;\n",
              "          }\n",
              "        }\n",
              "      }\n",
              "      const blob = new Blob(buffers, {type: 'application/binary'});\n",
              "      const a = document.createElement('a');\n",
              "      a.href = window.URL.createObjectURL(blob);\n",
              "      a.download = filename;\n",
              "      div.appendChild(a);\n",
              "      a.click();\n",
              "      div.remove();\n",
              "    }\n",
              "  "
            ]
          },
          "metadata": {}
        },
        {
          "output_type": "display_data",
          "data": {
            "text/plain": [
              "<IPython.core.display.Javascript object>"
            ],
            "application/javascript": [
              "download(\"download_dd86f5e8-478f-4912-b203-82da9970221d\", \"filtro9_esp.csv\", 13568535)"
            ]
          },
          "metadata": {}
        },
        {
          "output_type": "display_data",
          "data": {
            "text/plain": [
              "<IPython.core.display.Javascript object>"
            ],
            "application/javascript": [
              "\n",
              "    async function download(id, filename, size) {\n",
              "      if (!google.colab.kernel.accessAllowed) {\n",
              "        return;\n",
              "      }\n",
              "      const div = document.createElement('div');\n",
              "      const label = document.createElement('label');\n",
              "      label.textContent = `Downloading \"${filename}\": `;\n",
              "      div.appendChild(label);\n",
              "      const progress = document.createElement('progress');\n",
              "      progress.max = size;\n",
              "      div.appendChild(progress);\n",
              "      document.body.appendChild(div);\n",
              "\n",
              "      const buffers = [];\n",
              "      let downloaded = 0;\n",
              "\n",
              "      const channel = await google.colab.kernel.comms.open(id);\n",
              "      // Send a message to notify the kernel that we're ready.\n",
              "      channel.send({})\n",
              "\n",
              "      for await (const message of channel.messages) {\n",
              "        // Send a message to notify the kernel that we're ready.\n",
              "        channel.send({})\n",
              "        if (message.buffers) {\n",
              "          for (const buffer of message.buffers) {\n",
              "            buffers.push(buffer);\n",
              "            downloaded += buffer.byteLength;\n",
              "            progress.value = downloaded;\n",
              "          }\n",
              "        }\n",
              "      }\n",
              "      const blob = new Blob(buffers, {type: 'application/binary'});\n",
              "      const a = document.createElement('a');\n",
              "      a.href = window.URL.createObjectURL(blob);\n",
              "      a.download = filename;\n",
              "      div.appendChild(a);\n",
              "      a.click();\n",
              "      div.remove();\n",
              "    }\n",
              "  "
            ]
          },
          "metadata": {}
        },
        {
          "output_type": "display_data",
          "data": {
            "text/plain": [
              "<IPython.core.display.Javascript object>"
            ],
            "application/javascript": [
              "download(\"download_057cfdcf-0b74-468c-aae0-58b3009d9f59\", \"filtro10_esp.csv\", 35813402)"
            ]
          },
          "metadata": {}
        }
      ]
    },
    {
      "cell_type": "markdown",
      "source": [
        "## **ETAPA 3: Extracción de Características y Visualización de DATOS**\n"
      ],
      "metadata": {
        "id": "56UkWO3jsyIP"
      }
    },
    {
      "cell_type": "code",
      "source": [
        "%pip install funpymodeling\n",
        "from funpymodeling.exploratory import freq_tbl "
      ],
      "metadata": {
        "id": "YtXw9R950G9K"
      },
      "execution_count": 134,
      "outputs": []
    },
    {
      "cell_type": "markdown",
      "source": [
        "### **Dataframe DF_Mexico**"
      ],
      "metadata": {
        "id": "rAhRzHBx8wHP"
      }
    },
    {
      "cell_type": "markdown",
      "source": [
        "Variable *host_response_time*"
      ],
      "metadata": {
        "id": "4nCBKYiDtOTA"
      }
    },
    {
      "cell_type": "code",
      "source": [
        "table1_mex= freq_tbl(mexico['host_response_time'])\n",
        "Filtro1_mex= table1_mex[table1_mex['frequency']>1000]\n",
        "Filtro1_mex"
      ],
      "metadata": {
        "id": "e75mpJ6AVfw0",
        "colab": {
          "base_uri": "https://localhost:8080/",
          "height": 175
        },
        "outputId": "fcff9342-5be7-43c0-de2e-4d30836ab10a"
      },
      "execution_count": 135,
      "outputs": [
        {
          "output_type": "execute_result",
          "data": {
            "text/plain": [
              "   host_response_time  frequency  percentage  cumulative_perc\n",
              "0      within an hour      16997    0.701660         0.701660\n",
              "1           Sin datos       3091    0.127601         0.829260\n",
              "2  within a few hours       1966    0.081159         0.910419\n",
              "3        within a day       1450    0.059858         0.970277"
            ],
            "text/html": [
              "\n",
              "  <div id=\"df-c3280da6-b70f-456f-b812-0d9ca9ef073a\">\n",
              "    <div class=\"colab-df-container\">\n",
              "      <div>\n",
              "<style scoped>\n",
              "    .dataframe tbody tr th:only-of-type {\n",
              "        vertical-align: middle;\n",
              "    }\n",
              "\n",
              "    .dataframe tbody tr th {\n",
              "        vertical-align: top;\n",
              "    }\n",
              "\n",
              "    .dataframe thead th {\n",
              "        text-align: right;\n",
              "    }\n",
              "</style>\n",
              "<table border=\"1\" class=\"dataframe\">\n",
              "  <thead>\n",
              "    <tr style=\"text-align: right;\">\n",
              "      <th></th>\n",
              "      <th>host_response_time</th>\n",
              "      <th>frequency</th>\n",
              "      <th>percentage</th>\n",
              "      <th>cumulative_perc</th>\n",
              "    </tr>\n",
              "  </thead>\n",
              "  <tbody>\n",
              "    <tr>\n",
              "      <th>0</th>\n",
              "      <td>within an hour</td>\n",
              "      <td>16997</td>\n",
              "      <td>0.701660</td>\n",
              "      <td>0.701660</td>\n",
              "    </tr>\n",
              "    <tr>\n",
              "      <th>1</th>\n",
              "      <td>Sin datos</td>\n",
              "      <td>3091</td>\n",
              "      <td>0.127601</td>\n",
              "      <td>0.829260</td>\n",
              "    </tr>\n",
              "    <tr>\n",
              "      <th>2</th>\n",
              "      <td>within a few hours</td>\n",
              "      <td>1966</td>\n",
              "      <td>0.081159</td>\n",
              "      <td>0.910419</td>\n",
              "    </tr>\n",
              "    <tr>\n",
              "      <th>3</th>\n",
              "      <td>within a day</td>\n",
              "      <td>1450</td>\n",
              "      <td>0.059858</td>\n",
              "      <td>0.970277</td>\n",
              "    </tr>\n",
              "  </tbody>\n",
              "</table>\n",
              "</div>\n",
              "      <button class=\"colab-df-convert\" onclick=\"convertToInteractive('df-c3280da6-b70f-456f-b812-0d9ca9ef073a')\"\n",
              "              title=\"Convert this dataframe to an interactive table.\"\n",
              "              style=\"display:none;\">\n",
              "        \n",
              "  <svg xmlns=\"http://www.w3.org/2000/svg\" height=\"24px\"viewBox=\"0 0 24 24\"\n",
              "       width=\"24px\">\n",
              "    <path d=\"M0 0h24v24H0V0z\" fill=\"none\"/>\n",
              "    <path d=\"M18.56 5.44l.94 2.06.94-2.06 2.06-.94-2.06-.94-.94-2.06-.94 2.06-2.06.94zm-11 1L8.5 8.5l.94-2.06 2.06-.94-2.06-.94L8.5 2.5l-.94 2.06-2.06.94zm10 10l.94 2.06.94-2.06 2.06-.94-2.06-.94-.94-2.06-.94 2.06-2.06.94z\"/><path d=\"M17.41 7.96l-1.37-1.37c-.4-.4-.92-.59-1.43-.59-.52 0-1.04.2-1.43.59L10.3 9.45l-7.72 7.72c-.78.78-.78 2.05 0 2.83L4 21.41c.39.39.9.59 1.41.59.51 0 1.02-.2 1.41-.59l7.78-7.78 2.81-2.81c.8-.78.8-2.07 0-2.86zM5.41 20L4 18.59l7.72-7.72 1.47 1.35L5.41 20z\"/>\n",
              "  </svg>\n",
              "      </button>\n",
              "      \n",
              "  <style>\n",
              "    .colab-df-container {\n",
              "      display:flex;\n",
              "      flex-wrap:wrap;\n",
              "      gap: 12px;\n",
              "    }\n",
              "\n",
              "    .colab-df-convert {\n",
              "      background-color: #E8F0FE;\n",
              "      border: none;\n",
              "      border-radius: 50%;\n",
              "      cursor: pointer;\n",
              "      display: none;\n",
              "      fill: #1967D2;\n",
              "      height: 32px;\n",
              "      padding: 0 0 0 0;\n",
              "      width: 32px;\n",
              "    }\n",
              "\n",
              "    .colab-df-convert:hover {\n",
              "      background-color: #E2EBFA;\n",
              "      box-shadow: 0px 1px 2px rgba(60, 64, 67, 0.3), 0px 1px 3px 1px rgba(60, 64, 67, 0.15);\n",
              "      fill: #174EA6;\n",
              "    }\n",
              "\n",
              "    [theme=dark] .colab-df-convert {\n",
              "      background-color: #3B4455;\n",
              "      fill: #D2E3FC;\n",
              "    }\n",
              "\n",
              "    [theme=dark] .colab-df-convert:hover {\n",
              "      background-color: #434B5C;\n",
              "      box-shadow: 0px 1px 3px 1px rgba(0, 0, 0, 0.15);\n",
              "      filter: drop-shadow(0px 1px 2px rgba(0, 0, 0, 0.3));\n",
              "      fill: #FFFFFF;\n",
              "    }\n",
              "  </style>\n",
              "\n",
              "      <script>\n",
              "        const buttonEl =\n",
              "          document.querySelector('#df-c3280da6-b70f-456f-b812-0d9ca9ef073a button.colab-df-convert');\n",
              "        buttonEl.style.display =\n",
              "          google.colab.kernel.accessAllowed ? 'block' : 'none';\n",
              "\n",
              "        async function convertToInteractive(key) {\n",
              "          const element = document.querySelector('#df-c3280da6-b70f-456f-b812-0d9ca9ef073a');\n",
              "          const dataTable =\n",
              "            await google.colab.kernel.invokeFunction('convertToInteractive',\n",
              "                                                     [key], {});\n",
              "          if (!dataTable) return;\n",
              "\n",
              "          const docLinkHtml = 'Like what you see? Visit the ' +\n",
              "            '<a target=\"_blank\" href=https://colab.research.google.com/notebooks/data_table.ipynb>data table notebook</a>'\n",
              "            + ' to learn more about interactive tables.';\n",
              "          element.innerHTML = '';\n",
              "          dataTable['output_type'] = 'display_data';\n",
              "          await google.colab.output.renderOutput(dataTable, element);\n",
              "          const docLink = document.createElement('div');\n",
              "          docLink.innerHTML = docLinkHtml;\n",
              "          element.appendChild(docLink);\n",
              "        }\n",
              "      </script>\n",
              "    </div>\n",
              "  </div>\n",
              "  "
            ]
          },
          "metadata": {},
          "execution_count": 135
        }
      ]
    },
    {
      "cell_type": "code",
      "source": [
        "Filtro1_mex= Filtro1_mex.set_index('host_response_time')\n",
        "Filtro1_mex[\"frequency\"].plot(kind='pie', figsize=(10,5), autopct=\"%0.1f %%\")\n",
        "plt.title('Tiempo de respuesta del anfitrión')"
      ],
      "metadata": {
        "colab": {
          "base_uri": "https://localhost:8080/",
          "height": 462
        },
        "id": "BBSQqvNh-0rh",
        "outputId": "863d8456-aa7f-498f-fa77-e4591b073a3b"
      },
      "execution_count": 160,
      "outputs": [
        {
          "output_type": "execute_result",
          "data": {
            "text/plain": [
              "Text(0.5, 1.0, 'Tiempo de respuesta del anfitrión')"
            ]
          },
          "metadata": {},
          "execution_count": 160
        },
        {
          "output_type": "display_data",
          "data": {
            "text/plain": [
              "<Figure size 1000x500 with 1 Axes>"
            ],
            "image/png": "[encoded data removed]"
          },
          "metadata": {}
        }
      ]
    },
    {
      "cell_type": "markdown",
      "source": [
        "Variable *property_type*"
      ],
      "metadata": {
        "id": "bGmJ2jLaYif0"
      }
    },
    {
      "cell_type": "code",
      "source": [
        "table2_mex= freq_tbl(mexico['property_type'])\n",
        "Filtro2_mex= table2_mex[table2_mex['frequency']>2000]\n",
        "Filtro2_mex"
      ],
      "metadata": {
        "colab": {
          "base_uri": "https://localhost:8080/",
          "height": 175
        },
        "id": "902I1VzLYi-V",
        "outputId": "3c494550-dc50-4b8b-c180-be2bf329ce46"
      },
      "execution_count": 171,
      "outputs": [
        {
          "output_type": "execute_result",
          "data": {
            "text/plain": [
              "                 property_type  frequency  percentage  cumulative_perc\n",
              "0           Entire rental unit       8145    0.336237         0.336237\n",
              "1                 Entire condo       3363    0.138829         0.475066\n",
              "2  Private room in rental unit       2860    0.118065         0.593131\n",
              "3         Private room in home       2009    0.082934         0.676065"
            ],
            "text/html": [
              "\n",
              "  <div id=\"df-08dd9f28-b643-4693-a4fe-adc2cb3e42f4\">\n",
              "    <div class=\"colab-df-container\">\n",
              "      <div>\n",
              "<style scoped>\n",
              "    .dataframe tbody tr th:only-of-type {\n",
              "        vertical-align: middle;\n",
              "    }\n",
              "\n",
              "    .dataframe tbody tr th {\n",
              "        vertical-align: top;\n",
              "    }\n",
              "\n",
              "    .dataframe thead th {\n",
              "        text-align: right;\n",
              "    }\n",
              "</style>\n",
              "<table border=\"1\" class=\"dataframe\">\n",
              "  <thead>\n",
              "    <tr style=\"text-align: right;\">\n",
              "      <th></th>\n",
              "      <th>property_type</th>\n",
              "      <th>frequency</th>\n",
              "      <th>percentage</th>\n",
              "      <th>cumulative_perc</th>\n",
              "    </tr>\n",
              "  </thead>\n",
              "  <tbody>\n",
              "    <tr>\n",
              "      <th>0</th>\n",
              "      <td>Entire rental unit</td>\n",
              "      <td>8145</td>\n",
              "      <td>0.336237</td>\n",
              "      <td>0.336237</td>\n",
              "    </tr>\n",
              "    <tr>\n",
              "      <th>1</th>\n",
              "      <td>Entire condo</td>\n",
              "      <td>3363</td>\n",
              "      <td>0.138829</td>\n",
              "      <td>0.475066</td>\n",
              "    </tr>\n",
              "    <tr>\n",
              "      <th>2</th>\n",
              "      <td>Private room in rental unit</td>\n",
              "      <td>2860</td>\n",
              "      <td>0.118065</td>\n",
              "      <td>0.593131</td>\n",
              "    </tr>\n",
              "    <tr>\n",
              "      <th>3</th>\n",
              "      <td>Private room in home</td>\n",
              "      <td>2009</td>\n",
              "      <td>0.082934</td>\n",
              "      <td>0.676065</td>\n",
              "    </tr>\n",
              "  </tbody>\n",
              "</table>\n",
              "</div>\n",
              "      <button class=\"colab-df-convert\" onclick=\"convertToInteractive('df-08dd9f28-b643-4693-a4fe-adc2cb3e42f4')\"\n",
              "              title=\"Convert this dataframe to an interactive table.\"\n",
              "              style=\"display:none;\">\n",
              "        \n",
              "  <svg xmlns=\"http://www.w3.org/2000/svg\" height=\"24px\"viewBox=\"0 0 24 24\"\n",
              "       width=\"24px\">\n",
              "    <path d=\"M0 0h24v24H0V0z\" fill=\"none\"/>\n",
              "    <path d=\"M18.56 5.44l.94 2.06.94-2.06 2.06-.94-2.06-.94-.94-2.06-.94 2.06-2.06.94zm-11 1L8.5 8.5l.94-2.06 2.06-.94-2.06-.94L8.5 2.5l-.94 2.06-2.06.94zm10 10l.94 2.06.94-2.06 2.06-.94-2.06-.94-.94-2.06-.94 2.06-2.06.94z\"/><path d=\"M17.41 7.96l-1.37-1.37c-.4-.4-.92-.59-1.43-.59-.52 0-1.04.2-1.43.59L10.3 9.45l-7.72 7.72c-.78.78-.78 2.05 0 2.83L4 21.41c.39.39.9.59 1.41.59.51 0 1.02-.2 1.41-.59l7.78-7.78 2.81-2.81c.8-.78.8-2.07 0-2.86zM5.41 20L4 18.59l7.72-7.72 1.47 1.35L5.41 20z\"/>\n",
              "  </svg>\n",
              "      </button>\n",
              "      \n",
              "  <style>\n",
              "    .colab-df-container {\n",
              "      display:flex;\n",
              "      flex-wrap:wrap;\n",
              "      gap: 12px;\n",
              "    }\n",
              "\n",
              "    .colab-df-convert {\n",
              "      background-color: #E8F0FE;\n",
              "      border: none;\n",
              "      border-radius: 50%;\n",
              "      cursor: pointer;\n",
              "      display: none;\n",
              "      fill: #1967D2;\n",
              "      height: 32px;\n",
              "      padding: 0 0 0 0;\n",
              "      width: 32px;\n",
              "    }\n",
              "\n",
              "    .colab-df-convert:hover {\n",
              "      background-color: #E2EBFA;\n",
              "      box-shadow: 0px 1px 2px rgba(60, 64, 67, 0.3), 0px 1px 3px 1px rgba(60, 64, 67, 0.15);\n",
              "      fill: #174EA6;\n",
              "    }\n",
              "\n",
              "    [theme=dark] .colab-df-convert {\n",
              "      background-color: #3B4455;\n",
              "      fill: #D2E3FC;\n",
              "    }\n",
              "\n",
              "    [theme=dark] .colab-df-convert:hover {\n",
              "      background-color: #434B5C;\n",
              "      box-shadow: 0px 1px 3px 1px rgba(0, 0, 0, 0.15);\n",
              "      filter: drop-shadow(0px 1px 2px rgba(0, 0, 0, 0.3));\n",
              "      fill: #FFFFFF;\n",
              "    }\n",
              "  </style>\n",
              "\n",
              "      <script>\n",
              "        const buttonEl =\n",
              "          document.querySelector('#df-08dd9f28-b643-4693-a4fe-adc2cb3e42f4 button.colab-df-convert');\n",
              "        buttonEl.style.display =\n",
              "          google.colab.kernel.accessAllowed ? 'block' : 'none';\n",
              "\n",
              "        async function convertToInteractive(key) {\n",
              "          const element = document.querySelector('#df-08dd9f28-b643-4693-a4fe-adc2cb3e42f4');\n",
              "          const dataTable =\n",
              "            await google.colab.kernel.invokeFunction('convertToInteractive',\n",
              "                                                     [key], {});\n",
              "          if (!dataTable) return;\n",
              "\n",
              "          const docLinkHtml = 'Like what you see? Visit the ' +\n",
              "            '<a target=\"_blank\" href=https://colab.research.google.com/notebooks/data_table.ipynb>data table notebook</a>'\n",
              "            + ' to learn more about interactive tables.';\n",
              "          element.innerHTML = '';\n",
              "          dataTable['output_type'] = 'display_data';\n",
              "          await google.colab.output.renderOutput(dataTable, element);\n",
              "          const docLink = document.createElement('div');\n",
              "          docLink.innerHTML = docLinkHtml;\n",
              "          element.appendChild(docLink);\n",
              "        }\n",
              "      </script>\n",
              "    </div>\n",
              "  </div>\n",
              "  "
            ]
          },
          "metadata": {},
          "execution_count": 171
        }
      ]
    },
    {
      "cell_type": "code",
      "source": [
        "Filtro2_mex= Filtro2_mex.set_index('property_type')\n",
        "Filtro2_mex['frequency'].plot(kind = 'bar', width=1, figsize=(10,4))\n",
        "plt.title('Tipo de propiedad')\n",
        "plt.xlabel('Tipo de propiedad')\n",
        "plt.ylabel('Frecuencia')\n",
        "plt.xticks(rotation=45)"
      ],
      "metadata": {
        "colab": {
          "base_uri": "https://localhost:8080/",
          "height": 624
        },
        "outputId": "2e662840-01cf-44ab-ef51-9413df340d10",
        "id": "Bsa6KTnS_Lpq"
      },
      "execution_count": 172,
      "outputs": [
        {
          "output_type": "execute_result",
          "data": {
            "text/plain": [
              "(array([0, 1, 2, 3]),\n",
              " [Text(0, 0, 'Entire rental unit'),\n",
              "  Text(1, 0, 'Entire condo'),\n",
              "  Text(2, 0, 'Private room in rental unit'),\n",
              "  Text(3, 0, 'Private room in home')])"
            ]
          },
          "metadata": {},
          "execution_count": 172
        },
        {
          "output_type": "display_data",
          "data": {
            "text/plain": [
              "<Figure size 1000x400 with 1 Axes>"
            ],
            "image/png": "[encoded data removed]"
          },
          "metadata": {}
        }
      ]
    },
    {
      "cell_type": "markdown",
      "source": [
        "Variable *host_acceptance_rate*"
      ],
      "metadata": {
        "id": "AiKwmDELZjCv"
      }
    },
    {
      "cell_type": "code",
      "source": [
        "table3_mex= freq_tbl(mexico['host_acceptance_rate'])\n",
        "table3_mex"
      ],
      "metadata": {
        "colab": {
          "base_uri": "https://localhost:8080/",
          "height": 35
        },
        "id": "2tUjXjykZmmh",
        "outputId": "72f1306b-3856-4b06-b922-07016ae29706"
      },
      "execution_count": 175,
      "outputs": [
        {
          "output_type": "execute_result",
          "data": {
            "text/plain": [
              "'No categorical variables to analyze.'"
            ],
            "application/vnd.google.colaboratory.intrinsic+json": {
              "type": "string"
            }
          },
          "metadata": {},
          "execution_count": 175
        }
      ]
    },
    {
      "cell_type": "code",
      "source": [
        "mexico['host_acceptance_rate'].hist(bins=8) \n",
        "plt.xlabel(\"Tasa de aceptación del anfitrión\")\n",
        "plt.ylabel(\"Frecuencia\")\n",
        "plt.show()"
      ],
      "metadata": {
        "colab": {
          "base_uri": "https://localhost:8080/",
          "height": 450
        },
        "outputId": "7f415e72-b3f6-4dca-cfc5-377db547f459",
        "id": "LiJ_DtaVAMUc"
      },
      "execution_count": 177,
      "outputs": [
        {
          "output_type": "display_data",
          "data": {
            "text/plain": [
              "<Figure size 640x480 with 1 Axes>"
            ],
            "image/png": "[encoded data removed]"
          },
          "metadata": {}
        }
      ]
    },
    {
      "cell_type": "markdown",
      "source": [
        "Variable *host_identity_verified*"
      ],
      "metadata": {
        "id": "SdfoDgIIaonH"
      }
    },
    {
      "cell_type": "code",
      "source": [
        "table4_mex= freq_tbl(mexico['host_identity_verified'])\n",
        "table4_mex"
      ],
      "metadata": {
        "colab": {
          "base_uri": "https://localhost:8080/",
          "height": 112
        },
        "id": "BJOfXeaQan0l",
        "outputId": "8fe6c3b0-09f9-4e9e-96dc-93dc10d057a0"
      },
      "execution_count": 138,
      "outputs": [
        {
          "output_type": "execute_result",
          "data": {
            "text/plain": [
              "  host_identity_verified  frequency  percentage  cumulative_perc\n",
              "0                      t      22301    0.920616         0.920616\n",
              "1                      f       1923    0.079384         1.000000"
            ],
            "text/html": [
              "\n",
              "  <div id=\"df-4f8420a5-ba63-4dbd-bd37-ecd8e763c77e\">\n",
              "    <div class=\"colab-df-container\">\n",
              "      <div>\n",
              "<style scoped>\n",
              "    .dataframe tbody tr th:only-of-type {\n",
              "        vertical-align: middle;\n",
              "    }\n",
              "\n",
              "    .dataframe tbody tr th {\n",
              "        vertical-align: top;\n",
              "    }\n",
              "\n",
              "    .dataframe thead th {\n",
              "        text-align: right;\n",
              "    }\n",
              "</style>\n",
              "<table border=\"1\" class=\"dataframe\">\n",
              "  <thead>\n",
              "    <tr style=\"text-align: right;\">\n",
              "      <th></th>\n",
              "      <th>host_identity_verified</th>\n",
              "      <th>frequency</th>\n",
              "      <th>percentage</th>\n",
              "      <th>cumulative_perc</th>\n",
              "    </tr>\n",
              "  </thead>\n",
              "  <tbody>\n",
              "    <tr>\n",
              "      <th>0</th>\n",
              "      <td>t</td>\n",
              "      <td>22301</td>\n",
              "      <td>0.920616</td>\n",
              "      <td>0.920616</td>\n",
              "    </tr>\n",
              "    <tr>\n",
              "      <th>1</th>\n",
              "      <td>f</td>\n",
              "      <td>1923</td>\n",
              "      <td>0.079384</td>\n",
              "      <td>1.000000</td>\n",
              "    </tr>\n",
              "  </tbody>\n",
              "</table>\n",
              "</div>\n",
              "      <button class=\"colab-df-convert\" onclick=\"convertToInteractive('df-4f8420a5-ba63-4dbd-bd37-ecd8e763c77e')\"\n",
              "              title=\"Convert this dataframe to an interactive table.\"\n",
              "              style=\"display:none;\">\n",
              "        \n",
              "  <svg xmlns=\"http://www.w3.org/2000/svg\" height=\"24px\"viewBox=\"0 0 24 24\"\n",
              "       width=\"24px\">\n",
              "    <path d=\"M0 0h24v24H0V0z\" fill=\"none\"/>\n",
              "    <path d=\"M18.56 5.44l.94 2.06.94-2.06 2.06-.94-2.06-.94-.94-2.06-.94 2.06-2.06.94zm-11 1L8.5 8.5l.94-2.06 2.06-.94-2.06-.94L8.5 2.5l-.94 2.06-2.06.94zm10 10l.94 2.06.94-2.06 2.06-.94-2.06-.94-.94-2.06-.94 2.06-2.06.94z\"/><path d=\"M17.41 7.96l-1.37-1.37c-.4-.4-.92-.59-1.43-.59-.52 0-1.04.2-1.43.59L10.3 9.45l-7.72 7.72c-.78.78-.78 2.05 0 2.83L4 21.41c.39.39.9.59 1.41.59.51 0 1.02-.2 1.41-.59l7.78-7.78 2.81-2.81c.8-.78.8-2.07 0-2.86zM5.41 20L4 18.59l7.72-7.72 1.47 1.35L5.41 20z\"/>\n",
              "  </svg>\n",
              "      </button>\n",
              "      \n",
              "  <style>\n",
              "    .colab-df-container {\n",
              "      display:flex;\n",
              "      flex-wrap:wrap;\n",
              "      gap: 12px;\n",
              "    }\n",
              "\n",
              "    .colab-df-convert {\n",
              "      background-color: #E8F0FE;\n",
              "      border: none;\n",
              "      border-radius: 50%;\n",
              "      cursor: pointer;\n",
              "      display: none;\n",
              "      fill: #1967D2;\n",
              "      height: 32px;\n",
              "      padding: 0 0 0 0;\n",
              "      width: 32px;\n",
              "    }\n",
              "\n",
              "    .colab-df-convert:hover {\n",
              "      background-color: #E2EBFA;\n",
              "      box-shadow: 0px 1px 2px rgba(60, 64, 67, 0.3), 0px 1px 3px 1px rgba(60, 64, 67, 0.15);\n",
              "      fill: #174EA6;\n",
              "    }\n",
              "\n",
              "    [theme=dark] .colab-df-convert {\n",
              "      background-color: #3B4455;\n",
              "      fill: #D2E3FC;\n",
              "    }\n",
              "\n",
              "    [theme=dark] .colab-df-convert:hover {\n",
              "      background-color: #434B5C;\n",
              "      box-shadow: 0px 1px 3px 1px rgba(0, 0, 0, 0.15);\n",
              "      filter: drop-shadow(0px 1px 2px rgba(0, 0, 0, 0.3));\n",
              "      fill: #FFFFFF;\n",
              "    }\n",
              "  </style>\n",
              "\n",
              "      <script>\n",
              "        const buttonEl =\n",
              "          document.querySelector('#df-4f8420a5-ba63-4dbd-bd37-ecd8e763c77e button.colab-df-convert');\n",
              "        buttonEl.style.display =\n",
              "          google.colab.kernel.accessAllowed ? 'block' : 'none';\n",
              "\n",
              "        async function convertToInteractive(key) {\n",
              "          const element = document.querySelector('#df-4f8420a5-ba63-4dbd-bd37-ecd8e763c77e');\n",
              "          const dataTable =\n",
              "            await google.colab.kernel.invokeFunction('convertToInteractive',\n",
              "                                                     [key], {});\n",
              "          if (!dataTable) return;\n",
              "\n",
              "          const docLinkHtml = 'Like what you see? Visit the ' +\n",
              "            '<a target=\"_blank\" href=https://colab.research.google.com/notebooks/data_table.ipynb>data table notebook</a>'\n",
              "            + ' to learn more about interactive tables.';\n",
              "          element.innerHTML = '';\n",
              "          dataTable['output_type'] = 'display_data';\n",
              "          await google.colab.output.renderOutput(dataTable, element);\n",
              "          const docLink = document.createElement('div');\n",
              "          docLink.innerHTML = docLinkHtml;\n",
              "          element.appendChild(docLink);\n",
              "        }\n",
              "      </script>\n",
              "    </div>\n",
              "  </div>\n",
              "  "
            ]
          },
          "metadata": {},
          "execution_count": 138
        }
      ]
    },
    {
      "cell_type": "code",
      "source": [
        "table4_mex= table4_mex.set_index('host_identity_verified')\n",
        "table4_mex[\"frequency\"].plot(kind='pie', figsize=(10,5), autopct=\"%0.1f %%\")\n",
        "plt.title('Identidad del anfitrión verificada')"
      ],
      "metadata": {
        "colab": {
          "base_uri": "https://localhost:8080/",
          "height": 462
        },
        "id": "HZGU-JwaBBTC",
        "outputId": "7a33470a-2586-4f03-ec3a-63be35080fb0"
      },
      "execution_count": 178,
      "outputs": [
        {
          "output_type": "execute_result",
          "data": {
            "text/plain": [
              "Text(0.5, 1.0, 'Identidad del anfitrión verificada')"
            ]
          },
          "metadata": {},
          "execution_count": 178
        },
        {
          "output_type": "display_data",
          "data": {
            "text/plain": [
              "<Figure size 1000x500 with 1 Axes>"
            ],
            "image/png": "[encoded data removed]"
          },
          "metadata": {}
        }
      ]
    },
    {
      "cell_type": "markdown",
      "source": [
        "Variable *number_of_reviews*"
      ],
      "metadata": {
        "id": "osnmMVrh7k-h"
      }
    },
    {
      "cell_type": "code",
      "source": [
        "table5_mex= freq_tbl(mexico['number_of_reviews'])\n",
        "table5_mex"
      ],
      "metadata": {
        "colab": {
          "base_uri": "https://localhost:8080/",
          "height": 35
        },
        "id": "NSKkUDCZ8ZTS",
        "outputId": "5cad20be-8d88-436c-881a-e1cef7cf5259"
      },
      "execution_count": 143,
      "outputs": [
        {
          "output_type": "execute_result",
          "data": {
            "text/plain": [
              "'No categorical variables to analyze.'"
            ],
            "application/vnd.google.colaboratory.intrinsic+json": {
              "type": "string"
            }
          },
          "metadata": {},
          "execution_count": 143
        }
      ]
    },
    {
      "cell_type": "code",
      "source": [
        "mexico['number_of_reviews'].hist(bins=8) \n",
        "plt.xlabel(\"Número de reseñas\")\n",
        "plt.ylabel(\"Frecuencia\")\n",
        "plt.show()"
      ],
      "metadata": {
        "colab": {
          "base_uri": "https://localhost:8080/",
          "height": 449
        },
        "id": "dseBXoNh7pXK",
        "outputId": "1d6062aa-e3ae-4170-ccf2-05a04bcb9747"
      },
      "execution_count": 141,
      "outputs": [
        {
          "output_type": "display_data",
          "data": {
            "text/plain": [
              "<Figure size 640x480 with 1 Axes>"
            ],
            "image/png": "[encoded data removed]"
          },
          "metadata": {}
        }
      ]
    },
    {
      "cell_type": "markdown",
      "source": [
        "### **Dataframe EUA_California**"
      ],
      "metadata": {
        "id": "ufeHB5Iq82r5"
      }
    },
    {
      "cell_type": "markdown",
      "source": [
        "Variable *host_response_time*"
      ],
      "metadata": {
        "id": "k4Yl1kcR82r5"
      }
    },
    {
      "cell_type": "code",
      "source": [
        "table1_usa= freq_tbl(usa['host_response_time'])\n",
        "Filtro1_usa= table1_usa[table1_usa['frequency']>1000]\n",
        "Filtro1_usa"
      ],
      "metadata": {
        "colab": {
          "base_uri": "https://localhost:8080/",
          "height": 143
        },
        "outputId": "67a4e68a-d45b-46bc-940d-428450db61a4",
        "id": "Y9P0PoP082r5"
      },
      "execution_count": 179,
      "outputs": [
        {
          "output_type": "execute_result",
          "data": {
            "text/plain": [
              "   host_response_time  frequency  percentage  cumulative_perc\n",
              "0      within an hour       4221    0.608564         0.608564\n",
              "1  within a few hours       1111    0.160179         0.768743\n",
              "2           Sin datos       1019    0.146915         0.915657"
            ],
            "text/html": [
              "\n",
              "  <div id=\"df-d2fae9fd-af89-4e08-85a0-5be84a2cb17d\">\n",
              "    <div class=\"colab-df-container\">\n",
              "      <div>\n",
              "<style scoped>\n",
              "    .dataframe tbody tr th:only-of-type {\n",
              "        vertical-align: middle;\n",
              "    }\n",
              "\n",
              "    .dataframe tbody tr th {\n",
              "        vertical-align: top;\n",
              "    }\n",
              "\n",
              "    .dataframe thead th {\n",
              "        text-align: right;\n",
              "    }\n",
              "</style>\n",
              "<table border=\"1\" class=\"dataframe\">\n",
              "  <thead>\n",
              "    <tr style=\"text-align: right;\">\n",
              "      <th></th>\n",
              "      <th>host_response_time</th>\n",
              "      <th>frequency</th>\n",
              "      <th>percentage</th>\n",
              "      <th>cumulative_perc</th>\n",
              "    </tr>\n",
              "  </thead>\n",
              "  <tbody>\n",
              "    <tr>\n",
              "      <th>0</th>\n",
              "      <td>within an hour</td>\n",
              "      <td>4221</td>\n",
              "      <td>0.608564</td>\n",
              "      <td>0.608564</td>\n",
              "    </tr>\n",
              "    <tr>\n",
              "      <th>1</th>\n",
              "      <td>within a few hours</td>\n",
              "      <td>1111</td>\n",
              "      <td>0.160179</td>\n",
              "      <td>0.768743</td>\n",
              "    </tr>\n",
              "    <tr>\n",
              "      <th>2</th>\n",
              "      <td>Sin datos</td>\n",
              "      <td>1019</td>\n",
              "      <td>0.146915</td>\n",
              "      <td>0.915657</td>\n",
              "    </tr>\n",
              "  </tbody>\n",
              "</table>\n",
              "</div>\n",
              "      <button class=\"colab-df-convert\" onclick=\"convertToInteractive('df-d2fae9fd-af89-4e08-85a0-5be84a2cb17d')\"\n",
              "              title=\"Convert this dataframe to an interactive table.\"\n",
              "              style=\"display:none;\">\n",
              "        \n",
              "  <svg xmlns=\"http://www.w3.org/2000/svg\" height=\"24px\"viewBox=\"0 0 24 24\"\n",
              "       width=\"24px\">\n",
              "    <path d=\"M0 0h24v24H0V0z\" fill=\"none\"/>\n",
              "    <path d=\"M18.56 5.44l.94 2.06.94-2.06 2.06-.94-2.06-.94-.94-2.06-.94 2.06-2.06.94zm-11 1L8.5 8.5l.94-2.06 2.06-.94-2.06-.94L8.5 2.5l-.94 2.06-2.06.94zm10 10l.94 2.06.94-2.06 2.06-.94-2.06-.94-.94-2.06-.94 2.06-2.06.94z\"/><path d=\"M17.41 7.96l-1.37-1.37c-.4-.4-.92-.59-1.43-.59-.52 0-1.04.2-1.43.59L10.3 9.45l-7.72 7.72c-.78.78-.78 2.05 0 2.83L4 21.41c.39.39.9.59 1.41.59.51 0 1.02-.2 1.41-.59l7.78-7.78 2.81-2.81c.8-.78.8-2.07 0-2.86zM5.41 20L4 18.59l7.72-7.72 1.47 1.35L5.41 20z\"/>\n",
              "  </svg>\n",
              "      </button>\n",
              "      \n",
              "  <style>\n",
              "    .colab-df-container {\n",
              "      display:flex;\n",
              "      flex-wrap:wrap;\n",
              "      gap: 12px;\n",
              "    }\n",
              "\n",
              "    .colab-df-convert {\n",
              "      background-color: #E8F0FE;\n",
              "      border: none;\n",
              "      border-radius: 50%;\n",
              "      cursor: pointer;\n",
              "      display: none;\n",
              "      fill: #1967D2;\n",
              "      height: 32px;\n",
              "      padding: 0 0 0 0;\n",
              "      width: 32px;\n",
              "    }\n",
              "\n",
              "    .colab-df-convert:hover {\n",
              "      background-color: #E2EBFA;\n",
              "      box-shadow: 0px 1px 2px rgba(60, 64, 67, 0.3), 0px 1px 3px 1px rgba(60, 64, 67, 0.15);\n",
              "      fill: #174EA6;\n",
              "    }\n",
              "\n",
              "    [theme=dark] .colab-df-convert {\n",
              "      background-color: #3B4455;\n",
              "      fill: #D2E3FC;\n",
              "    }\n",
              "\n",
              "    [theme=dark] .colab-df-convert:hover {\n",
              "      background-color: #434B5C;\n",
              "      box-shadow: 0px 1px 3px 1px rgba(0, 0, 0, 0.15);\n",
              "      filter: drop-shadow(0px 1px 2px rgba(0, 0, 0, 0.3));\n",
              "      fill: #FFFFFF;\n",
              "    }\n",
              "  </style>\n",
              "\n",
              "      <script>\n",
              "        const buttonEl =\n",
              "          document.querySelector('#df-d2fae9fd-af89-4e08-85a0-5be84a2cb17d button.colab-df-convert');\n",
              "        buttonEl.style.display =\n",
              "          google.colab.kernel.accessAllowed ? 'block' : 'none';\n",
              "\n",
              "        async function convertToInteractive(key) {\n",
              "          const element = document.querySelector('#df-d2fae9fd-af89-4e08-85a0-5be84a2cb17d');\n",
              "          const dataTable =\n",
              "            await google.colab.kernel.invokeFunction('convertToInteractive',\n",
              "                                                     [key], {});\n",
              "          if (!dataTable) return;\n",
              "\n",
              "          const docLinkHtml = 'Like what you see? Visit the ' +\n",
              "            '<a target=\"_blank\" href=https://colab.research.google.com/notebooks/data_table.ipynb>data table notebook</a>'\n",
              "            + ' to learn more about interactive tables.';\n",
              "          element.innerHTML = '';\n",
              "          dataTable['output_type'] = 'display_data';\n",
              "          await google.colab.output.renderOutput(dataTable, element);\n",
              "          const docLink = document.createElement('div');\n",
              "          docLink.innerHTML = docLinkHtml;\n",
              "          element.appendChild(docLink);\n",
              "        }\n",
              "      </script>\n",
              "    </div>\n",
              "  </div>\n",
              "  "
            ]
          },
          "metadata": {},
          "execution_count": 179
        }
      ]
    },
    {
      "cell_type": "code",
      "source": [
        "Filtro1_usa= Filtro1_usa.set_index('host_response_time')\n",
        "Filtro1_usa[\"frequency\"].plot(kind='pie', figsize=(10,5), autopct=\"%0.1f %%\")\n",
        "plt.title('Tiempo de respuesta del anfitrión')"
      ],
      "metadata": {
        "colab": {
          "base_uri": "https://localhost:8080/",
          "height": 462
        },
        "outputId": "6178576d-c7f8-487d-9754-ab47d315f2c5",
        "id": "EZPSS7o6BeYp"
      },
      "execution_count": 180,
      "outputs": [
        {
          "output_type": "execute_result",
          "data": {
            "text/plain": [
              "Text(0.5, 1.0, 'Tiempo de respuesta del anfitrión')"
            ]
          },
          "metadata": {},
          "execution_count": 180
        },
        {
          "output_type": "display_data",
          "data": {
            "text/plain": [
              "<Figure size 1000x500 with 1 Axes>"
            ],
            "image/png": "[encoded data removed]"
          },
          "metadata": {}
        }
      ]
    },
    {
      "cell_type": "markdown",
      "source": [
        "Variable *property_type*"
      ],
      "metadata": {
        "id": "B84qQSIV82r6"
      }
    },
    {
      "cell_type": "code",
      "source": [
        "table2_usa= freq_tbl(usa['property_type'])\n",
        "Filtro2_usa= table2_usa[table2_usa['frequency']>500]\n",
        "Filtro2_usa"
      ],
      "metadata": {
        "colab": {
          "base_uri": "https://localhost:8080/",
          "height": 175
        },
        "outputId": "7795b6ab-2922-487d-bbc6-eda8a03f22de",
        "id": "OUk6ZGah82r6"
      },
      "execution_count": 181,
      "outputs": [
        {
          "output_type": "execute_result",
          "data": {
            "text/plain": [
              "          property_type  frequency  percentage  cumulative_perc\n",
              "0    Entire rental unit       1848    0.266436         0.266436\n",
              "1          Entire condo        879    0.126730         0.393166\n",
              "2  Private room in home        853    0.122982         0.516148\n",
              "3           Entire home        839    0.120963         0.637111"
            ],
            "text/html": [
              "\n",
              "  <div id=\"df-a733d993-85d1-4959-b164-d13ff70dc071\">\n",
              "    <div class=\"colab-df-container\">\n",
              "      <div>\n",
              "<style scoped>\n",
              "    .dataframe tbody tr th:only-of-type {\n",
              "        vertical-align: middle;\n",
              "    }\n",
              "\n",
              "    .dataframe tbody tr th {\n",
              "        vertical-align: top;\n",
              "    }\n",
              "\n",
              "    .dataframe thead th {\n",
              "        text-align: right;\n",
              "    }\n",
              "</style>\n",
              "<table border=\"1\" class=\"dataframe\">\n",
              "  <thead>\n",
              "    <tr style=\"text-align: right;\">\n",
              "      <th></th>\n",
              "      <th>property_type</th>\n",
              "      <th>frequency</th>\n",
              "      <th>percentage</th>\n",
              "      <th>cumulative_perc</th>\n",
              "    </tr>\n",
              "  </thead>\n",
              "  <tbody>\n",
              "    <tr>\n",
              "      <th>0</th>\n",
              "      <td>Entire rental unit</td>\n",
              "      <td>1848</td>\n",
              "      <td>0.266436</td>\n",
              "      <td>0.266436</td>\n",
              "    </tr>\n",
              "    <tr>\n",
              "      <th>1</th>\n",
              "      <td>Entire condo</td>\n",
              "      <td>879</td>\n",
              "      <td>0.126730</td>\n",
              "      <td>0.393166</td>\n",
              "    </tr>\n",
              "    <tr>\n",
              "      <th>2</th>\n",
              "      <td>Private room in home</td>\n",
              "      <td>853</td>\n",
              "      <td>0.122982</td>\n",
              "      <td>0.516148</td>\n",
              "    </tr>\n",
              "    <tr>\n",
              "      <th>3</th>\n",
              "      <td>Entire home</td>\n",
              "      <td>839</td>\n",
              "      <td>0.120963</td>\n",
              "      <td>0.637111</td>\n",
              "    </tr>\n",
              "  </tbody>\n",
              "</table>\n",
              "</div>\n",
              "      <button class=\"colab-df-convert\" onclick=\"convertToInteractive('df-a733d993-85d1-4959-b164-d13ff70dc071')\"\n",
              "              title=\"Convert this dataframe to an interactive table.\"\n",
              "              style=\"display:none;\">\n",
              "        \n",
              "  <svg xmlns=\"http://www.w3.org/2000/svg\" height=\"24px\"viewBox=\"0 0 24 24\"\n",
              "       width=\"24px\">\n",
              "    <path d=\"M0 0h24v24H0V0z\" fill=\"none\"/>\n",
              "    <path d=\"M18.56 5.44l.94 2.06.94-2.06 2.06-.94-2.06-.94-.94-2.06-.94 2.06-2.06.94zm-11 1L8.5 8.5l.94-2.06 2.06-.94-2.06-.94L8.5 2.5l-.94 2.06-2.06.94zm10 10l.94 2.06.94-2.06 2.06-.94-2.06-.94-.94-2.06-.94 2.06-2.06.94z\"/><path d=\"M17.41 7.96l-1.37-1.37c-.4-.4-.92-.59-1.43-.59-.52 0-1.04.2-1.43.59L10.3 9.45l-7.72 7.72c-.78.78-.78 2.05 0 2.83L4 21.41c.39.39.9.59 1.41.59.51 0 1.02-.2 1.41-.59l7.78-7.78 2.81-2.81c.8-.78.8-2.07 0-2.86zM5.41 20L4 18.59l7.72-7.72 1.47 1.35L5.41 20z\"/>\n",
              "  </svg>\n",
              "      </button>\n",
              "      \n",
              "  <style>\n",
              "    .colab-df-container {\n",
              "      display:flex;\n",
              "      flex-wrap:wrap;\n",
              "      gap: 12px;\n",
              "    }\n",
              "\n",
              "    .colab-df-convert {\n",
              "      background-color: #E8F0FE;\n",
              "      border: none;\n",
              "      border-radius: 50%;\n",
              "      cursor: pointer;\n",
              "      display: none;\n",
              "      fill: #1967D2;\n",
              "      height: 32px;\n",
              "      padding: 0 0 0 0;\n",
              "      width: 32px;\n",
              "    }\n",
              "\n",
              "    .colab-df-convert:hover {\n",
              "      background-color: #E2EBFA;\n",
              "      box-shadow: 0px 1px 2px rgba(60, 64, 67, 0.3), 0px 1px 3px 1px rgba(60, 64, 67, 0.15);\n",
              "      fill: #174EA6;\n",
              "    }\n",
              "\n",
              "    [theme=dark] .colab-df-convert {\n",
              "      background-color: #3B4455;\n",
              "      fill: #D2E3FC;\n",
              "    }\n",
              "\n",
              "    [theme=dark] .colab-df-convert:hover {\n",
              "      background-color: #434B5C;\n",
              "      box-shadow: 0px 1px 3px 1px rgba(0, 0, 0, 0.15);\n",
              "      filter: drop-shadow(0px 1px 2px rgba(0, 0, 0, 0.3));\n",
              "      fill: #FFFFFF;\n",
              "    }\n",
              "  </style>\n",
              "\n",
              "      <script>\n",
              "        const buttonEl =\n",
              "          document.querySelector('#df-a733d993-85d1-4959-b164-d13ff70dc071 button.colab-df-convert');\n",
              "        buttonEl.style.display =\n",
              "          google.colab.kernel.accessAllowed ? 'block' : 'none';\n",
              "\n",
              "        async function convertToInteractive(key) {\n",
              "          const element = document.querySelector('#df-a733d993-85d1-4959-b164-d13ff70dc071');\n",
              "          const dataTable =\n",
              "            await google.colab.kernel.invokeFunction('convertToInteractive',\n",
              "                                                     [key], {});\n",
              "          if (!dataTable) return;\n",
              "\n",
              "          const docLinkHtml = 'Like what you see? Visit the ' +\n",
              "            '<a target=\"_blank\" href=https://colab.research.google.com/notebooks/data_table.ipynb>data table notebook</a>'\n",
              "            + ' to learn more about interactive tables.';\n",
              "          element.innerHTML = '';\n",
              "          dataTable['output_type'] = 'display_data';\n",
              "          await google.colab.output.renderOutput(dataTable, element);\n",
              "          const docLink = document.createElement('div');\n",
              "          docLink.innerHTML = docLinkHtml;\n",
              "          element.appendChild(docLink);\n",
              "        }\n",
              "      </script>\n",
              "    </div>\n",
              "  </div>\n",
              "  "
            ]
          },
          "metadata": {},
          "execution_count": 181
        }
      ]
    },
    {
      "cell_type": "code",
      "source": [
        "Filtro2_usa= Filtro2_usa.set_index('property_type')\n",
        "Filtro2_usa['frequency'].plot(kind = 'bar', width=1, figsize=(10,4))\n",
        "plt.title('Tipo de propiedad')\n",
        "plt.xlabel('Tipo de propiedad')\n",
        "plt.ylabel('Frecuencia')\n",
        "plt.xticks(rotation=45)"
      ],
      "metadata": {
        "colab": {
          "base_uri": "https://localhost:8080/",
          "height": 601
        },
        "outputId": "cc6de23c-3f9e-4c89-9c52-89e2ad6be1ec",
        "id": "dZ8FF6reBeYq"
      },
      "execution_count": 182,
      "outputs": [
        {
          "output_type": "execute_result",
          "data": {
            "text/plain": [
              "(array([0, 1, 2, 3]),\n",
              " [Text(0, 0, 'Entire rental unit'),\n",
              "  Text(1, 0, 'Entire condo'),\n",
              "  Text(2, 0, 'Private room in home'),\n",
              "  Text(3, 0, 'Entire home')])"
            ]
          },
          "metadata": {},
          "execution_count": 182
        },
        {
          "output_type": "display_data",
          "data": {
            "text/plain": [
              "<Figure size 1000x400 with 1 Axes>"
            ],
            "image/png": "[encoded data removed]"
          },
          "metadata": {}
        }
      ]
    },
    {
      "cell_type": "markdown",
      "source": [
        "Variable *host_acceptance_rate*"
      ],
      "metadata": {
        "id": "NPcfdMOcBeYq"
      }
    },
    {
      "cell_type": "code",
      "source": [
        "table3_usa= freq_tbl(usa['host_acceptance_rate'])\n",
        "table3_usa"
      ],
      "metadata": {
        "colab": {
          "base_uri": "https://localhost:8080/",
          "height": 35
        },
        "outputId": "f3647dd3-06f7-4864-ec3c-ca87fb9315a1",
        "id": "6mHPBtZZBeYq"
      },
      "execution_count": 183,
      "outputs": [
        {
          "output_type": "execute_result",
          "data": {
            "text/plain": [
              "'No categorical variables to analyze.'"
            ],
            "application/vnd.google.colaboratory.intrinsic+json": {
              "type": "string"
            }
          },
          "metadata": {},
          "execution_count": 183
        }
      ]
    },
    {
      "cell_type": "code",
      "source": [
        "usa['host_acceptance_rate'].hist(bins=8) \n",
        "plt.xlabel(\"Tasa de aceptación del anfitrión\")\n",
        "plt.ylabel(\"Frecuencia\")\n",
        "plt.show()"
      ],
      "metadata": {
        "colab": {
          "base_uri": "https://localhost:8080/",
          "height": 450
        },
        "outputId": "25d630f6-56dd-445e-fd46-b8482b685dc2",
        "id": "BNZ1qnFYBeYq"
      },
      "execution_count": 184,
      "outputs": [
        {
          "output_type": "display_data",
          "data": {
            "text/plain": [
              "<Figure size 640x480 with 1 Axes>"
            ],
            "image/png": "[encoded data removed]"
          },
          "metadata": {}
        }
      ]
    },
    {
      "cell_type": "markdown",
      "source": [
        "Variable *host_identity_verified*"
      ],
      "metadata": {
        "id": "PPMAoA7I82r6"
      }
    },
    {
      "cell_type": "code",
      "source": [
        "table4_usa= freq_tbl(usa['host_identity_verified'])\n",
        "table4_usa"
      ],
      "metadata": {
        "colab": {
          "base_uri": "https://localhost:8080/",
          "height": 112
        },
        "outputId": "3d8f7bc1-943e-4862-8c07-d9604fd74906",
        "id": "yDxwgosa82r6"
      },
      "execution_count": 185,
      "outputs": [
        {
          "output_type": "execute_result",
          "data": {
            "text/plain": [
              "  host_identity_verified  frequency  percentage  cumulative_perc\n",
              "0                      t       6106    0.880334         0.880334\n",
              "1                      f        830    0.119666         1.000000"
            ],
            "text/html": [
              "\n",
              "  <div id=\"df-e9e6fe12-0807-454f-8d89-689524fb664e\">\n",
              "    <div class=\"colab-df-container\">\n",
              "      <div>\n",
              "<style scoped>\n",
              "    .dataframe tbody tr th:only-of-type {\n",
              "        vertical-align: middle;\n",
              "    }\n",
              "\n",
              "    .dataframe tbody tr th {\n",
              "        vertical-align: top;\n",
              "    }\n",
              "\n",
              "    .dataframe thead th {\n",
              "        text-align: right;\n",
              "    }\n",
              "</style>\n",
              "<table border=\"1\" class=\"dataframe\">\n",
              "  <thead>\n",
              "    <tr style=\"text-align: right;\">\n",
              "      <th></th>\n",
              "      <th>host_identity_verified</th>\n",
              "      <th>frequency</th>\n",
              "      <th>percentage</th>\n",
              "      <th>cumulative_perc</th>\n",
              "    </tr>\n",
              "  </thead>\n",
              "  <tbody>\n",
              "    <tr>\n",
              "      <th>0</th>\n",
              "      <td>t</td>\n",
              "      <td>6106</td>\n",
              "      <td>0.880334</td>\n",
              "      <td>0.880334</td>\n",
              "    </tr>\n",
              "    <tr>\n",
              "      <th>1</th>\n",
              "      <td>f</td>\n",
              "      <td>830</td>\n",
              "      <td>0.119666</td>\n",
              "      <td>1.000000</td>\n",
              "    </tr>\n",
              "  </tbody>\n",
              "</table>\n",
              "</div>\n",
              "      <button class=\"colab-df-convert\" onclick=\"convertToInteractive('df-e9e6fe12-0807-454f-8d89-689524fb664e')\"\n",
              "              title=\"Convert this dataframe to an interactive table.\"\n",
              "              style=\"display:none;\">\n",
              "        \n",
              "  <svg xmlns=\"http://www.w3.org/2000/svg\" height=\"24px\"viewBox=\"0 0 24 24\"\n",
              "       width=\"24px\">\n",
              "    <path d=\"M0 0h24v24H0V0z\" fill=\"none\"/>\n",
              "    <path d=\"M18.56 5.44l.94 2.06.94-2.06 2.06-.94-2.06-.94-.94-2.06-.94 2.06-2.06.94zm-11 1L8.5 8.5l.94-2.06 2.06-.94-2.06-.94L8.5 2.5l-.94 2.06-2.06.94zm10 10l.94 2.06.94-2.06 2.06-.94-2.06-.94-.94-2.06-.94 2.06-2.06.94z\"/><path d=\"M17.41 7.96l-1.37-1.37c-.4-.4-.92-.59-1.43-.59-.52 0-1.04.2-1.43.59L10.3 9.45l-7.72 7.72c-.78.78-.78 2.05 0 2.83L4 21.41c.39.39.9.59 1.41.59.51 0 1.02-.2 1.41-.59l7.78-7.78 2.81-2.81c.8-.78.8-2.07 0-2.86zM5.41 20L4 18.59l7.72-7.72 1.47 1.35L5.41 20z\"/>\n",
              "  </svg>\n",
              "      </button>\n",
              "      \n",
              "  <style>\n",
              "    .colab-df-container {\n",
              "      display:flex;\n",
              "      flex-wrap:wrap;\n",
              "      gap: 12px;\n",
              "    }\n",
              "\n",
              "    .colab-df-convert {\n",
              "      background-color: #E8F0FE;\n",
              "      border: none;\n",
              "      border-radius: 50%;\n",
              "      cursor: pointer;\n",
              "      display: none;\n",
              "      fill: #1967D2;\n",
              "      height: 32px;\n",
              "      padding: 0 0 0 0;\n",
              "      width: 32px;\n",
              "    }\n",
              "\n",
              "    .colab-df-convert:hover {\n",
              "      background-color: #E2EBFA;\n",
              "      box-shadow: 0px 1px 2px rgba(60, 64, 67, 0.3), 0px 1px 3px 1px rgba(60, 64, 67, 0.15);\n",
              "      fill: #174EA6;\n",
              "    }\n",
              "\n",
              "    [theme=dark] .colab-df-convert {\n",
              "      background-color: #3B4455;\n",
              "      fill: #D2E3FC;\n",
              "    }\n",
              "\n",
              "    [theme=dark] .colab-df-convert:hover {\n",
              "      background-color: #434B5C;\n",
              "      box-shadow: 0px 1px 3px 1px rgba(0, 0, 0, 0.15);\n",
              "      filter: drop-shadow(0px 1px 2px rgba(0, 0, 0, 0.3));\n",
              "      fill: #FFFFFF;\n",
              "    }\n",
              "  </style>\n",
              "\n",
              "      <script>\n",
              "        const buttonEl =\n",
              "          document.querySelector('#df-e9e6fe12-0807-454f-8d89-689524fb664e button.colab-df-convert');\n",
              "        buttonEl.style.display =\n",
              "          google.colab.kernel.accessAllowed ? 'block' : 'none';\n",
              "\n",
              "        async function convertToInteractive(key) {\n",
              "          const element = document.querySelector('#df-e9e6fe12-0807-454f-8d89-689524fb664e');\n",
              "          const dataTable =\n",
              "            await google.colab.kernel.invokeFunction('convertToInteractive',\n",
              "                                                     [key], {});\n",
              "          if (!dataTable) return;\n",
              "\n",
              "          const docLinkHtml = 'Like what you see? Visit the ' +\n",
              "            '<a target=\"_blank\" href=https://colab.research.google.com/notebooks/data_table.ipynb>data table notebook</a>'\n",
              "            + ' to learn more about interactive tables.';\n",
              "          element.innerHTML = '';\n",
              "          dataTable['output_type'] = 'display_data';\n",
              "          await google.colab.output.renderOutput(dataTable, element);\n",
              "          const docLink = document.createElement('div');\n",
              "          docLink.innerHTML = docLinkHtml;\n",
              "          element.appendChild(docLink);\n",
              "        }\n",
              "      </script>\n",
              "    </div>\n",
              "  </div>\n",
              "  "
            ]
          },
          "metadata": {},
          "execution_count": 185
        }
      ]
    },
    {
      "cell_type": "code",
      "source": [
        "table4_usa= table4_usa.set_index('host_identity_verified')\n",
        "table4_usa[\"frequency\"].plot(kind='pie', figsize=(10,5), autopct=\"%0.1f %%\")\n",
        "plt.title('Identidad del anfitrión verificada')"
      ],
      "metadata": {
        "colab": {
          "base_uri": "https://localhost:8080/",
          "height": 462
        },
        "outputId": "0c709cc1-a9a8-4fbc-cf22-1e0a44a2cf03",
        "id": "H2v7L_WPBeYq"
      },
      "execution_count": 186,
      "outputs": [
        {
          "output_type": "execute_result",
          "data": {
            "text/plain": [
              "Text(0.5, 1.0, 'Identidad del anfitrión verificada')"
            ]
          },
          "metadata": {},
          "execution_count": 186
        },
        {
          "output_type": "display_data",
          "data": {
            "text/plain": [
              "<Figure size 1000x500 with 1 Axes>"
            ],
            "image/png": "[encoded data removed]"
          },
          "metadata": {}
        }
      ]
    },
    {
      "cell_type": "markdown",
      "source": [
        "Variable *number_of_reviews*"
      ],
      "metadata": {
        "id": "KqchcEXn82r6"
      }
    },
    {
      "cell_type": "code",
      "source": [
        "table5_usa= freq_tbl(usa['number_of_reviews'])\n",
        "table5_usa"
      ],
      "metadata": {
        "colab": {
          "base_uri": "https://localhost:8080/",
          "height": 35
        },
        "outputId": "fda2aee2-3f18-472d-a870-83a5b97590c2",
        "id": "slnBc82o82r6"
      },
      "execution_count": 187,
      "outputs": [
        {
          "output_type": "execute_result",
          "data": {
            "text/plain": [
              "'No categorical variables to analyze.'"
            ],
            "application/vnd.google.colaboratory.intrinsic+json": {
              "type": "string"
            }
          },
          "metadata": {},
          "execution_count": 187
        }
      ]
    },
    {
      "cell_type": "code",
      "source": [
        "usa['number_of_reviews'].hist(bins=8) \n",
        "plt.xlabel(\"Número de reseñas\")\n",
        "plt.ylabel(\"Frecuencia\")\n",
        "plt.show()"
      ],
      "metadata": {
        "colab": {
          "base_uri": "https://localhost:8080/",
          "height": 449
        },
        "outputId": "ceaeb5ff-b5e7-4fdf-9425-a06294c9d151",
        "id": "xIhp9zJr82r7"
      },
      "execution_count": 188,
      "outputs": [
        {
          "output_type": "display_data",
          "data": {
            "text/plain": [
              "<Figure size 640x480 with 1 Axes>"
            ],
            "image/png": "[encoded data removed]"
          },
          "metadata": {}
        }
      ]
    },
    {
      "cell_type": "markdown",
      "source": [
        "### **Dataframe Girona_España**"
      ],
      "metadata": {
        "id": "ERVikbMP9vNO"
      }
    },
    {
      "cell_type": "markdown",
      "source": [
        "Variable *host_response_time*"
      ],
      "metadata": {
        "id": "jLmVVKQA9vNP"
      }
    },
    {
      "cell_type": "code",
      "source": [
        "table1_esp= freq_tbl(españa['host_response_time'])\n",
        "Filtro1_esp= table1_esp[table1_esp['frequency']>1000]\n",
        "Filtro1_esp"
      ],
      "metadata": {
        "colab": {
          "base_uri": "https://localhost:8080/",
          "height": 175
        },
        "outputId": "6f52674e-8fa6-4abb-c4b8-47e607b32446",
        "id": "O4593rVg9vNP"
      },
      "execution_count": 189,
      "outputs": [
        {
          "output_type": "execute_result",
          "data": {
            "text/plain": [
              "   host_response_time  frequency  percentage  cumulative_perc\n",
              "0      within an hour      12261    0.623811         0.623811\n",
              "1  within a few hours       2700    0.137370         0.761180\n",
              "2        within a day       2188    0.111320         0.872501\n",
              "3           Sin datos       2088    0.106233         0.978733"
            ],
            "text/html": [
              "\n",
              "  <div id=\"df-d71d0ce0-6c16-4cb8-90eb-4edcc26a6f8c\">\n",
              "    <div class=\"colab-df-container\">\n",
              "      <div>\n",
              "<style scoped>\n",
              "    .dataframe tbody tr th:only-of-type {\n",
              "        vertical-align: middle;\n",
              "    }\n",
              "\n",
              "    .dataframe tbody tr th {\n",
              "        vertical-align: top;\n",
              "    }\n",
              "\n",
              "    .dataframe thead th {\n",
              "        text-align: right;\n",
              "    }\n",
              "</style>\n",
              "<table border=\"1\" class=\"dataframe\">\n",
              "  <thead>\n",
              "    <tr style=\"text-align: right;\">\n",
              "      <th></th>\n",
              "      <th>host_response_time</th>\n",
              "      <th>frequency</th>\n",
              "      <th>percentage</th>\n",
              "      <th>cumulative_perc</th>\n",
              "    </tr>\n",
              "  </thead>\n",
              "  <tbody>\n",
              "    <tr>\n",
              "      <th>0</th>\n",
              "      <td>within an hour</td>\n",
              "      <td>12261</td>\n",
              "      <td>0.623811</td>\n",
              "      <td>0.623811</td>\n",
              "    </tr>\n",
              "    <tr>\n",
              "      <th>1</th>\n",
              "      <td>within a few hours</td>\n",
              "      <td>2700</td>\n",
              "      <td>0.137370</td>\n",
              "      <td>0.761180</td>\n",
              "    </tr>\n",
              "    <tr>\n",
              "      <th>2</th>\n",
              "      <td>within a day</td>\n",
              "      <td>2188</td>\n",
              "      <td>0.111320</td>\n",
              "      <td>0.872501</td>\n",
              "    </tr>\n",
              "    <tr>\n",
              "      <th>3</th>\n",
              "      <td>Sin datos</td>\n",
              "      <td>2088</td>\n",
              "      <td>0.106233</td>\n",
              "      <td>0.978733</td>\n",
              "    </tr>\n",
              "  </tbody>\n",
              "</table>\n",
              "</div>\n",
              "      <button class=\"colab-df-convert\" onclick=\"convertToInteractive('df-d71d0ce0-6c16-4cb8-90eb-4edcc26a6f8c')\"\n",
              "              title=\"Convert this dataframe to an interactive table.\"\n",
              "              style=\"display:none;\">\n",
              "        \n",
              "  <svg xmlns=\"http://www.w3.org/2000/svg\" height=\"24px\"viewBox=\"0 0 24 24\"\n",
              "       width=\"24px\">\n",
              "    <path d=\"M0 0h24v24H0V0z\" fill=\"none\"/>\n",
              "    <path d=\"M18.56 5.44l.94 2.06.94-2.06 2.06-.94-2.06-.94-.94-2.06-.94 2.06-2.06.94zm-11 1L8.5 8.5l.94-2.06 2.06-.94-2.06-.94L8.5 2.5l-.94 2.06-2.06.94zm10 10l.94 2.06.94-2.06 2.06-.94-2.06-.94-.94-2.06-.94 2.06-2.06.94z\"/><path d=\"M17.41 7.96l-1.37-1.37c-.4-.4-.92-.59-1.43-.59-.52 0-1.04.2-1.43.59L10.3 9.45l-7.72 7.72c-.78.78-.78 2.05 0 2.83L4 21.41c.39.39.9.59 1.41.59.51 0 1.02-.2 1.41-.59l7.78-7.78 2.81-2.81c.8-.78.8-2.07 0-2.86zM5.41 20L4 18.59l7.72-7.72 1.47 1.35L5.41 20z\"/>\n",
              "  </svg>\n",
              "      </button>\n",
              "      \n",
              "  <style>\n",
              "    .colab-df-container {\n",
              "      display:flex;\n",
              "      flex-wrap:wrap;\n",
              "      gap: 12px;\n",
              "    }\n",
              "\n",
              "    .colab-df-convert {\n",
              "      background-color: #E8F0FE;\n",
              "      border: none;\n",
              "      border-radius: 50%;\n",
              "      cursor: pointer;\n",
              "      display: none;\n",
              "      fill: #1967D2;\n",
              "      height: 32px;\n",
              "      padding: 0 0 0 0;\n",
              "      width: 32px;\n",
              "    }\n",
              "\n",
              "    .colab-df-convert:hover {\n",
              "      background-color: #E2EBFA;\n",
              "      box-shadow: 0px 1px 2px rgba(60, 64, 67, 0.3), 0px 1px 3px 1px rgba(60, 64, 67, 0.15);\n",
              "      fill: #174EA6;\n",
              "    }\n",
              "\n",
              "    [theme=dark] .colab-df-convert {\n",
              "      background-color: #3B4455;\n",
              "      fill: #D2E3FC;\n",
              "    }\n",
              "\n",
              "    [theme=dark] .colab-df-convert:hover {\n",
              "      background-color: #434B5C;\n",
              "      box-shadow: 0px 1px 3px 1px rgba(0, 0, 0, 0.15);\n",
              "      filter: drop-shadow(0px 1px 2px rgba(0, 0, 0, 0.3));\n",
              "      fill: #FFFFFF;\n",
              "    }\n",
              "  </style>\n",
              "\n",
              "      <script>\n",
              "        const buttonEl =\n",
              "          document.querySelector('#df-d71d0ce0-6c16-4cb8-90eb-4edcc26a6f8c button.colab-df-convert');\n",
              "        buttonEl.style.display =\n",
              "          google.colab.kernel.accessAllowed ? 'block' : 'none';\n",
              "\n",
              "        async function convertToInteractive(key) {\n",
              "          const element = document.querySelector('#df-d71d0ce0-6c16-4cb8-90eb-4edcc26a6f8c');\n",
              "          const dataTable =\n",
              "            await google.colab.kernel.invokeFunction('convertToInteractive',\n",
              "                                                     [key], {});\n",
              "          if (!dataTable) return;\n",
              "\n",
              "          const docLinkHtml = 'Like what you see? Visit the ' +\n",
              "            '<a target=\"_blank\" href=https://colab.research.google.com/notebooks/data_table.ipynb>data table notebook</a>'\n",
              "            + ' to learn more about interactive tables.';\n",
              "          element.innerHTML = '';\n",
              "          dataTable['output_type'] = 'display_data';\n",
              "          await google.colab.output.renderOutput(dataTable, element);\n",
              "          const docLink = document.createElement('div');\n",
              "          docLink.innerHTML = docLinkHtml;\n",
              "          element.appendChild(docLink);\n",
              "        }\n",
              "      </script>\n",
              "    </div>\n",
              "  </div>\n",
              "  "
            ]
          },
          "metadata": {},
          "execution_count": 189
        }
      ]
    },
    {
      "cell_type": "code",
      "source": [
        "Filtro1_esp= Filtro1_esp.set_index('host_response_time')\n",
        "Filtro1_esp[\"frequency\"].plot(kind='pie', figsize=(10,5), autopct=\"%0.1f %%\")\n",
        "plt.title('Tiempo de respuesta del anfitrión')"
      ],
      "metadata": {
        "colab": {
          "base_uri": "https://localhost:8080/",
          "height": 462
        },
        "outputId": "d7e97210-a1f8-480a-e142-9558907ee11c",
        "id": "EgKWKu9RCN2D"
      },
      "execution_count": 190,
      "outputs": [
        {
          "output_type": "execute_result",
          "data": {
            "text/plain": [
              "Text(0.5, 1.0, 'Tiempo de respuesta del anfitrión')"
            ]
          },
          "metadata": {},
          "execution_count": 190
        },
        {
          "output_type": "display_data",
          "data": {
            "text/plain": [
              "<Figure size 1000x500 with 1 Axes>"
            ],
            "image/png": "[encoded data removed]"
          },
          "metadata": {}
        }
      ]
    },
    {
      "cell_type": "markdown",
      "source": [
        "Variable *property_type*"
      ],
      "metadata": {
        "id": "Ous-pv799vNP"
      }
    },
    {
      "cell_type": "code",
      "source": [
        "table2_esp= freq_tbl(españa['property_type'])\n",
        "Filtro2_esp= table2_esp[table2_esp['frequency']>1000]\n",
        "Filtro2_esp"
      ],
      "metadata": {
        "colab": {
          "base_uri": "https://localhost:8080/",
          "height": 175
        },
        "outputId": "eea19a23-542f-4060-832b-49e1c794f413",
        "id": "Fh6usRgN9vNP"
      },
      "execution_count": 159,
      "outputs": [
        {
          "output_type": "execute_result",
          "data": {
            "text/plain": [
              "        property_type  frequency  percentage  cumulative_perc\n",
              "0  Entire rental unit       9339    0.475146         0.475146\n",
              "1         Entire home       3703    0.188400         0.663546\n",
              "2        Entire villa       1715    0.087255         0.750801\n",
              "3        Entire condo       1400    0.071229         0.822030"
            ],
            "text/html": [
              "\n",
              "  <div id=\"df-b0341c78-a3cb-4af7-8648-37389aa28137\">\n",
              "    <div class=\"colab-df-container\">\n",
              "      <div>\n",
              "<style scoped>\n",
              "    .dataframe tbody tr th:only-of-type {\n",
              "        vertical-align: middle;\n",
              "    }\n",
              "\n",
              "    .dataframe tbody tr th {\n",
              "        vertical-align: top;\n",
              "    }\n",
              "\n",
              "    .dataframe thead th {\n",
              "        text-align: right;\n",
              "    }\n",
              "</style>\n",
              "<table border=\"1\" class=\"dataframe\">\n",
              "  <thead>\n",
              "    <tr style=\"text-align: right;\">\n",
              "      <th></th>\n",
              "      <th>property_type</th>\n",
              "      <th>frequency</th>\n",
              "      <th>percentage</th>\n",
              "      <th>cumulative_perc</th>\n",
              "    </tr>\n",
              "  </thead>\n",
              "  <tbody>\n",
              "    <tr>\n",
              "      <th>0</th>\n",
              "      <td>Entire rental unit</td>\n",
              "      <td>9339</td>\n",
              "      <td>0.475146</td>\n",
              "      <td>0.475146</td>\n",
              "    </tr>\n",
              "    <tr>\n",
              "      <th>1</th>\n",
              "      <td>Entire home</td>\n",
              "      <td>3703</td>\n",
              "      <td>0.188400</td>\n",
              "      <td>0.663546</td>\n",
              "    </tr>\n",
              "    <tr>\n",
              "      <th>2</th>\n",
              "      <td>Entire villa</td>\n",
              "      <td>1715</td>\n",
              "      <td>0.087255</td>\n",
              "      <td>0.750801</td>\n",
              "    </tr>\n",
              "    <tr>\n",
              "      <th>3</th>\n",
              "      <td>Entire condo</td>\n",
              "      <td>1400</td>\n",
              "      <td>0.071229</td>\n",
              "      <td>0.822030</td>\n",
              "    </tr>\n",
              "  </tbody>\n",
              "</table>\n",
              "</div>\n",
              "      <button class=\"colab-df-convert\" onclick=\"convertToInteractive('df-b0341c78-a3cb-4af7-8648-37389aa28137')\"\n",
              "              title=\"Convert this dataframe to an interactive table.\"\n",
              "              style=\"display:none;\">\n",
              "        \n",
              "  <svg xmlns=\"http://www.w3.org/2000/svg\" height=\"24px\"viewBox=\"0 0 24 24\"\n",
              "       width=\"24px\">\n",
              "    <path d=\"M0 0h24v24H0V0z\" fill=\"none\"/>\n",
              "    <path d=\"M18.56 5.44l.94 2.06.94-2.06 2.06-.94-2.06-.94-.94-2.06-.94 2.06-2.06.94zm-11 1L8.5 8.5l.94-2.06 2.06-.94-2.06-.94L8.5 2.5l-.94 2.06-2.06.94zm10 10l.94 2.06.94-2.06 2.06-.94-2.06-.94-.94-2.06-.94 2.06-2.06.94z\"/><path d=\"M17.41 7.96l-1.37-1.37c-.4-.4-.92-.59-1.43-.59-.52 0-1.04.2-1.43.59L10.3 9.45l-7.72 7.72c-.78.78-.78 2.05 0 2.83L4 21.41c.39.39.9.59 1.41.59.51 0 1.02-.2 1.41-.59l7.78-7.78 2.81-2.81c.8-.78.8-2.07 0-2.86zM5.41 20L4 18.59l7.72-7.72 1.47 1.35L5.41 20z\"/>\n",
              "  </svg>\n",
              "      </button>\n",
              "      \n",
              "  <style>\n",
              "    .colab-df-container {\n",
              "      display:flex;\n",
              "      flex-wrap:wrap;\n",
              "      gap: 12px;\n",
              "    }\n",
              "\n",
              "    .colab-df-convert {\n",
              "      background-color: #E8F0FE;\n",
              "      border: none;\n",
              "      border-radius: 50%;\n",
              "      cursor: pointer;\n",
              "      display: none;\n",
              "      fill: #1967D2;\n",
              "      height: 32px;\n",
              "      padding: 0 0 0 0;\n",
              "      width: 32px;\n",
              "    }\n",
              "\n",
              "    .colab-df-convert:hover {\n",
              "      background-color: #E2EBFA;\n",
              "      box-shadow: 0px 1px 2px rgba(60, 64, 67, 0.3), 0px 1px 3px 1px rgba(60, 64, 67, 0.15);\n",
              "      fill: #174EA6;\n",
              "    }\n",
              "\n",
              "    [theme=dark] .colab-df-convert {\n",
              "      background-color: #3B4455;\n",
              "      fill: #D2E3FC;\n",
              "    }\n",
              "\n",
              "    [theme=dark] .colab-df-convert:hover {\n",
              "      background-color: #434B5C;\n",
              "      box-shadow: 0px 1px 3px 1px rgba(0, 0, 0, 0.15);\n",
              "      filter: drop-shadow(0px 1px 2px rgba(0, 0, 0, 0.3));\n",
              "      fill: #FFFFFF;\n",
              "    }\n",
              "  </style>\n",
              "\n",
              "      <script>\n",
              "        const buttonEl =\n",
              "          document.querySelector('#df-b0341c78-a3cb-4af7-8648-37389aa28137 button.colab-df-convert');\n",
              "        buttonEl.style.display =\n",
              "          google.colab.kernel.accessAllowed ? 'block' : 'none';\n",
              "\n",
              "        async function convertToInteractive(key) {\n",
              "          const element = document.querySelector('#df-b0341c78-a3cb-4af7-8648-37389aa28137');\n",
              "          const dataTable =\n",
              "            await google.colab.kernel.invokeFunction('convertToInteractive',\n",
              "                                                     [key], {});\n",
              "          if (!dataTable) return;\n",
              "\n",
              "          const docLinkHtml = 'Like what you see? Visit the ' +\n",
              "            '<a target=\"_blank\" href=https://colab.research.google.com/notebooks/data_table.ipynb>data table notebook</a>'\n",
              "            + ' to learn more about interactive tables.';\n",
              "          element.innerHTML = '';\n",
              "          dataTable['output_type'] = 'display_data';\n",
              "          await google.colab.output.renderOutput(dataTable, element);\n",
              "          const docLink = document.createElement('div');\n",
              "          docLink.innerHTML = docLinkHtml;\n",
              "          element.appendChild(docLink);\n",
              "        }\n",
              "      </script>\n",
              "    </div>\n",
              "  </div>\n",
              "  "
            ]
          },
          "metadata": {},
          "execution_count": 159
        }
      ]
    },
    {
      "cell_type": "code",
      "source": [
        "Filtro2_esp= Filtro2_esp.set_index('property_type')\n",
        "Filtro2_esp['frequency'].plot(kind = 'bar', width=1, figsize=(10,4))\n",
        "plt.title('Tipo de propiedad')\n",
        "plt.xlabel('Tipo de propiedad')\n",
        "plt.ylabel('Frecuencia')\n",
        "plt.xticks(rotation=45)"
      ],
      "metadata": {
        "colab": {
          "base_uri": "https://localhost:8080/",
          "height": 578
        },
        "outputId": "fdece2b4-50a7-4aea-e438-5bd401e094a5",
        "id": "cWkA92bNCbFg"
      },
      "execution_count": 191,
      "outputs": [
        {
          "output_type": "execute_result",
          "data": {
            "text/plain": [
              "(array([0, 1, 2, 3]),\n",
              " [Text(0, 0, 'Entire rental unit'),\n",
              "  Text(1, 0, 'Entire home'),\n",
              "  Text(2, 0, 'Entire villa'),\n",
              "  Text(3, 0, 'Entire condo')])"
            ]
          },
          "metadata": {},
          "execution_count": 191
        },
        {
          "output_type": "display_data",
          "data": {
            "text/plain": [
              "<Figure size 1000x400 with 1 Axes>"
            ],
            "image/png": "[encoded data removed]"
          },
          "metadata": {}
        }
      ]
    },
    {
      "cell_type": "markdown",
      "source": [
        "Variable *host_acceptance_rate*"
      ],
      "metadata": {
        "id": "KgFcW7j4DFnt"
      }
    },
    {
      "cell_type": "code",
      "source": [
        "table3_esp= freq_tbl(españa['host_acceptance_rate'])\n",
        "table3_esp"
      ],
      "metadata": {
        "colab": {
          "base_uri": "https://localhost:8080/",
          "height": 35
        },
        "outputId": "b3302f0d-5e50-4e76-be6c-bc54e42cab6d",
        "id": "qw-YEB6TDFnt"
      },
      "execution_count": 192,
      "outputs": [
        {
          "output_type": "execute_result",
          "data": {
            "text/plain": [
              "'No categorical variables to analyze.'"
            ],
            "application/vnd.google.colaboratory.intrinsic+json": {
              "type": "string"
            }
          },
          "metadata": {},
          "execution_count": 192
        }
      ]
    },
    {
      "cell_type": "code",
      "source": [
        "españa['host_acceptance_rate'].hist(bins=8) \n",
        "plt.xlabel(\"Tasa de aceptación del anfitrión\")\n",
        "plt.ylabel(\"Frecuencia\")\n",
        "plt.show()"
      ],
      "metadata": {
        "colab": {
          "base_uri": "https://localhost:8080/",
          "height": 450
        },
        "outputId": "e0db08fd-08b3-42a7-b8ba-5dfd200491ec",
        "id": "g42o1WHzDFnu"
      },
      "execution_count": 193,
      "outputs": [
        {
          "output_type": "display_data",
          "data": {
            "text/plain": [
              "<Figure size 640x480 with 1 Axes>"
            ],
            "image/png": "[encoded data removed]"
          },
          "metadata": {}
        }
      ]
    },
    {
      "cell_type": "markdown",
      "source": [
        "Variable *host_identity_verified*"
      ],
      "metadata": {
        "id": "8tCvL1pN9vNP"
      }
    },
    {
      "cell_type": "code",
      "source": [
        "table4_esp= freq_tbl(españa['host_identity_verified'])\n",
        "table4_esp"
      ],
      "metadata": {
        "colab": {
          "base_uri": "https://localhost:8080/",
          "height": 143
        },
        "outputId": "9904a40c-760b-4fb1-b2d7-61285f9d7699",
        "id": "e3BgGgSZ9vNQ"
      },
      "execution_count": 156,
      "outputs": [
        {
          "output_type": "execute_result",
          "data": {
            "text/plain": [
              "  host_identity_verified  frequency  percentage  cumulative_perc\n",
              "0                      t      17277    0.879013         0.879013\n",
              "1                      f       2261    0.115034         0.994047\n",
              "2              Sin datos        117    0.005953         1.000000"
            ],
            "text/html": [
              "\n",
              "  <div id=\"df-296ead41-b002-4904-b5db-f3c62952106d\">\n",
              "    <div class=\"colab-df-container\">\n",
              "      <div>\n",
              "<style scoped>\n",
              "    .dataframe tbody tr th:only-of-type {\n",
              "        vertical-align: middle;\n",
              "    }\n",
              "\n",
              "    .dataframe tbody tr th {\n",
              "        vertical-align: top;\n",
              "    }\n",
              "\n",
              "    .dataframe thead th {\n",
              "        text-align: right;\n",
              "    }\n",
              "</style>\n",
              "<table border=\"1\" class=\"dataframe\">\n",
              "  <thead>\n",
              "    <tr style=\"text-align: right;\">\n",
              "      <th></th>\n",
              "      <th>host_identity_verified</th>\n",
              "      <th>frequency</th>\n",
              "      <th>percentage</th>\n",
              "      <th>cumulative_perc</th>\n",
              "    </tr>\n",
              "  </thead>\n",
              "  <tbody>\n",
              "    <tr>\n",
              "      <th>0</th>\n",
              "      <td>t</td>\n",
              "      <td>17277</td>\n",
              "      <td>0.879013</td>\n",
              "      <td>0.879013</td>\n",
              "    </tr>\n",
              "    <tr>\n",
              "      <th>1</th>\n",
              "      <td>f</td>\n",
              "      <td>2261</td>\n",
              "      <td>0.115034</td>\n",
              "      <td>0.994047</td>\n",
              "    </tr>\n",
              "    <tr>\n",
              "      <th>2</th>\n",
              "      <td>Sin datos</td>\n",
              "      <td>117</td>\n",
              "      <td>0.005953</td>\n",
              "      <td>1.000000</td>\n",
              "    </tr>\n",
              "  </tbody>\n",
              "</table>\n",
              "</div>\n",
              "      <button class=\"colab-df-convert\" onclick=\"convertToInteractive('df-296ead41-b002-4904-b5db-f3c62952106d')\"\n",
              "              title=\"Convert this dataframe to an interactive table.\"\n",
              "              style=\"display:none;\">\n",
              "        \n",
              "  <svg xmlns=\"http://www.w3.org/2000/svg\" height=\"24px\"viewBox=\"0 0 24 24\"\n",
              "       width=\"24px\">\n",
              "    <path d=\"M0 0h24v24H0V0z\" fill=\"none\"/>\n",
              "    <path d=\"M18.56 5.44l.94 2.06.94-2.06 2.06-.94-2.06-.94-.94-2.06-.94 2.06-2.06.94zm-11 1L8.5 8.5l.94-2.06 2.06-.94-2.06-.94L8.5 2.5l-.94 2.06-2.06.94zm10 10l.94 2.06.94-2.06 2.06-.94-2.06-.94-.94-2.06-.94 2.06-2.06.94z\"/><path d=\"M17.41 7.96l-1.37-1.37c-.4-.4-.92-.59-1.43-.59-.52 0-1.04.2-1.43.59L10.3 9.45l-7.72 7.72c-.78.78-.78 2.05 0 2.83L4 21.41c.39.39.9.59 1.41.59.51 0 1.02-.2 1.41-.59l7.78-7.78 2.81-2.81c.8-.78.8-2.07 0-2.86zM5.41 20L4 18.59l7.72-7.72 1.47 1.35L5.41 20z\"/>\n",
              "  </svg>\n",
              "      </button>\n",
              "      \n",
              "  <style>\n",
              "    .colab-df-container {\n",
              "      display:flex;\n",
              "      flex-wrap:wrap;\n",
              "      gap: 12px;\n",
              "    }\n",
              "\n",
              "    .colab-df-convert {\n",
              "      background-color: #E8F0FE;\n",
              "      border: none;\n",
              "      border-radius: 50%;\n",
              "      cursor: pointer;\n",
              "      display: none;\n",
              "      fill: #1967D2;\n",
              "      height: 32px;\n",
              "      padding: 0 0 0 0;\n",
              "      width: 32px;\n",
              "    }\n",
              "\n",
              "    .colab-df-convert:hover {\n",
              "      background-color: #E2EBFA;\n",
              "      box-shadow: 0px 1px 2px rgba(60, 64, 67, 0.3), 0px 1px 3px 1px rgba(60, 64, 67, 0.15);\n",
              "      fill: #174EA6;\n",
              "    }\n",
              "\n",
              "    [theme=dark] .colab-df-convert {\n",
              "      background-color: #3B4455;\n",
              "      fill: #D2E3FC;\n",
              "    }\n",
              "\n",
              "    [theme=dark] .colab-df-convert:hover {\n",
              "      background-color: #434B5C;\n",
              "      box-shadow: 0px 1px 3px 1px rgba(0, 0, 0, 0.15);\n",
              "      filter: drop-shadow(0px 1px 2px rgba(0, 0, 0, 0.3));\n",
              "      fill: #FFFFFF;\n",
              "    }\n",
              "  </style>\n",
              "\n",
              "      <script>\n",
              "        const buttonEl =\n",
              "          document.querySelector('#df-296ead41-b002-4904-b5db-f3c62952106d button.colab-df-convert');\n",
              "        buttonEl.style.display =\n",
              "          google.colab.kernel.accessAllowed ? 'block' : 'none';\n",
              "\n",
              "        async function convertToInteractive(key) {\n",
              "          const element = document.querySelector('#df-296ead41-b002-4904-b5db-f3c62952106d');\n",
              "          const dataTable =\n",
              "            await google.colab.kernel.invokeFunction('convertToInteractive',\n",
              "                                                     [key], {});\n",
              "          if (!dataTable) return;\n",
              "\n",
              "          const docLinkHtml = 'Like what you see? Visit the ' +\n",
              "            '<a target=\"_blank\" href=https://colab.research.google.com/notebooks/data_table.ipynb>data table notebook</a>'\n",
              "            + ' to learn more about interactive tables.';\n",
              "          element.innerHTML = '';\n",
              "          dataTable['output_type'] = 'display_data';\n",
              "          await google.colab.output.renderOutput(dataTable, element);\n",
              "          const docLink = document.createElement('div');\n",
              "          docLink.innerHTML = docLinkHtml;\n",
              "          element.appendChild(docLink);\n",
              "        }\n",
              "      </script>\n",
              "    </div>\n",
              "  </div>\n",
              "  "
            ]
          },
          "metadata": {},
          "execution_count": 156
        }
      ]
    },
    {
      "cell_type": "code",
      "source": [
        "table4_esp= table4_esp.set_index('host_identity_verified')\n",
        "table4_esp[\"frequency\"].plot(kind='pie', figsize=(10,5), autopct=\"%0.1f %%\")\n",
        "plt.title('Identidad del anfitrión verificada')"
      ],
      "metadata": {
        "colab": {
          "base_uri": "https://localhost:8080/",
          "height": 462
        },
        "outputId": "7a717c44-6a0b-4742-c417-f576382af350",
        "id": "lX2PfkPBDTnL"
      },
      "execution_count": 194,
      "outputs": [
        {
          "output_type": "execute_result",
          "data": {
            "text/plain": [
              "Text(0.5, 1.0, 'Identidad del anfitrión verificada')"
            ]
          },
          "metadata": {},
          "execution_count": 194
        },
        {
          "output_type": "display_data",
          "data": {
            "text/plain": [
              "<Figure size 1000x500 with 1 Axes>"
            ],
            "image/png": "[encoded data removed]"
          },
          "metadata": {}
        }
      ]
    },
    {
      "cell_type": "markdown",
      "source": [
        "Variable *number_of_reviews*"
      ],
      "metadata": {
        "id": "W-EGsZLV9vNQ"
      }
    },
    {
      "cell_type": "code",
      "source": [
        "table5_esp= freq_tbl(españa['number_of_reviews'])\n",
        "table5_esp"
      ],
      "metadata": {
        "colab": {
          "base_uri": "https://localhost:8080/",
          "height": 35
        },
        "outputId": "71cacb2b-302e-417a-c6d1-7880b27eec3b",
        "id": "QT4aKzLQ9vNQ"
      },
      "execution_count": 157,
      "outputs": [
        {
          "output_type": "execute_result",
          "data": {
            "text/plain": [
              "'No categorical variables to analyze.'"
            ],
            "application/vnd.google.colaboratory.intrinsic+json": {
              "type": "string"
            }
          },
          "metadata": {},
          "execution_count": 157
        }
      ]
    },
    {
      "cell_type": "code",
      "source": [
        "españa['number_of_reviews'].hist(bins=8) \n",
        "plt.xlabel(\"Número de reseñas\")\n",
        "plt.ylabel(\"Frecuencia\")\n",
        "plt.show()"
      ],
      "metadata": {
        "colab": {
          "base_uri": "https://localhost:8080/",
          "height": 449
        },
        "outputId": "390e0137-88aa-4cd5-c9ac-70de41ca6ade",
        "id": "LSIv5wQn9vNQ"
      },
      "execution_count": 158,
      "outputs": [
        {
          "output_type": "display_data",
          "data": {
            "text/plain": [
              "<Figure size 640x480 with 1 Axes>"
            ],
            "image/png": "[encoded data removed]"
          },
          "metadata": {}
        }
      ]
    }
  ]
}